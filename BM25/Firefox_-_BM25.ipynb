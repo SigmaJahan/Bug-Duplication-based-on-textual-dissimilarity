{
 "cells": [
  {
   "cell_type": "code",
   "execution_count": 1,
   "metadata": {
    "executionInfo": {
     "elapsed": 846,
     "status": "ok",
     "timestamp": 1649109155472,
     "user": {
      "displayName": "Usmi Mukherjee",
      "userId": "15596835169443864460"
     },
     "user_tz": 180
    },
    "id": "-eFm4HyrjcFo"
   },
   "outputs": [],
   "source": [
    "import pandas as pd\n",
    "import requests\n",
    "import json\n",
    "import urllib.request\n",
    "import time\n",
    "from bs4 import BeautifulSoup\n",
    "import re\n",
    "import numpy as np"
   ]
  },
  {
   "cell_type": "code",
   "execution_count": 2,
   "metadata": {
    "executionInfo": {
     "elapsed": 1588,
     "status": "ok",
     "timestamp": 1649109183344,
     "user": {
      "displayName": "Usmi Mukherjee",
      "userId": "15596835169443864460"
     },
     "user_tz": 180
    },
    "id": "fdsUxsJkjcFs"
   },
   "outputs": [],
   "source": [
    "from rank_bm25 import BM25Okapi\n",
    "from nltk.tokenize import word_tokenize"
   ]
  },
  {
   "cell_type": "code",
   "execution_count": 3,
   "metadata": {
    "executionInfo": {
     "elapsed": 550,
     "status": "ok",
     "timestamp": 1649109187021,
     "user": {
      "displayName": "Usmi Mukherjee",
      "userId": "15596835169443864460"
     },
     "user_tz": 180
    },
    "id": "bNrgfOD6jcFs"
   },
   "outputs": [],
   "source": [
    "data = pd.read_csv(\"../Firefox/final_firefox_data_15thmarch.csv\")"
   ]
  },
  {
   "cell_type": "code",
   "execution_count": 4,
   "metadata": {
    "colab": {
     "base_uri": "https://localhost:8080/",
     "height": 658
    },
    "executionInfo": {
     "elapsed": 36,
     "status": "ok",
     "timestamp": 1649109190074,
     "user": {
      "displayName": "Usmi Mukherjee",
      "userId": "15596835169443864460"
     },
     "user_tz": 180
    },
    "id": "Bl6SyRgGjcFt",
    "outputId": "1729f59b-29f9-4377-b06f-ff1578dd6dad"
   },
   "outputs": [
    {
     "data": {
      "text/html": [
       "<div>\n",
       "<style scoped>\n",
       "    .dataframe tbody tr th:only-of-type {\n",
       "        vertical-align: middle;\n",
       "    }\n",
       "\n",
       "    .dataframe tbody tr th {\n",
       "        vertical-align: top;\n",
       "    }\n",
       "\n",
       "    .dataframe thead th {\n",
       "        text-align: right;\n",
       "    }\n",
       "</style>\n",
       "<table border=\"1\" class=\"dataframe\">\n",
       "  <thead>\n",
       "    <tr style=\"text-align: right;\">\n",
       "      <th></th>\n",
       "      <th>Bug ID</th>\n",
       "      <th>Type</th>\n",
       "      <th>Summary</th>\n",
       "      <th>Product</th>\n",
       "      <th>Component</th>\n",
       "      <th>Status</th>\n",
       "      <th>Resolution</th>\n",
       "      <th>Changed</th>\n",
       "      <th>Description</th>\n",
       "      <th>Duplicate_Bug_Ids</th>\n",
       "    </tr>\n",
       "  </thead>\n",
       "  <tbody>\n",
       "    <tr>\n",
       "      <th>0</th>\n",
       "      <td>1399936</td>\n",
       "      <td>defect</td>\n",
       "      <td>Shield unenrolls users in active preference ex...</td>\n",
       "      <td>Firefox</td>\n",
       "      <td>Normandy Client</td>\n",
       "      <td>VERIFIED</td>\n",
       "      <td>FIXED</td>\n",
       "      <td>2018-01-27 11:10:40</td>\n",
       "      <td>the activity stream team is conducting a study...</td>\n",
       "      <td>NaN</td>\n",
       "    </tr>\n",
       "    <tr>\n",
       "      <th>1</th>\n",
       "      <td>1387208</td>\n",
       "      <td>defect</td>\n",
       "      <td>browser_as_load_location.js is permafailing on...</td>\n",
       "      <td>Firefox</td>\n",
       "      <td>New Tab Page</td>\n",
       "      <td>RESOLVED</td>\n",
       "      <td>FIXED</td>\n",
       "      <td>2019-06-28 14:29:46</td>\n",
       "      <td>filed by  rvandermeulen  at  mozilla com     j...</td>\n",
       "      <td>NaN</td>\n",
       "    </tr>\n",
       "    <tr>\n",
       "      <th>2</th>\n",
       "      <td>1368432</td>\n",
       "      <td>defect</td>\n",
       "      <td>web.skype.com is inaccessible: SEC_ERROR_OCSP_...</td>\n",
       "      <td>Firefox</td>\n",
       "      <td>Untriaged</td>\n",
       "      <td>RESOLVED</td>\n",
       "      <td>DUPLICATE</td>\n",
       "      <td>2017-05-29 04:49:00</td>\n",
       "      <td>user agent  mozilla       gecko   firefox     ...</td>\n",
       "      <td>1368433.0</td>\n",
       "    </tr>\n",
       "    <tr>\n",
       "      <th>3</th>\n",
       "      <td>1383741</td>\n",
       "      <td>defect</td>\n",
       "      <td>Perma failure when 56 merge to beta in browser...</td>\n",
       "      <td>Firefox</td>\n",
       "      <td>Preferences</td>\n",
       "      <td>RESOLVED</td>\n",
       "      <td>FIXED</td>\n",
       "      <td>2017-07-27 02:02:17</td>\n",
       "      <td>found via uplift simulations   perma failure w...</td>\n",
       "      <td>NaN</td>\n",
       "    </tr>\n",
       "    <tr>\n",
       "      <th>4</th>\n",
       "      <td>1388753</td>\n",
       "      <td>defect</td>\n",
       "      <td>Bookmarks and history pages in Library sub men...</td>\n",
       "      <td>Firefox</td>\n",
       "      <td>Toolbars and Customization</td>\n",
       "      <td>VERIFIED</td>\n",
       "      <td>FIXED</td>\n",
       "      <td>2017-09-22 10:09:03</td>\n",
       "      <td>user agent  mozilla       gecko   firefox     ...</td>\n",
       "      <td>NaN</td>\n",
       "    </tr>\n",
       "  </tbody>\n",
       "</table>\n",
       "</div>"
      ],
      "text/plain": [
       "    Bug ID    Type                                            Summary  \\\n",
       "0  1399936  defect  Shield unenrolls users in active preference ex...   \n",
       "1  1387208  defect  browser_as_load_location.js is permafailing on...   \n",
       "2  1368432  defect  web.skype.com is inaccessible: SEC_ERROR_OCSP_...   \n",
       "3  1383741  defect  Perma failure when 56 merge to beta in browser...   \n",
       "4  1388753  defect  Bookmarks and history pages in Library sub men...   \n",
       "\n",
       "   Product                   Component    Status Resolution  \\\n",
       "0  Firefox             Normandy Client  VERIFIED      FIXED   \n",
       "1  Firefox                New Tab Page  RESOLVED      FIXED   \n",
       "2  Firefox                   Untriaged  RESOLVED  DUPLICATE   \n",
       "3  Firefox                 Preferences  RESOLVED      FIXED   \n",
       "4  Firefox  Toolbars and Customization  VERIFIED      FIXED   \n",
       "\n",
       "               Changed                                        Description  \\\n",
       "0  2018-01-27 11:10:40  the activity stream team is conducting a study...   \n",
       "1  2019-06-28 14:29:46  filed by  rvandermeulen  at  mozilla com     j...   \n",
       "2  2017-05-29 04:49:00  user agent  mozilla       gecko   firefox     ...   \n",
       "3  2017-07-27 02:02:17  found via uplift simulations   perma failure w...   \n",
       "4  2017-09-22 10:09:03  user agent  mozilla       gecko   firefox     ...   \n",
       "\n",
       "   Duplicate_Bug_Ids  \n",
       "0                NaN  \n",
       "1                NaN  \n",
       "2          1368433.0  \n",
       "3                NaN  \n",
       "4                NaN  "
      ]
     },
     "execution_count": 4,
     "metadata": {},
     "output_type": "execute_result"
    }
   ],
   "source": [
    "data.head()"
   ]
  },
  {
   "cell_type": "code",
   "execution_count": 5,
   "metadata": {
    "colab": {
     "base_uri": "https://localhost:8080/"
    },
    "executionInfo": {
     "elapsed": 160,
     "status": "ok",
     "timestamp": 1649109197919,
     "user": {
      "displayName": "Usmi Mukherjee",
      "userId": "15596835169443864460"
     },
     "user_tz": 180
    },
    "id": "cAMzwRS3kU4h",
    "outputId": "ae7f2351-7f6b-4c90-e95d-755ba75edd45"
   },
   "outputs": [
    {
     "name": "stdout",
     "output_type": "stream",
     "text": [
      "<class 'pandas.core.frame.DataFrame'>\n",
      "RangeIndex: 43159 entries, 0 to 43158\n",
      "Data columns (total 10 columns):\n",
      " #   Column             Non-Null Count  Dtype  \n",
      "---  ------             --------------  -----  \n",
      " 0   Bug ID             43159 non-null  int64  \n",
      " 1   Type               38278 non-null  object \n",
      " 2   Summary            38474 non-null  object \n",
      " 3   Product            38474 non-null  object \n",
      " 4   Component          38474 non-null  object \n",
      " 5   Status             38474 non-null  object \n",
      " 6   Resolution         38451 non-null  object \n",
      " 7   Changed            38474 non-null  object \n",
      " 8   Description        43159 non-null  object \n",
      " 9   Duplicate_Bug_Ids  7847 non-null   float64\n",
      "dtypes: float64(1), int64(1), object(8)\n",
      "memory usage: 3.3+ MB\n"
     ]
    }
   ],
   "source": [
    "data.info()"
   ]
  },
  {
   "cell_type": "code",
   "execution_count": 6,
   "metadata": {
    "id": "KrFQh_M4jcFu"
   },
   "outputs": [],
   "source": [
    "sentences = data['Description']"
   ]
  },
  {
   "cell_type": "code",
   "execution_count": 7,
   "metadata": {
    "id": "2Z17i2e8jcFu"
   },
   "outputs": [],
   "source": [
    "tokens = []\n",
    "for s in sentences:\n",
    "    cleanedTex=re.sub(r'[^\\w\\s]','',str(s)).lower()\n",
    "    words = (word_tokenize(cleanedTex))\n",
    "    tokens .append(words)"
   ]
  },
  {
   "cell_type": "code",
   "execution_count": 8,
   "metadata": {
    "id": "msS9ABJvjcFv"
   },
   "outputs": [],
   "source": [
    "bm25 = BM25Okapi(tokens)"
   ]
  },
  {
   "cell_type": "code",
   "execution_count": 9,
   "metadata": {
    "id": "3HDz1DWujcFw"
   },
   "outputs": [],
   "source": [
    "data = data.rename(columns = {\"Bug ID\":\"Bug_Id\"})"
   ]
  },
  {
   "cell_type": "code",
   "execution_count": 10,
   "metadata": {
    "id": "zdVe4J72jcFw"
   },
   "outputs": [],
   "source": [
    "data = data.reset_index(drop=True)"
   ]
  },
  {
   "cell_type": "code",
   "execution_count": 11,
   "metadata": {
    "id": "TYeqDyxqjcFx"
   },
   "outputs": [],
   "source": [
    "data['Description']=data['Description'].values.astype('object')"
   ]
  },
  {
   "cell_type": "markdown",
   "metadata": {
    "id": "SJ7D38P1jcFx"
   },
   "source": [
    "# On complete data"
   ]
  },
  {
   "cell_type": "code",
   "execution_count": 12,
   "metadata": {
    "id": "EgSbbyYejcFy"
   },
   "outputs": [],
   "source": [
    "count=0\n",
    "dup_indices_with_bug_id = {}\n",
    "similarity_scores_before = []\n",
    "similarity_scores = {}\n",
    "issues = data.Bug_Id\n",
    "\n",
    "for i, row in data.iterrows():\n",
    "    \n",
    "    issue_id = row.Bug_Id\n",
    "    dup_id = row.Duplicate_Bug_Ids\n",
    "    \n",
    "    if dup_id not in issues.values:\n",
    "        count+=1\n",
    "#         print(f'{i}. Duplicate ID {dup_id} not found in issue IDs')\n",
    "        continue\n",
    "\n",
    "    similarity_row = bm25.get_scores(tokens[i])\n",
    "    argsort_similarity = np.argsort(similarity_row)[::-1][1:]\n",
    "    similarity_scores_before = (np.sort(similarity_row)[::-1][1:])\n",
    "#     similarity_scores[issue_id] = np.min(similarity_scores_before[np.nonzero(similarity_scores_before)])\n",
    "    dup_bug_index = list(issues[issues == dup_id].index)[0]\n",
    "    dup_ranking = np.argmax(argsort_similarity == np.int64(dup_bug_index))\n",
    "    \n",
    "    dup_indices_with_bug_id[issue_id] = dup_ranking\n",
    "# print(count)"
   ]
  },
  {
   "cell_type": "code",
   "execution_count": 13,
   "metadata": {},
   "outputs": [
    {
     "name": "stdout",
     "output_type": "stream",
     "text": [
      "count at 1 703\n",
      "count at 5 1540\n",
      "count at 10 1891\n",
      "count at 20 2254\n",
      "count at 25 2361\n",
      "count at 30 2458\n",
      "count at 50 2803\n",
      "count at 75 3052\n",
      "count at 100 3230\n",
      "recall_rate_at_1 0.09114482043303514\n",
      "recall_rate_at_5 0.19966290678075976\n",
      "recall_rate_at_10 0.24517049137819266\n",
      "recall_rate_at_20 0.2922338908336575\n",
      "recall_rate_at_25 0.3061065733177752\n",
      "recall_rate_at_30 0.31868274342019964\n",
      "recall_rate_at_50 0.3634124205886166\n",
      "recall_rate_at_75 0.3956955788927784\n",
      "recall_rate_at_10 0.4187734992869182\n"
     ]
    }
   ],
   "source": [
    "count_at_1=0\n",
    "count_at_5=0\n",
    "count_at_10=0\n",
    "count_at_20=0\n",
    "count_at_25=0\n",
    "count_at_30=0\n",
    "count_at_50=0\n",
    "count_at_75=0\n",
    "count_at_100=0\n",
    "\n",
    "for key, value in enumerate(dup_indices_with_bug_id.values()):\n",
    "    if(value < 1):\n",
    "        count_at_1+=1\n",
    "    if(value < 5):\n",
    "        count_at_5+=1\n",
    "    if(value < 10):\n",
    "        count_at_10+=1\n",
    "    if(value < 20):\n",
    "        count_at_20+=1\n",
    "    if(value < 25):\n",
    "        count_at_25+=1\n",
    "    if(value < 30):\n",
    "        count_at_30+=1\n",
    "    if(value < 50):\n",
    "        count_at_50+=1\n",
    "    if(value < 75):\n",
    "        count_at_75+=1\n",
    "    if(value < 100):\n",
    "        count_at_100+=1\n",
    "        \n",
    "print(\"count at 1\",count_at_1)        \n",
    "print(\"count at 5\",count_at_5)\n",
    "print(\"count at 10\",count_at_10)\n",
    "print(\"count at 20\",count_at_20)\n",
    "print(\"count at 25\",count_at_25)\n",
    "print(\"count at 30\",count_at_30)\n",
    "print(\"count at 50\",count_at_50)\n",
    "print(\"count at 75\",count_at_75)\n",
    "print(\"count at 100\",count_at_100)\n",
    "\n",
    "N = len(dup_indices_with_bug_id)\n",
    "\n",
    "recall_rate_at_1 = count_at_1/N\n",
    "print(\"recall_rate_at_1\",recall_rate_at_1)\n",
    "\n",
    "recall_rate_at_5 = count_at_5/N\n",
    "print(\"recall_rate_at_5\",recall_rate_at_5)\n",
    "\n",
    "recall_rate_at_10 = count_at_10/N\n",
    "print(\"recall_rate_at_10\",recall_rate_at_10)\n",
    "\n",
    "recall_rate_at_20 = count_at_20/N\n",
    "print(\"recall_rate_at_20\",recall_rate_at_20)\n",
    "\n",
    "recall_rate_at_25 = count_at_25/N\n",
    "print(\"recall_rate_at_25\",recall_rate_at_25)\n",
    "\n",
    "recall_rate_at_30 = count_at_30/N\n",
    "print(\"recall_rate_at_30\",recall_rate_at_30)\n",
    "\n",
    "recall_rate_at_50 = count_at_50/N\n",
    "print(\"recall_rate_at_50\",recall_rate_at_50)\n",
    "\n",
    "recall_rate_at_75 = count_at_75/N\n",
    "print(\"recall_rate_at_75\",recall_rate_at_75)\n",
    "\n",
    "recall_rate_at_100 = count_at_100/N\n",
    "print(\"recall_rate_at_10\",recall_rate_at_100)"
   ]
  },
  {
   "cell_type": "markdown",
   "metadata": {
    "id": "AD8hF3DbjcF0"
   },
   "source": [
    "# Textually Similar"
   ]
  },
  {
   "cell_type": "code",
   "execution_count": 14,
   "metadata": {
    "executionInfo": {
     "elapsed": 154,
     "status": "ok",
     "timestamp": 1649109256525,
     "user": {
      "displayName": "Usmi Mukherjee",
      "userId": "15596835169443864460"
     },
     "user_tz": 180
    },
    "id": "Yh__ar_ljcF0"
   },
   "outputs": [],
   "source": [
    "textually_similar_data = pd.read_csv(\"../Firefox/firefox_textually_similar_duplicates.csv\")"
   ]
  },
  {
   "cell_type": "code",
   "execution_count": 15,
   "metadata": {
    "colab": {
     "base_uri": "https://localhost:8080/"
    },
    "executionInfo": {
     "elapsed": 162,
     "status": "ok",
     "timestamp": 1649109274312,
     "user": {
      "displayName": "Usmi Mukherjee",
      "userId": "15596835169443864460"
     },
     "user_tz": 180
    },
    "id": "xsNNpoS5kmHU",
    "outputId": "ed2481d4-89b9-4132-bb79-8266fae8dfc7"
   },
   "outputs": [
    {
     "name": "stdout",
     "output_type": "stream",
     "text": [
      "<class 'pandas.core.frame.DataFrame'>\n",
      "RangeIndex: 3923 entries, 0 to 3922\n",
      "Data columns (total 10 columns):\n",
      " #   Column             Non-Null Count  Dtype  \n",
      "---  ------             --------------  -----  \n",
      " 0   Bug ID             3923 non-null   int64  \n",
      " 1   Type               3923 non-null   object \n",
      " 2   Summary            3923 non-null   object \n",
      " 3   Product            3923 non-null   object \n",
      " 4   Component          3923 non-null   object \n",
      " 5   Status             3923 non-null   object \n",
      " 6   Resolution         3923 non-null   object \n",
      " 7   Changed            3923 non-null   object \n",
      " 8   Description        3923 non-null   object \n",
      " 9   Duplicate_Bug_Ids  3923 non-null   float64\n",
      "dtypes: float64(1), int64(1), object(8)\n",
      "memory usage: 306.6+ KB\n"
     ]
    }
   ],
   "source": [
    "textually_similar_data.info()"
   ]
  },
  {
   "cell_type": "code",
   "execution_count": 16,
   "metadata": {},
   "outputs": [],
   "source": [
    "sentence_sim = textually_similar_data.Description\n",
    "\n",
    "tokens_sim = []\n",
    "for s in sentence_sim:\n",
    "    cleanedTex=re.sub(r'[^\\w\\s]','',str(s)).lower()\n",
    "    words = (word_tokenize(cleanedTex))\n",
    "    tokens_sim.append(words)"
   ]
  },
  {
   "cell_type": "code",
   "execution_count": 19,
   "metadata": {
    "id": "y3aqOjGqjcF1"
   },
   "outputs": [],
   "source": [
    "count=0\n",
    "dup_indices_with_bug_id_similar = {}\n",
    "similarity_scores_before = []\n",
    "similarity_scores = {}\n",
    "issues = data.Bug_Id\n",
    "\n",
    "for i, row in textually_similar_data.iterrows():\n",
    "    \n",
    "    issue_id = row[\"Bug ID\"]\n",
    "    dup_id = row.Duplicate_Bug_Ids\n",
    "    \n",
    "    if dup_id not in issues.values:\n",
    "        count+=1\n",
    "#         print(f'{i}. Duplicate ID {dup_id} not found in issue IDs')\n",
    "        continue\n",
    "    if i==4427:\n",
    "        break\n",
    "    similarity_row = bm25.get_scores(tokens_sim[i])\n",
    "    argsort_similarity = np.argsort(similarity_row)[::-1][1:]\n",
    "#     similarity_scores_before = (np.sort(similarity_row)[::-1][1:])\n",
    "#     similarity_scores[issue_id] = np.min(similarity_scores_before[np.nonzero(similarity_scores_before)])\n",
    "    dup_bug_index = list(issues[issues == dup_id].index)[0]\n",
    "    dup_ranking = np.argmax(argsort_similarity == np.int64(dup_bug_index))\n",
    "    \n",
    "    dup_indices_with_bug_id_similar[issue_id] = dup_ranking\n",
    "# print(count)"
   ]
  },
  {
   "cell_type": "code",
   "execution_count": 20,
   "metadata": {},
   "outputs": [
    {
     "name": "stdout",
     "output_type": "stream",
     "text": [
      "count at 1 425\n",
      "count at 5 889\n",
      "count at 10 1089\n",
      "count at 20 1265\n",
      "count at 25 1310\n",
      "count at 30 1351\n",
      "count at 50 1540\n",
      "count at 75 1646\n",
      "count at 100 1716\n",
      "recall_rate_at_1 0.11087920688755544\n",
      "recall_rate_at_5 0.23193321158361596\n",
      "recall_rate_at_10 0.28411166188364206\n",
      "recall_rate_at_20 0.330028698147665\n",
      "recall_rate_at_25 0.3417688494651709\n",
      "recall_rate_at_30 0.3524654317766762\n",
      "recall_rate_at_50 0.4017740673102009\n",
      "recall_rate_at_75 0.4294286459692147\n",
      "recall_rate_at_10 0.44769110357422387\n"
     ]
    }
   ],
   "source": [
    "count_at_1=0\n",
    "count_at_5=0\n",
    "count_at_10=0\n",
    "count_at_20=0\n",
    "count_at_25=0\n",
    "count_at_30=0\n",
    "count_at_50=0\n",
    "count_at_75=0\n",
    "count_at_100=0\n",
    "\n",
    "for key, value in enumerate(dup_indices_with_bug_id_similar.values()):\n",
    "    if(value < 1):\n",
    "        count_at_1+=1\n",
    "    if(value < 5):\n",
    "        count_at_5+=1\n",
    "    if(value < 10):\n",
    "        count_at_10+=1\n",
    "    if(value < 20):\n",
    "        count_at_20+=1\n",
    "    if(value < 25):\n",
    "        count_at_25+=1\n",
    "    if(value < 30):\n",
    "        count_at_30+=1\n",
    "    if(value < 50):\n",
    "        count_at_50+=1\n",
    "    if(value < 75):\n",
    "        count_at_75+=1\n",
    "    if(value < 100):\n",
    "        count_at_100+=1\n",
    "        \n",
    "print(\"count at 1\",count_at_1)        \n",
    "print(\"count at 5\",count_at_5)\n",
    "print(\"count at 10\",count_at_10)\n",
    "print(\"count at 20\",count_at_20)\n",
    "print(\"count at 25\",count_at_25)\n",
    "print(\"count at 30\",count_at_30)\n",
    "print(\"count at 50\",count_at_50)\n",
    "print(\"count at 75\",count_at_75)\n",
    "print(\"count at 100\",count_at_100)\n",
    "\n",
    "N = len(dup_indices_with_bug_id_similar)\n",
    "\n",
    "recall_rate_at_1 = count_at_1/N\n",
    "print(\"recall_rate_at_1\",recall_rate_at_1)\n",
    "\n",
    "recall_rate_at_5 = count_at_5/N\n",
    "print(\"recall_rate_at_5\",recall_rate_at_5)\n",
    "\n",
    "recall_rate_at_10 = count_at_10/N\n",
    "print(\"recall_rate_at_10\",recall_rate_at_10)\n",
    "\n",
    "recall_rate_at_20 = count_at_20/N\n",
    "print(\"recall_rate_at_20\",recall_rate_at_20)\n",
    "\n",
    "recall_rate_at_25 = count_at_25/N\n",
    "print(\"recall_rate_at_25\",recall_rate_at_25)\n",
    "\n",
    "recall_rate_at_30 = count_at_30/N\n",
    "print(\"recall_rate_at_30\",recall_rate_at_30)\n",
    "\n",
    "recall_rate_at_50 = count_at_50/N\n",
    "print(\"recall_rate_at_50\",recall_rate_at_50)\n",
    "\n",
    "recall_rate_at_75 = count_at_75/N\n",
    "print(\"recall_rate_at_75\",recall_rate_at_75)\n",
    "\n",
    "recall_rate_at_100 = count_at_100/N\n",
    "print(\"recall_rate_at_10\",recall_rate_at_100)"
   ]
  },
  {
   "cell_type": "markdown",
   "metadata": {},
   "source": [
    "# Textually Dissimilar"
   ]
  },
  {
   "cell_type": "code",
   "execution_count": 21,
   "metadata": {
    "executionInfo": {
     "elapsed": 218,
     "status": "ok",
     "timestamp": 1649109281184,
     "user": {
      "displayName": "Usmi Mukherjee",
      "userId": "15596835169443864460"
     },
     "user_tz": 180
    },
    "id": "dPNWTGmPjcF2"
   },
   "outputs": [],
   "source": [
    "textually_dissimilar_data = pd.read_csv(\"../Firefox/firefox_textually_dissimilar_duplicates.csv\")"
   ]
  },
  {
   "cell_type": "code",
   "execution_count": 22,
   "metadata": {
    "colab": {
     "base_uri": "https://localhost:8080/"
    },
    "executionInfo": {
     "elapsed": 179,
     "status": "ok",
     "timestamp": 1649109293073,
     "user": {
      "displayName": "Usmi Mukherjee",
      "userId": "15596835169443864460"
     },
     "user_tz": 180
    },
    "id": "s37PzLodkq08",
    "outputId": "64d12cb8-01cc-4d67-ac46-737b9d2132c2"
   },
   "outputs": [
    {
     "name": "stdout",
     "output_type": "stream",
     "text": [
      "<class 'pandas.core.frame.DataFrame'>\n",
      "RangeIndex: 3924 entries, 0 to 3923\n",
      "Data columns (total 10 columns):\n",
      " #   Column             Non-Null Count  Dtype  \n",
      "---  ------             --------------  -----  \n",
      " 0   Bug ID             3924 non-null   int64  \n",
      " 1   Type               3924 non-null   object \n",
      " 2   Summary            3924 non-null   object \n",
      " 3   Product            3924 non-null   object \n",
      " 4   Component          3924 non-null   object \n",
      " 5   Status             3924 non-null   object \n",
      " 6   Resolution         3924 non-null   object \n",
      " 7   Changed            3924 non-null   object \n",
      " 8   Description        3924 non-null   object \n",
      " 9   Duplicate_Bug_Ids  3924 non-null   float64\n",
      "dtypes: float64(1), int64(1), object(8)\n",
      "memory usage: 306.7+ KB\n"
     ]
    }
   ],
   "source": [
    "textually_dissimilar_data.info()"
   ]
  },
  {
   "cell_type": "code",
   "execution_count": 23,
   "metadata": {},
   "outputs": [],
   "source": [
    "sentence_dissim = textually_dissimilar_data.Description\n",
    "\n",
    "tokens_dissim = []\n",
    "for s in sentence_dissim:\n",
    "    cleanedTex=re.sub(r'[^\\w\\s]','',str(s)).lower()\n",
    "    words = (word_tokenize(cleanedTex))\n",
    "    tokens_dissim.append(words)"
   ]
  },
  {
   "cell_type": "code",
   "execution_count": 28,
   "metadata": {
    "id": "Zr7NtppMjcF3"
   },
   "outputs": [],
   "source": [
    "count=0\n",
    "dup_indices_with_bug_id_dissimilar = {}\n",
    "similarity_scores_before = []\n",
    "similarity_scores = {}\n",
    "\n",
    "issues = data.Bug_Id\n",
    "\n",
    "for i, row in textually_dissimilar_data.iterrows():\n",
    "    \n",
    "    issue_id = row[\"Bug ID\"]\n",
    "    dup_id = row.Duplicate_Bug_Ids\n",
    "    \n",
    "    if dup_id not in issues.values:\n",
    "        count+=1\n",
    "#         print(f'{i}. Duplicate ID {dup_id} not found in issue IDs')\n",
    "        continue\n",
    "    if i== 2292:\n",
    "        break\n",
    "    similarity_row = bm25.get_scores(tokens_dissim[i])\n",
    "    argsort_similarity = np.argsort(similarity_row)[::-1][1:]\n",
    "    similarity_scores_before = (np.sort(similarity_row)[::-1][1:])\n",
    "#     similarity_scores[issue_id] = np.min(similarity_scores_before[np.nonzero(similarity_scores_before)])\n",
    "    dup_bug_index = list(issues[issues == dup_id].index)[0]\n",
    "    dup_ranking = np.argmax(argsort_similarity == np.int64(dup_bug_index))\n",
    "    \n",
    "    dup_indices_with_bug_id_dissimilar[issue_id] = dup_ranking\n",
    "# print(count)"
   ]
  },
  {
   "cell_type": "code",
   "execution_count": 29,
   "metadata": {},
   "outputs": [
    {
     "name": "stdout",
     "output_type": "stream",
     "text": [
      "count at 1 153\n",
      "count at 5 373\n",
      "count at 10 453\n",
      "count at 20 549\n",
      "count at 25 588\n",
      "count at 30 624\n",
      "count at 50 707\n",
      "count at 75 784\n",
      "count at 100 847\n",
      "recall_rate_at_1 0.06766917293233082\n",
      "recall_rate_at_5 0.16497125165855817\n",
      "recall_rate_at_10 0.20035382574082264\n",
      "recall_rate_at_20 0.24281291463954002\n",
      "recall_rate_at_25 0.26006191950464397\n",
      "recall_rate_at_30 0.27598407784166296\n",
      "recall_rate_at_50 0.3126934984520124\n",
      "recall_rate_at_75 0.34674922600619196\n",
      "recall_rate_at_10 0.3746130030959752\n"
     ]
    }
   ],
   "source": [
    "count_at_1=0\n",
    "count_at_5=0\n",
    "count_at_10=0\n",
    "count_at_20=0\n",
    "count_at_25=0\n",
    "count_at_30=0\n",
    "count_at_50=0\n",
    "count_at_75=0\n",
    "count_at_100=0\n",
    "\n",
    "for key, value in enumerate(dup_indices_with_bug_id_dissimilar.values()):\n",
    "    if(value < 1):\n",
    "        count_at_1+=1\n",
    "    if(value < 5):\n",
    "        count_at_5+=1\n",
    "    if(value < 10):\n",
    "        count_at_10+=1\n",
    "    if(value < 20):\n",
    "        count_at_20+=1\n",
    "    if(value < 25):\n",
    "        count_at_25+=1\n",
    "    if(value < 30):\n",
    "        count_at_30+=1\n",
    "    if(value < 50):\n",
    "        count_at_50+=1\n",
    "    if(value < 75):\n",
    "        count_at_75+=1\n",
    "    if(value < 100):\n",
    "        count_at_100+=1\n",
    "        \n",
    "print(\"count at 1\",count_at_1)        \n",
    "print(\"count at 5\",count_at_5)\n",
    "print(\"count at 10\",count_at_10)\n",
    "print(\"count at 20\",count_at_20)\n",
    "print(\"count at 25\",count_at_25)\n",
    "print(\"count at 30\",count_at_30)\n",
    "print(\"count at 50\",count_at_50)\n",
    "print(\"count at 75\",count_at_75)\n",
    "print(\"count at 100\",count_at_100)\n",
    "\n",
    "N = len(dup_indices_with_bug_id_dissimilar)\n",
    "\n",
    "recall_rate_at_1 = count_at_1/N\n",
    "print(\"recall_rate_at_1\",recall_rate_at_1)\n",
    "\n",
    "recall_rate_at_5 = count_at_5/N\n",
    "print(\"recall_rate_at_5\",recall_rate_at_5)\n",
    "\n",
    "recall_rate_at_10 = count_at_10/N\n",
    "print(\"recall_rate_at_10\",recall_rate_at_10)\n",
    "\n",
    "recall_rate_at_20 = count_at_20/N\n",
    "print(\"recall_rate_at_20\",recall_rate_at_20)\n",
    "\n",
    "recall_rate_at_25 = count_at_25/N\n",
    "print(\"recall_rate_at_25\",recall_rate_at_25)\n",
    "\n",
    "recall_rate_at_30 = count_at_30/N\n",
    "print(\"recall_rate_at_30\",recall_rate_at_30)\n",
    "\n",
    "recall_rate_at_50 = count_at_50/N\n",
    "print(\"recall_rate_at_50\",recall_rate_at_50)\n",
    "\n",
    "recall_rate_at_75 = count_at_75/N\n",
    "print(\"recall_rate_at_75\",recall_rate_at_75)\n",
    "\n",
    "recall_rate_at_100 = count_at_100/N\n",
    "print(\"recall_rate_at_10\",recall_rate_at_100)"
   ]
  },
  {
   "cell_type": "code",
   "execution_count": null,
   "metadata": {
    "id": "vzShv8IrjcF4"
   },
   "outputs": [],
   "source": []
  }
 ],
 "metadata": {
  "colab": {
   "name": "Firefox-BM25 15th March.ipynb",
   "provenance": []
  },
  "kernelspec": {
   "display_name": "Python 3",
   "language": "python",
   "name": "python3"
  },
  "language_info": {
   "codemirror_mode": {
    "name": "ipython",
    "version": 3
   },
   "file_extension": ".py",
   "mimetype": "text/x-python",
   "name": "python",
   "nbconvert_exporter": "python",
   "pygments_lexer": "ipython3",
   "version": "3.7.11"
  }
 },
 "nbformat": 4,
 "nbformat_minor": 4
}
