{
  "nbformat": 4,
  "nbformat_minor": 0,
  "metadata": {
    "colab": {
      "name": "Hopkins_test_firefox_updated.ipynb",
      "provenance": [],
      "collapsed_sections": []
    },
    "kernelspec": {
      "name": "python3",
      "display_name": "Python 3"
    },
    "language_info": {
      "name": "python"
    }
  },
  "cells": [
    {
      "cell_type": "code",
      "execution_count": 1,
      "metadata": {
        "colab": {
          "base_uri": "https://localhost:8080/"
        },
        "id": "uVXqq5SyGkYi",
        "outputId": "f791ce2e-eb02-4150-d991-2788912dfcc8"
      },
      "outputs": [
        {
          "output_type": "stream",
          "name": "stdout",
          "text": [
            "Requirement already satisfied: gensim in /usr/local/lib/python3.7/dist-packages (3.6.0)\n",
            "Requirement already satisfied: smart-open>=1.2.1 in /usr/local/lib/python3.7/dist-packages (from gensim) (5.2.1)\n",
            "Requirement already satisfied: six>=1.5.0 in /usr/local/lib/python3.7/dist-packages (from gensim) (1.15.0)\n",
            "Requirement already satisfied: scipy>=0.18.1 in /usr/local/lib/python3.7/dist-packages (from gensim) (1.4.1)\n",
            "Requirement already satisfied: numpy>=1.11.3 in /usr/local/lib/python3.7/dist-packages (from gensim) (1.21.5)\n"
          ]
        }
      ],
      "source": [
        "!pip install gensim"
      ]
    },
    {
      "cell_type": "code",
      "source": [
        "import pickle\n",
        "from gensim.test.utils import datapath, get_tmpfile\n",
        "from gensim.models import KeyedVectors\n",
        "from gensim.scripts.glove2word2vec import glove2word2vec"
      ],
      "metadata": {
        "id": "GCrTBvgCYYP-"
      },
      "execution_count": 2,
      "outputs": []
    },
    {
      "cell_type": "code",
      "source": [
        "glove_file = datapath('/content/glove.6B.100d.txt')\n",
        "word2vec_glove_file = get_tmpfile(\"glove.6B.100d.txt\")"
      ],
      "metadata": {
        "id": "jL7NsxTYYbYm"
      },
      "execution_count": 3,
      "outputs": []
    },
    {
      "cell_type": "code",
      "source": [
        "!wget http://nlp.stanford.edu/data/glove.6B.zip"
      ],
      "metadata": {
        "colab": {
          "base_uri": "https://localhost:8080/"
        },
        "id": "MlyJZucwYw_1",
        "outputId": "0134bc80-0cad-4b9f-a206-a3925e9f4b40"
      },
      "execution_count": 4,
      "outputs": [
        {
          "output_type": "stream",
          "name": "stdout",
          "text": [
            "--2022-03-28 13:47:25--  http://nlp.stanford.edu/data/glove.6B.zip\n",
            "Resolving nlp.stanford.edu (nlp.stanford.edu)... 171.64.67.140\n",
            "Connecting to nlp.stanford.edu (nlp.stanford.edu)|171.64.67.140|:80... connected.\n",
            "HTTP request sent, awaiting response... 302 Found\n",
            "Location: https://nlp.stanford.edu/data/glove.6B.zip [following]\n",
            "--2022-03-28 13:47:25--  https://nlp.stanford.edu/data/glove.6B.zip\n",
            "Connecting to nlp.stanford.edu (nlp.stanford.edu)|171.64.67.140|:443... connected.\n",
            "HTTP request sent, awaiting response... 301 Moved Permanently\n",
            "Location: http://downloads.cs.stanford.edu/nlp/data/glove.6B.zip [following]\n",
            "--2022-03-28 13:47:25--  http://downloads.cs.stanford.edu/nlp/data/glove.6B.zip\n",
            "Resolving downloads.cs.stanford.edu (downloads.cs.stanford.edu)... 171.64.64.22\n",
            "Connecting to downloads.cs.stanford.edu (downloads.cs.stanford.edu)|171.64.64.22|:80... connected.\n",
            "HTTP request sent, awaiting response... 200 OK\n",
            "Length: 862182613 (822M) [application/zip]\n",
            "Saving to: ‘glove.6B.zip’\n",
            "\n",
            "glove.6B.zip        100%[===================>] 822.24M  5.05MB/s    in 2m 40s  \n",
            "\n",
            "2022-03-28 13:50:06 (5.12 MB/s) - ‘glove.6B.zip’ saved [862182613/862182613]\n",
            "\n"
          ]
        }
      ]
    },
    {
      "cell_type": "code",
      "source": [
        "!unzip -o glove*.zip"
      ],
      "metadata": {
        "colab": {
          "base_uri": "https://localhost:8080/"
        },
        "id": "T1InGVTRY0hD",
        "outputId": "33a3999e-321b-42cb-9e1e-e28796cc1cf2"
      },
      "execution_count": 5,
      "outputs": [
        {
          "output_type": "stream",
          "name": "stdout",
          "text": [
            "Archive:  glove.6B.zip\n",
            "  inflating: glove.6B.50d.txt        \n",
            "  inflating: glove.6B.100d.txt       \n",
            "  inflating: glove.6B.200d.txt       \n",
            "  inflating: glove.6B.300d.txt       \n"
          ]
        }
      ]
    },
    {
      "cell_type": "code",
      "source": [
        "import numpy as np\n",
        "print('Indexing word vectors.')\n",
        "\n",
        "embeddings_index = {}\n",
        "f = open('glove.6B.100d.txt', encoding='utf-8')\n",
        "for line in f:\n",
        "    values = line.split()\n",
        "    word = values[0]\n",
        "    coefs = np.asarray(values[1:], dtype='float32')\n",
        "    embeddings_index[word] = coefs\n",
        "f.close()\n",
        "\n",
        "print('Found %s word vectors.' % len(embeddings_index))"
      ],
      "metadata": {
        "colab": {
          "base_uri": "https://localhost:8080/"
        },
        "id": "lkD-tJ81Y5ZA",
        "outputId": "8606d30e-f8af-42e2-e01e-c1f4c6f0dcc3"
      },
      "execution_count": 6,
      "outputs": [
        {
          "output_type": "stream",
          "name": "stdout",
          "text": [
            "Indexing word vectors.\n",
            "Found 400000 word vectors.\n"
          ]
        }
      ]
    },
    {
      "cell_type": "code",
      "source": [
        "import pickle\n",
        "pickle.dump({'embeddings_index' : embeddings_index } , open('/content/glove.6B.100d.txt', 'wb'))"
      ],
      "metadata": {
        "id": "sKGgdCrbOXnv"
      },
      "execution_count": 7,
      "outputs": []
    },
    {
      "cell_type": "code",
      "source": [
        "from typing import List"
      ],
      "metadata": {
        "id": "bGpykR2NPOiK"
      },
      "execution_count": 8,
      "outputs": []
    },
    {
      "cell_type": "code",
      "source": [
        "MAX_TOKENS = 20000\n",
        "#MAX_TITLE_LENGTH = 21\n",
        "MAX_DESCRIPTION_LENGTH = 1200\n",
        "EMBEDDING_DIM = 100"
      ],
      "metadata": {
        "id": "J1QgvkmLQLTh"
      },
      "execution_count": 9,
      "outputs": []
    },
    {
      "cell_type": "code",
      "source": [
        "def build_vocab(sentences: List[str], sequence_length: int):\n",
        "  vectorizer = TextVectorization(\n",
        "    output_sequence_length=sequence_length,\n",
        "  )\n",
        "  vectorizer.adapt(sentences)\n",
        "  vocab = vectorizer.get_vocabulary()\n",
        "  word_index = dict(zip(vocab, range(len(vocab))))\n",
        "\n",
        "  return vectorizer, word_index"
      ],
      "metadata": {
        "id": "XmJZI90IQNkY"
      },
      "execution_count": 10,
      "outputs": []
    },
    {
      "cell_type": "code",
      "source": [
        "from keras.layers.preprocessing.text_vectorization import TextVectorization"
      ],
      "metadata": {
        "id": "az-WxAYlSdzg"
      },
      "execution_count": 11,
      "outputs": []
    },
    {
      "cell_type": "markdown",
      "source": [
        "# Textually Similar"
      ],
      "metadata": {
        "id": "qM_1p0jaz9Ge"
      }
    },
    {
      "cell_type": "code",
      "source": [
        "import pandas as pd\n",
        "#mounting the google drive\n",
        "from google.colab import drive\n",
        "drive.mount('/content/drive')"
      ],
      "metadata": {
        "colab": {
          "base_uri": "https://localhost:8080/"
        },
        "id": "kVZAciXrQRiR",
        "outputId": "08e74362-8172-47a6-fb93-3366ceb9f123"
      },
      "execution_count": 12,
      "outputs": [
        {
          "output_type": "stream",
          "name": "stdout",
          "text": [
            "Mounted at /content/drive\n"
          ]
        }
      ]
    },
    {
      "cell_type": "code",
      "source": [
        "#importing the CSV file of the dataset from google drive into a dataframe\n",
        "df_sim=pd.read_csv('drive/MyDrive/Project 6308 + ICSME/Siamese/Firefox_siamese_textually_similar_test_duplicates_preprocessed.csv')\n",
        "df_sim = df_sim[df_sim.is_similar.astype('bool')].sample(300)\n",
        "df_sim= df_sim.sample(300)"
      ],
      "metadata": {
        "id": "LP-0197jKKk7"
      },
      "execution_count": 13,
      "outputs": []
    },
    {
      "cell_type": "code",
      "source": [
        "df_sim = df_sim.drop(columns=['Unnamed: 0'])\n",
        "df_sim"
      ],
      "metadata": {
        "colab": {
          "base_uri": "https://localhost:8080/",
          "height": 424
        },
        "id": "9LhAVPOxQiHX",
        "outputId": "55ed7ee6-5a8c-4a20-902e-0a9d5cbe8a9f"
      },
      "execution_count": 14,
      "outputs": [
        {
          "output_type": "execute_result",
          "data": {
            "text/plain": [
              "                                           description1  \\\n",
              "1252     affected versions                       aff...   \n",
              "629     created attachment   screen shot       at   ...   \n",
              "1220    since the patch on bug   landed the gecko lo...   \n",
              "1335      affected versions   nightly       beta    ...   \n",
              "572     created attachment   peek              user ...   \n",
              "...                                                 ...   \n",
              "1319    created attachment   screen shot  the small ...   \n",
              "276       affected versions    firefox     firefox  ...   \n",
              "1203    created attachment   bing search results  us...   \n",
              "617     user agent  mozilla       gecko   firefox   ...   \n",
              "1061      filed by    ncsoregi  at  mozilla com   pa...   \n",
              "\n",
              "                                           description2  is_similar  \n",
              "1252    user agent  mozilla       gecko   firefox   ...           1  \n",
              "629     created attachment   screenshot  str      st...           1  \n",
              "1220    because of   central rev   toolkit modules p...           1  \n",
              "1335    created attachment   the focus indictor is b...           1  \n",
              "572     we should try using getboundswithoutflushing...           1  \n",
              "...                                                 ...         ...  \n",
              "1319    created attachment   screenshot  the affects...           1  \n",
              "276     created attachment   touchmenusswipe gif    ...           1  \n",
              "1203    created attachment   screen shot       at   ...           1  \n",
              "617      tracking requested   why for this release  ...           1  \n",
              "1061      filed by    malexandru  at  mozilla com   ...           1  \n",
              "\n",
              "[300 rows x 3 columns]"
            ],
            "text/html": [
              "\n",
              "  <div id=\"df-8d14d6c6-d405-4179-b090-5684eba03948\">\n",
              "    <div class=\"colab-df-container\">\n",
              "      <div>\n",
              "<style scoped>\n",
              "    .dataframe tbody tr th:only-of-type {\n",
              "        vertical-align: middle;\n",
              "    }\n",
              "\n",
              "    .dataframe tbody tr th {\n",
              "        vertical-align: top;\n",
              "    }\n",
              "\n",
              "    .dataframe thead th {\n",
              "        text-align: right;\n",
              "    }\n",
              "</style>\n",
              "<table border=\"1\" class=\"dataframe\">\n",
              "  <thead>\n",
              "    <tr style=\"text-align: right;\">\n",
              "      <th></th>\n",
              "      <th>description1</th>\n",
              "      <th>description2</th>\n",
              "      <th>is_similar</th>\n",
              "    </tr>\n",
              "  </thead>\n",
              "  <tbody>\n",
              "    <tr>\n",
              "      <th>1252</th>\n",
              "      <td>affected versions                       aff...</td>\n",
              "      <td>user agent  mozilla       gecko   firefox   ...</td>\n",
              "      <td>1</td>\n",
              "    </tr>\n",
              "    <tr>\n",
              "      <th>629</th>\n",
              "      <td>created attachment   screen shot       at   ...</td>\n",
              "      <td>created attachment   screenshot  str      st...</td>\n",
              "      <td>1</td>\n",
              "    </tr>\n",
              "    <tr>\n",
              "      <th>1220</th>\n",
              "      <td>since the patch on bug   landed the gecko lo...</td>\n",
              "      <td>because of   central rev   toolkit modules p...</td>\n",
              "      <td>1</td>\n",
              "    </tr>\n",
              "    <tr>\n",
              "      <th>1335</th>\n",
              "      <td>affected versions   nightly       beta    ...</td>\n",
              "      <td>created attachment   the focus indictor is b...</td>\n",
              "      <td>1</td>\n",
              "    </tr>\n",
              "    <tr>\n",
              "      <th>572</th>\n",
              "      <td>created attachment   peek              user ...</td>\n",
              "      <td>we should try using getboundswithoutflushing...</td>\n",
              "      <td>1</td>\n",
              "    </tr>\n",
              "    <tr>\n",
              "      <th>...</th>\n",
              "      <td>...</td>\n",
              "      <td>...</td>\n",
              "      <td>...</td>\n",
              "    </tr>\n",
              "    <tr>\n",
              "      <th>1319</th>\n",
              "      <td>created attachment   screen shot  the small ...</td>\n",
              "      <td>created attachment   screenshot  the affects...</td>\n",
              "      <td>1</td>\n",
              "    </tr>\n",
              "    <tr>\n",
              "      <th>276</th>\n",
              "      <td>affected versions    firefox     firefox  ...</td>\n",
              "      <td>created attachment   touchmenusswipe gif    ...</td>\n",
              "      <td>1</td>\n",
              "    </tr>\n",
              "    <tr>\n",
              "      <th>1203</th>\n",
              "      <td>created attachment   bing search results  us...</td>\n",
              "      <td>created attachment   screen shot       at   ...</td>\n",
              "      <td>1</td>\n",
              "    </tr>\n",
              "    <tr>\n",
              "      <th>617</th>\n",
              "      <td>user agent  mozilla       gecko   firefox   ...</td>\n",
              "      <td>tracking requested   why for this release  ...</td>\n",
              "      <td>1</td>\n",
              "    </tr>\n",
              "    <tr>\n",
              "      <th>1061</th>\n",
              "      <td>filed by    ncsoregi  at  mozilla com   pa...</td>\n",
              "      <td>filed by    malexandru  at  mozilla com   ...</td>\n",
              "      <td>1</td>\n",
              "    </tr>\n",
              "  </tbody>\n",
              "</table>\n",
              "<p>300 rows × 3 columns</p>\n",
              "</div>\n",
              "      <button class=\"colab-df-convert\" onclick=\"convertToInteractive('df-8d14d6c6-d405-4179-b090-5684eba03948')\"\n",
              "              title=\"Convert this dataframe to an interactive table.\"\n",
              "              style=\"display:none;\">\n",
              "        \n",
              "  <svg xmlns=\"http://www.w3.org/2000/svg\" height=\"24px\"viewBox=\"0 0 24 24\"\n",
              "       width=\"24px\">\n",
              "    <path d=\"M0 0h24v24H0V0z\" fill=\"none\"/>\n",
              "    <path d=\"M18.56 5.44l.94 2.06.94-2.06 2.06-.94-2.06-.94-.94-2.06-.94 2.06-2.06.94zm-11 1L8.5 8.5l.94-2.06 2.06-.94-2.06-.94L8.5 2.5l-.94 2.06-2.06.94zm10 10l.94 2.06.94-2.06 2.06-.94-2.06-.94-.94-2.06-.94 2.06-2.06.94z\"/><path d=\"M17.41 7.96l-1.37-1.37c-.4-.4-.92-.59-1.43-.59-.52 0-1.04.2-1.43.59L10.3 9.45l-7.72 7.72c-.78.78-.78 2.05 0 2.83L4 21.41c.39.39.9.59 1.41.59.51 0 1.02-.2 1.41-.59l7.78-7.78 2.81-2.81c.8-.78.8-2.07 0-2.86zM5.41 20L4 18.59l7.72-7.72 1.47 1.35L5.41 20z\"/>\n",
              "  </svg>\n",
              "      </button>\n",
              "      \n",
              "  <style>\n",
              "    .colab-df-container {\n",
              "      display:flex;\n",
              "      flex-wrap:wrap;\n",
              "      gap: 12px;\n",
              "    }\n",
              "\n",
              "    .colab-df-convert {\n",
              "      background-color: #E8F0FE;\n",
              "      border: none;\n",
              "      border-radius: 50%;\n",
              "      cursor: pointer;\n",
              "      display: none;\n",
              "      fill: #1967D2;\n",
              "      height: 32px;\n",
              "      padding: 0 0 0 0;\n",
              "      width: 32px;\n",
              "    }\n",
              "\n",
              "    .colab-df-convert:hover {\n",
              "      background-color: #E2EBFA;\n",
              "      box-shadow: 0px 1px 2px rgba(60, 64, 67, 0.3), 0px 1px 3px 1px rgba(60, 64, 67, 0.15);\n",
              "      fill: #174EA6;\n",
              "    }\n",
              "\n",
              "    [theme=dark] .colab-df-convert {\n",
              "      background-color: #3B4455;\n",
              "      fill: #D2E3FC;\n",
              "    }\n",
              "\n",
              "    [theme=dark] .colab-df-convert:hover {\n",
              "      background-color: #434B5C;\n",
              "      box-shadow: 0px 1px 3px 1px rgba(0, 0, 0, 0.15);\n",
              "      filter: drop-shadow(0px 1px 2px rgba(0, 0, 0, 0.3));\n",
              "      fill: #FFFFFF;\n",
              "    }\n",
              "  </style>\n",
              "\n",
              "      <script>\n",
              "        const buttonEl =\n",
              "          document.querySelector('#df-8d14d6c6-d405-4179-b090-5684eba03948 button.colab-df-convert');\n",
              "        buttonEl.style.display =\n",
              "          google.colab.kernel.accessAllowed ? 'block' : 'none';\n",
              "\n",
              "        async function convertToInteractive(key) {\n",
              "          const element = document.querySelector('#df-8d14d6c6-d405-4179-b090-5684eba03948');\n",
              "          const dataTable =\n",
              "            await google.colab.kernel.invokeFunction('convertToInteractive',\n",
              "                                                     [key], {});\n",
              "          if (!dataTable) return;\n",
              "\n",
              "          const docLinkHtml = 'Like what you see? Visit the ' +\n",
              "            '<a target=\"_blank\" href=https://colab.research.google.com/notebooks/data_table.ipynb>data table notebook</a>'\n",
              "            + ' to learn more about interactive tables.';\n",
              "          element.innerHTML = '';\n",
              "          dataTable['output_type'] = 'display_data';\n",
              "          await google.colab.output.renderOutput(dataTable, element);\n",
              "          const docLink = document.createElement('div');\n",
              "          docLink.innerHTML = docLinkHtml;\n",
              "          element.appendChild(docLink);\n",
              "        }\n",
              "      </script>\n",
              "    </div>\n",
              "  </div>\n",
              "  "
            ]
          },
          "metadata": {},
          "execution_count": 14
        }
      ]
    },
    {
      "cell_type": "code",
      "source": [
        "FEATURES = ['description1', 'description2']"
      ],
      "metadata": {
        "id": "FoO7o_kBsPF-"
      },
      "execution_count": 15,
      "outputs": []
    },
    {
      "cell_type": "code",
      "source": [
        "import itertools"
      ],
      "metadata": {
        "id": "_T3p_00mSlnC"
      },
      "execution_count": 16,
      "outputs": []
    },
    {
      "cell_type": "code",
      "source": [
        "descr_vectorizer, descr_word_index = build_vocab(\n",
        "  [df_sim.description1, df_sim.description2],\n",
        "  MAX_DESCRIPTION_LENGTH,\n",
        ")\n",
        "\n",
        "print(\n",
        "  'Most frequent description words:',\n",
        "  list(itertools.islice(descr_word_index.keys(), 5)),\n",
        ")"
      ],
      "metadata": {
        "colab": {
          "base_uri": "https://localhost:8080/"
        },
        "id": "Gklyg_q2Q58K",
        "outputId": "b1f3371a-623d-4caa-cef4-2dc41a65d7aa"
      },
      "execution_count": 17,
      "outputs": [
        {
          "output_type": "stream",
          "name": "stdout",
          "text": [
            "Most frequent description words: ['', '[UNK]', 'the', 'to', 'a']\n"
          ]
        }
      ]
    },
    {
      "cell_type": "code",
      "source": [
        "descr_vectorizer.vocabulary_size()"
      ],
      "metadata": {
        "colab": {
          "base_uri": "https://localhost:8080/"
        },
        "id": "Qaski6uvYn_Z",
        "outputId": "d51e3400-e118-4b64-fbc2-0e8f3dde1bc1"
      },
      "execution_count": 18,
      "outputs": [
        {
          "output_type": "execute_result",
          "data": {
            "text/plain": [
              "4219"
            ]
          },
          "metadata": {},
          "execution_count": 18
        }
      ]
    },
    {
      "cell_type": "code",
      "source": [
        "from typing import List, Dict, Tuple, Set"
      ],
      "metadata": {
        "id": "jwz8md8iS2gN"
      },
      "execution_count": 19,
      "outputs": []
    },
    {
      "cell_type": "code",
      "source": [
        "def create_embedding_matrix(\n",
        "  embeddings_index: Dict[str, np.ndarray],\n",
        "  word_index: Dict[str, int],\n",
        "  verbose=False,\n",
        "):\n",
        "  hits = 0\n",
        "  misses = 0\n",
        "\n",
        "  # prepare embedding matrix\n",
        "  embedding_matrix = np.zeros((descr_vectorizer.vocabulary_size(),EMBEDDING_DIM))\n",
        "  for word, i in word_index.items():\n",
        "    embedding_vector = embeddings_index.get(word)\n",
        "    if embedding_vector is not None:\n",
        "      # Words not found in embedding index will be all-zeros.\n",
        "      # This includes the representation for \"padding\" and \"OOV\"\n",
        "      embedding_matrix[i] = embedding_vector\n",
        "      hits += 1\n",
        "    else:\n",
        "      misses += 1\n",
        "\n",
        "  if verbose:\n",
        "    print('Embedding shape:', embedding_matrix.shape)\n",
        "    print(f'Found {hits} words, missed {misses}.')\n",
        "\n",
        "  return embedding_matrix"
      ],
      "metadata": {
        "id": "zf6egM0_RBVH"
      },
      "execution_count": 20,
      "outputs": []
    },
    {
      "cell_type": "code",
      "source": [
        "print('Creating description embedding matrix:')\n",
        "descr_embedding_matrix = create_embedding_matrix(\n",
        "  embeddings_index, descr_word_index, True,\n",
        ")"
      ],
      "metadata": {
        "colab": {
          "base_uri": "https://localhost:8080/"
        },
        "id": "UV9pK9wQSruU",
        "outputId": "7d0e370d-5a4d-4902-94c0-22c23ef912ed"
      },
      "execution_count": 21,
      "outputs": [
        {
          "output_type": "stream",
          "name": "stdout",
          "text": [
            "Creating description embedding matrix:\n",
            "Embedding shape: (4219, 100)\n",
            "Found 3649 words, missed 570.\n"
          ]
        }
      ]
    },
    {
      "cell_type": "code",
      "source": [
        "descr_embedding_matrix.shape"
      ],
      "metadata": {
        "colab": {
          "base_uri": "https://localhost:8080/"
        },
        "id": "Y9KisltkTZ70",
        "outputId": "aeedd5b7-20da-4ea1-8c32-4bf0fdd6ab97"
      },
      "execution_count": 22,
      "outputs": [
        {
          "output_type": "execute_result",
          "data": {
            "text/plain": [
              "(4219, 100)"
            ]
          },
          "metadata": {},
          "execution_count": 22
        }
      ]
    },
    {
      "cell_type": "code",
      "source": [
        "from sklearn.decomposition import PCA"
      ],
      "metadata": {
        "id": "d8s8O8zlNiWd"
      },
      "execution_count": 23,
      "outputs": []
    },
    {
      "cell_type": "code",
      "source": [
        "descr_embedding_matrix"
      ],
      "metadata": {
        "colab": {
          "base_uri": "https://localhost:8080/"
        },
        "id": "4lWFHbDYtRXe",
        "outputId": "6d02f6a5-c100-442d-a78a-84df154f58d3"
      },
      "execution_count": 24,
      "outputs": [
        {
          "output_type": "execute_result",
          "data": {
            "text/plain": [
              "array([[ 0.        ,  0.        ,  0.        , ...,  0.        ,\n",
              "         0.        ,  0.        ],\n",
              "       [ 0.        ,  0.        ,  0.        , ...,  0.        ,\n",
              "         0.        ,  0.        ],\n",
              "       [-0.038194  , -0.24487001,  0.72812003, ..., -0.1459    ,\n",
              "         0.82779998,  0.27061999],\n",
              "       ...,\n",
              "       [ 1.03659999, -0.013461  ,  0.061852  , ...,  0.76797998,\n",
              "         0.94884002,  0.33374   ],\n",
              "       [ 0.        ,  0.        ,  0.        , ...,  0.        ,\n",
              "         0.        ,  0.        ],\n",
              "       [ 0.25736001, -0.28448999,  0.25514999, ..., -0.37619001,\n",
              "        -0.35448   , -0.063603  ]])"
            ]
          },
          "metadata": {},
          "execution_count": 24
        }
      ]
    },
    {
      "cell_type": "code",
      "source": [
        "X = descr_embedding_matrix"
      ],
      "metadata": {
        "id": "LPcHPAl4vB61"
      },
      "execution_count": 25,
      "outputs": []
    },
    {
      "cell_type": "code",
      "source": [
        "pip install pyclustertend"
      ],
      "metadata": {
        "colab": {
          "base_uri": "https://localhost:8080/"
        },
        "id": "mXETTFbavQVz",
        "outputId": "bd1ac221-ed13-467a-b553-37b7c2f5e48d"
      },
      "execution_count": 26,
      "outputs": [
        {
          "output_type": "stream",
          "name": "stdout",
          "text": [
            "Collecting pyclustertend\n",
            "  Downloading pyclustertend-1.4.9-py3-none-any.whl (9.8 kB)\n",
            "Installing collected packages: pyclustertend\n",
            "Successfully installed pyclustertend-1.4.9\n"
          ]
        }
      ]
    },
    {
      "cell_type": "code",
      "source": [
        "import numpy as np # linear algebra\n",
        "import pandas as pd # data processing, CSV file I/O (e.g. pd.read_csv)\n",
        "\n",
        "from sklearn.decomposition import PCA\n",
        "from sklearn import datasets\n",
        "from sklearn.preprocessing import scale\n",
        "from pyclustertend import hopkins ## the hopkins test\n",
        "\n",
        "\n",
        "from mpl_toolkits.mplot3d import Axes3D\n",
        "import matplotlib.pyplot as plt"
      ],
      "metadata": {
        "id": "8Ykl0J36vOwL"
      },
      "execution_count": 57,
      "outputs": []
    },
    {
      "cell_type": "code",
      "source": [
        "import math\n",
        "#Sample data must be preprocessed into dataframe or matrix form before given as the value of parameter \"data\"."
      ],
      "metadata": {
        "id": "vRvlbTCFtvpO"
      },
      "execution_count": 58,
      "outputs": []
    },
    {
      "cell_type": "code",
      "source": [
        "# hopkins(X, X.shape[0])\n",
        "# hopkins(scale(X),X.shape[0])"
      ],
      "metadata": {
        "id": "4sa81sG0vwlB"
      },
      "execution_count": 59,
      "outputs": []
    },
    {
      "cell_type": "code",
      "source": [
        "# H=hopkins_statistic(X)\n",
        "# print(H)\n",
        "import numpy as np\n",
        "from sklearn.neighbors import NearestNeighbors\n",
        "import pandas as pd\n",
        "import matplotlib.pyplot as plt\n",
        "%matplotlib inline\n",
        "from random import sample\n",
        "from numpy.random import uniform"
      ],
      "metadata": {
        "id": "FPAX688Y1qlt"
      },
      "execution_count": 60,
      "outputs": []
    },
    {
      "cell_type": "code",
      "source": [
        "# function to compute hopkins's statistic for the dataframe X\n",
        "def hopkins_statistic(X):\n",
        "    \n",
        "    #convert dataframe to a numpy array\n",
        "    sample_size = int(X.shape[0]*0.05) #0.05 (5%) based on paper by Lawson and Jures\n",
        "    \n",
        "    \n",
        "    #a uniform random sample in the original data space\n",
        "    X_uniform_random_sample = uniform(X.min(axis=0), X.max(axis=0) ,(sample_size , X.shape[1]))\n",
        "    \n",
        "    \n",
        "    \n",
        "    #a random sample of size sample_size from the original data X\n",
        "    random_indices=sample(range(0, X.shape[0], 1), sample_size)\n",
        "    X_sample = X[random_indices]\n",
        "   \n",
        "    \n",
        "    #initialise unsupervised learner for implementing neighbor searches\n",
        "    neigh = NearestNeighbors(n_neighbors=2)\n",
        "    nbrs=neigh.fit(X)\n",
        "    \n",
        "    #u_distances = nearest neighbour distances from uniform random sample\n",
        "    u_distances , u_indices = nbrs.kneighbors(X_uniform_random_sample , n_neighbors=2)\n",
        "    u_distances = u_distances[: , 0] #distance to the first (nearest) neighbour\n",
        "    \n",
        "    #w_distances = nearest neighbour distances from a sample of points from original data X\n",
        "    w_distances , w_indices = nbrs.kneighbors(X_sample , n_neighbors=2)\n",
        "    #distance to the second nearest neighbour (as the first neighbour will be the point itself, with distance = 0)\n",
        "    w_distances = w_distances[: , 1]\n",
        "    \n",
        " \n",
        "    \n",
        "    u_sum = np.sum(u_distances)\n",
        "    w_sum = np.sum(w_distances)\n",
        "    \n",
        "    #compute and return hopkins' statistic\n",
        "    H = u_sum/ (u_sum + w_sum)\n",
        "    return H"
      ],
      "metadata": {
        "id": "BoxE3ZMd-5fM"
      },
      "execution_count": 61,
      "outputs": []
    },
    {
      "cell_type": "code",
      "source": [
        "l = [] #list to hold values for each call\n",
        "for i in range(300):\n",
        "    H=hopkins_statistic(X)\n",
        "    l.append(H)\n",
        "#print average value:\n",
        "print(H)\n",
        "print(l)"
      ],
      "metadata": {
        "colab": {
          "base_uri": "https://localhost:8080/"
        },
        "id": "dI4-TMa11osX",
        "outputId": "55e83bc8-67e4-44e5-8833-ce0c573dce5a"
      },
      "execution_count": 62,
      "outputs": [
        {
          "output_type": "stream",
          "name": "stdout",
          "text": [
            "0.7552916825058404\n",
            "[0.7607636792653527, 0.7555220167605015, 0.7503021480237598, 0.7554600820067223, 0.7601741896177739, 0.7574760838691528, 0.7439259038220635, 0.7584101018306577, 0.7485003174087999, 0.7541700739515115, 0.7616411407601787, 0.7645025866916066, 0.7524097794058386, 0.758306543943755, 0.7631743335770864, 0.7370114154018526, 0.7515161308069893, 0.7584301662581472, 0.7644856519015009, 0.7489797419629854, 0.7551522122050719, 0.7495829950243735, 0.7609056531913903, 0.7647250010565553, 0.7558182209069777, 0.7488149475352969, 0.7549449405867376, 0.7502604501307747, 0.7456968354853726, 0.7533268290287181, 0.7431264844516837, 0.7664632693356569, 0.7506572877163984, 0.7541520003963904, 0.7490031971112953, 0.750978818681303, 0.7592299033371487, 0.7513152206584741, 0.7470011606243252, 0.7504734846039304, 0.7579124388460068, 0.7605510905220692, 0.754521337051847, 0.7602041950472852, 0.7577115821171724, 0.751832500261429, 0.7510504478778033, 0.7587580263035848, 0.762378050683107, 0.7510861767995389, 0.7436306661298598, 0.7612470558809772, 0.7506221854547637, 0.7598993073177408, 0.7530777002561844, 0.7569462436817227, 0.7474044823592859, 0.7562815330909021, 0.769354187488308, 0.7581550925773124, 0.7604941634071656, 0.7506885794503629, 0.7567541567950054, 0.7571789225296314, 0.7554920534517412, 0.7594202720507116, 0.7598586323415413, 0.7515576529446061, 0.7537190840210727, 0.7533286352573381, 0.756349806561895, 0.7445653262615648, 0.755198036120684, 0.7602746529757318, 0.7524008266676874, 0.7536540611442728, 0.7560835027418988, 0.7536350535390504, 0.7573250929019033, 0.7539215843712276, 0.7498323712108138, 0.7590914394755706, 0.7655701770646208, 0.7547102533402487, 0.7580803366618718, 0.7569698388113989, 0.7582948672435119, 0.763686604315397, 0.7523827270884038, 0.7575660728606216, 0.7604497855573183, 0.7496523730543908, 0.7553137664060781, 0.7512647377868779, 0.7502052096343031, 0.754146870836024, 0.7491541150315032, 0.7588615413077586, 0.7511204509825425, 0.742420107966781, 0.7564818724992606, 0.749868218265426, 0.7586562878574498, 0.7436078310598243, 0.7558590816576086, 0.7527237480456298, 0.7628119378721651, 0.7464918316023077, 0.7576606122053781, 0.7543842322605169, 0.7565461486094457, 0.7492724089527002, 0.751347556919138, 0.7429915022785649, 0.7505735261057701, 0.7601946746131076, 0.7698577805747134, 0.7549081932509473, 0.7430897126960894, 0.7494150022865614, 0.749136076913588, 0.7605688575542817, 0.75430134895816, 0.756344328389561, 0.7558932381619263, 0.7522424680525286, 0.760201271698241, 0.7520321790087617, 0.7538935123829529, 0.761495978626035, 0.749635868547805, 0.7453775552720718, 0.7531598487837816, 0.7541913080161249, 0.7639074297647086, 0.7582230071487264, 0.750933724859925, 0.7548129509477927, 0.7604027622958265, 0.7602247383753215, 0.7560616918684301, 0.7574568330523344, 0.7560431655491563, 0.7589171394356033, 0.7576607004726146, 0.7515045980700059, 0.7600128114588075, 0.756365150197449, 0.7534263977855494, 0.7612932865823401, 0.7562655279260682, 0.7593357625346563, 0.75433456748974, 0.7564634845904011, 0.7622415240672907, 0.7526046446750632, 0.7528067198321718, 0.7504744552391597, 0.7573179634079128, 0.7531800703073155, 0.7437516297476561, 0.7487927058328558, 0.7463433535834826, 0.7682725437393776, 0.7619058624388888, 0.7466087433068418, 0.7537355604739975, 0.7492390296754053, 0.7486244956785372, 0.7578414016904691, 0.746393575402531, 0.747564474264206, 0.760314029676578, 0.7449834029191232, 0.7401832497619252, 0.7539354401129, 0.755701880152469, 0.7515218913480239, 0.7579176281682792, 0.7562768285658811, 0.7534963206985867, 0.7662830211454706, 0.7593628066597565, 0.7563867708447363, 0.761332068779763, 0.7569363357272623, 0.7608499127210224, 0.7588126039324803, 0.753340142530847, 0.7550592691532091, 0.7501843589319722, 0.7543717128955492, 0.7570371752482788, 0.75999276914049, 0.7554728387159285, 0.7470430482522604, 0.7490677196663614, 0.7552184193893442, 0.75055835311044, 0.7456379473190774, 0.7564982865563084, 0.7536542990875041, 0.7648596324197997, 0.7507055266619189, 0.754664302352314, 0.7618533226951649, 0.768915558470919, 0.7565059867125425, 0.7532696780253079, 0.7594482206235943, 0.7500696139817484, 0.7568179102710993, 0.7575726152392958, 0.7622854410180449, 0.7564405372267106, 0.7520799565328312, 0.7643996446224375, 0.7425377981373719, 0.747512048086564, 0.7457635700664915, 0.753424264447707, 0.755468948670966, 0.7523646934950864, 0.7518536154175377, 0.7520231284301759, 0.7573528916258454, 0.766654496808133, 0.75489228114491, 0.7695594880724982, 0.7534646392969374, 0.7422413101622002, 0.7575272500497209, 0.7516887217012285, 0.7600141114543442, 0.7504546912045688, 0.7588203910909814, 0.7573290271025219, 0.7492447689850098, 0.7566090636189106, 0.760765460146737, 0.7564636583405734, 0.7432116352761493, 0.7537083206803082, 0.7627294538022176, 0.7570844918041768, 0.7613691411934544, 0.7557413464570277, 0.7680051289965838, 0.7576791079680805, 0.7537324700849587, 0.7474241419150346, 0.7616939944606624, 0.7527657246183553, 0.7514059694794477, 0.7413192508626627, 0.7485775159932343, 0.748454591319718, 0.7464934517668932, 0.7496178135415478, 0.7533391101531978, 0.7536381811531329, 0.7567218015811661, 0.7548265352922512, 0.7448566573699735, 0.7520207245266095, 0.7424999496466319, 0.7469200703517488, 0.746947583037845, 0.7529926640066352, 0.7486332944088987, 0.7596061509126406, 0.7523220171440345, 0.750963130360966, 0.7574191739264137, 0.7606947676000224, 0.7614554335210425, 0.7513319828388925, 0.7661075641121535, 0.748823224851961, 0.7499478470348222, 0.7505671010811437, 0.7573961075160711, 0.7471031856334163, 0.759727985553496, 0.7579959594364055, 0.7469316301179263, 0.7604446822584505, 0.7580292841450211, 0.7472468049113968, 0.7462344290461445, 0.7532761977860026, 0.7507975678104657, 0.748326526598696, 0.7576938994954812, 0.7535553929000636, 0.7627914944308287, 0.7543890949843072, 0.7605360821429002, 0.7471592446508626, 0.7552916825058404]\n"
          ]
        }
      ]
    },
    {
      "cell_type": "code",
      "source": [
        "print('\\n'.join(map(str, l)))"
      ],
      "metadata": {
        "colab": {
          "base_uri": "https://localhost:8080/"
        },
        "id": "dBFtfCObXW8Q",
        "outputId": "f6c6bd20-8c78-40ba-8e8f-afc0f3b538e2"
      },
      "execution_count": 63,
      "outputs": [
        {
          "output_type": "stream",
          "name": "stdout",
          "text": [
            "0.7607636792653527\n",
            "0.7555220167605015\n",
            "0.7503021480237598\n",
            "0.7554600820067223\n",
            "0.7601741896177739\n",
            "0.7574760838691528\n",
            "0.7439259038220635\n",
            "0.7584101018306577\n",
            "0.7485003174087999\n",
            "0.7541700739515115\n",
            "0.7616411407601787\n",
            "0.7645025866916066\n",
            "0.7524097794058386\n",
            "0.758306543943755\n",
            "0.7631743335770864\n",
            "0.7370114154018526\n",
            "0.7515161308069893\n",
            "0.7584301662581472\n",
            "0.7644856519015009\n",
            "0.7489797419629854\n",
            "0.7551522122050719\n",
            "0.7495829950243735\n",
            "0.7609056531913903\n",
            "0.7647250010565553\n",
            "0.7558182209069777\n",
            "0.7488149475352969\n",
            "0.7549449405867376\n",
            "0.7502604501307747\n",
            "0.7456968354853726\n",
            "0.7533268290287181\n",
            "0.7431264844516837\n",
            "0.7664632693356569\n",
            "0.7506572877163984\n",
            "0.7541520003963904\n",
            "0.7490031971112953\n",
            "0.750978818681303\n",
            "0.7592299033371487\n",
            "0.7513152206584741\n",
            "0.7470011606243252\n",
            "0.7504734846039304\n",
            "0.7579124388460068\n",
            "0.7605510905220692\n",
            "0.754521337051847\n",
            "0.7602041950472852\n",
            "0.7577115821171724\n",
            "0.751832500261429\n",
            "0.7510504478778033\n",
            "0.7587580263035848\n",
            "0.762378050683107\n",
            "0.7510861767995389\n",
            "0.7436306661298598\n",
            "0.7612470558809772\n",
            "0.7506221854547637\n",
            "0.7598993073177408\n",
            "0.7530777002561844\n",
            "0.7569462436817227\n",
            "0.7474044823592859\n",
            "0.7562815330909021\n",
            "0.769354187488308\n",
            "0.7581550925773124\n",
            "0.7604941634071656\n",
            "0.7506885794503629\n",
            "0.7567541567950054\n",
            "0.7571789225296314\n",
            "0.7554920534517412\n",
            "0.7594202720507116\n",
            "0.7598586323415413\n",
            "0.7515576529446061\n",
            "0.7537190840210727\n",
            "0.7533286352573381\n",
            "0.756349806561895\n",
            "0.7445653262615648\n",
            "0.755198036120684\n",
            "0.7602746529757318\n",
            "0.7524008266676874\n",
            "0.7536540611442728\n",
            "0.7560835027418988\n",
            "0.7536350535390504\n",
            "0.7573250929019033\n",
            "0.7539215843712276\n",
            "0.7498323712108138\n",
            "0.7590914394755706\n",
            "0.7655701770646208\n",
            "0.7547102533402487\n",
            "0.7580803366618718\n",
            "0.7569698388113989\n",
            "0.7582948672435119\n",
            "0.763686604315397\n",
            "0.7523827270884038\n",
            "0.7575660728606216\n",
            "0.7604497855573183\n",
            "0.7496523730543908\n",
            "0.7553137664060781\n",
            "0.7512647377868779\n",
            "0.7502052096343031\n",
            "0.754146870836024\n",
            "0.7491541150315032\n",
            "0.7588615413077586\n",
            "0.7511204509825425\n",
            "0.742420107966781\n",
            "0.7564818724992606\n",
            "0.749868218265426\n",
            "0.7586562878574498\n",
            "0.7436078310598243\n",
            "0.7558590816576086\n",
            "0.7527237480456298\n",
            "0.7628119378721651\n",
            "0.7464918316023077\n",
            "0.7576606122053781\n",
            "0.7543842322605169\n",
            "0.7565461486094457\n",
            "0.7492724089527002\n",
            "0.751347556919138\n",
            "0.7429915022785649\n",
            "0.7505735261057701\n",
            "0.7601946746131076\n",
            "0.7698577805747134\n",
            "0.7549081932509473\n",
            "0.7430897126960894\n",
            "0.7494150022865614\n",
            "0.749136076913588\n",
            "0.7605688575542817\n",
            "0.75430134895816\n",
            "0.756344328389561\n",
            "0.7558932381619263\n",
            "0.7522424680525286\n",
            "0.760201271698241\n",
            "0.7520321790087617\n",
            "0.7538935123829529\n",
            "0.761495978626035\n",
            "0.749635868547805\n",
            "0.7453775552720718\n",
            "0.7531598487837816\n",
            "0.7541913080161249\n",
            "0.7639074297647086\n",
            "0.7582230071487264\n",
            "0.750933724859925\n",
            "0.7548129509477927\n",
            "0.7604027622958265\n",
            "0.7602247383753215\n",
            "0.7560616918684301\n",
            "0.7574568330523344\n",
            "0.7560431655491563\n",
            "0.7589171394356033\n",
            "0.7576607004726146\n",
            "0.7515045980700059\n",
            "0.7600128114588075\n",
            "0.756365150197449\n",
            "0.7534263977855494\n",
            "0.7612932865823401\n",
            "0.7562655279260682\n",
            "0.7593357625346563\n",
            "0.75433456748974\n",
            "0.7564634845904011\n",
            "0.7622415240672907\n",
            "0.7526046446750632\n",
            "0.7528067198321718\n",
            "0.7504744552391597\n",
            "0.7573179634079128\n",
            "0.7531800703073155\n",
            "0.7437516297476561\n",
            "0.7487927058328558\n",
            "0.7463433535834826\n",
            "0.7682725437393776\n",
            "0.7619058624388888\n",
            "0.7466087433068418\n",
            "0.7537355604739975\n",
            "0.7492390296754053\n",
            "0.7486244956785372\n",
            "0.7578414016904691\n",
            "0.746393575402531\n",
            "0.747564474264206\n",
            "0.760314029676578\n",
            "0.7449834029191232\n",
            "0.7401832497619252\n",
            "0.7539354401129\n",
            "0.755701880152469\n",
            "0.7515218913480239\n",
            "0.7579176281682792\n",
            "0.7562768285658811\n",
            "0.7534963206985867\n",
            "0.7662830211454706\n",
            "0.7593628066597565\n",
            "0.7563867708447363\n",
            "0.761332068779763\n",
            "0.7569363357272623\n",
            "0.7608499127210224\n",
            "0.7588126039324803\n",
            "0.753340142530847\n",
            "0.7550592691532091\n",
            "0.7501843589319722\n",
            "0.7543717128955492\n",
            "0.7570371752482788\n",
            "0.75999276914049\n",
            "0.7554728387159285\n",
            "0.7470430482522604\n",
            "0.7490677196663614\n",
            "0.7552184193893442\n",
            "0.75055835311044\n",
            "0.7456379473190774\n",
            "0.7564982865563084\n",
            "0.7536542990875041\n",
            "0.7648596324197997\n",
            "0.7507055266619189\n",
            "0.754664302352314\n",
            "0.7618533226951649\n",
            "0.768915558470919\n",
            "0.7565059867125425\n",
            "0.7532696780253079\n",
            "0.7594482206235943\n",
            "0.7500696139817484\n",
            "0.7568179102710993\n",
            "0.7575726152392958\n",
            "0.7622854410180449\n",
            "0.7564405372267106\n",
            "0.7520799565328312\n",
            "0.7643996446224375\n",
            "0.7425377981373719\n",
            "0.747512048086564\n",
            "0.7457635700664915\n",
            "0.753424264447707\n",
            "0.755468948670966\n",
            "0.7523646934950864\n",
            "0.7518536154175377\n",
            "0.7520231284301759\n",
            "0.7573528916258454\n",
            "0.766654496808133\n",
            "0.75489228114491\n",
            "0.7695594880724982\n",
            "0.7534646392969374\n",
            "0.7422413101622002\n",
            "0.7575272500497209\n",
            "0.7516887217012285\n",
            "0.7600141114543442\n",
            "0.7504546912045688\n",
            "0.7588203910909814\n",
            "0.7573290271025219\n",
            "0.7492447689850098\n",
            "0.7566090636189106\n",
            "0.760765460146737\n",
            "0.7564636583405734\n",
            "0.7432116352761493\n",
            "0.7537083206803082\n",
            "0.7627294538022176\n",
            "0.7570844918041768\n",
            "0.7613691411934544\n",
            "0.7557413464570277\n",
            "0.7680051289965838\n",
            "0.7576791079680805\n",
            "0.7537324700849587\n",
            "0.7474241419150346\n",
            "0.7616939944606624\n",
            "0.7527657246183553\n",
            "0.7514059694794477\n",
            "0.7413192508626627\n",
            "0.7485775159932343\n",
            "0.748454591319718\n",
            "0.7464934517668932\n",
            "0.7496178135415478\n",
            "0.7533391101531978\n",
            "0.7536381811531329\n",
            "0.7567218015811661\n",
            "0.7548265352922512\n",
            "0.7448566573699735\n",
            "0.7520207245266095\n",
            "0.7424999496466319\n",
            "0.7469200703517488\n",
            "0.746947583037845\n",
            "0.7529926640066352\n",
            "0.7486332944088987\n",
            "0.7596061509126406\n",
            "0.7523220171440345\n",
            "0.750963130360966\n",
            "0.7574191739264137\n",
            "0.7606947676000224\n",
            "0.7614554335210425\n",
            "0.7513319828388925\n",
            "0.7661075641121535\n",
            "0.748823224851961\n",
            "0.7499478470348222\n",
            "0.7505671010811437\n",
            "0.7573961075160711\n",
            "0.7471031856334163\n",
            "0.759727985553496\n",
            "0.7579959594364055\n",
            "0.7469316301179263\n",
            "0.7604446822584505\n",
            "0.7580292841450211\n",
            "0.7472468049113968\n",
            "0.7462344290461445\n",
            "0.7532761977860026\n",
            "0.7507975678104657\n",
            "0.748326526598696\n",
            "0.7576938994954812\n",
            "0.7535553929000636\n",
            "0.7627914944308287\n",
            "0.7543890949843072\n",
            "0.7605360821429002\n",
            "0.7471592446508626\n",
            "0.7552916825058404\n"
          ]
        }
      ]
    },
    {
      "cell_type": "code",
      "source": [
        "len(l)"
      ],
      "metadata": {
        "colab": {
          "base_uri": "https://localhost:8080/"
        },
        "id": "0sdg_hjhDzjS",
        "outputId": "69d31229-a4f0-49fd-f9f5-a5e917992877"
      },
      "execution_count": 64,
      "outputs": [
        {
          "output_type": "execute_result",
          "data": {
            "text/plain": [
              "300"
            ]
          },
          "metadata": {},
          "execution_count": 64
        }
      ]
    },
    {
      "cell_type": "code",
      "source": [
        "df_sim_hopkin = pd.DataFrame(l)\n",
        "print(df_sim_hopkin)"
      ],
      "metadata": {
        "colab": {
          "base_uri": "https://localhost:8080/"
        },
        "id": "XHzwACE7EWMd",
        "outputId": "970d4e53-74b1-41b5-f5f3-d131442a9a9d"
      },
      "execution_count": 65,
      "outputs": [
        {
          "output_type": "stream",
          "name": "stdout",
          "text": [
            "            0\n",
            "0    0.760764\n",
            "1    0.755522\n",
            "2    0.750302\n",
            "3    0.755460\n",
            "4    0.760174\n",
            "..        ...\n",
            "295  0.762791\n",
            "296  0.754389\n",
            "297  0.760536\n",
            "298  0.747159\n",
            "299  0.755292\n",
            "\n",
            "[300 rows x 1 columns]\n"
          ]
        }
      ]
    },
    {
      "cell_type": "code",
      "source": [
        "# from sklearn.decomposition import PCA\n",
        "# data = descr_embedding_matrix\n",
        "# labels = df_sim.is_similar\n",
        "\n",
        "# model = PCA(n_components=2)\n",
        "# # configuring the parameteres\n",
        "\n",
        "# PCA_data = model.fit_transform(data)"
      ],
      "metadata": {
        "id": "rxPpUTt82urU"
      },
      "execution_count": 66,
      "outputs": []
    },
    {
      "cell_type": "code",
      "source": [
        "# PCA_data.shape"
      ],
      "metadata": {
        "id": "ldP5BJEvQ2P3"
      },
      "execution_count": 67,
      "outputs": []
    },
    {
      "cell_type": "code",
      "source": [
        "# # Ploting the result of tsne\n",
        "# import seaborn as sns\n",
        "# import matplotlib.pyplot as plt\n",
        "# plt.scatter(PCA_data[:, 0], PCA_data[:, 1])\n",
        "# plt.savefig('output_similar.jpg')\n",
        "# plt.show()"
      ],
      "metadata": {
        "id": "oWx-g5KV24GN"
      },
      "execution_count": 68,
      "outputs": []
    },
    {
      "cell_type": "code",
      "source": [
        "plt.savefig('output_similar.png')"
      ],
      "metadata": {
        "colab": {
          "base_uri": "https://localhost:8080/",
          "height": 34
        },
        "id": "YJWdMzzu4WLP",
        "outputId": "baab0920-8e42-4801-c6e8-eec980d9d50b"
      },
      "execution_count": 69,
      "outputs": [
        {
          "output_type": "display_data",
          "data": {
            "text/plain": [
              "<Figure size 432x288 with 0 Axes>"
            ]
          },
          "metadata": {}
        }
      ]
    },
    {
      "cell_type": "markdown",
      "source": [
        "# Textually Dissimilar"
      ],
      "metadata": {
        "id": "epP1eDUQz0bR"
      }
    },
    {
      "cell_type": "code",
      "source": [
        "#importing the CSV file of the dataset from google drive into a dataframe\n",
        "df_dissim = pd.read_csv('drive/MyDrive/Project 6308 + ICSME/Siamese/Firefox_siamese_textually_dissimilar_test_duplicates_preprocessed.csv')\n",
        "df_dissim = df_dissim[df_dissim.is_similar.astype('bool')].sample(300)\n",
        "df_dissim"
      ],
      "metadata": {
        "colab": {
          "base_uri": "https://localhost:8080/",
          "height": 424
        },
        "id": "Yk1qvNW7a26X",
        "outputId": "f4336e0b-61d3-466a-9ca2-823b41ff995a"
      },
      "execution_count": 70,
      "outputs": [
        {
          "output_type": "execute_result",
          "data": {
            "text/plain": [
              "      Unnamed: 0                                       description1  \\\n",
              "195          201    filed by  wkocher  at  mozilla com     job i...   \n",
              "542          558    created attachment   hist png  user agent  m...   \n",
              "1040        1070    user agent  mozilla       applewebkit       ...   \n",
              "848          872    i don t have a lot to go on here  sorry    t...   \n",
              "1271        1311      markdown   filed by  ncsoregi  at  mozilla...   \n",
              "...          ...                                                ...   \n",
              "243          250    filed by  cbook  at  mozilla com     job id ...   \n",
              "870          894      filed by    ncsoregi  at  mozilla com   pa...   \n",
              "102          107    created attachment   site information misali...   \n",
              "377          387    created attachment   firefox detect portal m...   \n",
              "100          105    after upgrading to firefox      my custom in...   \n",
              "\n",
              "                                           description2  is_similar  \n",
              "195        job id   repo mozilla central            ...           1  \n",
              "542     created attachment   bookmarks scrollbar png...           1  \n",
              "1040    user agent  mozilla       gecko   firefox   ...           1  \n",
              "848     we decided to temporarily back out the new t...           1  \n",
              "1271    filed by  archaeopteryx  at  coole files de ...           1  \n",
              "...                                                 ...         ...  \n",
              "243     str     enable containers in about config   ...           1  \n",
              "870       filed by    rmaries  at  mozilla com   par...           1  \n",
              "102     created attachment   bildschirmfoto       um...           1  \n",
              "377     to reproduce      redirect   to a url of you...           1  \n",
              "100     user agent  mozilla       gecko   firefox   ...           1  \n",
              "\n",
              "[300 rows x 4 columns]"
            ],
            "text/html": [
              "\n",
              "  <div id=\"df-eed7245b-5556-4f6e-add5-5e8ffd6fce2d\">\n",
              "    <div class=\"colab-df-container\">\n",
              "      <div>\n",
              "<style scoped>\n",
              "    .dataframe tbody tr th:only-of-type {\n",
              "        vertical-align: middle;\n",
              "    }\n",
              "\n",
              "    .dataframe tbody tr th {\n",
              "        vertical-align: top;\n",
              "    }\n",
              "\n",
              "    .dataframe thead th {\n",
              "        text-align: right;\n",
              "    }\n",
              "</style>\n",
              "<table border=\"1\" class=\"dataframe\">\n",
              "  <thead>\n",
              "    <tr style=\"text-align: right;\">\n",
              "      <th></th>\n",
              "      <th>Unnamed: 0</th>\n",
              "      <th>description1</th>\n",
              "      <th>description2</th>\n",
              "      <th>is_similar</th>\n",
              "    </tr>\n",
              "  </thead>\n",
              "  <tbody>\n",
              "    <tr>\n",
              "      <th>195</th>\n",
              "      <td>201</td>\n",
              "      <td>filed by  wkocher  at  mozilla com     job i...</td>\n",
              "      <td>job id   repo mozilla central            ...</td>\n",
              "      <td>1</td>\n",
              "    </tr>\n",
              "    <tr>\n",
              "      <th>542</th>\n",
              "      <td>558</td>\n",
              "      <td>created attachment   hist png  user agent  m...</td>\n",
              "      <td>created attachment   bookmarks scrollbar png...</td>\n",
              "      <td>1</td>\n",
              "    </tr>\n",
              "    <tr>\n",
              "      <th>1040</th>\n",
              "      <td>1070</td>\n",
              "      <td>user agent  mozilla       applewebkit       ...</td>\n",
              "      <td>user agent  mozilla       gecko   firefox   ...</td>\n",
              "      <td>1</td>\n",
              "    </tr>\n",
              "    <tr>\n",
              "      <th>848</th>\n",
              "      <td>872</td>\n",
              "      <td>i don t have a lot to go on here  sorry    t...</td>\n",
              "      <td>we decided to temporarily back out the new t...</td>\n",
              "      <td>1</td>\n",
              "    </tr>\n",
              "    <tr>\n",
              "      <th>1271</th>\n",
              "      <td>1311</td>\n",
              "      <td>markdown   filed by  ncsoregi  at  mozilla...</td>\n",
              "      <td>filed by  archaeopteryx  at  coole files de ...</td>\n",
              "      <td>1</td>\n",
              "    </tr>\n",
              "    <tr>\n",
              "      <th>...</th>\n",
              "      <td>...</td>\n",
              "      <td>...</td>\n",
              "      <td>...</td>\n",
              "      <td>...</td>\n",
              "    </tr>\n",
              "    <tr>\n",
              "      <th>243</th>\n",
              "      <td>250</td>\n",
              "      <td>filed by  cbook  at  mozilla com     job id ...</td>\n",
              "      <td>str     enable containers in about config   ...</td>\n",
              "      <td>1</td>\n",
              "    </tr>\n",
              "    <tr>\n",
              "      <th>870</th>\n",
              "      <td>894</td>\n",
              "      <td>filed by    ncsoregi  at  mozilla com   pa...</td>\n",
              "      <td>filed by    rmaries  at  mozilla com   par...</td>\n",
              "      <td>1</td>\n",
              "    </tr>\n",
              "    <tr>\n",
              "      <th>102</th>\n",
              "      <td>107</td>\n",
              "      <td>created attachment   site information misali...</td>\n",
              "      <td>created attachment   bildschirmfoto       um...</td>\n",
              "      <td>1</td>\n",
              "    </tr>\n",
              "    <tr>\n",
              "      <th>377</th>\n",
              "      <td>387</td>\n",
              "      <td>created attachment   firefox detect portal m...</td>\n",
              "      <td>to reproduce      redirect   to a url of you...</td>\n",
              "      <td>1</td>\n",
              "    </tr>\n",
              "    <tr>\n",
              "      <th>100</th>\n",
              "      <td>105</td>\n",
              "      <td>after upgrading to firefox      my custom in...</td>\n",
              "      <td>user agent  mozilla       gecko   firefox   ...</td>\n",
              "      <td>1</td>\n",
              "    </tr>\n",
              "  </tbody>\n",
              "</table>\n",
              "<p>300 rows × 4 columns</p>\n",
              "</div>\n",
              "      <button class=\"colab-df-convert\" onclick=\"convertToInteractive('df-eed7245b-5556-4f6e-add5-5e8ffd6fce2d')\"\n",
              "              title=\"Convert this dataframe to an interactive table.\"\n",
              "              style=\"display:none;\">\n",
              "        \n",
              "  <svg xmlns=\"http://www.w3.org/2000/svg\" height=\"24px\"viewBox=\"0 0 24 24\"\n",
              "       width=\"24px\">\n",
              "    <path d=\"M0 0h24v24H0V0z\" fill=\"none\"/>\n",
              "    <path d=\"M18.56 5.44l.94 2.06.94-2.06 2.06-.94-2.06-.94-.94-2.06-.94 2.06-2.06.94zm-11 1L8.5 8.5l.94-2.06 2.06-.94-2.06-.94L8.5 2.5l-.94 2.06-2.06.94zm10 10l.94 2.06.94-2.06 2.06-.94-2.06-.94-.94-2.06-.94 2.06-2.06.94z\"/><path d=\"M17.41 7.96l-1.37-1.37c-.4-.4-.92-.59-1.43-.59-.52 0-1.04.2-1.43.59L10.3 9.45l-7.72 7.72c-.78.78-.78 2.05 0 2.83L4 21.41c.39.39.9.59 1.41.59.51 0 1.02-.2 1.41-.59l7.78-7.78 2.81-2.81c.8-.78.8-2.07 0-2.86zM5.41 20L4 18.59l7.72-7.72 1.47 1.35L5.41 20z\"/>\n",
              "  </svg>\n",
              "      </button>\n",
              "      \n",
              "  <style>\n",
              "    .colab-df-container {\n",
              "      display:flex;\n",
              "      flex-wrap:wrap;\n",
              "      gap: 12px;\n",
              "    }\n",
              "\n",
              "    .colab-df-convert {\n",
              "      background-color: #E8F0FE;\n",
              "      border: none;\n",
              "      border-radius: 50%;\n",
              "      cursor: pointer;\n",
              "      display: none;\n",
              "      fill: #1967D2;\n",
              "      height: 32px;\n",
              "      padding: 0 0 0 0;\n",
              "      width: 32px;\n",
              "    }\n",
              "\n",
              "    .colab-df-convert:hover {\n",
              "      background-color: #E2EBFA;\n",
              "      box-shadow: 0px 1px 2px rgba(60, 64, 67, 0.3), 0px 1px 3px 1px rgba(60, 64, 67, 0.15);\n",
              "      fill: #174EA6;\n",
              "    }\n",
              "\n",
              "    [theme=dark] .colab-df-convert {\n",
              "      background-color: #3B4455;\n",
              "      fill: #D2E3FC;\n",
              "    }\n",
              "\n",
              "    [theme=dark] .colab-df-convert:hover {\n",
              "      background-color: #434B5C;\n",
              "      box-shadow: 0px 1px 3px 1px rgba(0, 0, 0, 0.15);\n",
              "      filter: drop-shadow(0px 1px 2px rgba(0, 0, 0, 0.3));\n",
              "      fill: #FFFFFF;\n",
              "    }\n",
              "  </style>\n",
              "\n",
              "      <script>\n",
              "        const buttonEl =\n",
              "          document.querySelector('#df-eed7245b-5556-4f6e-add5-5e8ffd6fce2d button.colab-df-convert');\n",
              "        buttonEl.style.display =\n",
              "          google.colab.kernel.accessAllowed ? 'block' : 'none';\n",
              "\n",
              "        async function convertToInteractive(key) {\n",
              "          const element = document.querySelector('#df-eed7245b-5556-4f6e-add5-5e8ffd6fce2d');\n",
              "          const dataTable =\n",
              "            await google.colab.kernel.invokeFunction('convertToInteractive',\n",
              "                                                     [key], {});\n",
              "          if (!dataTable) return;\n",
              "\n",
              "          const docLinkHtml = 'Like what you see? Visit the ' +\n",
              "            '<a target=\"_blank\" href=https://colab.research.google.com/notebooks/data_table.ipynb>data table notebook</a>'\n",
              "            + ' to learn more about interactive tables.';\n",
              "          element.innerHTML = '';\n",
              "          dataTable['output_type'] = 'display_data';\n",
              "          await google.colab.output.renderOutput(dataTable, element);\n",
              "          const docLink = document.createElement('div');\n",
              "          docLink.innerHTML = docLinkHtml;\n",
              "          element.appendChild(docLink);\n",
              "        }\n",
              "      </script>\n",
              "    </div>\n",
              "  </div>\n",
              "  "
            ]
          },
          "metadata": {},
          "execution_count": 70
        }
      ]
    },
    {
      "cell_type": "code",
      "source": [
        "df_dissim = df_dissim.drop(columns=['Unnamed: 0'])\n",
        "df_dissim"
      ],
      "metadata": {
        "colab": {
          "base_uri": "https://localhost:8080/",
          "height": 424
        },
        "id": "CUQhO84GbFit",
        "outputId": "b8d68029-62c7-481d-dd9f-2a9949383381"
      },
      "execution_count": 71,
      "outputs": [
        {
          "output_type": "execute_result",
          "data": {
            "text/plain": [
              "                                           description1  \\\n",
              "195     filed by  wkocher  at  mozilla com     job i...   \n",
              "542     created attachment   hist png  user agent  m...   \n",
              "1040    user agent  mozilla       applewebkit       ...   \n",
              "848     i don t have a lot to go on here  sorry    t...   \n",
              "1271      markdown   filed by  ncsoregi  at  mozilla...   \n",
              "...                                                 ...   \n",
              "243     filed by  cbook  at  mozilla com     job id ...   \n",
              "870       filed by    ncsoregi  at  mozilla com   pa...   \n",
              "102     created attachment   site information misali...   \n",
              "377     created attachment   firefox detect portal m...   \n",
              "100     after upgrading to firefox      my custom in...   \n",
              "\n",
              "                                           description2  is_similar  \n",
              "195        job id   repo mozilla central            ...           1  \n",
              "542     created attachment   bookmarks scrollbar png...           1  \n",
              "1040    user agent  mozilla       gecko   firefox   ...           1  \n",
              "848     we decided to temporarily back out the new t...           1  \n",
              "1271    filed by  archaeopteryx  at  coole files de ...           1  \n",
              "...                                                 ...         ...  \n",
              "243     str     enable containers in about config   ...           1  \n",
              "870       filed by    rmaries  at  mozilla com   par...           1  \n",
              "102     created attachment   bildschirmfoto       um...           1  \n",
              "377     to reproduce      redirect   to a url of you...           1  \n",
              "100     user agent  mozilla       gecko   firefox   ...           1  \n",
              "\n",
              "[300 rows x 3 columns]"
            ],
            "text/html": [
              "\n",
              "  <div id=\"df-1ef8e99e-e9a7-4af9-af17-8e4ed8d1862d\">\n",
              "    <div class=\"colab-df-container\">\n",
              "      <div>\n",
              "<style scoped>\n",
              "    .dataframe tbody tr th:only-of-type {\n",
              "        vertical-align: middle;\n",
              "    }\n",
              "\n",
              "    .dataframe tbody tr th {\n",
              "        vertical-align: top;\n",
              "    }\n",
              "\n",
              "    .dataframe thead th {\n",
              "        text-align: right;\n",
              "    }\n",
              "</style>\n",
              "<table border=\"1\" class=\"dataframe\">\n",
              "  <thead>\n",
              "    <tr style=\"text-align: right;\">\n",
              "      <th></th>\n",
              "      <th>description1</th>\n",
              "      <th>description2</th>\n",
              "      <th>is_similar</th>\n",
              "    </tr>\n",
              "  </thead>\n",
              "  <tbody>\n",
              "    <tr>\n",
              "      <th>195</th>\n",
              "      <td>filed by  wkocher  at  mozilla com     job i...</td>\n",
              "      <td>job id   repo mozilla central            ...</td>\n",
              "      <td>1</td>\n",
              "    </tr>\n",
              "    <tr>\n",
              "      <th>542</th>\n",
              "      <td>created attachment   hist png  user agent  m...</td>\n",
              "      <td>created attachment   bookmarks scrollbar png...</td>\n",
              "      <td>1</td>\n",
              "    </tr>\n",
              "    <tr>\n",
              "      <th>1040</th>\n",
              "      <td>user agent  mozilla       applewebkit       ...</td>\n",
              "      <td>user agent  mozilla       gecko   firefox   ...</td>\n",
              "      <td>1</td>\n",
              "    </tr>\n",
              "    <tr>\n",
              "      <th>848</th>\n",
              "      <td>i don t have a lot to go on here  sorry    t...</td>\n",
              "      <td>we decided to temporarily back out the new t...</td>\n",
              "      <td>1</td>\n",
              "    </tr>\n",
              "    <tr>\n",
              "      <th>1271</th>\n",
              "      <td>markdown   filed by  ncsoregi  at  mozilla...</td>\n",
              "      <td>filed by  archaeopteryx  at  coole files de ...</td>\n",
              "      <td>1</td>\n",
              "    </tr>\n",
              "    <tr>\n",
              "      <th>...</th>\n",
              "      <td>...</td>\n",
              "      <td>...</td>\n",
              "      <td>...</td>\n",
              "    </tr>\n",
              "    <tr>\n",
              "      <th>243</th>\n",
              "      <td>filed by  cbook  at  mozilla com     job id ...</td>\n",
              "      <td>str     enable containers in about config   ...</td>\n",
              "      <td>1</td>\n",
              "    </tr>\n",
              "    <tr>\n",
              "      <th>870</th>\n",
              "      <td>filed by    ncsoregi  at  mozilla com   pa...</td>\n",
              "      <td>filed by    rmaries  at  mozilla com   par...</td>\n",
              "      <td>1</td>\n",
              "    </tr>\n",
              "    <tr>\n",
              "      <th>102</th>\n",
              "      <td>created attachment   site information misali...</td>\n",
              "      <td>created attachment   bildschirmfoto       um...</td>\n",
              "      <td>1</td>\n",
              "    </tr>\n",
              "    <tr>\n",
              "      <th>377</th>\n",
              "      <td>created attachment   firefox detect portal m...</td>\n",
              "      <td>to reproduce      redirect   to a url of you...</td>\n",
              "      <td>1</td>\n",
              "    </tr>\n",
              "    <tr>\n",
              "      <th>100</th>\n",
              "      <td>after upgrading to firefox      my custom in...</td>\n",
              "      <td>user agent  mozilla       gecko   firefox   ...</td>\n",
              "      <td>1</td>\n",
              "    </tr>\n",
              "  </tbody>\n",
              "</table>\n",
              "<p>300 rows × 3 columns</p>\n",
              "</div>\n",
              "      <button class=\"colab-df-convert\" onclick=\"convertToInteractive('df-1ef8e99e-e9a7-4af9-af17-8e4ed8d1862d')\"\n",
              "              title=\"Convert this dataframe to an interactive table.\"\n",
              "              style=\"display:none;\">\n",
              "        \n",
              "  <svg xmlns=\"http://www.w3.org/2000/svg\" height=\"24px\"viewBox=\"0 0 24 24\"\n",
              "       width=\"24px\">\n",
              "    <path d=\"M0 0h24v24H0V0z\" fill=\"none\"/>\n",
              "    <path d=\"M18.56 5.44l.94 2.06.94-2.06 2.06-.94-2.06-.94-.94-2.06-.94 2.06-2.06.94zm-11 1L8.5 8.5l.94-2.06 2.06-.94-2.06-.94L8.5 2.5l-.94 2.06-2.06.94zm10 10l.94 2.06.94-2.06 2.06-.94-2.06-.94-.94-2.06-.94 2.06-2.06.94z\"/><path d=\"M17.41 7.96l-1.37-1.37c-.4-.4-.92-.59-1.43-.59-.52 0-1.04.2-1.43.59L10.3 9.45l-7.72 7.72c-.78.78-.78 2.05 0 2.83L4 21.41c.39.39.9.59 1.41.59.51 0 1.02-.2 1.41-.59l7.78-7.78 2.81-2.81c.8-.78.8-2.07 0-2.86zM5.41 20L4 18.59l7.72-7.72 1.47 1.35L5.41 20z\"/>\n",
              "  </svg>\n",
              "      </button>\n",
              "      \n",
              "  <style>\n",
              "    .colab-df-container {\n",
              "      display:flex;\n",
              "      flex-wrap:wrap;\n",
              "      gap: 12px;\n",
              "    }\n",
              "\n",
              "    .colab-df-convert {\n",
              "      background-color: #E8F0FE;\n",
              "      border: none;\n",
              "      border-radius: 50%;\n",
              "      cursor: pointer;\n",
              "      display: none;\n",
              "      fill: #1967D2;\n",
              "      height: 32px;\n",
              "      padding: 0 0 0 0;\n",
              "      width: 32px;\n",
              "    }\n",
              "\n",
              "    .colab-df-convert:hover {\n",
              "      background-color: #E2EBFA;\n",
              "      box-shadow: 0px 1px 2px rgba(60, 64, 67, 0.3), 0px 1px 3px 1px rgba(60, 64, 67, 0.15);\n",
              "      fill: #174EA6;\n",
              "    }\n",
              "\n",
              "    [theme=dark] .colab-df-convert {\n",
              "      background-color: #3B4455;\n",
              "      fill: #D2E3FC;\n",
              "    }\n",
              "\n",
              "    [theme=dark] .colab-df-convert:hover {\n",
              "      background-color: #434B5C;\n",
              "      box-shadow: 0px 1px 3px 1px rgba(0, 0, 0, 0.15);\n",
              "      filter: drop-shadow(0px 1px 2px rgba(0, 0, 0, 0.3));\n",
              "      fill: #FFFFFF;\n",
              "    }\n",
              "  </style>\n",
              "\n",
              "      <script>\n",
              "        const buttonEl =\n",
              "          document.querySelector('#df-1ef8e99e-e9a7-4af9-af17-8e4ed8d1862d button.colab-df-convert');\n",
              "        buttonEl.style.display =\n",
              "          google.colab.kernel.accessAllowed ? 'block' : 'none';\n",
              "\n",
              "        async function convertToInteractive(key) {\n",
              "          const element = document.querySelector('#df-1ef8e99e-e9a7-4af9-af17-8e4ed8d1862d');\n",
              "          const dataTable =\n",
              "            await google.colab.kernel.invokeFunction('convertToInteractive',\n",
              "                                                     [key], {});\n",
              "          if (!dataTable) return;\n",
              "\n",
              "          const docLinkHtml = 'Like what you see? Visit the ' +\n",
              "            '<a target=\"_blank\" href=https://colab.research.google.com/notebooks/data_table.ipynb>data table notebook</a>'\n",
              "            + ' to learn more about interactive tables.';\n",
              "          element.innerHTML = '';\n",
              "          dataTable['output_type'] = 'display_data';\n",
              "          await google.colab.output.renderOutput(dataTable, element);\n",
              "          const docLink = document.createElement('div');\n",
              "          docLink.innerHTML = docLinkHtml;\n",
              "          element.appendChild(docLink);\n",
              "        }\n",
              "      </script>\n",
              "    </div>\n",
              "  </div>\n",
              "  "
            ]
          },
          "metadata": {},
          "execution_count": 71
        }
      ]
    },
    {
      "cell_type": "code",
      "source": [
        "descr_vectorizer, descr_word_index = build_vocab(\n",
        "  [df_dissim.description1, df_dissim.description2],\n",
        "  MAX_DESCRIPTION_LENGTH,\n",
        ")\n",
        "\n",
        "print(\n",
        "  'Most frequent description words:',\n",
        "  list(itertools.islice(descr_word_index.keys(), 5)),\n",
        ")"
      ],
      "metadata": {
        "colab": {
          "base_uri": "https://localhost:8080/"
        },
        "id": "p_aOFNCSbFTw",
        "outputId": "0e010e91-0c6c-4117-8d33-92fa52dc1477"
      },
      "execution_count": 72,
      "outputs": [
        {
          "output_type": "stream",
          "name": "stdout",
          "text": [
            "Most frequent description words: ['', '[UNK]', 'info', 'task', 'the']\n"
          ]
        }
      ]
    },
    {
      "cell_type": "code",
      "source": [
        "def create_embedding_matrix(\n",
        "  embeddings_index: Dict[str, np.ndarray],\n",
        "  word_index: Dict[str, int],\n",
        "  verbose=False,\n",
        "):\n",
        "  hits = 0\n",
        "  misses = 0\n",
        "\n",
        "  # prepare embedding matrix\n",
        "  embedding_matrix = np.zeros((descr_vectorizer.vocabulary_size(), EMBEDDING_DIM))\n",
        "  for word, i in word_index.items():\n",
        "    embedding_vector = embeddings_index.get(word)\n",
        "    if embedding_vector is not None:\n",
        "      # Words not found in embedding index will be all-zeros.\n",
        "      # This includes the representation for \"padding\" and \"OOV\"\n",
        "      embedding_matrix[i] = embedding_vector\n",
        "      hits += 1\n",
        "    else:\n",
        "      misses += 1\n",
        "\n",
        "  if verbose:\n",
        "    print('Embedding shape:', embedding_matrix.shape)\n",
        "    print(f'Found {hits} words, missed {misses}.')\n",
        "\n",
        "  return embedding_matrix"
      ],
      "metadata": {
        "id": "VrpcRQPkbE5m"
      },
      "execution_count": 73,
      "outputs": []
    },
    {
      "cell_type": "code",
      "source": [
        "print('Creating description embedding matrix:')\n",
        "descr_embedding_matrix1 = create_embedding_matrix(\n",
        "  embeddings_index, descr_word_index, True,\n",
        ")"
      ],
      "metadata": {
        "colab": {
          "base_uri": "https://localhost:8080/"
        },
        "id": "8k9Wg7D8jbrJ",
        "outputId": "4377e996-c6e6-4539-8493-f3eef20a40ff"
      },
      "execution_count": 74,
      "outputs": [
        {
          "output_type": "stream",
          "name": "stdout",
          "text": [
            "Creating description embedding matrix:\n",
            "Embedding shape: (5616, 100)\n",
            "Found 4128 words, missed 1488.\n"
          ]
        }
      ]
    },
    {
      "cell_type": "code",
      "source": [
        "descr_embedding_matrix1"
      ],
      "metadata": {
        "colab": {
          "base_uri": "https://localhost:8080/"
        },
        "id": "-X5T5Vg2jfvl",
        "outputId": "6638f89d-2a2a-4d3f-ae97-4ef514f60426"
      },
      "execution_count": 75,
      "outputs": [
        {
          "output_type": "execute_result",
          "data": {
            "text/plain": [
              "array([[ 0.        ,  0.        ,  0.        , ...,  0.        ,\n",
              "         0.        ,  0.        ],\n",
              "       [ 0.        ,  0.        ,  0.        , ...,  0.        ,\n",
              "         0.        ,  0.        ],\n",
              "       [-0.81967002, -0.14202   ,  0.64740998, ..., -0.55650997,\n",
              "         0.34254   ,  0.29034999],\n",
              "       ...,\n",
              "       [ 0.        ,  0.        ,  0.        , ...,  0.        ,\n",
              "         0.        ,  0.        ],\n",
              "       [-0.69509   , -1.04789996, -0.042288  , ..., -0.48866001,\n",
              "        -0.21971001, -0.48694   ],\n",
              "       [-0.28870001, -0.27153   , -0.64012998, ...,  0.017956  ,\n",
              "        -0.44297001, -0.14222001]])"
            ]
          },
          "metadata": {},
          "execution_count": 75
        }
      ]
    },
    {
      "cell_type": "code",
      "source": [
        "X1 = descr_embedding_matrix1"
      ],
      "metadata": {
        "id": "UPaJcmEJwPcp"
      },
      "execution_count": 76,
      "outputs": []
    },
    {
      "cell_type": "code",
      "source": [
        "#hopkins(scale(X1),X1.shape[0])"
      ],
      "metadata": {
        "id": "4diPVDtcwPhL"
      },
      "execution_count": 77,
      "outputs": []
    },
    {
      "cell_type": "code",
      "source": [
        "#hopkins(X1, X1.shape[0])\n",
        "import numpy as np\n",
        "from sklearn.neighbors import NearestNeighbors\n",
        "import pandas as pd\n",
        "import matplotlib.pyplot as plt\n",
        "%matplotlib inline\n",
        "from random import sample\n",
        "from numpy.random import uniform"
      ],
      "metadata": {
        "id": "F0D1HUSXwPkA"
      },
      "execution_count": 78,
      "outputs": []
    },
    {
      "cell_type": "code",
      "source": [
        "# function to compute hopkins's statistic for the dataframe X\n",
        "def hopkins_statistic(X1):\n",
        "    \n",
        "     #convert dataframe to a numpy array\n",
        "    sample_size = int(X1.shape[0]*0.05) #0.05 (5%) based on paper by Lawson and Jures\n",
        "    \n",
        "    \n",
        "    #a uniform random sample in the original data space\n",
        "    X1_uniform_random_sample = uniform(X1.min(axis=0), X1.max(axis=0) ,(sample_size , X1.shape[1]))\n",
        "    \n",
        "    \n",
        "    \n",
        "    #a random sample of size sample_size from the original data X\n",
        "    random_indices=sample(range(0, X1.shape[0], 1), sample_size)\n",
        "    X1_sample = X1[random_indices]\n",
        "   \n",
        "    \n",
        "    #initialise unsupervised learner for implementing neighbor searches\n",
        "    neigh = NearestNeighbors(n_neighbors=2)\n",
        "    nbrs=neigh.fit(X1)\n",
        "    \n",
        "    #u_distances = nearest neighbour distances from uniform random sample\n",
        "    u_distances , u_indices = nbrs.kneighbors(X1_uniform_random_sample , n_neighbors=2)\n",
        "    u_distances = u_distances[: , 0] #distance to the first (nearest) neighbour\n",
        "    \n",
        "    #w_distances = nearest neighbour distances from a sample of points from original data X\n",
        "    w_distances , w_indices = nbrs.kneighbors(X1_sample , n_neighbors=2)\n",
        "    #distance to the second nearest neighbour (as the first neighbour will be the point itself, with distance = 0)\n",
        "    w_distances = w_distances[: , 1]\n",
        "    \n",
        " \n",
        "    \n",
        "    u_sum = np.sum(u_distances)\n",
        "    w_sum = np.sum(w_distances)\n",
        "    \n",
        "    #compute and return hopkins' statistic\n",
        "    H = u_sum/ (u_sum + w_sum)\n",
        "    return H"
      ],
      "metadata": {
        "id": "UIzYUYSJxs4a"
      },
      "execution_count": 79,
      "outputs": []
    },
    {
      "cell_type": "code",
      "source": [
        "l1 = [] #list to hold values for each call\n",
        "for i in range(300):\n",
        "    H1=hopkins_statistic(X1)\n",
        "    l1.append(H1)\n",
        "#print average value:\n",
        "print(H1)\n",
        "print(l1)"
      ],
      "metadata": {
        "colab": {
          "base_uri": "https://localhost:8080/"
        },
        "id": "Df_zxvEGCoTo",
        "outputId": "abfaf1cb-224a-49d5-a5d7-a884b35d6476"
      },
      "execution_count": 80,
      "outputs": [
        {
          "output_type": "stream",
          "name": "stdout",
          "text": [
            "0.7895953154371347\n",
            "[0.7870417801106214, 0.7795077199637322, 0.7819604094136614, 0.7857816237222277, 0.7845708102013553, 0.7785594784203187, 0.7842236056377317, 0.7803960533023968, 0.7787726240711441, 0.7893412078003813, 0.790358897057941, 0.7891802839242477, 0.7827530084904231, 0.7833829107576421, 0.7782838013601221, 0.7744241667266828, 0.7824393946258743, 0.7792850802415855, 0.7824226203560707, 0.781448242256253, 0.7792856794763343, 0.787456090191573, 0.7744317218027384, 0.7814828210770647, 0.784100671297956, 0.7863810449139196, 0.7926569217779664, 0.79304445735098, 0.7824881438873296, 0.7758761145749917, 0.7839304395990963, 0.7843724876836402, 0.7781985126030203, 0.7855006967525092, 0.7827971399808431, 0.7914093250168556, 0.7881121939062559, 0.7899187525880729, 0.7835720179408465, 0.7732743564579986, 0.786101273988913, 0.7907420548079888, 0.7888401179732208, 0.7907789180775043, 0.7877583291980459, 0.7941494271150193, 0.7815434084798129, 0.7758590655962654, 0.7747485337434286, 0.7866560781314114, 0.7790274691976359, 0.7897623562714212, 0.782521497870192, 0.7751462982221012, 0.775813889794725, 0.7785952955807925, 0.7850072791362284, 0.7879257004776918, 0.7742605679525648, 0.77972231285192, 0.7706090870586013, 0.7891598123610722, 0.7928318011109248, 0.7849832058961813, 0.7755393898401537, 0.7757359191378811, 0.7882791666149453, 0.7791555939435862, 0.7824826521248643, 0.7869726387311453, 0.7760223950388964, 0.7847119280015573, 0.7781405117557721, 0.7862625269324777, 0.7876912720022287, 0.792413821962687, 0.78745639898819, 0.7828010577796459, 0.790514906557, 0.7784940258772669, 0.7881602169764811, 0.7887098848357512, 0.7794466299403107, 0.7880220996433291, 0.7916771279951751, 0.7817693419585646, 0.7816850283452809, 0.7868709816123103, 0.775814203818762, 0.7856870076078382, 0.7904968610598526, 0.7990225421162875, 0.7922879486953218, 0.7760932439416005, 0.7875700464878196, 0.773741359920109, 0.7908686816107177, 0.7758756031029238, 0.7708607170331903, 0.7776926265300861, 0.7805252559981314, 0.7887336979966358, 0.7816001386552258, 0.795212505536696, 0.7982237177921475, 0.776798821405296, 0.7942496386558806, 0.775181159577089, 0.7775111025298292, 0.7818102447597737, 0.7842251389522187, 0.7851431396838013, 0.7887990734707084, 0.7910405135520949, 0.7839226471076657, 0.7877038167410182, 0.7941104153952503, 0.7899439664444657, 0.7789117184368881, 0.7762316142570196, 0.7851574742736696, 0.7815731576777906, 0.7787724685905797, 0.7818781035293006, 0.7846728178983626, 0.7952491950466786, 0.7828728980239453, 0.7887981183102696, 0.7788647635343688, 0.7817565852219375, 0.7727262884249768, 0.7763773635318838, 0.784662459565818, 0.7805163768372857, 0.7789649412552759, 0.7860344621837806, 0.7755017224801768, 0.783330748689879, 0.793013649908985, 0.7809898037236761, 0.7719214380700462, 0.7830725481620905, 0.7956028549509084, 0.772003921925063, 0.7933335838906946, 0.7763601654325688, 0.784741275603427, 0.7773096618836468, 0.7828349884348285, 0.7824408569617388, 0.7837075696717084, 0.7819080588540258, 0.7925065218540366, 0.7852171046714599, 0.7815368002828174, 0.7847717083694147, 0.7876354759223511, 0.7775139223370212, 0.7733195377930533, 0.7883873971934124, 0.7785082748187669, 0.7750471738606352, 0.7843939338114435, 0.7883430643949985, 0.7720043958525038, 0.785026941944433, 0.7725631227894514, 0.7711518557794794, 0.7756380046070946, 0.7777714507189937, 0.7753129127785635, 0.7882840323132504, 0.7821291631172983, 0.7853701492208585, 0.7863118204522064, 0.7796552625082, 0.7950124315226026, 0.780546911696836, 0.7781652487729982, 0.7844236807403957, 0.7702052210828715, 0.7826293854879719, 0.782297203919609, 0.7793755768273883, 0.7866183575355011, 0.7862232201488631, 0.7922936120646253, 0.7756493977394562, 0.795466331269302, 0.7839452175355963, 0.792684976011781, 0.7904228147386522, 0.7824681347013862, 0.7705063269029753, 0.7860677357023589, 0.7741091291835595, 0.7793737377697473, 0.786983182151502, 0.7752877608540546, 0.7903665228181175, 0.7748117581737741, 0.770790468272325, 0.7863839642404167, 0.769142692270862, 0.7794752273770378, 0.7907438202065453, 0.7845909184177547, 0.7878503950999891, 0.7818013762244087, 0.7826997165742491, 0.7893319638837563, 0.7831406523173334, 0.7830385901570048, 0.7897543751475149, 0.7839291709818181, 0.7723684618387471, 0.7837527075363515, 0.7766788454899468, 0.7872168912810789, 0.7828035528851226, 0.7770416224302231, 0.7865260026968599, 0.7819836885425079, 0.774129081974352, 0.7880976524564846, 0.7827421040347857, 0.7942092835074569, 0.7859878032101445, 0.7845331274451197, 0.7814213011069812, 0.7946499421955429, 0.7683341432920359, 0.7825283402185331, 0.773966004071841, 0.7908065663488353, 0.7841138725070051, 0.7733237853027568, 0.7879114200997923, 0.7849062383743775, 0.7862295132856421, 0.7900218857943646, 0.7792702576555399, 0.767241929543153, 0.7937969407312869, 0.7871944961322429, 0.7770410804073479, 0.7780240542875941, 0.78066266231343, 0.7796483015142306, 0.7884802223367926, 0.7855463343042999, 0.7781242658396917, 0.783146233299976, 0.799002269121061, 0.7828032500741902, 0.7886364721672734, 0.7805695326345974, 0.7895959516339222, 0.7805121508131675, 0.777533629095758, 0.78975172642757, 0.777413163993185, 0.7840832603195633, 0.786885198894645, 0.777304724719132, 0.7846551857259382, 0.7749621100674531, 0.7911467015518163, 0.7812000435240734, 0.7916493671720136, 0.7829613894380327, 0.7787311717219512, 0.7833917880299263, 0.785194298815686, 0.7750425687828445, 0.7853407217508525, 0.7849524241729704, 0.7907429895516707, 0.7853849059617234, 0.7829123744169906, 0.7749183672514462, 0.7846217633603605, 0.7759870921814574, 0.7799189985177674, 0.7874960421348915, 0.7808215934048877, 0.7872021313072274, 0.7930281294517879, 0.7908474021120021, 0.7859306385145207, 0.7772026429549453, 0.7781857337702699, 0.7912825430644651, 0.7806264564245267, 0.7770053990933671, 0.788750158258444, 0.7743373685439208, 0.7900787765052948, 0.7761395253025812, 0.7895953154371347]\n"
          ]
        }
      ]
    },
    {
      "cell_type": "code",
      "source": [
        "# print in new line\n",
        "print(l1, sep = \"\\n\")"
      ],
      "metadata": {
        "colab": {
          "base_uri": "https://localhost:8080/"
        },
        "id": "8z_RmoOeWwLM",
        "outputId": "1f9c4412-5607-4f75-f2bc-7edf6a417d48"
      },
      "execution_count": 81,
      "outputs": [
        {
          "output_type": "stream",
          "name": "stdout",
          "text": [
            "[0.7870417801106214, 0.7795077199637322, 0.7819604094136614, 0.7857816237222277, 0.7845708102013553, 0.7785594784203187, 0.7842236056377317, 0.7803960533023968, 0.7787726240711441, 0.7893412078003813, 0.790358897057941, 0.7891802839242477, 0.7827530084904231, 0.7833829107576421, 0.7782838013601221, 0.7744241667266828, 0.7824393946258743, 0.7792850802415855, 0.7824226203560707, 0.781448242256253, 0.7792856794763343, 0.787456090191573, 0.7744317218027384, 0.7814828210770647, 0.784100671297956, 0.7863810449139196, 0.7926569217779664, 0.79304445735098, 0.7824881438873296, 0.7758761145749917, 0.7839304395990963, 0.7843724876836402, 0.7781985126030203, 0.7855006967525092, 0.7827971399808431, 0.7914093250168556, 0.7881121939062559, 0.7899187525880729, 0.7835720179408465, 0.7732743564579986, 0.786101273988913, 0.7907420548079888, 0.7888401179732208, 0.7907789180775043, 0.7877583291980459, 0.7941494271150193, 0.7815434084798129, 0.7758590655962654, 0.7747485337434286, 0.7866560781314114, 0.7790274691976359, 0.7897623562714212, 0.782521497870192, 0.7751462982221012, 0.775813889794725, 0.7785952955807925, 0.7850072791362284, 0.7879257004776918, 0.7742605679525648, 0.77972231285192, 0.7706090870586013, 0.7891598123610722, 0.7928318011109248, 0.7849832058961813, 0.7755393898401537, 0.7757359191378811, 0.7882791666149453, 0.7791555939435862, 0.7824826521248643, 0.7869726387311453, 0.7760223950388964, 0.7847119280015573, 0.7781405117557721, 0.7862625269324777, 0.7876912720022287, 0.792413821962687, 0.78745639898819, 0.7828010577796459, 0.790514906557, 0.7784940258772669, 0.7881602169764811, 0.7887098848357512, 0.7794466299403107, 0.7880220996433291, 0.7916771279951751, 0.7817693419585646, 0.7816850283452809, 0.7868709816123103, 0.775814203818762, 0.7856870076078382, 0.7904968610598526, 0.7990225421162875, 0.7922879486953218, 0.7760932439416005, 0.7875700464878196, 0.773741359920109, 0.7908686816107177, 0.7758756031029238, 0.7708607170331903, 0.7776926265300861, 0.7805252559981314, 0.7887336979966358, 0.7816001386552258, 0.795212505536696, 0.7982237177921475, 0.776798821405296, 0.7942496386558806, 0.775181159577089, 0.7775111025298292, 0.7818102447597737, 0.7842251389522187, 0.7851431396838013, 0.7887990734707084, 0.7910405135520949, 0.7839226471076657, 0.7877038167410182, 0.7941104153952503, 0.7899439664444657, 0.7789117184368881, 0.7762316142570196, 0.7851574742736696, 0.7815731576777906, 0.7787724685905797, 0.7818781035293006, 0.7846728178983626, 0.7952491950466786, 0.7828728980239453, 0.7887981183102696, 0.7788647635343688, 0.7817565852219375, 0.7727262884249768, 0.7763773635318838, 0.784662459565818, 0.7805163768372857, 0.7789649412552759, 0.7860344621837806, 0.7755017224801768, 0.783330748689879, 0.793013649908985, 0.7809898037236761, 0.7719214380700462, 0.7830725481620905, 0.7956028549509084, 0.772003921925063, 0.7933335838906946, 0.7763601654325688, 0.784741275603427, 0.7773096618836468, 0.7828349884348285, 0.7824408569617388, 0.7837075696717084, 0.7819080588540258, 0.7925065218540366, 0.7852171046714599, 0.7815368002828174, 0.7847717083694147, 0.7876354759223511, 0.7775139223370212, 0.7733195377930533, 0.7883873971934124, 0.7785082748187669, 0.7750471738606352, 0.7843939338114435, 0.7883430643949985, 0.7720043958525038, 0.785026941944433, 0.7725631227894514, 0.7711518557794794, 0.7756380046070946, 0.7777714507189937, 0.7753129127785635, 0.7882840323132504, 0.7821291631172983, 0.7853701492208585, 0.7863118204522064, 0.7796552625082, 0.7950124315226026, 0.780546911696836, 0.7781652487729982, 0.7844236807403957, 0.7702052210828715, 0.7826293854879719, 0.782297203919609, 0.7793755768273883, 0.7866183575355011, 0.7862232201488631, 0.7922936120646253, 0.7756493977394562, 0.795466331269302, 0.7839452175355963, 0.792684976011781, 0.7904228147386522, 0.7824681347013862, 0.7705063269029753, 0.7860677357023589, 0.7741091291835595, 0.7793737377697473, 0.786983182151502, 0.7752877608540546, 0.7903665228181175, 0.7748117581737741, 0.770790468272325, 0.7863839642404167, 0.769142692270862, 0.7794752273770378, 0.7907438202065453, 0.7845909184177547, 0.7878503950999891, 0.7818013762244087, 0.7826997165742491, 0.7893319638837563, 0.7831406523173334, 0.7830385901570048, 0.7897543751475149, 0.7839291709818181, 0.7723684618387471, 0.7837527075363515, 0.7766788454899468, 0.7872168912810789, 0.7828035528851226, 0.7770416224302231, 0.7865260026968599, 0.7819836885425079, 0.774129081974352, 0.7880976524564846, 0.7827421040347857, 0.7942092835074569, 0.7859878032101445, 0.7845331274451197, 0.7814213011069812, 0.7946499421955429, 0.7683341432920359, 0.7825283402185331, 0.773966004071841, 0.7908065663488353, 0.7841138725070051, 0.7733237853027568, 0.7879114200997923, 0.7849062383743775, 0.7862295132856421, 0.7900218857943646, 0.7792702576555399, 0.767241929543153, 0.7937969407312869, 0.7871944961322429, 0.7770410804073479, 0.7780240542875941, 0.78066266231343, 0.7796483015142306, 0.7884802223367926, 0.7855463343042999, 0.7781242658396917, 0.783146233299976, 0.799002269121061, 0.7828032500741902, 0.7886364721672734, 0.7805695326345974, 0.7895959516339222, 0.7805121508131675, 0.777533629095758, 0.78975172642757, 0.777413163993185, 0.7840832603195633, 0.786885198894645, 0.777304724719132, 0.7846551857259382, 0.7749621100674531, 0.7911467015518163, 0.7812000435240734, 0.7916493671720136, 0.7829613894380327, 0.7787311717219512, 0.7833917880299263, 0.785194298815686, 0.7750425687828445, 0.7853407217508525, 0.7849524241729704, 0.7907429895516707, 0.7853849059617234, 0.7829123744169906, 0.7749183672514462, 0.7846217633603605, 0.7759870921814574, 0.7799189985177674, 0.7874960421348915, 0.7808215934048877, 0.7872021313072274, 0.7930281294517879, 0.7908474021120021, 0.7859306385145207, 0.7772026429549453, 0.7781857337702699, 0.7912825430644651, 0.7806264564245267, 0.7770053990933671, 0.788750158258444, 0.7743373685439208, 0.7900787765052948, 0.7761395253025812, 0.7895953154371347]\n"
          ]
        }
      ]
    },
    {
      "cell_type": "code",
      "source": [
        "print('\\n'.join(map(str, l1)))"
      ],
      "metadata": {
        "colab": {
          "base_uri": "https://localhost:8080/"
        },
        "id": "dbHDXwC4W_qO",
        "outputId": "de4f96af-5089-4581-b744-cfad478aced3"
      },
      "execution_count": 82,
      "outputs": [
        {
          "output_type": "stream",
          "name": "stdout",
          "text": [
            "0.7870417801106214\n",
            "0.7795077199637322\n",
            "0.7819604094136614\n",
            "0.7857816237222277\n",
            "0.7845708102013553\n",
            "0.7785594784203187\n",
            "0.7842236056377317\n",
            "0.7803960533023968\n",
            "0.7787726240711441\n",
            "0.7893412078003813\n",
            "0.790358897057941\n",
            "0.7891802839242477\n",
            "0.7827530084904231\n",
            "0.7833829107576421\n",
            "0.7782838013601221\n",
            "0.7744241667266828\n",
            "0.7824393946258743\n",
            "0.7792850802415855\n",
            "0.7824226203560707\n",
            "0.781448242256253\n",
            "0.7792856794763343\n",
            "0.787456090191573\n",
            "0.7744317218027384\n",
            "0.7814828210770647\n",
            "0.784100671297956\n",
            "0.7863810449139196\n",
            "0.7926569217779664\n",
            "0.79304445735098\n",
            "0.7824881438873296\n",
            "0.7758761145749917\n",
            "0.7839304395990963\n",
            "0.7843724876836402\n",
            "0.7781985126030203\n",
            "0.7855006967525092\n",
            "0.7827971399808431\n",
            "0.7914093250168556\n",
            "0.7881121939062559\n",
            "0.7899187525880729\n",
            "0.7835720179408465\n",
            "0.7732743564579986\n",
            "0.786101273988913\n",
            "0.7907420548079888\n",
            "0.7888401179732208\n",
            "0.7907789180775043\n",
            "0.7877583291980459\n",
            "0.7941494271150193\n",
            "0.7815434084798129\n",
            "0.7758590655962654\n",
            "0.7747485337434286\n",
            "0.7866560781314114\n",
            "0.7790274691976359\n",
            "0.7897623562714212\n",
            "0.782521497870192\n",
            "0.7751462982221012\n",
            "0.775813889794725\n",
            "0.7785952955807925\n",
            "0.7850072791362284\n",
            "0.7879257004776918\n",
            "0.7742605679525648\n",
            "0.77972231285192\n",
            "0.7706090870586013\n",
            "0.7891598123610722\n",
            "0.7928318011109248\n",
            "0.7849832058961813\n",
            "0.7755393898401537\n",
            "0.7757359191378811\n",
            "0.7882791666149453\n",
            "0.7791555939435862\n",
            "0.7824826521248643\n",
            "0.7869726387311453\n",
            "0.7760223950388964\n",
            "0.7847119280015573\n",
            "0.7781405117557721\n",
            "0.7862625269324777\n",
            "0.7876912720022287\n",
            "0.792413821962687\n",
            "0.78745639898819\n",
            "0.7828010577796459\n",
            "0.790514906557\n",
            "0.7784940258772669\n",
            "0.7881602169764811\n",
            "0.7887098848357512\n",
            "0.7794466299403107\n",
            "0.7880220996433291\n",
            "0.7916771279951751\n",
            "0.7817693419585646\n",
            "0.7816850283452809\n",
            "0.7868709816123103\n",
            "0.775814203818762\n",
            "0.7856870076078382\n",
            "0.7904968610598526\n",
            "0.7990225421162875\n",
            "0.7922879486953218\n",
            "0.7760932439416005\n",
            "0.7875700464878196\n",
            "0.773741359920109\n",
            "0.7908686816107177\n",
            "0.7758756031029238\n",
            "0.7708607170331903\n",
            "0.7776926265300861\n",
            "0.7805252559981314\n",
            "0.7887336979966358\n",
            "0.7816001386552258\n",
            "0.795212505536696\n",
            "0.7982237177921475\n",
            "0.776798821405296\n",
            "0.7942496386558806\n",
            "0.775181159577089\n",
            "0.7775111025298292\n",
            "0.7818102447597737\n",
            "0.7842251389522187\n",
            "0.7851431396838013\n",
            "0.7887990734707084\n",
            "0.7910405135520949\n",
            "0.7839226471076657\n",
            "0.7877038167410182\n",
            "0.7941104153952503\n",
            "0.7899439664444657\n",
            "0.7789117184368881\n",
            "0.7762316142570196\n",
            "0.7851574742736696\n",
            "0.7815731576777906\n",
            "0.7787724685905797\n",
            "0.7818781035293006\n",
            "0.7846728178983626\n",
            "0.7952491950466786\n",
            "0.7828728980239453\n",
            "0.7887981183102696\n",
            "0.7788647635343688\n",
            "0.7817565852219375\n",
            "0.7727262884249768\n",
            "0.7763773635318838\n",
            "0.784662459565818\n",
            "0.7805163768372857\n",
            "0.7789649412552759\n",
            "0.7860344621837806\n",
            "0.7755017224801768\n",
            "0.783330748689879\n",
            "0.793013649908985\n",
            "0.7809898037236761\n",
            "0.7719214380700462\n",
            "0.7830725481620905\n",
            "0.7956028549509084\n",
            "0.772003921925063\n",
            "0.7933335838906946\n",
            "0.7763601654325688\n",
            "0.784741275603427\n",
            "0.7773096618836468\n",
            "0.7828349884348285\n",
            "0.7824408569617388\n",
            "0.7837075696717084\n",
            "0.7819080588540258\n",
            "0.7925065218540366\n",
            "0.7852171046714599\n",
            "0.7815368002828174\n",
            "0.7847717083694147\n",
            "0.7876354759223511\n",
            "0.7775139223370212\n",
            "0.7733195377930533\n",
            "0.7883873971934124\n",
            "0.7785082748187669\n",
            "0.7750471738606352\n",
            "0.7843939338114435\n",
            "0.7883430643949985\n",
            "0.7720043958525038\n",
            "0.785026941944433\n",
            "0.7725631227894514\n",
            "0.7711518557794794\n",
            "0.7756380046070946\n",
            "0.7777714507189937\n",
            "0.7753129127785635\n",
            "0.7882840323132504\n",
            "0.7821291631172983\n",
            "0.7853701492208585\n",
            "0.7863118204522064\n",
            "0.7796552625082\n",
            "0.7950124315226026\n",
            "0.780546911696836\n",
            "0.7781652487729982\n",
            "0.7844236807403957\n",
            "0.7702052210828715\n",
            "0.7826293854879719\n",
            "0.782297203919609\n",
            "0.7793755768273883\n",
            "0.7866183575355011\n",
            "0.7862232201488631\n",
            "0.7922936120646253\n",
            "0.7756493977394562\n",
            "0.795466331269302\n",
            "0.7839452175355963\n",
            "0.792684976011781\n",
            "0.7904228147386522\n",
            "0.7824681347013862\n",
            "0.7705063269029753\n",
            "0.7860677357023589\n",
            "0.7741091291835595\n",
            "0.7793737377697473\n",
            "0.786983182151502\n",
            "0.7752877608540546\n",
            "0.7903665228181175\n",
            "0.7748117581737741\n",
            "0.770790468272325\n",
            "0.7863839642404167\n",
            "0.769142692270862\n",
            "0.7794752273770378\n",
            "0.7907438202065453\n",
            "0.7845909184177547\n",
            "0.7878503950999891\n",
            "0.7818013762244087\n",
            "0.7826997165742491\n",
            "0.7893319638837563\n",
            "0.7831406523173334\n",
            "0.7830385901570048\n",
            "0.7897543751475149\n",
            "0.7839291709818181\n",
            "0.7723684618387471\n",
            "0.7837527075363515\n",
            "0.7766788454899468\n",
            "0.7872168912810789\n",
            "0.7828035528851226\n",
            "0.7770416224302231\n",
            "0.7865260026968599\n",
            "0.7819836885425079\n",
            "0.774129081974352\n",
            "0.7880976524564846\n",
            "0.7827421040347857\n",
            "0.7942092835074569\n",
            "0.7859878032101445\n",
            "0.7845331274451197\n",
            "0.7814213011069812\n",
            "0.7946499421955429\n",
            "0.7683341432920359\n",
            "0.7825283402185331\n",
            "0.773966004071841\n",
            "0.7908065663488353\n",
            "0.7841138725070051\n",
            "0.7733237853027568\n",
            "0.7879114200997923\n",
            "0.7849062383743775\n",
            "0.7862295132856421\n",
            "0.7900218857943646\n",
            "0.7792702576555399\n",
            "0.767241929543153\n",
            "0.7937969407312869\n",
            "0.7871944961322429\n",
            "0.7770410804073479\n",
            "0.7780240542875941\n",
            "0.78066266231343\n",
            "0.7796483015142306\n",
            "0.7884802223367926\n",
            "0.7855463343042999\n",
            "0.7781242658396917\n",
            "0.783146233299976\n",
            "0.799002269121061\n",
            "0.7828032500741902\n",
            "0.7886364721672734\n",
            "0.7805695326345974\n",
            "0.7895959516339222\n",
            "0.7805121508131675\n",
            "0.777533629095758\n",
            "0.78975172642757\n",
            "0.777413163993185\n",
            "0.7840832603195633\n",
            "0.786885198894645\n",
            "0.777304724719132\n",
            "0.7846551857259382\n",
            "0.7749621100674531\n",
            "0.7911467015518163\n",
            "0.7812000435240734\n",
            "0.7916493671720136\n",
            "0.7829613894380327\n",
            "0.7787311717219512\n",
            "0.7833917880299263\n",
            "0.785194298815686\n",
            "0.7750425687828445\n",
            "0.7853407217508525\n",
            "0.7849524241729704\n",
            "0.7907429895516707\n",
            "0.7853849059617234\n",
            "0.7829123744169906\n",
            "0.7749183672514462\n",
            "0.7846217633603605\n",
            "0.7759870921814574\n",
            "0.7799189985177674\n",
            "0.7874960421348915\n",
            "0.7808215934048877\n",
            "0.7872021313072274\n",
            "0.7930281294517879\n",
            "0.7908474021120021\n",
            "0.7859306385145207\n",
            "0.7772026429549453\n",
            "0.7781857337702699\n",
            "0.7912825430644651\n",
            "0.7806264564245267\n",
            "0.7770053990933671\n",
            "0.788750158258444\n",
            "0.7743373685439208\n",
            "0.7900787765052948\n",
            "0.7761395253025812\n",
            "0.7895953154371347\n"
          ]
        }
      ]
    },
    {
      "cell_type": "code",
      "source": [
        "len(l1)"
      ],
      "metadata": {
        "colab": {
          "base_uri": "https://localhost:8080/"
        },
        "id": "vocB5nUeD6WE",
        "outputId": "8a21cb90-4e31-4894-a75e-fb9f023747c0"
      },
      "execution_count": 83,
      "outputs": [
        {
          "output_type": "execute_result",
          "data": {
            "text/plain": [
              "300"
            ]
          },
          "metadata": {},
          "execution_count": 83
        }
      ]
    },
    {
      "cell_type": "code",
      "source": [
        "df_dissim_hopkin = pd.DataFrame(l1)\n",
        "print(df_dissim_hopkin)"
      ],
      "metadata": {
        "colab": {
          "base_uri": "https://localhost:8080/"
        },
        "id": "bDiUBOE2EODu",
        "outputId": "63a06c5a-6ecb-499f-8c37-b80717090cbb"
      },
      "execution_count": 84,
      "outputs": [
        {
          "output_type": "stream",
          "name": "stdout",
          "text": [
            "            0\n",
            "0    0.787042\n",
            "1    0.779508\n",
            "2    0.781960\n",
            "3    0.785782\n",
            "4    0.784571\n",
            "..        ...\n",
            "295  0.788750\n",
            "296  0.774337\n",
            "297  0.790079\n",
            "298  0.776140\n",
            "299  0.789595\n",
            "\n",
            "[300 rows x 1 columns]\n"
          ]
        }
      ]
    },
    {
      "cell_type": "code",
      "source": [
        "df_dissim_hopkin.shape"
      ],
      "metadata": {
        "colab": {
          "base_uri": "https://localhost:8080/"
        },
        "id": "7bOLRT0WIQEf",
        "outputId": "58701f3d-8908-487e-b735-a977ef384652"
      },
      "execution_count": 85,
      "outputs": [
        {
          "output_type": "execute_result",
          "data": {
            "text/plain": [
              "(300, 1)"
            ]
          },
          "metadata": {},
          "execution_count": 85
        }
      ]
    },
    {
      "cell_type": "code",
      "source": [
        "#the null hypothesis (no meaningfull cluster) happens when the hopkins test is around 0.5 and the hopkins test tends to 0 when meaningful cluster exists in the space. Usually, we can believe in the existence of clusters when the hopkins score is bellow 0.25.\n",
        "\n",
        "#Here the value of the hopkins test is quite high but one could think there is cluster in our subspace. BUT the hopkins test is highly influenced by outliers, let's try once again with normalised data."
      ],
      "metadata": {
        "id": "a72drNT8wPmx"
      },
      "execution_count": 86,
      "outputs": []
    },
    {
      "cell_type": "code",
      "source": [
        "import seaborn as sns"
      ],
      "metadata": {
        "id": "X6CNALh4v1xh"
      },
      "execution_count": 87,
      "outputs": []
    },
    {
      "cell_type": "code",
      "source": [
        "# # Picking the top 100 points as TSNE takes a lot of time for 15K points\n",
        "# from sklearn.decomposition import PCA\n",
        "# data_100 = descr_embedding_matrix1\n",
        "# labels_100 = df_dissim.is_similar\n",
        "\n",
        "# # model = PCA(n_components=2)\n",
        "# # # configuring the parameteres\n",
        "\n",
        "# PCA_data = model.transform(data_100)"
      ],
      "metadata": {
        "id": "peDXpb-juTL8"
      },
      "execution_count": 88,
      "outputs": []
    },
    {
      "cell_type": "code",
      "source": [
        "# PCA_data.shape"
      ],
      "metadata": {
        "id": "5ttfmh6gZ1xu"
      },
      "execution_count": 89,
      "outputs": []
    },
    {
      "cell_type": "code",
      "source": [
        "# # Ploting the result of tsne\n",
        "# import seaborn as sns\n",
        "# import matplotlib.pyplot as plt\n",
        "# plt.scatter(PCA_data[:, 0], PCA_data[:, 1])\n",
        "# plt.savefig('output_similar.jpg')\n",
        "# plt.show()\n"
      ],
      "metadata": {
        "id": "v5LzqqF3j8TQ"
      },
      "execution_count": 90,
      "outputs": []
    },
    {
      "cell_type": "code",
      "source": [
        ""
      ],
      "metadata": {
        "id": "8FtA2G_0TzHb"
      },
      "execution_count": 90,
      "outputs": []
    },
    {
      "cell_type": "markdown",
      "source": [
        "## Box plot using hopkin test value for each pair"
      ],
      "metadata": {
        "id": "Rt-X7M5RH2Iv"
      }
    },
    {
      "cell_type": "code",
      "source": [
        "\n",
        "# Import libraries\n",
        "import matplotlib.pyplot as plt\n",
        "import numpy as np\n",
        " \n",
        " \n",
        "# Creating dataset\n",
        "np.random.seed(10)\n",
        " \n",
        "data_1 = l\n",
        "data_2 = l1\n",
        "\n",
        "data = [data_1, data_2]\n",
        " \n",
        "fig = plt.figure(figsize =(10, 7))\n",
        " \n",
        "# Creating axes instance\n",
        "ax = fig.add_axes([0, 0, 1, 1])\n",
        " \n",
        "# Creating plot\n",
        "bp = ax.boxplot(data)\n",
        " \n",
        "# show plot\n",
        "plt.show()"
      ],
      "metadata": {
        "colab": {
          "base_uri": "https://localhost:8080/",
          "height": 552
        },
        "id": "JbjkEwqgH6om",
        "outputId": "511efab4-1f2f-4843-f73b-4f187a14f258"
      },
      "execution_count": 91,
      "outputs": [
        {
          "output_type": "display_data",
          "data": {
            "text/plain": [
              "<Figure size 720x504 with 1 Axes>"
            ],
            "image/png": "[encoded data removed]"
          },
          "metadata": {
            "needs_background": "light"
          }
        }
      ]
    },
    {
      "cell_type": "code",
      "source": [
        "\n",
        "# Import libraries\n",
        "import matplotlib.pyplot as plt\n",
        "import numpy as np\n",
        " \n",
        "# Creating dataset\n",
        "np.random.seed(10)\n",
        "data_1 = l1 #tex_sim\n",
        "data_2 = l #tex_dissim\n",
        "\n",
        "data = [data_1, data_2]\n",
        " \n",
        "fig = plt.figure(figsize =(10, 7))\n",
        "ax = fig.add_subplot(111)\n",
        " \n",
        "# Creating axes instance\n",
        "bp = ax.boxplot(data, patch_artist = True,\n",
        "                notch ='True', vert = 0)\n",
        " \n",
        "colors = ['#0000FF', '#00FF00',\n",
        "          '#FFFF00', '#FF00FF']\n",
        " \n",
        "for patch, color in zip(bp['boxes'], colors):\n",
        "    patch.set_facecolor(color)\n",
        " \n",
        "# changing color and linewidth of\n",
        "# whiskers\n",
        "for whisker in bp['whiskers']:\n",
        "    whisker.set(color ='#8B008B',\n",
        "                linewidth = 1.5,\n",
        "                linestyle =\":\")\n",
        " \n",
        "# changing color and linewidth of\n",
        "# caps\n",
        "for cap in bp['caps']:\n",
        "    cap.set(color ='#8B008B',\n",
        "            linewidth = 2)\n",
        " \n",
        "# changing color and linewidth of\n",
        "# medians\n",
        "for median in bp['medians']:\n",
        "    median.set(color ='red',\n",
        "               linewidth = 3)\n",
        " \n",
        "# changing style of fliers\n",
        "for flier in bp['fliers']:\n",
        "    flier.set(marker ='D',\n",
        "              color ='#e7298a',\n",
        "              alpha = 0.5)\n",
        "     \n",
        "# x-axis labels\n",
        "ax.set_yticklabels(['Textually Similar', 'Textually Dissimilar'])\n",
        " \n",
        "# Adding title\n",
        "plt.title(\"Box plot for Hopkin's test for Firefox dataset\")\n",
        " \n",
        "# Removing top axes and right axes\n",
        "# ticks\n",
        "ax.get_xaxis().tick_bottom()\n",
        "ax.get_yaxis().tick_left()\n",
        "     \n",
        "# show plot\n",
        "plt.show()"
      ],
      "metadata": {
        "colab": {
          "base_uri": "https://localhost:8080/",
          "height": 444
        },
        "id": "1N72EEwqIbbG",
        "outputId": "ae51e2a9-f35d-4ffe-ecb8-2c82185c2aee"
      },
      "execution_count": 92,
      "outputs": [
        {
          "output_type": "display_data",
          "data": {
            "text/plain": [
              "<Figure size 720x504 with 1 Axes>"
            ],
            "image/png": "[encoded data removed]"
          },
          "metadata": {
            "needs_background": "light"
          }
        }
      ]
    },
    {
      "cell_type": "code",
      "source": [
        ""
      ],
      "metadata": {
        "id": "GJBQnZKSMglM"
      },
      "execution_count": 92,
      "outputs": []
    }
  ]
}