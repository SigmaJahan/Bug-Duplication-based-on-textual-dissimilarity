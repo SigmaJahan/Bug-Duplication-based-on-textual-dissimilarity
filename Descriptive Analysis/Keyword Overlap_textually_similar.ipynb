{
 "cells": [
  {
   "cell_type": "markdown",
   "id": "fd400fc5-a1a4-4fea-9c48-8b523dfecf44",
   "metadata": {},
   "source": [
    "### 1454267 & 344508 Textually similar data"
   ]
  },
  {
   "cell_type": "code",
   "execution_count": 97,
   "id": "3068a5fb-a4c8-480b-b03b-b095db643a87",
   "metadata": {},
   "outputs": [],
   "source": [
    "desc1 = '''Steps to reproduce:\n",
    "\n",
    "Have at least 3 tabs open.\n",
    "Close the middle tab by clicking the close tab button [X].\n",
    "\n",
    "\n",
    "Actual results:\n",
    "\n",
    "The tab to the right of the closed tab is selected as the current tab.\n",
    "\n",
    "\n",
    "Expected results:\n",
    "\n",
    "The tab to the left of the closed tab should be selected as the current tab.\n",
    "\n",
    "More often than not, the tab on the left launched the one on the right so you would want to return to it. This is how it used to work in previous FF versions.\n",
    "\n",
    "At the very least, this behavior should be configurable in about:config.\n",
    "\n",
    "There's an add-on called 'Select After Closing Current' that allows this behavior to be configured, but it is flawed since FF still selects the tab on the right before the add-on switches to the one on the left.\n",
    "\n",
    "'''\n",
    "\n",
    "\n",
    "\n",
    "desc2 = '''When you open a new tab, then close it, Firefox reverts to the tab that was in focus when you open it. However (pay attention now :) ), if you browse other tabs while that opened tab is still open, select the opened tab from a tab OTHER than the tab you opened it from, and close it, Firefox selects the tab to the left, the old behaviour. It isn't clear now but it will be once you read how to reproduce it.\n",
    "\n",
    "Reproducible: Always\n",
    "\n",
    "Steps to Reproduce:\n",
    "1. Open at least 3 tabs. Make sure the 1st tab is selected.\n",
    "2. Now open a 4th. Select that 4th tab.\n",
    "3. Close it. Firefox 2 goes back to the 1st tab. Good.\n",
    "4. Open a 4th tab again from the 1st tab.\n",
    "5. This time, select the 2nd tab, then focus the 4th tab again.\n",
    "6. Close the 4th tab. Firefox focuses the 3rd (?!!) tab.\n",
    "\n",
    "\n",
    "Actual Results:  \n",
    "Obviously its reverted back to its original behaviour, opening the tab to the left.\n",
    "\n",
    "Expected Results:  \n",
    "Firefox 2 should focus on the 2nd tab, since that was the tab last in focus before the 4th tab got closed.'''"
   ]
  },
  {
   "cell_type": "code",
   "execution_count": 98,
   "id": "e3b7d300-056b-4867-bc54-ee01b3edd6ad",
   "metadata": {},
   "outputs": [
    {
     "data": {
      "text/plain": [
       "\"Steps to reproduce:\\n\\nHave at least 3 tabs open.\\nClose the middle tab by clicking the close tab button [X].\\n\\n\\nActual results:\\n\\nThe tab to the right of the closed tab is selected as the current tab.\\n\\n\\nExpected results:\\n\\nThe tab to the left of the closed tab should be selected as the current tab.\\n\\nMore often than not, the tab on the left launched the one on the right so you would want to return to it. This is how it used to work in previous FF versions.\\n\\nAt the very least, this behavior should be configurable in about:config.\\n\\nThere's an add-on called 'Select After Closing Current' that allows this behavior to be configured, but it is flawed since FF still selects the tab on the right before the add-on switches to the one on the left.\\n\\n\""
      ]
     },
     "execution_count": 98,
     "metadata": {},
     "output_type": "execute_result"
    }
   ],
   "source": [
    "desc1"
   ]
  },
  {
   "cell_type": "code",
   "execution_count": 99,
   "id": "937220fd-a116-4630-9248-1c4f5da74f13",
   "metadata": {},
   "outputs": [
    {
     "data": {
      "text/plain": [
       "\"When you open a new tab, then close it, Firefox reverts to the tab that was in focus when you open it. However (pay attention now :) ), if you browse other tabs while that opened tab is still open, select the opened tab from a tab OTHER than the tab you opened it from, and close it, Firefox selects the tab to the left, the old behaviour. It isn't clear now but it will be once you read how to reproduce it.\\n\\nReproducible: Always\\n\\nSteps to Reproduce:\\n1. Open at least 3 tabs. Make sure the 1st tab is selected.\\n2. Now open a 4th. Select that 4th tab.\\n3. Close it. Firefox 2 goes back to the 1st tab. Good.\\n4. Open a 4th tab again from the 1st tab.\\n5. This time, select the 2nd tab, then focus the 4th tab again.\\n6. Close the 4th tab. Firefox focuses the 3rd (?!!) tab.\\n\\n\\nActual Results:  \\nObviously its reverted back to its original behaviour, opening the tab to the left.\\n\\nExpected Results:  \\nFirefox 2 should focus on the 2nd tab, since that was the tab last in focus before the 4th tab got closed.\""
      ]
     },
     "execution_count": 99,
     "metadata": {},
     "output_type": "execute_result"
    }
   ],
   "source": [
    "desc2"
   ]
  },
  {
   "cell_type": "code",
   "execution_count": 100,
   "id": "afc0e638-065c-4f3d-9266-c2cd2ff0671a",
   "metadata": {},
   "outputs": [],
   "source": [
    "import re\n",
    "# as per recommendation from @freylis, compile once only\n",
    "CLEANR = re.compile('<.*?>|&([a-z0-9]+|#[0-9]{1,6}|#x[0-9a-f]{1,6});') \n",
    "\n",
    "def cleanhtml(raw_html):\n",
    "    cleantext = re.sub(CLEANR, '', raw_html)\n",
    "    return cleantext"
   ]
  },
  {
   "cell_type": "code",
   "execution_count": 101,
   "id": "9eb70164-7be4-4339-9419-91bc014f7429",
   "metadata": {},
   "outputs": [],
   "source": [
    "des =  str(desc1)\n",
    "des = des.replace(\"\\n\",\" \")\n",
    "desc1 = cleanhtml(des) "
   ]
  },
  {
   "cell_type": "code",
   "execution_count": 102,
   "id": "7432b1eb-b101-47b9-96d9-0ea8ead7f76f",
   "metadata": {},
   "outputs": [],
   "source": [
    "des2 =  str(desc2)\n",
    "des2 = des2.replace(\"\\n\",\" \")\n",
    "desc2 = cleanhtml(des2) "
   ]
  },
  {
   "cell_type": "code",
   "execution_count": 103,
   "id": "c5691ab5-2a73-4b2f-8488-2bc46c0ce520",
   "metadata": {},
   "outputs": [
    {
     "data": {
      "text/plain": [
       "\"Steps to reproduce:  Have at least 3 tabs open. Close the middle tab by clicking the close tab button [X].   Actual results:  The tab to the right of the closed tab is selected as the current tab.   Expected results:  The tab to the left of the closed tab should be selected as the current tab.  More often than not, the tab on the left launched the one on the right so you would want to return to it. This is how it used to work in previous FF versions.  At the very least, this behavior should be configurable in about:config.  There's an add-on called 'Select After Closing Current' that allows this behavior to be configured, but it is flawed since FF still selects the tab on the right before the add-on switches to the one on the left.  \""
      ]
     },
     "execution_count": 103,
     "metadata": {},
     "output_type": "execute_result"
    }
   ],
   "source": [
    "desc1"
   ]
  },
  {
   "cell_type": "code",
   "execution_count": 104,
   "id": "e1729b81-6969-48b2-9ec7-0bff89d0ba01",
   "metadata": {},
   "outputs": [
    {
     "data": {
      "text/plain": [
       "\"When you open a new tab, then close it, Firefox reverts to the tab that was in focus when you open it. However (pay attention now :) ), if you browse other tabs while that opened tab is still open, select the opened tab from a tab OTHER than the tab you opened it from, and close it, Firefox selects the tab to the left, the old behaviour. It isn't clear now but it will be once you read how to reproduce it.  Reproducible: Always  Steps to Reproduce: 1. Open at least 3 tabs. Make sure the 1st tab is selected. 2. Now open a 4th. Select that 4th tab. 3. Close it. Firefox 2 goes back to the 1st tab. Good. 4. Open a 4th tab again from the 1st tab. 5. This time, select the 2nd tab, then focus the 4th tab again. 6. Close the 4th tab. Firefox focuses the 3rd (?!!) tab.   Actual Results:   Obviously its reverted back to its original behaviour, opening the tab to the left.  Expected Results:   Firefox 2 should focus on the 2nd tab, since that was the tab last in focus before the 4th tab got closed.\""
      ]
     },
     "execution_count": 104,
     "metadata": {},
     "output_type": "execute_result"
    }
   ],
   "source": [
    "desc2"
   ]
  },
  {
   "cell_type": "code",
   "execution_count": 105,
   "id": "37d9fc4a-6491-423c-87e9-5a51d12e2606",
   "metadata": {},
   "outputs": [],
   "source": [
    "#Text Cleaning round 1 (removing punctutions)\n",
    "import re\n",
    "import string\n",
    "\n",
    "def clean_text_round1(text):\n",
    "    '''Make text lowercase, remove text in square brackets, remove punctuation and remove words containing numbers.'''\n",
    "#     print(text)\n",
    "    text = re.sub('\\w*\\d\\w*', ' ', text)\n",
    "    text = re.sub('\\w*\\f\\w*', ' ', text)\n",
    "    text = re.sub('\\(.*?\\)', ' ', text)\n",
    "    text = re.sub('\\[.*]\\)', ' ', text)\n",
    "    text = re.sub(r'https?://[A-Za-z0-9./]+',' ',text)\n",
    "    text = text.lower()\n",
    "    text = re.sub('[%s]' % re.escape(string.punctuation), ' ', text)\n",
    "    return text"
   ]
  },
  {
   "cell_type": "code",
   "execution_count": 106,
   "id": "37b031f0-fa68-40d2-ac35-2947de3e59f8",
   "metadata": {},
   "outputs": [],
   "source": [
    "desc1 = clean_text_round1(desc1)\n",
    "desc2 = clean_text_round1(desc2)"
   ]
  },
  {
   "cell_type": "code",
   "execution_count": 107,
   "id": "cd3f8df9-b6d6-4c80-9409-db5ec1621979",
   "metadata": {},
   "outputs": [
    {
     "name": "stdout",
     "output_type": "stream",
     "text": [
      "desc1:\n",
      " steps to reproduce   have at least   tabs open  close the middle tab by clicking the close tab button  x     actual results   the tab to the right of the closed tab is selected as the current tab    expected results   the tab to the left of the closed tab should be selected as the current tab   more often than not  the tab on the left launched the one on the right so you would want to return to it  this is how it used to work in previous ff versions   at the very least  this behavior should be configurable in about config   there s an add on called  select after closing current  that allows this behavior to be configured  but it is flawed since ff still selects the tab on the right before the add on switches to the one on the left   \n",
      "desc2:\n",
      " when you open a new tab  then close it  firefox reverts to the tab that was in focus when you open it  however      if you browse other tabs while that opened tab is still open  select the opened tab from a tab other than the tab you opened it from  and close it  firefox selects the tab to the left  the old behaviour  it isn t clear now but it will be once you read how to reproduce it   reproducible  always  steps to reproduce     open at least   tabs  make sure the   tab is selected     now open a    select that   tab     close it  firefox   goes back to the   tab  good     open a   tab again from the   tab     this time  select the   tab  then focus the   tab again     close the   tab  firefox focuses the     tab    actual results    obviously its reverted back to its original behaviour  opening the tab to the left   expected results    firefox   should focus on the   tab  since that was the tab last in focus before the   tab got closed \n"
     ]
    }
   ],
   "source": [
    "print(\"desc1:\\n\",desc1)\n",
    "print(\"desc2:\\n\",desc2)"
   ]
  },
  {
   "cell_type": "code",
   "execution_count": 108,
   "id": "523bbe65-e601-4a83-8001-c1431a442603",
   "metadata": {},
   "outputs": [],
   "source": [
    "# Apply a second round of cleaning (removing punctuations)\n",
    "def clean_text_round2(text):\n",
    "    '''Get rid of some additional punctuation and non-sensical text that was missed the first time around.'''\n",
    "    text = re.sub('[‘’“”…]', ' ', text)\n",
    "    text = re.sub('\\n', ' ', text)\n",
    "    text = re.sub('\\t', ' ', text)\n",
    "    return text"
   ]
  },
  {
   "cell_type": "code",
   "execution_count": 109,
   "id": "b661cdfd-e17b-4c64-8664-7ab5c411f36f",
   "metadata": {},
   "outputs": [],
   "source": [
    "desc1 = clean_text_round2(desc1)\n",
    "desc2 = clean_text_round2(desc2)"
   ]
  },
  {
   "cell_type": "code",
   "execution_count": 110,
   "id": "b8fbb654-10b5-4933-80c6-acf2dba542f1",
   "metadata": {},
   "outputs": [
    {
     "name": "stdout",
     "output_type": "stream",
     "text": [
      "desc1:\n",
      " steps to reproduce   have at least   tabs open  close the middle tab by clicking the close tab button  x     actual results   the tab to the right of the closed tab is selected as the current tab    expected results   the tab to the left of the closed tab should be selected as the current tab   more often than not  the tab on the left launched the one on the right so you would want to return to it  this is how it used to work in previous ff versions   at the very least  this behavior should be configurable in about config   there s an add on called  select after closing current  that allows this behavior to be configured  but it is flawed since ff still selects the tab on the right before the add on switches to the one on the left   \n",
      "desc2:\n",
      " when you open a new tab  then close it  firefox reverts to the tab that was in focus when you open it  however      if you browse other tabs while that opened tab is still open  select the opened tab from a tab other than the tab you opened it from  and close it  firefox selects the tab to the left  the old behaviour  it isn t clear now but it will be once you read how to reproduce it   reproducible  always  steps to reproduce     open at least   tabs  make sure the   tab is selected     now open a    select that   tab     close it  firefox   goes back to the   tab  good     open a   tab again from the   tab     this time  select the   tab  then focus the   tab again     close the   tab  firefox focuses the     tab    actual results    obviously its reverted back to its original behaviour  opening the tab to the left   expected results    firefox   should focus on the   tab  since that was the tab last in focus before the   tab got closed \n"
     ]
    }
   ],
   "source": [
    "print(\"desc1:\\n\",desc1)\n",
    "print(\"desc2:\\n\",desc2)"
   ]
  },
  {
   "cell_type": "code",
   "execution_count": 111,
   "id": "85e1b3e2-a976-4102-a1fa-95d9ac7a6204",
   "metadata": {},
   "outputs": [],
   "source": [
    "import nltk"
   ]
  },
  {
   "cell_type": "code",
   "execution_count": 112,
   "id": "25097c74-1163-463b-83c5-60b78006d2ae",
   "metadata": {},
   "outputs": [],
   "source": [
    "sent_text1 = nltk.sent_tokenize(desc1)"
   ]
  },
  {
   "cell_type": "code",
   "execution_count": 113,
   "id": "558a45fb-87f4-4a76-99c8-56b3622c7697",
   "metadata": {},
   "outputs": [
    {
     "name": "stdout",
     "output_type": "stream",
     "text": [
      "['steps', 'to', 'reproduce', 'have', 'at', 'least', 'tabs', 'open', 'close', 'the', 'middle', 'tab', 'by', 'clicking', 'the', 'close', 'tab', 'button', 'x', 'actual', 'results', 'the', 'tab', 'to', 'the', 'right', 'of', 'the', 'closed', 'tab', 'is', 'selected', 'as', 'the', 'current', 'tab', 'expected', 'results', 'the', 'tab', 'to', 'the', 'left', 'of', 'the', 'closed', 'tab', 'should', 'be', 'selected', 'as', 'the', 'current', 'tab', 'more', 'often', 'than', 'not', 'the', 'tab', 'on', 'the', 'left', 'launched', 'the', 'one', 'on', 'the', 'right', 'so', 'you', 'would', 'want', 'to', 'return', 'to', 'it', 'this', 'is', 'how', 'it', 'used', 'to', 'work', 'in', 'previous', 'ff', 'versions', 'at', 'the', 'very', 'least', 'this', 'behavior', 'should', 'be', 'configurable', 'in', 'about', 'config', 'there', 's', 'an', 'add', 'on', 'called', 'select', 'after', 'closing', 'current', 'that', 'allows', 'this', 'behavior', 'to', 'be', 'configured', 'but', 'it', 'is', 'flawed', 'since', 'ff', 'still', 'selects', 'the', 'tab', 'on', 'the', 'right', 'before', 'the', 'add', 'on', 'switches', 'to', 'the', 'one', 'on', 'the', 'left']\n"
     ]
    }
   ],
   "source": [
    "for sentence in sent_text1:\n",
    "    tokenized_text1 = nltk.word_tokenize(sentence)\n",
    "    print(tokenized_text1)"
   ]
  },
  {
   "cell_type": "code",
   "execution_count": 114,
   "id": "27de219d-dd30-44f3-a5a1-68fd3428b436",
   "metadata": {},
   "outputs": [],
   "source": [
    "sent_text2 = nltk.sent_tokenize(desc2)"
   ]
  },
  {
   "cell_type": "code",
   "execution_count": 115,
   "id": "8f76fcb2-bfd1-4e3c-95a1-a20dcab45a1a",
   "metadata": {},
   "outputs": [
    {
     "name": "stdout",
     "output_type": "stream",
     "text": [
      "['when', 'you', 'open', 'a', 'new', 'tab', 'then', 'close', 'it', 'firefox', 'reverts', 'to', 'the', 'tab', 'that', 'was', 'in', 'focus', 'when', 'you', 'open', 'it', 'however', 'if', 'you', 'browse', 'other', 'tabs', 'while', 'that', 'opened', 'tab', 'is', 'still', 'open', 'select', 'the', 'opened', 'tab', 'from', 'a', 'tab', 'other', 'than', 'the', 'tab', 'you', 'opened', 'it', 'from', 'and', 'close', 'it', 'firefox', 'selects', 'the', 'tab', 'to', 'the', 'left', 'the', 'old', 'behaviour', 'it', 'isn', 't', 'clear', 'now', 'but', 'it', 'will', 'be', 'once', 'you', 'read', 'how', 'to', 'reproduce', 'it', 'reproducible', 'always', 'steps', 'to', 'reproduce', 'open', 'at', 'least', 'tabs', 'make', 'sure', 'the', 'tab', 'is', 'selected', 'now', 'open', 'a', 'select', 'that', 'tab', 'close', 'it', 'firefox', 'goes', 'back', 'to', 'the', 'tab', 'good', 'open', 'a', 'tab', 'again', 'from', 'the', 'tab', 'this', 'time', 'select', 'the', 'tab', 'then', 'focus', 'the', 'tab', 'again', 'close', 'the', 'tab', 'firefox', 'focuses', 'the', 'tab', 'actual', 'results', 'obviously', 'its', 'reverted', 'back', 'to', 'its', 'original', 'behaviour', 'opening', 'the', 'tab', 'to', 'the', 'left', 'expected', 'results', 'firefox', 'should', 'focus', 'on', 'the', 'tab', 'since', 'that', 'was', 'the', 'tab', 'last', 'in', 'focus', 'before', 'the', 'tab', 'got', 'closed']\n"
     ]
    }
   ],
   "source": [
    "for sentence in sent_text2:\n",
    "    tokenized_text2 = nltk.word_tokenize(sentence)\n",
    "    print(tokenized_text2)"
   ]
  },
  {
   "cell_type": "code",
   "execution_count": 116,
   "id": "f6b8fe20-b80c-4ab2-94d9-441f4fd9b5b7",
   "metadata": {},
   "outputs": [],
   "source": [
    "common_elements = list(set(tokenized_text1).intersection(set(tokenized_text2)))"
   ]
  },
  {
   "cell_type": "code",
   "execution_count": 117,
   "id": "b32da5a2-5b0d-4860-954e-0e532b5177fa",
   "metadata": {},
   "outputs": [
    {
     "data": {
      "text/plain": [
       "33"
      ]
     },
     "execution_count": 117,
     "metadata": {},
     "output_type": "execute_result"
    }
   ],
   "source": [
    "len(common_elements)"
   ]
  },
  {
   "cell_type": "code",
   "execution_count": null,
   "id": "262f9e60-f634-452b-9838-260c29b4b699",
   "metadata": {},
   "outputs": [],
   "source": []
  }
 ],
 "metadata": {
  "kernelspec": {
   "display_name": "Python 3",
   "language": "python",
   "name": "python3"
  },
  "language_info": {
   "codemirror_mode": {
    "name": "ipython",
    "version": 3
   },
   "file_extension": ".py",
   "mimetype": "text/x-python",
   "name": "python",
   "nbconvert_exporter": "python",
   "pygments_lexer": "ipython3",
   "version": "3.7.11"
  }
 },
 "nbformat": 4,
 "nbformat_minor": 5
}
