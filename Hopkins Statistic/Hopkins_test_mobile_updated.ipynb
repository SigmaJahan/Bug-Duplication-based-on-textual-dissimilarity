{
  "nbformat": 4,
  "nbformat_minor": 0,
  "metadata": {
    "colab": {
      "name": "Hopkins_test_mobile_updated.ipynb",
      "provenance": [],
      "collapsed_sections": []
    },
    "kernelspec": {
      "name": "python3",
      "display_name": "Python 3"
    },
    "language_info": {
      "name": "python"
    }
  },
  "cells": [
    {
      "cell_type": "code",
      "execution_count": 1,
      "metadata": {
        "colab": {
          "base_uri": "https://localhost:8080/"
        },
        "id": "uVXqq5SyGkYi",
        "outputId": "13962ec3-b7b3-480d-e261-fa88d65cc7fc"
      },
      "outputs": [
        {
          "output_type": "stream",
          "name": "stdout",
          "text": [
            "Requirement already satisfied: gensim in /usr/local/lib/python3.7/dist-packages (3.6.0)\n",
            "Requirement already satisfied: smart-open>=1.2.1 in /usr/local/lib/python3.7/dist-packages (from gensim) (5.2.1)\n",
            "Requirement already satisfied: six>=1.5.0 in /usr/local/lib/python3.7/dist-packages (from gensim) (1.15.0)\n",
            "Requirement already satisfied: numpy>=1.11.3 in /usr/local/lib/python3.7/dist-packages (from gensim) (1.21.5)\n",
            "Requirement already satisfied: scipy>=0.18.1 in /usr/local/lib/python3.7/dist-packages (from gensim) (1.4.1)\n"
          ]
        }
      ],
      "source": [
        "!pip install gensim"
      ]
    },
    {
      "cell_type": "code",
      "source": [
        "import pickle\n",
        "from gensim.test.utils import datapath, get_tmpfile\n",
        "from gensim.models import KeyedVectors\n",
        "from gensim.scripts.glove2word2vec import glove2word2vec"
      ],
      "metadata": {
        "id": "GCrTBvgCYYP-"
      },
      "execution_count": 2,
      "outputs": []
    },
    {
      "cell_type": "code",
      "source": [
        "glove_file = datapath('/content/glove.6B.100d.txt')\n",
        "word2vec_glove_file = get_tmpfile(\"glove.6B.100d.txt\")"
      ],
      "metadata": {
        "id": "jL7NsxTYYbYm"
      },
      "execution_count": 3,
      "outputs": []
    },
    {
      "cell_type": "code",
      "source": [
        "!wget http://nlp.stanford.edu/data/glove.6B.zip"
      ],
      "metadata": {
        "colab": {
          "base_uri": "https://localhost:8080/"
        },
        "id": "MlyJZucwYw_1",
        "outputId": "64efc154-9ca9-4308-d72a-f47e8e490f81"
      },
      "execution_count": 4,
      "outputs": [
        {
          "output_type": "stream",
          "name": "stdout",
          "text": [
            "--2022-04-08 01:01:11--  http://nlp.stanford.edu/data/glove.6B.zip\n",
            "Resolving nlp.stanford.edu (nlp.stanford.edu)... 171.64.67.140\n",
            "Connecting to nlp.stanford.edu (nlp.stanford.edu)|171.64.67.140|:80... connected.\n",
            "HTTP request sent, awaiting response... 302 Found\n",
            "Location: https://nlp.stanford.edu/data/glove.6B.zip [following]\n",
            "--2022-04-08 01:01:11--  https://nlp.stanford.edu/data/glove.6B.zip\n",
            "Connecting to nlp.stanford.edu (nlp.stanford.edu)|171.64.67.140|:443... connected.\n",
            "HTTP request sent, awaiting response... 301 Moved Permanently\n",
            "Location: http://downloads.cs.stanford.edu/nlp/data/glove.6B.zip [following]\n",
            "--2022-04-08 01:01:11--  http://downloads.cs.stanford.edu/nlp/data/glove.6B.zip\n",
            "Resolving downloads.cs.stanford.edu (downloads.cs.stanford.edu)... 171.64.64.22\n",
            "Connecting to downloads.cs.stanford.edu (downloads.cs.stanford.edu)|171.64.64.22|:80... connected.\n",
            "HTTP request sent, awaiting response... 200 OK\n",
            "Length: 862182613 (822M) [application/zip]\n",
            "Saving to: ‘glove.6B.zip’\n",
            "\n",
            "glove.6B.zip        100%[===================>] 822.24M  5.09MB/s    in 2m 40s  \n",
            "\n",
            "2022-04-08 01:03:52 (5.13 MB/s) - ‘glove.6B.zip’ saved [862182613/862182613]\n",
            "\n"
          ]
        }
      ]
    },
    {
      "cell_type": "code",
      "source": [
        "!unzip -o glove*.zip"
      ],
      "metadata": {
        "colab": {
          "base_uri": "https://localhost:8080/"
        },
        "id": "T1InGVTRY0hD",
        "outputId": "fef11ddf-c108-4f18-8580-3ece8d5a613f"
      },
      "execution_count": 5,
      "outputs": [
        {
          "output_type": "stream",
          "name": "stdout",
          "text": [
            "Archive:  glove.6B.zip\n",
            "  inflating: glove.6B.50d.txt        \n",
            "  inflating: glove.6B.100d.txt       \n",
            "  inflating: glove.6B.200d.txt       \n",
            "  inflating: glove.6B.300d.txt       \n"
          ]
        }
      ]
    },
    {
      "cell_type": "code",
      "source": [
        "import numpy as np\n",
        "print('Indexing word vectors.')\n",
        "\n",
        "embeddings_index = {}\n",
        "f = open('glove.6B.100d.txt', encoding='utf-8')\n",
        "for line in f:\n",
        "    values = line.split()\n",
        "    word = values[0]\n",
        "    coefs = np.asarray(values[1:], dtype='float32')\n",
        "    embeddings_index[word] = coefs\n",
        "f.close()\n",
        "\n",
        "print('Found %s word vectors.' % len(embeddings_index))"
      ],
      "metadata": {
        "colab": {
          "base_uri": "https://localhost:8080/"
        },
        "id": "lkD-tJ81Y5ZA",
        "outputId": "5ac9568c-bdc9-4267-b00f-dc158234c76a"
      },
      "execution_count": 6,
      "outputs": [
        {
          "output_type": "stream",
          "name": "stdout",
          "text": [
            "Indexing word vectors.\n",
            "Found 400000 word vectors.\n"
          ]
        }
      ]
    },
    {
      "cell_type": "code",
      "source": [
        "import pickle\n",
        "pickle.dump({'embeddings_index' : embeddings_index } , open('/content/glove.6B.100d.txt', 'wb'))"
      ],
      "metadata": {
        "id": "sKGgdCrbOXnv"
      },
      "execution_count": 7,
      "outputs": []
    },
    {
      "cell_type": "code",
      "source": [
        "from typing import List"
      ],
      "metadata": {
        "id": "bGpykR2NPOiK"
      },
      "execution_count": 8,
      "outputs": []
    },
    {
      "cell_type": "code",
      "source": [
        "MAX_TOKENS = 20000\n",
        "MAX_DESCRIPTION_LENGTH = 300\n",
        "EMBEDDING_DIM = 100"
      ],
      "metadata": {
        "id": "J1QgvkmLQLTh"
      },
      "execution_count": 9,
      "outputs": []
    },
    {
      "cell_type": "code",
      "source": [
        "def build_vocab(sentences: List[str], sequence_length: int):\n",
        "  vectorizer = TextVectorization(\n",
        "    output_sequence_length=sequence_length,\n",
        "  )\n",
        "  vectorizer.adapt(sentences)\n",
        "  vocab = vectorizer.get_vocabulary()\n",
        "  word_index = dict(zip(vocab, range(len(vocab))))\n",
        "\n",
        "  return vectorizer, word_index"
      ],
      "metadata": {
        "id": "XmJZI90IQNkY"
      },
      "execution_count": 10,
      "outputs": []
    },
    {
      "cell_type": "code",
      "source": [
        "from keras.layers.preprocessing.text_vectorization import TextVectorization"
      ],
      "metadata": {
        "id": "az-WxAYlSdzg"
      },
      "execution_count": 11,
      "outputs": []
    },
    {
      "cell_type": "markdown",
      "source": [
        "# Textually Similar"
      ],
      "metadata": {
        "id": "qM_1p0jaz9Ge"
      }
    },
    {
      "cell_type": "code",
      "source": [
        "import pandas as pd\n",
        "#mounting the google drive\n",
        "from google.colab import drive\n",
        "drive.mount('/content/drive')"
      ],
      "metadata": {
        "colab": {
          "base_uri": "https://localhost:8080/"
        },
        "id": "kVZAciXrQRiR",
        "outputId": "817804ef-188e-45aa-d859-6d3a0ce3ff26"
      },
      "execution_count": 12,
      "outputs": [
        {
          "output_type": "stream",
          "name": "stdout",
          "text": [
            "Mounted at /content/drive\n"
          ]
        }
      ]
    },
    {
      "cell_type": "code",
      "source": [
        "#importing the CSV file of the dataset from google drive into a dataframe\n",
        "df_sim=pd.read_csv('drive/MyDrive/Project 6308 + ICSME/Siamese/Mobile_siamese_sim_all_preprocessed.csv')\n",
        "df_sim"
      ],
      "metadata": {
        "id": "LP-0197jKKk7",
        "colab": {
          "base_uri": "https://localhost:8080/",
          "height": 424
        },
        "outputId": "435de171-804a-4375-fdfe-b9808c5e3ed8"
      },
      "execution_count": 15,
      "outputs": [
        {
          "output_type": "execute_result",
          "data": {
            "text/plain": [
              "     Unnamed: 0                                       description1  \\\n",
              "0             3    currently geckoview s progressdelegate does ...   \n",
              "1             4    currently  there is no way to unpin a top si...   \n",
              "2            11    str     use non built in input method   to i...   \n",
              "3            13    this metabug deals with work which is needed...   \n",
              "4            15    in fennec we have an accessibility setting n...   \n",
              "..          ...                                                ...   \n",
              "174         332    we do not have this text yet  but ryan feele...   \n",
              "175         333    this will change to  open in firefox   and w...   \n",
              "176         334    this bug is for crash report bp             ...   \n",
              "177         335    user agent  mozilla       gecko   firefox   ...   \n",
              "178         336    currently  the gv  contentblocking  api only...   \n",
              "\n",
              "                                          description2  is_similar  \n",
              "0      focus uses onprogresschanged in webview to u...           1  \n",
              "1      follow up issues with the pinning feature in...           1  \n",
              "2      bug report from mfinkle      switch to the g...           1  \n",
              "3      implement the following two fxa messages api...           1  \n",
              "4      the general font size setting could internal...           1  \n",
              "..                                                 ...         ...  \n",
              "174    created attachment   fx ios mma onboarding s...           1  \n",
              "175    with the addition of  open in firefox   ux h...           1  \n",
              "176    this bug was filed from the socorro interfac...           1  \n",
              "177    user agent  mozilla       gecko   firefox   ...           1  \n",
              "178    the current gv  contentblocking oncontentblo...           1  \n",
              "\n",
              "[179 rows x 4 columns]"
            ],
            "text/html": [
              "\n",
              "  <div id=\"df-a84bdffc-27c3-47a9-a135-8c48c5ee4b9e\">\n",
              "    <div class=\"colab-df-container\">\n",
              "      <div>\n",
              "<style scoped>\n",
              "    .dataframe tbody tr th:only-of-type {\n",
              "        vertical-align: middle;\n",
              "    }\n",
              "\n",
              "    .dataframe tbody tr th {\n",
              "        vertical-align: top;\n",
              "    }\n",
              "\n",
              "    .dataframe thead th {\n",
              "        text-align: right;\n",
              "    }\n",
              "</style>\n",
              "<table border=\"1\" class=\"dataframe\">\n",
              "  <thead>\n",
              "    <tr style=\"text-align: right;\">\n",
              "      <th></th>\n",
              "      <th>Unnamed: 0</th>\n",
              "      <th>description1</th>\n",
              "      <th>description2</th>\n",
              "      <th>is_similar</th>\n",
              "    </tr>\n",
              "  </thead>\n",
              "  <tbody>\n",
              "    <tr>\n",
              "      <th>0</th>\n",
              "      <td>3</td>\n",
              "      <td>currently geckoview s progressdelegate does ...</td>\n",
              "      <td>focus uses onprogresschanged in webview to u...</td>\n",
              "      <td>1</td>\n",
              "    </tr>\n",
              "    <tr>\n",
              "      <th>1</th>\n",
              "      <td>4</td>\n",
              "      <td>currently  there is no way to unpin a top si...</td>\n",
              "      <td>follow up issues with the pinning feature in...</td>\n",
              "      <td>1</td>\n",
              "    </tr>\n",
              "    <tr>\n",
              "      <th>2</th>\n",
              "      <td>11</td>\n",
              "      <td>str     use non built in input method   to i...</td>\n",
              "      <td>bug report from mfinkle      switch to the g...</td>\n",
              "      <td>1</td>\n",
              "    </tr>\n",
              "    <tr>\n",
              "      <th>3</th>\n",
              "      <td>13</td>\n",
              "      <td>this metabug deals with work which is needed...</td>\n",
              "      <td>implement the following two fxa messages api...</td>\n",
              "      <td>1</td>\n",
              "    </tr>\n",
              "    <tr>\n",
              "      <th>4</th>\n",
              "      <td>15</td>\n",
              "      <td>in fennec we have an accessibility setting n...</td>\n",
              "      <td>the general font size setting could internal...</td>\n",
              "      <td>1</td>\n",
              "    </tr>\n",
              "    <tr>\n",
              "      <th>...</th>\n",
              "      <td>...</td>\n",
              "      <td>...</td>\n",
              "      <td>...</td>\n",
              "      <td>...</td>\n",
              "    </tr>\n",
              "    <tr>\n",
              "      <th>174</th>\n",
              "      <td>332</td>\n",
              "      <td>we do not have this text yet  but ryan feele...</td>\n",
              "      <td>created attachment   fx ios mma onboarding s...</td>\n",
              "      <td>1</td>\n",
              "    </tr>\n",
              "    <tr>\n",
              "      <th>175</th>\n",
              "      <td>333</td>\n",
              "      <td>this will change to  open in firefox   and w...</td>\n",
              "      <td>with the addition of  open in firefox   ux h...</td>\n",
              "      <td>1</td>\n",
              "    </tr>\n",
              "    <tr>\n",
              "      <th>176</th>\n",
              "      <td>334</td>\n",
              "      <td>this bug is for crash report bp             ...</td>\n",
              "      <td>this bug was filed from the socorro interfac...</td>\n",
              "      <td>1</td>\n",
              "    </tr>\n",
              "    <tr>\n",
              "      <th>177</th>\n",
              "      <td>335</td>\n",
              "      <td>user agent  mozilla       gecko   firefox   ...</td>\n",
              "      <td>user agent  mozilla       gecko   firefox   ...</td>\n",
              "      <td>1</td>\n",
              "    </tr>\n",
              "    <tr>\n",
              "      <th>178</th>\n",
              "      <td>336</td>\n",
              "      <td>currently  the gv  contentblocking  api only...</td>\n",
              "      <td>the current gv  contentblocking oncontentblo...</td>\n",
              "      <td>1</td>\n",
              "    </tr>\n",
              "  </tbody>\n",
              "</table>\n",
              "<p>179 rows × 4 columns</p>\n",
              "</div>\n",
              "      <button class=\"colab-df-convert\" onclick=\"convertToInteractive('df-a84bdffc-27c3-47a9-a135-8c48c5ee4b9e')\"\n",
              "              title=\"Convert this dataframe to an interactive table.\"\n",
              "              style=\"display:none;\">\n",
              "        \n",
              "  <svg xmlns=\"http://www.w3.org/2000/svg\" height=\"24px\"viewBox=\"0 0 24 24\"\n",
              "       width=\"24px\">\n",
              "    <path d=\"M0 0h24v24H0V0z\" fill=\"none\"/>\n",
              "    <path d=\"M18.56 5.44l.94 2.06.94-2.06 2.06-.94-2.06-.94-.94-2.06-.94 2.06-2.06.94zm-11 1L8.5 8.5l.94-2.06 2.06-.94-2.06-.94L8.5 2.5l-.94 2.06-2.06.94zm10 10l.94 2.06.94-2.06 2.06-.94-2.06-.94-.94-2.06-.94 2.06-2.06.94z\"/><path d=\"M17.41 7.96l-1.37-1.37c-.4-.4-.92-.59-1.43-.59-.52 0-1.04.2-1.43.59L10.3 9.45l-7.72 7.72c-.78.78-.78 2.05 0 2.83L4 21.41c.39.39.9.59 1.41.59.51 0 1.02-.2 1.41-.59l7.78-7.78 2.81-2.81c.8-.78.8-2.07 0-2.86zM5.41 20L4 18.59l7.72-7.72 1.47 1.35L5.41 20z\"/>\n",
              "  </svg>\n",
              "      </button>\n",
              "      \n",
              "  <style>\n",
              "    .colab-df-container {\n",
              "      display:flex;\n",
              "      flex-wrap:wrap;\n",
              "      gap: 12px;\n",
              "    }\n",
              "\n",
              "    .colab-df-convert {\n",
              "      background-color: #E8F0FE;\n",
              "      border: none;\n",
              "      border-radius: 50%;\n",
              "      cursor: pointer;\n",
              "      display: none;\n",
              "      fill: #1967D2;\n",
              "      height: 32px;\n",
              "      padding: 0 0 0 0;\n",
              "      width: 32px;\n",
              "    }\n",
              "\n",
              "    .colab-df-convert:hover {\n",
              "      background-color: #E2EBFA;\n",
              "      box-shadow: 0px 1px 2px rgba(60, 64, 67, 0.3), 0px 1px 3px 1px rgba(60, 64, 67, 0.15);\n",
              "      fill: #174EA6;\n",
              "    }\n",
              "\n",
              "    [theme=dark] .colab-df-convert {\n",
              "      background-color: #3B4455;\n",
              "      fill: #D2E3FC;\n",
              "    }\n",
              "\n",
              "    [theme=dark] .colab-df-convert:hover {\n",
              "      background-color: #434B5C;\n",
              "      box-shadow: 0px 1px 3px 1px rgba(0, 0, 0, 0.15);\n",
              "      filter: drop-shadow(0px 1px 2px rgba(0, 0, 0, 0.3));\n",
              "      fill: #FFFFFF;\n",
              "    }\n",
              "  </style>\n",
              "\n",
              "      <script>\n",
              "        const buttonEl =\n",
              "          document.querySelector('#df-a84bdffc-27c3-47a9-a135-8c48c5ee4b9e button.colab-df-convert');\n",
              "        buttonEl.style.display =\n",
              "          google.colab.kernel.accessAllowed ? 'block' : 'none';\n",
              "\n",
              "        async function convertToInteractive(key) {\n",
              "          const element = document.querySelector('#df-a84bdffc-27c3-47a9-a135-8c48c5ee4b9e');\n",
              "          const dataTable =\n",
              "            await google.colab.kernel.invokeFunction('convertToInteractive',\n",
              "                                                     [key], {});\n",
              "          if (!dataTable) return;\n",
              "\n",
              "          const docLinkHtml = 'Like what you see? Visit the ' +\n",
              "            '<a target=\"_blank\" href=https://colab.research.google.com/notebooks/data_table.ipynb>data table notebook</a>'\n",
              "            + ' to learn more about interactive tables.';\n",
              "          element.innerHTML = '';\n",
              "          dataTable['output_type'] = 'display_data';\n",
              "          await google.colab.output.renderOutput(dataTable, element);\n",
              "          const docLink = document.createElement('div');\n",
              "          docLink.innerHTML = docLinkHtml;\n",
              "          element.appendChild(docLink);\n",
              "        }\n",
              "      </script>\n",
              "    </div>\n",
              "  </div>\n",
              "  "
            ]
          },
          "metadata": {},
          "execution_count": 15
        }
      ]
    },
    {
      "cell_type": "code",
      "source": [
        "df_sim = df_sim[df_sim.is_similar.astype('bool')].sample(150)\n",
        "df_sim= df_sim.sample(150)"
      ],
      "metadata": {
        "id": "a5Dh_Q7uvqNQ"
      },
      "execution_count": 17,
      "outputs": []
    },
    {
      "cell_type": "code",
      "source": [
        "df_sim = df_sim.drop(columns=['Unnamed: 0'])\n",
        "df_sim"
      ],
      "metadata": {
        "colab": {
          "base_uri": "https://localhost:8080/",
          "height": 424
        },
        "id": "9LhAVPOxQiHX",
        "outputId": "b5886d2e-449e-4cba-90b7-25e6ddf10400"
      },
      "execution_count": 18,
      "outputs": [
        {
          "output_type": "execute_result",
          "data": {
            "text/plain": [
              "                                          description1  \\\n",
              "32     work breakdown for moving gv from the old ge...   \n",
              "173    sometimes when typing in a textbox on nightl...   \n",
              "14     profile      you can see a    notifyobserver...   \n",
              "73       hit cmd t several times to open a bunch of...   \n",
              "15     while profiling a demo on the firefox realit...   \n",
              "..                                                 ...   \n",
              "169     geckodisplay surfacechanged   may be used t...   \n",
              "57     after scrolling a pdf document for a few sec...   \n",
              "6       fenix issue   this bug maybe the cause for ...   \n",
              "58     bug to track the flag change from bug    but...   \n",
              "115    in reference browser and firefox preview and...   \n",
              "\n",
              "                                          description2  is_similar  \n",
              "32     this is for implementing the new geckoview s...           1  \n",
              "173    from   mobile fenix issues    this seems to ...           1  \n",
              "14     we kinda accidentally enabled it  but there ...           1  \n",
              "73     build    device  ipad air   ios       steps ...           1  \n",
              "15     the services created by geckoview to run pro...           1  \n",
              "..                                                 ...         ...  \n",
              "169    in fxr the surface is first cleared with a t...           1  \n",
              "57     master       visit    com samples pdf pdf   ...           1  \n",
              "6      this will enable apps to be able to read the...           1  \n",
              "58     moz simple bookmarks syncing moz show fxa av...           1  \n",
              "115    from   mobile fenix issues    we remove type...           1  \n",
              "\n",
              "[150 rows x 3 columns]"
            ],
            "text/html": [
              "\n",
              "  <div id=\"df-c872065d-9999-4f31-9308-66154509cc9d\">\n",
              "    <div class=\"colab-df-container\">\n",
              "      <div>\n",
              "<style scoped>\n",
              "    .dataframe tbody tr th:only-of-type {\n",
              "        vertical-align: middle;\n",
              "    }\n",
              "\n",
              "    .dataframe tbody tr th {\n",
              "        vertical-align: top;\n",
              "    }\n",
              "\n",
              "    .dataframe thead th {\n",
              "        text-align: right;\n",
              "    }\n",
              "</style>\n",
              "<table border=\"1\" class=\"dataframe\">\n",
              "  <thead>\n",
              "    <tr style=\"text-align: right;\">\n",
              "      <th></th>\n",
              "      <th>description1</th>\n",
              "      <th>description2</th>\n",
              "      <th>is_similar</th>\n",
              "    </tr>\n",
              "  </thead>\n",
              "  <tbody>\n",
              "    <tr>\n",
              "      <th>32</th>\n",
              "      <td>work breakdown for moving gv from the old ge...</td>\n",
              "      <td>this is for implementing the new geckoview s...</td>\n",
              "      <td>1</td>\n",
              "    </tr>\n",
              "    <tr>\n",
              "      <th>173</th>\n",
              "      <td>sometimes when typing in a textbox on nightl...</td>\n",
              "      <td>from   mobile fenix issues    this seems to ...</td>\n",
              "      <td>1</td>\n",
              "    </tr>\n",
              "    <tr>\n",
              "      <th>14</th>\n",
              "      <td>profile      you can see a    notifyobserver...</td>\n",
              "      <td>we kinda accidentally enabled it  but there ...</td>\n",
              "      <td>1</td>\n",
              "    </tr>\n",
              "    <tr>\n",
              "      <th>73</th>\n",
              "      <td>hit cmd t several times to open a bunch of...</td>\n",
              "      <td>build    device  ipad air   ios       steps ...</td>\n",
              "      <td>1</td>\n",
              "    </tr>\n",
              "    <tr>\n",
              "      <th>15</th>\n",
              "      <td>while profiling a demo on the firefox realit...</td>\n",
              "      <td>the services created by geckoview to run pro...</td>\n",
              "      <td>1</td>\n",
              "    </tr>\n",
              "    <tr>\n",
              "      <th>...</th>\n",
              "      <td>...</td>\n",
              "      <td>...</td>\n",
              "      <td>...</td>\n",
              "    </tr>\n",
              "    <tr>\n",
              "      <th>169</th>\n",
              "      <td>geckodisplay surfacechanged   may be used t...</td>\n",
              "      <td>in fxr the surface is first cleared with a t...</td>\n",
              "      <td>1</td>\n",
              "    </tr>\n",
              "    <tr>\n",
              "      <th>57</th>\n",
              "      <td>after scrolling a pdf document for a few sec...</td>\n",
              "      <td>master       visit    com samples pdf pdf   ...</td>\n",
              "      <td>1</td>\n",
              "    </tr>\n",
              "    <tr>\n",
              "      <th>6</th>\n",
              "      <td>fenix issue   this bug maybe the cause for ...</td>\n",
              "      <td>this will enable apps to be able to read the...</td>\n",
              "      <td>1</td>\n",
              "    </tr>\n",
              "    <tr>\n",
              "      <th>58</th>\n",
              "      <td>bug to track the flag change from bug    but...</td>\n",
              "      <td>moz simple bookmarks syncing moz show fxa av...</td>\n",
              "      <td>1</td>\n",
              "    </tr>\n",
              "    <tr>\n",
              "      <th>115</th>\n",
              "      <td>in reference browser and firefox preview and...</td>\n",
              "      <td>from   mobile fenix issues    we remove type...</td>\n",
              "      <td>1</td>\n",
              "    </tr>\n",
              "  </tbody>\n",
              "</table>\n",
              "<p>150 rows × 3 columns</p>\n",
              "</div>\n",
              "      <button class=\"colab-df-convert\" onclick=\"convertToInteractive('df-c872065d-9999-4f31-9308-66154509cc9d')\"\n",
              "              title=\"Convert this dataframe to an interactive table.\"\n",
              "              style=\"display:none;\">\n",
              "        \n",
              "  <svg xmlns=\"http://www.w3.org/2000/svg\" height=\"24px\"viewBox=\"0 0 24 24\"\n",
              "       width=\"24px\">\n",
              "    <path d=\"M0 0h24v24H0V0z\" fill=\"none\"/>\n",
              "    <path d=\"M18.56 5.44l.94 2.06.94-2.06 2.06-.94-2.06-.94-.94-2.06-.94 2.06-2.06.94zm-11 1L8.5 8.5l.94-2.06 2.06-.94-2.06-.94L8.5 2.5l-.94 2.06-2.06.94zm10 10l.94 2.06.94-2.06 2.06-.94-2.06-.94-.94-2.06-.94 2.06-2.06.94z\"/><path d=\"M17.41 7.96l-1.37-1.37c-.4-.4-.92-.59-1.43-.59-.52 0-1.04.2-1.43.59L10.3 9.45l-7.72 7.72c-.78.78-.78 2.05 0 2.83L4 21.41c.39.39.9.59 1.41.59.51 0 1.02-.2 1.41-.59l7.78-7.78 2.81-2.81c.8-.78.8-2.07 0-2.86zM5.41 20L4 18.59l7.72-7.72 1.47 1.35L5.41 20z\"/>\n",
              "  </svg>\n",
              "      </button>\n",
              "      \n",
              "  <style>\n",
              "    .colab-df-container {\n",
              "      display:flex;\n",
              "      flex-wrap:wrap;\n",
              "      gap: 12px;\n",
              "    }\n",
              "\n",
              "    .colab-df-convert {\n",
              "      background-color: #E8F0FE;\n",
              "      border: none;\n",
              "      border-radius: 50%;\n",
              "      cursor: pointer;\n",
              "      display: none;\n",
              "      fill: #1967D2;\n",
              "      height: 32px;\n",
              "      padding: 0 0 0 0;\n",
              "      width: 32px;\n",
              "    }\n",
              "\n",
              "    .colab-df-convert:hover {\n",
              "      background-color: #E2EBFA;\n",
              "      box-shadow: 0px 1px 2px rgba(60, 64, 67, 0.3), 0px 1px 3px 1px rgba(60, 64, 67, 0.15);\n",
              "      fill: #174EA6;\n",
              "    }\n",
              "\n",
              "    [theme=dark] .colab-df-convert {\n",
              "      background-color: #3B4455;\n",
              "      fill: #D2E3FC;\n",
              "    }\n",
              "\n",
              "    [theme=dark] .colab-df-convert:hover {\n",
              "      background-color: #434B5C;\n",
              "      box-shadow: 0px 1px 3px 1px rgba(0, 0, 0, 0.15);\n",
              "      filter: drop-shadow(0px 1px 2px rgba(0, 0, 0, 0.3));\n",
              "      fill: #FFFFFF;\n",
              "    }\n",
              "  </style>\n",
              "\n",
              "      <script>\n",
              "        const buttonEl =\n",
              "          document.querySelector('#df-c872065d-9999-4f31-9308-66154509cc9d button.colab-df-convert');\n",
              "        buttonEl.style.display =\n",
              "          google.colab.kernel.accessAllowed ? 'block' : 'none';\n",
              "\n",
              "        async function convertToInteractive(key) {\n",
              "          const element = document.querySelector('#df-c872065d-9999-4f31-9308-66154509cc9d');\n",
              "          const dataTable =\n",
              "            await google.colab.kernel.invokeFunction('convertToInteractive',\n",
              "                                                     [key], {});\n",
              "          if (!dataTable) return;\n",
              "\n",
              "          const docLinkHtml = 'Like what you see? Visit the ' +\n",
              "            '<a target=\"_blank\" href=https://colab.research.google.com/notebooks/data_table.ipynb>data table notebook</a>'\n",
              "            + ' to learn more about interactive tables.';\n",
              "          element.innerHTML = '';\n",
              "          dataTable['output_type'] = 'display_data';\n",
              "          await google.colab.output.renderOutput(dataTable, element);\n",
              "          const docLink = document.createElement('div');\n",
              "          docLink.innerHTML = docLinkHtml;\n",
              "          element.appendChild(docLink);\n",
              "        }\n",
              "      </script>\n",
              "    </div>\n",
              "  </div>\n",
              "  "
            ]
          },
          "metadata": {},
          "execution_count": 18
        }
      ]
    },
    {
      "cell_type": "code",
      "source": [
        "FEATURES = ['description1', 'description2']"
      ],
      "metadata": {
        "id": "FoO7o_kBsPF-"
      },
      "execution_count": 19,
      "outputs": []
    },
    {
      "cell_type": "code",
      "source": [
        "import itertools"
      ],
      "metadata": {
        "id": "_T3p_00mSlnC"
      },
      "execution_count": 20,
      "outputs": []
    },
    {
      "cell_type": "code",
      "source": [
        "descr_vectorizer, descr_word_index = build_vocab(\n",
        "  [df_sim.description1, df_sim.description2],\n",
        "  MAX_DESCRIPTION_LENGTH,\n",
        ")\n",
        "\n",
        "print(\n",
        "  'Most frequent description words:',\n",
        "  list(itertools.islice(descr_word_index.keys(), 5)),\n",
        ")"
      ],
      "metadata": {
        "colab": {
          "base_uri": "https://localhost:8080/"
        },
        "id": "Gklyg_q2Q58K",
        "outputId": "387ba937-c55c-493f-b1e3-d3808c5bfb26"
      },
      "execution_count": 21,
      "outputs": [
        {
          "output_type": "stream",
          "name": "stdout",
          "text": [
            "Most frequent description words: ['', '[UNK]', 'the', 'to', 'system']\n"
          ]
        }
      ]
    },
    {
      "cell_type": "code",
      "source": [
        "descr_vectorizer.vocabulary_size()"
      ],
      "metadata": {
        "colab": {
          "base_uri": "https://localhost:8080/"
        },
        "id": "Qaski6uvYn_Z",
        "outputId": "23b3c49b-1351-4e21-beac-a2ba584a1452"
      },
      "execution_count": 22,
      "outputs": [
        {
          "output_type": "execute_result",
          "data": {
            "text/plain": [
              "3059"
            ]
          },
          "metadata": {},
          "execution_count": 22
        }
      ]
    },
    {
      "cell_type": "code",
      "source": [
        "from typing import List, Dict, Tuple, Set"
      ],
      "metadata": {
        "id": "jwz8md8iS2gN"
      },
      "execution_count": 23,
      "outputs": []
    },
    {
      "cell_type": "code",
      "source": [
        "def create_embedding_matrix(\n",
        "  embeddings_index: Dict[str, np.ndarray],\n",
        "  word_index: Dict[str, int],\n",
        "  verbose=False,\n",
        "):\n",
        "  hits = 0\n",
        "  misses = 0\n",
        "\n",
        "  # prepare embedding matrix\n",
        "  embedding_matrix = np.zeros((descr_vectorizer.vocabulary_size(),EMBEDDING_DIM))\n",
        "  for word, i in word_index.items():\n",
        "    embedding_vector = embeddings_index.get(word)\n",
        "    if embedding_vector is not None:\n",
        "      # Words not found in embedding index will be all-zeros.\n",
        "      # This includes the representation for \"padding\" and \"OOV\"\n",
        "      embedding_matrix[i] = embedding_vector\n",
        "      hits += 1\n",
        "    else:\n",
        "      misses += 1\n",
        "\n",
        "  if verbose:\n",
        "    print('Embedding shape:', embedding_matrix.shape)\n",
        "    print(f'Found {hits} words, missed {misses}.')\n",
        "\n",
        "  return embedding_matrix"
      ],
      "metadata": {
        "id": "zf6egM0_RBVH"
      },
      "execution_count": 24,
      "outputs": []
    },
    {
      "cell_type": "code",
      "source": [
        "print('Creating description embedding matrix:')\n",
        "descr_embedding_matrix = create_embedding_matrix(\n",
        "  embeddings_index, descr_word_index, True,\n",
        ")"
      ],
      "metadata": {
        "colab": {
          "base_uri": "https://localhost:8080/"
        },
        "id": "UV9pK9wQSruU",
        "outputId": "ff6b563a-5b0c-4de8-95d7-73be9a66d4f1"
      },
      "execution_count": 25,
      "outputs": [
        {
          "output_type": "stream",
          "name": "stdout",
          "text": [
            "Creating description embedding matrix:\n",
            "Embedding shape: (3059, 100)\n",
            "Found 2161 words, missed 898.\n"
          ]
        }
      ]
    },
    {
      "cell_type": "code",
      "source": [
        "descr_embedding_matrix.shape"
      ],
      "metadata": {
        "colab": {
          "base_uri": "https://localhost:8080/"
        },
        "id": "Y9KisltkTZ70",
        "outputId": "252b15c1-dcbb-480c-b693-26da91b9d4e2"
      },
      "execution_count": 26,
      "outputs": [
        {
          "output_type": "execute_result",
          "data": {
            "text/plain": [
              "(3059, 100)"
            ]
          },
          "metadata": {},
          "execution_count": 26
        }
      ]
    },
    {
      "cell_type": "code",
      "source": [
        "from sklearn.decomposition import PCA"
      ],
      "metadata": {
        "id": "d8s8O8zlNiWd"
      },
      "execution_count": 27,
      "outputs": []
    },
    {
      "cell_type": "code",
      "source": [
        "descr_embedding_matrix"
      ],
      "metadata": {
        "colab": {
          "base_uri": "https://localhost:8080/"
        },
        "id": "4lWFHbDYtRXe",
        "outputId": "3b93216a-fbcf-4bdf-bd25-f2dbffeb33bf"
      },
      "execution_count": 28,
      "outputs": [
        {
          "output_type": "execute_result",
          "data": {
            "text/plain": [
              "array([[ 0.        ,  0.        ,  0.        , ...,  0.        ,\n",
              "         0.        ,  0.        ],\n",
              "       [ 0.        ,  0.        ,  0.        , ...,  0.        ,\n",
              "         0.        ,  0.        ],\n",
              "       [-0.038194  , -0.24487001,  0.72812003, ..., -0.1459    ,\n",
              "         0.82779998,  0.27061999],\n",
              "       ...,\n",
              "       [ 1.03659999, -0.013461  ,  0.061852  , ...,  0.76797998,\n",
              "         0.94884002,  0.33374   ],\n",
              "       [ 0.13818   , -0.67548001, -0.38606   , ...,  0.45556   ,\n",
              "        -0.2233    , -0.45269999],\n",
              "       [-0.012877  , -0.13898   ,  0.22869   , ..., -1.1444    ,\n",
              "         0.76644999,  0.46779001]])"
            ]
          },
          "metadata": {},
          "execution_count": 28
        }
      ]
    },
    {
      "cell_type": "code",
      "source": [
        "X = descr_embedding_matrix"
      ],
      "metadata": {
        "id": "LPcHPAl4vB61"
      },
      "execution_count": 29,
      "outputs": []
    },
    {
      "cell_type": "code",
      "source": [
        ""
      ],
      "metadata": {
        "id": "2DtRSERv_VC0"
      },
      "execution_count": 29,
      "outputs": []
    },
    {
      "cell_type": "code",
      "source": [
        "pip install pyclustertend"
      ],
      "metadata": {
        "colab": {
          "base_uri": "https://localhost:8080/"
        },
        "id": "mXETTFbavQVz",
        "outputId": "44bc8797-4f8e-4816-a94c-1b2c38300fe1"
      },
      "execution_count": 30,
      "outputs": [
        {
          "output_type": "stream",
          "name": "stdout",
          "text": [
            "Collecting pyclustertend\n",
            "  Downloading pyclustertend-1.4.9-py3-none-any.whl (9.8 kB)\n",
            "Installing collected packages: pyclustertend\n",
            "Successfully installed pyclustertend-1.4.9\n"
          ]
        }
      ]
    },
    {
      "cell_type": "code",
      "source": [
        "import numpy as np # linear algebra\n",
        "import pandas as pd # data processing, CSV file I/O (e.g. pd.read_csv)\n",
        "\n",
        "from sklearn.decomposition import PCA\n",
        "from sklearn import datasets\n",
        "from sklearn.preprocessing import scale\n",
        "from pyclustertend import hopkins ## the hopkins test\n",
        "\n",
        "\n",
        "from mpl_toolkits.mplot3d import Axes3D\n",
        "import matplotlib.pyplot as plt\n",
        "\n",
        "import numpy as np\n",
        "from sklearn.neighbors import NearestNeighbors\n",
        "import pandas as pd\n",
        "import matplotlib.pyplot as plt\n",
        "%matplotlib inline\n",
        "from random import sample\n",
        "from numpy.random import uniform"
      ],
      "metadata": {
        "id": "8Ykl0J36vOwL"
      },
      "execution_count": 31,
      "outputs": []
    },
    {
      "cell_type": "code",
      "source": [
        "import math\n",
        "#Sample data must be preprocessed into dataframe or matrix form before given as the value of parameter \"data\"."
      ],
      "metadata": {
        "id": "vRvlbTCFtvpO"
      },
      "execution_count": 32,
      "outputs": []
    },
    {
      "cell_type": "code",
      "source": [
        "# hopkins(X, X.shape[0])"
      ],
      "metadata": {
        "id": "4sa81sG0vwlB"
      },
      "execution_count": 33,
      "outputs": []
    },
    {
      "cell_type": "code",
      "source": [
        "# hopkins(scale(X),X.shape[0])"
      ],
      "metadata": {
        "id": "uy9FnTEZvoxB"
      },
      "execution_count": 34,
      "outputs": []
    },
    {
      "cell_type": "code",
      "source": [
        "# H=hopkins_statistic(X)\n",
        "# print(H)"
      ],
      "metadata": {
        "id": "FPAX688Y1qlt"
      },
      "execution_count": 35,
      "outputs": []
    },
    {
      "cell_type": "code",
      "source": [
        "X = descr_embedding_matrix"
      ],
      "metadata": {
        "id": "mBXPmuOnwR2t"
      },
      "execution_count": 36,
      "outputs": []
    },
    {
      "cell_type": "code",
      "source": [
        "# function to compute hopkins's statistic for the dataframe X\n",
        "def hopkins_statistic(X):\n",
        "    \n",
        "     #convert dataframe to a numpy array\n",
        "    sample_size = int(X.shape[0]*0.05) #0.05 (5%) based on paper by Lawson and Jures\n",
        "    \n",
        "    \n",
        "    #a uniform random sample in the original data space\n",
        "    X_uniform_random_sample = uniform(X.min(axis=0), X.max(axis=0) ,(sample_size , X.shape[1]))\n",
        "    \n",
        "    \n",
        "    \n",
        "    #a random sample of size sample_size from the original data X\n",
        "    random_indices=sample(range(0, X.shape[0], 1), sample_size)\n",
        "    X_sample = X[random_indices]\n",
        "   \n",
        "    \n",
        "    #initialise unsupervised learner for implementing neighbor searches\n",
        "    neigh = NearestNeighbors(n_neighbors=2)\n",
        "    nbrs=neigh.fit(X)\n",
        "    \n",
        "    #u_distances = nearest neighbour distances from uniform random sample\n",
        "    u_distances , u_indices = nbrs.kneighbors(X_uniform_random_sample , n_neighbors=2)\n",
        "    u_distances = u_distances[: , 0] #distance to the first (nearest) neighbour\n",
        "    \n",
        "    #w_distances = nearest neighbour distances from a sample of points from original data X\n",
        "    w_distances , w_indices = nbrs.kneighbors(X_sample , n_neighbors=2)\n",
        "    #distance to the second nearest neighbour (as the first neighbour will be the point itself, with distance = 0)\n",
        "    w_distances = w_distances[: , 1]\n",
        "    \n",
        " \n",
        "    \n",
        "    u_sum = np.sum(u_distances)\n",
        "    w_sum = np.sum(w_distances)\n",
        "    \n",
        "    #compute and return hopkins' statistic\n",
        "    H = u_sum/ (u_sum + w_sum)\n",
        "    return H"
      ],
      "metadata": {
        "id": "BoxE3ZMd-5fM"
      },
      "execution_count": 37,
      "outputs": []
    },
    {
      "cell_type": "code",
      "source": [
        ""
      ],
      "metadata": {
        "id": "ye6tqFm1v6TM"
      },
      "execution_count": 37,
      "outputs": []
    },
    {
      "cell_type": "code",
      "source": [
        "l = [] #list to hold values for each call\n",
        "for i in range(300):\n",
        "    H= hopkins_statistic(X)\n",
        "    l.append(H)\n",
        "#print average value:\n",
        "print(H)\n",
        "print(l)"
      ],
      "metadata": {
        "colab": {
          "base_uri": "https://localhost:8080/"
        },
        "id": "dI4-TMa11osX",
        "outputId": "5afc1651-6263-44a7-868c-0db14779b80e"
      },
      "execution_count": 38,
      "outputs": [
        {
          "output_type": "stream",
          "name": "stdout",
          "text": [
            "0.7917992429823132\n",
            "[0.7852064154180431, 0.7816241389493717, 0.7801477423503137, 0.7736646871399228, 0.7850236969099379, 0.7844640393567397, 0.7691577460234506, 0.7909811498504552, 0.7759243913476346, 0.7788630989739771, 0.7880896632872112, 0.7773038498575634, 0.7853685200969039, 0.784565682639982, 0.7721928792743473, 0.779271526427724, 0.7971996771548429, 0.7834985538690976, 0.7818303894151686, 0.7940105580034416, 0.7756143318475898, 0.7687571580408947, 0.7828308924114578, 0.7847042246863025, 0.7665637579241142, 0.7805207866470232, 0.7729836628552984, 0.768464870386072, 0.7958005743661821, 0.7848326860252097, 0.7814663549650522, 0.7947094522271022, 0.7775443200254588, 0.7729943199697209, 0.7896868360849788, 0.7620494959641092, 0.7794956529705723, 0.7742020825036727, 0.7820844631421099, 0.775056364558742, 0.7760725869842809, 0.7714620682355342, 0.7657275281970565, 0.761557442380171, 0.7802682962823905, 0.799295770888126, 0.7651371632444834, 0.7701714296867938, 0.7838134308417378, 0.7744240304940065, 0.7876332288197052, 0.7696510826846779, 0.7705497387013589, 0.7752925312227, 0.7744478816597038, 0.76057942942349, 0.77528858521762, 0.7766717511252621, 0.7678721873515525, 0.7922701727495053, 0.7677651191160967, 0.7619396569482016, 0.8144580711060011, 0.7808007519492134, 0.7932055468028426, 0.7643199229298844, 0.765919284670087, 0.7905632325154052, 0.7705956425001956, 0.7844315160555969, 0.7886682765250165, 0.774375182124949, 0.7905990816808424, 0.7939292876212132, 0.7745565769155823, 0.7813546175016348, 0.7821931829006823, 0.7651687640266162, 0.788157425238677, 0.785316282940065, 0.7781808757065714, 0.7871607181126188, 0.7757166769776694, 0.7934618938006246, 0.7830887890430033, 0.7960488732521533, 0.785708163776516, 0.7720893607441832, 0.7588918184779557, 0.7945055653334528, 0.7694178969826295, 0.7759458745535636, 0.7745578198849156, 0.7913857715653433, 0.775446618355128, 0.7830533803627777, 0.788069241537521, 0.7702695069379499, 0.7910514650462723, 0.7749856166692005, 0.7703051878373316, 0.7905031284657138, 0.7644915062578718, 0.7757623675384565, 0.7846624104345059, 0.7972616632523016, 0.7968441870537202, 0.7680477726172195, 0.7756694002633676, 0.7802438819248637, 0.7635132390856743, 0.776362760535071, 0.7936518006448451, 0.7916181721572276, 0.7867351821869826, 0.7929369054930704, 0.7768339612877665, 0.7873098225846157, 0.7926180624505601, 0.7811511296810519, 0.7716458640898682, 0.7686645909264431, 0.7717675647548652, 0.7849919445164243, 0.7850849402467414, 0.7853531481176876, 0.7697991812208745, 0.77838390277293, 0.7913799044194323, 0.7856752450267515, 0.7759456836591242, 0.7931716820351042, 0.7837217280042497, 0.781278983791058, 0.7948023574801796, 0.7785305509159779, 0.7778708778892709, 0.7852173478720649, 0.772667723778937, 0.7846194708204285, 0.7627769041711863, 0.7859905711648866, 0.7830093889587815, 0.7780512001704332, 0.7898886524297225, 0.787046180415845, 0.7918002856045356, 0.7830248918847189, 0.781148544134749, 0.7902566307893496, 0.776592925235574, 0.7815817599417579, 0.7783173049890445, 0.7749937693032415, 0.7792021370888597, 0.7828121657434338, 0.7830478083246328, 0.7930589210480523, 0.7866462774367698, 0.7951142356520379, 0.7833399411231572, 0.7546046370153783, 0.768321415792946, 0.7760914972822156, 0.7828687318498035, 0.7710908464029442, 0.7630055384710697, 0.782390081677251, 0.7960031341008783, 0.7725918676075846, 0.7730608569016699, 0.7746742101396095, 0.7823368651057921, 0.7781023364955004, 0.7790347508471541, 0.7949281976708024, 0.7869589931917587, 0.781630494238242, 0.7617016929387963, 0.7737178749828948, 0.7965728806446174, 0.7728833667961637, 0.7709748825666427, 0.778611253510341, 0.782933787898815, 0.7891190681187231, 0.7810658356800506, 0.7763024150846849, 0.7751296792576432, 0.7686707519317081, 0.7718920010347533, 0.7786327508289714, 0.7825427384374121, 0.7742240459840787, 0.7807438662820102, 0.7764779034599208, 0.7817169188812181, 0.7728913176837029, 0.785079422457294, 0.7685851916997537, 0.7684108439961672, 0.7761875379254224, 0.7904465186661733, 0.7786005805339616, 0.7612503883410954, 0.7851882825273481, 0.7761661401141458, 0.7766201996489187, 0.7689788323171407, 0.7829613052113321, 0.7843063847981978, 0.7745553433653218, 0.7834381866224841, 0.7671587247255895, 0.7872584034686091, 0.7983212668339343, 0.7627275649831374, 0.7697736229559654, 0.7877998682751268, 0.7888004771768162, 0.7793751372522406, 0.7805910183040711, 0.7925157912520752, 0.7723935362820223, 0.7835860530226433, 0.8229176507889912, 0.7695143685107421, 0.78459983712746, 0.7932424648906335, 0.7764654461779601, 0.7645011498217433, 0.778199212556172, 0.7847857310528701, 0.7709787376079321, 0.7825082857755602, 0.7593837558741611, 0.7848746052706473, 0.7987524663096929, 0.7767106055415405, 0.7773531871549193, 0.8017141815160792, 0.7780183127881962, 0.77772099293689, 0.7800121428496835, 0.782160628595831, 0.7660911499003177, 0.7905269352505611, 0.7784689815896118, 0.7806914550172549, 0.7839143727511502, 0.7673508799644918, 0.7761586796093224, 0.787157106605431, 0.7821404347613092, 0.7731755667286065, 0.7854887476390249, 0.7738786715106918, 0.7711039965675266, 0.7662347564095954, 0.7666184165501112, 0.7804989966520627, 0.7850298375219108, 0.7806821683734907, 0.775349673012631, 0.7752399007587083, 0.7777845623440754, 0.7790225616868163, 0.7779768836056249, 0.79582663801106, 0.7732557367221995, 0.7949343377513339, 0.7806694823158675, 0.77630177863979, 0.7752650220784184, 0.7692326134641811, 0.7911283750555527, 0.783154304281768, 0.7908853489828819, 0.7632005048662099, 0.7743477277868568, 0.7754160980023791, 0.7851203767301728, 0.7691022546425473, 0.7775202794263685, 0.780661977218003, 0.7715676645654478, 0.7652570103116358, 0.7623786281925939, 0.7749239973491195, 0.7942445140636555, 0.7656562903245471, 0.7834625285483001, 0.7737585390761499, 0.7836332289468442, 0.7711402196079571, 0.77587154744411, 0.7749435695080245, 0.7775115889406105, 0.7811293953486951, 0.7917992429823132]\n"
          ]
        }
      ]
    },
    {
      "cell_type": "code",
      "source": [
        ""
      ],
      "metadata": {
        "id": "dBFtfCObXW8Q"
      },
      "execution_count": 38,
      "outputs": []
    },
    {
      "cell_type": "code",
      "source": [
        ""
      ],
      "metadata": {
        "id": "0sdg_hjhDzjS"
      },
      "execution_count": 38,
      "outputs": []
    },
    {
      "cell_type": "code",
      "source": [
        "df_sim_hopkin = pd.DataFrame(l)\n",
        "print(df_sim_hopkin)"
      ],
      "metadata": {
        "colab": {
          "base_uri": "https://localhost:8080/"
        },
        "id": "XHzwACE7EWMd",
        "outputId": "66376b37-8e91-4212-de8a-01b9599ec0ed"
      },
      "execution_count": 39,
      "outputs": [
        {
          "output_type": "stream",
          "name": "stdout",
          "text": [
            "            0\n",
            "0    0.785206\n",
            "1    0.781624\n",
            "2    0.780148\n",
            "3    0.773665\n",
            "4    0.785024\n",
            "..        ...\n",
            "295  0.775872\n",
            "296  0.774944\n",
            "297  0.777512\n",
            "298  0.781129\n",
            "299  0.791799\n",
            "\n",
            "[300 rows x 1 columns]\n"
          ]
        }
      ]
    },
    {
      "cell_type": "code",
      "source": [
        "# from sklearn.decomposition import PCA\n",
        "# data = descr_embedding_matrix\n",
        "# labels = df_sim.is_similar\n",
        "\n",
        "# model = PCA(n_components=2)\n",
        "# # configuring the parameteres\n",
        "\n",
        "# PCA_data = model.fit_transform(data)"
      ],
      "metadata": {
        "id": "rxPpUTt82urU"
      },
      "execution_count": 40,
      "outputs": []
    },
    {
      "cell_type": "code",
      "source": [
        "# PCA_data.shape"
      ],
      "metadata": {
        "id": "ldP5BJEvQ2P3"
      },
      "execution_count": 41,
      "outputs": []
    },
    {
      "cell_type": "code",
      "source": [
        "# # Ploting the result of tsne\n",
        "# import seaborn as sns\n",
        "# import matplotlib.pyplot as plt\n",
        "# plt.scatter(PCA_data[:, 0], PCA_data[:, 1])\n",
        "# plt.savefig('output_similar.jpg')\n",
        "# plt.show()"
      ],
      "metadata": {
        "id": "oWx-g5KV24GN"
      },
      "execution_count": 42,
      "outputs": []
    },
    {
      "cell_type": "code",
      "source": [
        "# plt.savefig('output_similar.png')"
      ],
      "metadata": {
        "id": "YJWdMzzu4WLP"
      },
      "execution_count": 43,
      "outputs": []
    },
    {
      "cell_type": "markdown",
      "source": [
        "# Textually Dissimilar"
      ],
      "metadata": {
        "id": "epP1eDUQz0bR"
      }
    },
    {
      "cell_type": "code",
      "source": [
        "#importing the CSV file of the dataset from google drive into a dataframe\n",
        "df_dissim = pd.read_csv('drive/MyDrive/Project 6308 + ICSME/Siamese/Mobile_siamese_dissim_all_preprocessed.csv')\n",
        "df_dissim"
      ],
      "metadata": {
        "colab": {
          "base_uri": "https://localhost:8080/",
          "height": 424
        },
        "id": "Yk1qvNW7a26X",
        "outputId": "929cfc81-17fb-40dd-e9aa-a6791aa01866"
      },
      "execution_count": 47,
      "outputs": [
        {
          "output_type": "execute_result",
          "data": {
            "text/plain": [
              "     Unnamed: 0                                       description1  \\\n",
              "0             1    the bug was reported on fenix    mobile feni...   \n",
              "1             4      filed by    dvarga  at  mozilla com   pars...   \n",
              "2             7    str on the fenix related  bug     when we tr...   \n",
              "3             9    from github    mobile fenix issues        co...   \n",
              "4            11    user agent  mozilla       applewebkit       ...   \n",
              "..          ...                                                ...   \n",
              "142         346      filed by    ncsoregi  at  mozilla com   pa...   \n",
              "143         351    this test under logingmanager test suite fai...   \n",
              "144         353      filed by    apavel  at  mozilla com   pars...   \n",
              "145         354    user agent  mozilla       gecko   firefox   ...   \n",
              "146         355    sometimes while using top sites the panel wi...   \n",
              "\n",
              "                                          description2  is_similar  \n",
              "0      user agent  mozilla       gecko   firefox   ...           1  \n",
              "1        filed by    malexandru  at  mozilla com   ...           1  \n",
              "2      created attachment   not working private ses...           1  \n",
              "3      i file this mainly so we do not lose track o...           1  \n",
              "4      i experience very poor performance on my iph...           1  \n",
              "..                                                 ...         ...  \n",
              "142      filed by    dluca  at  mozilla com   parse...           1  \n",
              "143    it shows   entries instead of   as seen in h...           1  \n",
              "144      filed by    apavel  at  mozilla com   pars...           1  \n",
              "145    user agent  mozilla       gecko   firefox   ...           1  \n",
              "146    master   iphone   plus       have a few item...           1  \n",
              "\n",
              "[147 rows x 4 columns]"
            ],
            "text/html": [
              "\n",
              "  <div id=\"df-e058828c-87be-431e-8626-9d628be38317\">\n",
              "    <div class=\"colab-df-container\">\n",
              "      <div>\n",
              "<style scoped>\n",
              "    .dataframe tbody tr th:only-of-type {\n",
              "        vertical-align: middle;\n",
              "    }\n",
              "\n",
              "    .dataframe tbody tr th {\n",
              "        vertical-align: top;\n",
              "    }\n",
              "\n",
              "    .dataframe thead th {\n",
              "        text-align: right;\n",
              "    }\n",
              "</style>\n",
              "<table border=\"1\" class=\"dataframe\">\n",
              "  <thead>\n",
              "    <tr style=\"text-align: right;\">\n",
              "      <th></th>\n",
              "      <th>Unnamed: 0</th>\n",
              "      <th>description1</th>\n",
              "      <th>description2</th>\n",
              "      <th>is_similar</th>\n",
              "    </tr>\n",
              "  </thead>\n",
              "  <tbody>\n",
              "    <tr>\n",
              "      <th>0</th>\n",
              "      <td>1</td>\n",
              "      <td>the bug was reported on fenix    mobile feni...</td>\n",
              "      <td>user agent  mozilla       gecko   firefox   ...</td>\n",
              "      <td>1</td>\n",
              "    </tr>\n",
              "    <tr>\n",
              "      <th>1</th>\n",
              "      <td>4</td>\n",
              "      <td>filed by    dvarga  at  mozilla com   pars...</td>\n",
              "      <td>filed by    malexandru  at  mozilla com   ...</td>\n",
              "      <td>1</td>\n",
              "    </tr>\n",
              "    <tr>\n",
              "      <th>2</th>\n",
              "      <td>7</td>\n",
              "      <td>str on the fenix related  bug     when we tr...</td>\n",
              "      <td>created attachment   not working private ses...</td>\n",
              "      <td>1</td>\n",
              "    </tr>\n",
              "    <tr>\n",
              "      <th>3</th>\n",
              "      <td>9</td>\n",
              "      <td>from github    mobile fenix issues        co...</td>\n",
              "      <td>i file this mainly so we do not lose track o...</td>\n",
              "      <td>1</td>\n",
              "    </tr>\n",
              "    <tr>\n",
              "      <th>4</th>\n",
              "      <td>11</td>\n",
              "      <td>user agent  mozilla       applewebkit       ...</td>\n",
              "      <td>i experience very poor performance on my iph...</td>\n",
              "      <td>1</td>\n",
              "    </tr>\n",
              "    <tr>\n",
              "      <th>...</th>\n",
              "      <td>...</td>\n",
              "      <td>...</td>\n",
              "      <td>...</td>\n",
              "      <td>...</td>\n",
              "    </tr>\n",
              "    <tr>\n",
              "      <th>142</th>\n",
              "      <td>346</td>\n",
              "      <td>filed by    ncsoregi  at  mozilla com   pa...</td>\n",
              "      <td>filed by    dluca  at  mozilla com   parse...</td>\n",
              "      <td>1</td>\n",
              "    </tr>\n",
              "    <tr>\n",
              "      <th>143</th>\n",
              "      <td>351</td>\n",
              "      <td>this test under logingmanager test suite fai...</td>\n",
              "      <td>it shows   entries instead of   as seen in h...</td>\n",
              "      <td>1</td>\n",
              "    </tr>\n",
              "    <tr>\n",
              "      <th>144</th>\n",
              "      <td>353</td>\n",
              "      <td>filed by    apavel  at  mozilla com   pars...</td>\n",
              "      <td>filed by    apavel  at  mozilla com   pars...</td>\n",
              "      <td>1</td>\n",
              "    </tr>\n",
              "    <tr>\n",
              "      <th>145</th>\n",
              "      <td>354</td>\n",
              "      <td>user agent  mozilla       gecko   firefox   ...</td>\n",
              "      <td>user agent  mozilla       gecko   firefox   ...</td>\n",
              "      <td>1</td>\n",
              "    </tr>\n",
              "    <tr>\n",
              "      <th>146</th>\n",
              "      <td>355</td>\n",
              "      <td>sometimes while using top sites the panel wi...</td>\n",
              "      <td>master   iphone   plus       have a few item...</td>\n",
              "      <td>1</td>\n",
              "    </tr>\n",
              "  </tbody>\n",
              "</table>\n",
              "<p>147 rows × 4 columns</p>\n",
              "</div>\n",
              "      <button class=\"colab-df-convert\" onclick=\"convertToInteractive('df-e058828c-87be-431e-8626-9d628be38317')\"\n",
              "              title=\"Convert this dataframe to an interactive table.\"\n",
              "              style=\"display:none;\">\n",
              "        \n",
              "  <svg xmlns=\"http://www.w3.org/2000/svg\" height=\"24px\"viewBox=\"0 0 24 24\"\n",
              "       width=\"24px\">\n",
              "    <path d=\"M0 0h24v24H0V0z\" fill=\"none\"/>\n",
              "    <path d=\"M18.56 5.44l.94 2.06.94-2.06 2.06-.94-2.06-.94-.94-2.06-.94 2.06-2.06.94zm-11 1L8.5 8.5l.94-2.06 2.06-.94-2.06-.94L8.5 2.5l-.94 2.06-2.06.94zm10 10l.94 2.06.94-2.06 2.06-.94-2.06-.94-.94-2.06-.94 2.06-2.06.94z\"/><path d=\"M17.41 7.96l-1.37-1.37c-.4-.4-.92-.59-1.43-.59-.52 0-1.04.2-1.43.59L10.3 9.45l-7.72 7.72c-.78.78-.78 2.05 0 2.83L4 21.41c.39.39.9.59 1.41.59.51 0 1.02-.2 1.41-.59l7.78-7.78 2.81-2.81c.8-.78.8-2.07 0-2.86zM5.41 20L4 18.59l7.72-7.72 1.47 1.35L5.41 20z\"/>\n",
              "  </svg>\n",
              "      </button>\n",
              "      \n",
              "  <style>\n",
              "    .colab-df-container {\n",
              "      display:flex;\n",
              "      flex-wrap:wrap;\n",
              "      gap: 12px;\n",
              "    }\n",
              "\n",
              "    .colab-df-convert {\n",
              "      background-color: #E8F0FE;\n",
              "      border: none;\n",
              "      border-radius: 50%;\n",
              "      cursor: pointer;\n",
              "      display: none;\n",
              "      fill: #1967D2;\n",
              "      height: 32px;\n",
              "      padding: 0 0 0 0;\n",
              "      width: 32px;\n",
              "    }\n",
              "\n",
              "    .colab-df-convert:hover {\n",
              "      background-color: #E2EBFA;\n",
              "      box-shadow: 0px 1px 2px rgba(60, 64, 67, 0.3), 0px 1px 3px 1px rgba(60, 64, 67, 0.15);\n",
              "      fill: #174EA6;\n",
              "    }\n",
              "\n",
              "    [theme=dark] .colab-df-convert {\n",
              "      background-color: #3B4455;\n",
              "      fill: #D2E3FC;\n",
              "    }\n",
              "\n",
              "    [theme=dark] .colab-df-convert:hover {\n",
              "      background-color: #434B5C;\n",
              "      box-shadow: 0px 1px 3px 1px rgba(0, 0, 0, 0.15);\n",
              "      filter: drop-shadow(0px 1px 2px rgba(0, 0, 0, 0.3));\n",
              "      fill: #FFFFFF;\n",
              "    }\n",
              "  </style>\n",
              "\n",
              "      <script>\n",
              "        const buttonEl =\n",
              "          document.querySelector('#df-e058828c-87be-431e-8626-9d628be38317 button.colab-df-convert');\n",
              "        buttonEl.style.display =\n",
              "          google.colab.kernel.accessAllowed ? 'block' : 'none';\n",
              "\n",
              "        async function convertToInteractive(key) {\n",
              "          const element = document.querySelector('#df-e058828c-87be-431e-8626-9d628be38317');\n",
              "          const dataTable =\n",
              "            await google.colab.kernel.invokeFunction('convertToInteractive',\n",
              "                                                     [key], {});\n",
              "          if (!dataTable) return;\n",
              "\n",
              "          const docLinkHtml = 'Like what you see? Visit the ' +\n",
              "            '<a target=\"_blank\" href=https://colab.research.google.com/notebooks/data_table.ipynb>data table notebook</a>'\n",
              "            + ' to learn more about interactive tables.';\n",
              "          element.innerHTML = '';\n",
              "          dataTable['output_type'] = 'display_data';\n",
              "          await google.colab.output.renderOutput(dataTable, element);\n",
              "          const docLink = document.createElement('div');\n",
              "          docLink.innerHTML = docLinkHtml;\n",
              "          element.appendChild(docLink);\n",
              "        }\n",
              "      </script>\n",
              "    </div>\n",
              "  </div>\n",
              "  "
            ]
          },
          "metadata": {},
          "execution_count": 47
        }
      ]
    },
    {
      "cell_type": "code",
      "source": [
        "df_dissim = df_dissim[df_dissim.is_similar.astype('bool')].sample(147)\n",
        "df_dissim"
      ],
      "metadata": {
        "colab": {
          "base_uri": "https://localhost:8080/",
          "height": 424
        },
        "id": "XMWA41Ugxa1m",
        "outputId": "6a5ee68b-7400-43f3-c8b2-8fd5f3a35bb7"
      },
      "execution_count": 49,
      "outputs": [
        {
          "output_type": "execute_result",
          "data": {
            "text/plain": [
              "     Unnamed: 0                                       description1  \\\n",
              "39           94    user agent  mozilla       gecko   firefox   ...   \n",
              "52          135    user agent  mozilla       gecko   firefox   ...   \n",
              "75          187    from github    mobile fenix issues       thi...   \n",
              "94          235    this is to follow up to trigger the app menu...   \n",
              "134         327    from github    mobile fenix issues          ...   \n",
              "..          ...                                                ...   \n",
              "118         282      filed by    nerli  at  mozilla com   parse...   \n",
              "29           74    user agent  mozilla       gecko   firefox   ...   \n",
              "137         337      filed by    btara  at  mozilla com   parse...   \n",
              "146         355    sometimes while using top sites the panel wi...   \n",
              "104         253      filed by    rmaries  at  mozilla com   par...   \n",
              "\n",
              "                                          description2  is_similar  \n",
              "39     reported on slack    when typing into the go...           1  \n",
              "52     user agent  mozilla       gecko   firefox   ...           1  \n",
              "75     created attachment     html  this was initia...           1  \n",
              "94     build    device  iphone   ios      video    ...           1  \n",
              "134    i don t investigate regression range yet  i ...           1  \n",
              "..                                                 ...         ...  \n",
              "118      filed by    dluca  at  mozilla com   parse...           1  \n",
              "29     created attachment     mov  user agent  mozi...           1  \n",
              "137      filed by    malexandru  at  mozilla com   ...           1  \n",
              "146    master   iphone   plus       have a few item...           1  \n",
              "104      filed by    dluca  at  mozilla com   parse...           1  \n",
              "\n",
              "[147 rows x 4 columns]"
            ],
            "text/html": [
              "\n",
              "  <div id=\"df-0e3e261f-222e-4a9e-a4b2-0e8d512c9ede\">\n",
              "    <div class=\"colab-df-container\">\n",
              "      <div>\n",
              "<style scoped>\n",
              "    .dataframe tbody tr th:only-of-type {\n",
              "        vertical-align: middle;\n",
              "    }\n",
              "\n",
              "    .dataframe tbody tr th {\n",
              "        vertical-align: top;\n",
              "    }\n",
              "\n",
              "    .dataframe thead th {\n",
              "        text-align: right;\n",
              "    }\n",
              "</style>\n",
              "<table border=\"1\" class=\"dataframe\">\n",
              "  <thead>\n",
              "    <tr style=\"text-align: right;\">\n",
              "      <th></th>\n",
              "      <th>Unnamed: 0</th>\n",
              "      <th>description1</th>\n",
              "      <th>description2</th>\n",
              "      <th>is_similar</th>\n",
              "    </tr>\n",
              "  </thead>\n",
              "  <tbody>\n",
              "    <tr>\n",
              "      <th>39</th>\n",
              "      <td>94</td>\n",
              "      <td>user agent  mozilla       gecko   firefox   ...</td>\n",
              "      <td>reported on slack    when typing into the go...</td>\n",
              "      <td>1</td>\n",
              "    </tr>\n",
              "    <tr>\n",
              "      <th>52</th>\n",
              "      <td>135</td>\n",
              "      <td>user agent  mozilla       gecko   firefox   ...</td>\n",
              "      <td>user agent  mozilla       gecko   firefox   ...</td>\n",
              "      <td>1</td>\n",
              "    </tr>\n",
              "    <tr>\n",
              "      <th>75</th>\n",
              "      <td>187</td>\n",
              "      <td>from github    mobile fenix issues       thi...</td>\n",
              "      <td>created attachment     html  this was initia...</td>\n",
              "      <td>1</td>\n",
              "    </tr>\n",
              "    <tr>\n",
              "      <th>94</th>\n",
              "      <td>235</td>\n",
              "      <td>this is to follow up to trigger the app menu...</td>\n",
              "      <td>build    device  iphone   ios      video    ...</td>\n",
              "      <td>1</td>\n",
              "    </tr>\n",
              "    <tr>\n",
              "      <th>134</th>\n",
              "      <td>327</td>\n",
              "      <td>from github    mobile fenix issues          ...</td>\n",
              "      <td>i don t investigate regression range yet  i ...</td>\n",
              "      <td>1</td>\n",
              "    </tr>\n",
              "    <tr>\n",
              "      <th>...</th>\n",
              "      <td>...</td>\n",
              "      <td>...</td>\n",
              "      <td>...</td>\n",
              "      <td>...</td>\n",
              "    </tr>\n",
              "    <tr>\n",
              "      <th>118</th>\n",
              "      <td>282</td>\n",
              "      <td>filed by    nerli  at  mozilla com   parse...</td>\n",
              "      <td>filed by    dluca  at  mozilla com   parse...</td>\n",
              "      <td>1</td>\n",
              "    </tr>\n",
              "    <tr>\n",
              "      <th>29</th>\n",
              "      <td>74</td>\n",
              "      <td>user agent  mozilla       gecko   firefox   ...</td>\n",
              "      <td>created attachment     mov  user agent  mozi...</td>\n",
              "      <td>1</td>\n",
              "    </tr>\n",
              "    <tr>\n",
              "      <th>137</th>\n",
              "      <td>337</td>\n",
              "      <td>filed by    btara  at  mozilla com   parse...</td>\n",
              "      <td>filed by    malexandru  at  mozilla com   ...</td>\n",
              "      <td>1</td>\n",
              "    </tr>\n",
              "    <tr>\n",
              "      <th>146</th>\n",
              "      <td>355</td>\n",
              "      <td>sometimes while using top sites the panel wi...</td>\n",
              "      <td>master   iphone   plus       have a few item...</td>\n",
              "      <td>1</td>\n",
              "    </tr>\n",
              "    <tr>\n",
              "      <th>104</th>\n",
              "      <td>253</td>\n",
              "      <td>filed by    rmaries  at  mozilla com   par...</td>\n",
              "      <td>filed by    dluca  at  mozilla com   parse...</td>\n",
              "      <td>1</td>\n",
              "    </tr>\n",
              "  </tbody>\n",
              "</table>\n",
              "<p>147 rows × 4 columns</p>\n",
              "</div>\n",
              "      <button class=\"colab-df-convert\" onclick=\"convertToInteractive('df-0e3e261f-222e-4a9e-a4b2-0e8d512c9ede')\"\n",
              "              title=\"Convert this dataframe to an interactive table.\"\n",
              "              style=\"display:none;\">\n",
              "        \n",
              "  <svg xmlns=\"http://www.w3.org/2000/svg\" height=\"24px\"viewBox=\"0 0 24 24\"\n",
              "       width=\"24px\">\n",
              "    <path d=\"M0 0h24v24H0V0z\" fill=\"none\"/>\n",
              "    <path d=\"M18.56 5.44l.94 2.06.94-2.06 2.06-.94-2.06-.94-.94-2.06-.94 2.06-2.06.94zm-11 1L8.5 8.5l.94-2.06 2.06-.94-2.06-.94L8.5 2.5l-.94 2.06-2.06.94zm10 10l.94 2.06.94-2.06 2.06-.94-2.06-.94-.94-2.06-.94 2.06-2.06.94z\"/><path d=\"M17.41 7.96l-1.37-1.37c-.4-.4-.92-.59-1.43-.59-.52 0-1.04.2-1.43.59L10.3 9.45l-7.72 7.72c-.78.78-.78 2.05 0 2.83L4 21.41c.39.39.9.59 1.41.59.51 0 1.02-.2 1.41-.59l7.78-7.78 2.81-2.81c.8-.78.8-2.07 0-2.86zM5.41 20L4 18.59l7.72-7.72 1.47 1.35L5.41 20z\"/>\n",
              "  </svg>\n",
              "      </button>\n",
              "      \n",
              "  <style>\n",
              "    .colab-df-container {\n",
              "      display:flex;\n",
              "      flex-wrap:wrap;\n",
              "      gap: 12px;\n",
              "    }\n",
              "\n",
              "    .colab-df-convert {\n",
              "      background-color: #E8F0FE;\n",
              "      border: none;\n",
              "      border-radius: 50%;\n",
              "      cursor: pointer;\n",
              "      display: none;\n",
              "      fill: #1967D2;\n",
              "      height: 32px;\n",
              "      padding: 0 0 0 0;\n",
              "      width: 32px;\n",
              "    }\n",
              "\n",
              "    .colab-df-convert:hover {\n",
              "      background-color: #E2EBFA;\n",
              "      box-shadow: 0px 1px 2px rgba(60, 64, 67, 0.3), 0px 1px 3px 1px rgba(60, 64, 67, 0.15);\n",
              "      fill: #174EA6;\n",
              "    }\n",
              "\n",
              "    [theme=dark] .colab-df-convert {\n",
              "      background-color: #3B4455;\n",
              "      fill: #D2E3FC;\n",
              "    }\n",
              "\n",
              "    [theme=dark] .colab-df-convert:hover {\n",
              "      background-color: #434B5C;\n",
              "      box-shadow: 0px 1px 3px 1px rgba(0, 0, 0, 0.15);\n",
              "      filter: drop-shadow(0px 1px 2px rgba(0, 0, 0, 0.3));\n",
              "      fill: #FFFFFF;\n",
              "    }\n",
              "  </style>\n",
              "\n",
              "      <script>\n",
              "        const buttonEl =\n",
              "          document.querySelector('#df-0e3e261f-222e-4a9e-a4b2-0e8d512c9ede button.colab-df-convert');\n",
              "        buttonEl.style.display =\n",
              "          google.colab.kernel.accessAllowed ? 'block' : 'none';\n",
              "\n",
              "        async function convertToInteractive(key) {\n",
              "          const element = document.querySelector('#df-0e3e261f-222e-4a9e-a4b2-0e8d512c9ede');\n",
              "          const dataTable =\n",
              "            await google.colab.kernel.invokeFunction('convertToInteractive',\n",
              "                                                     [key], {});\n",
              "          if (!dataTable) return;\n",
              "\n",
              "          const docLinkHtml = 'Like what you see? Visit the ' +\n",
              "            '<a target=\"_blank\" href=https://colab.research.google.com/notebooks/data_table.ipynb>data table notebook</a>'\n",
              "            + ' to learn more about interactive tables.';\n",
              "          element.innerHTML = '';\n",
              "          dataTable['output_type'] = 'display_data';\n",
              "          await google.colab.output.renderOutput(dataTable, element);\n",
              "          const docLink = document.createElement('div');\n",
              "          docLink.innerHTML = docLinkHtml;\n",
              "          element.appendChild(docLink);\n",
              "        }\n",
              "      </script>\n",
              "    </div>\n",
              "  </div>\n",
              "  "
            ]
          },
          "metadata": {},
          "execution_count": 49
        }
      ]
    },
    {
      "cell_type": "code",
      "source": [
        "df_dissim = df_dissim.drop(columns=['Unnamed: 0'])\n",
        "df_dissim"
      ],
      "metadata": {
        "colab": {
          "base_uri": "https://localhost:8080/",
          "height": 424
        },
        "id": "CUQhO84GbFit",
        "outputId": "7099fc5f-bb67-4a43-9229-64ad177ad7e9"
      },
      "execution_count": 50,
      "outputs": [
        {
          "output_type": "execute_result",
          "data": {
            "text/plain": [
              "                                          description1  \\\n",
              "39     user agent  mozilla       gecko   firefox   ...   \n",
              "52     user agent  mozilla       gecko   firefox   ...   \n",
              "75     from github    mobile fenix issues       thi...   \n",
              "94     this is to follow up to trigger the app menu...   \n",
              "134    from github    mobile fenix issues          ...   \n",
              "..                                                 ...   \n",
              "118      filed by    nerli  at  mozilla com   parse...   \n",
              "29     user agent  mozilla       gecko   firefox   ...   \n",
              "137      filed by    btara  at  mozilla com   parse...   \n",
              "146    sometimes while using top sites the panel wi...   \n",
              "104      filed by    rmaries  at  mozilla com   par...   \n",
              "\n",
              "                                          description2  is_similar  \n",
              "39     reported on slack    when typing into the go...           1  \n",
              "52     user agent  mozilla       gecko   firefox   ...           1  \n",
              "75     created attachment     html  this was initia...           1  \n",
              "94     build    device  iphone   ios      video    ...           1  \n",
              "134    i don t investigate regression range yet  i ...           1  \n",
              "..                                                 ...         ...  \n",
              "118      filed by    dluca  at  mozilla com   parse...           1  \n",
              "29     created attachment     mov  user agent  mozi...           1  \n",
              "137      filed by    malexandru  at  mozilla com   ...           1  \n",
              "146    master   iphone   plus       have a few item...           1  \n",
              "104      filed by    dluca  at  mozilla com   parse...           1  \n",
              "\n",
              "[147 rows x 3 columns]"
            ],
            "text/html": [
              "\n",
              "  <div id=\"df-9bcb6e85-c376-4baf-9144-a852abdcfd74\">\n",
              "    <div class=\"colab-df-container\">\n",
              "      <div>\n",
              "<style scoped>\n",
              "    .dataframe tbody tr th:only-of-type {\n",
              "        vertical-align: middle;\n",
              "    }\n",
              "\n",
              "    .dataframe tbody tr th {\n",
              "        vertical-align: top;\n",
              "    }\n",
              "\n",
              "    .dataframe thead th {\n",
              "        text-align: right;\n",
              "    }\n",
              "</style>\n",
              "<table border=\"1\" class=\"dataframe\">\n",
              "  <thead>\n",
              "    <tr style=\"text-align: right;\">\n",
              "      <th></th>\n",
              "      <th>description1</th>\n",
              "      <th>description2</th>\n",
              "      <th>is_similar</th>\n",
              "    </tr>\n",
              "  </thead>\n",
              "  <tbody>\n",
              "    <tr>\n",
              "      <th>39</th>\n",
              "      <td>user agent  mozilla       gecko   firefox   ...</td>\n",
              "      <td>reported on slack    when typing into the go...</td>\n",
              "      <td>1</td>\n",
              "    </tr>\n",
              "    <tr>\n",
              "      <th>52</th>\n",
              "      <td>user agent  mozilla       gecko   firefox   ...</td>\n",
              "      <td>user agent  mozilla       gecko   firefox   ...</td>\n",
              "      <td>1</td>\n",
              "    </tr>\n",
              "    <tr>\n",
              "      <th>75</th>\n",
              "      <td>from github    mobile fenix issues       thi...</td>\n",
              "      <td>created attachment     html  this was initia...</td>\n",
              "      <td>1</td>\n",
              "    </tr>\n",
              "    <tr>\n",
              "      <th>94</th>\n",
              "      <td>this is to follow up to trigger the app menu...</td>\n",
              "      <td>build    device  iphone   ios      video    ...</td>\n",
              "      <td>1</td>\n",
              "    </tr>\n",
              "    <tr>\n",
              "      <th>134</th>\n",
              "      <td>from github    mobile fenix issues          ...</td>\n",
              "      <td>i don t investigate regression range yet  i ...</td>\n",
              "      <td>1</td>\n",
              "    </tr>\n",
              "    <tr>\n",
              "      <th>...</th>\n",
              "      <td>...</td>\n",
              "      <td>...</td>\n",
              "      <td>...</td>\n",
              "    </tr>\n",
              "    <tr>\n",
              "      <th>118</th>\n",
              "      <td>filed by    nerli  at  mozilla com   parse...</td>\n",
              "      <td>filed by    dluca  at  mozilla com   parse...</td>\n",
              "      <td>1</td>\n",
              "    </tr>\n",
              "    <tr>\n",
              "      <th>29</th>\n",
              "      <td>user agent  mozilla       gecko   firefox   ...</td>\n",
              "      <td>created attachment     mov  user agent  mozi...</td>\n",
              "      <td>1</td>\n",
              "    </tr>\n",
              "    <tr>\n",
              "      <th>137</th>\n",
              "      <td>filed by    btara  at  mozilla com   parse...</td>\n",
              "      <td>filed by    malexandru  at  mozilla com   ...</td>\n",
              "      <td>1</td>\n",
              "    </tr>\n",
              "    <tr>\n",
              "      <th>146</th>\n",
              "      <td>sometimes while using top sites the panel wi...</td>\n",
              "      <td>master   iphone   plus       have a few item...</td>\n",
              "      <td>1</td>\n",
              "    </tr>\n",
              "    <tr>\n",
              "      <th>104</th>\n",
              "      <td>filed by    rmaries  at  mozilla com   par...</td>\n",
              "      <td>filed by    dluca  at  mozilla com   parse...</td>\n",
              "      <td>1</td>\n",
              "    </tr>\n",
              "  </tbody>\n",
              "</table>\n",
              "<p>147 rows × 3 columns</p>\n",
              "</div>\n",
              "      <button class=\"colab-df-convert\" onclick=\"convertToInteractive('df-9bcb6e85-c376-4baf-9144-a852abdcfd74')\"\n",
              "              title=\"Convert this dataframe to an interactive table.\"\n",
              "              style=\"display:none;\">\n",
              "        \n",
              "  <svg xmlns=\"http://www.w3.org/2000/svg\" height=\"24px\"viewBox=\"0 0 24 24\"\n",
              "       width=\"24px\">\n",
              "    <path d=\"M0 0h24v24H0V0z\" fill=\"none\"/>\n",
              "    <path d=\"M18.56 5.44l.94 2.06.94-2.06 2.06-.94-2.06-.94-.94-2.06-.94 2.06-2.06.94zm-11 1L8.5 8.5l.94-2.06 2.06-.94-2.06-.94L8.5 2.5l-.94 2.06-2.06.94zm10 10l.94 2.06.94-2.06 2.06-.94-2.06-.94-.94-2.06-.94 2.06-2.06.94z\"/><path d=\"M17.41 7.96l-1.37-1.37c-.4-.4-.92-.59-1.43-.59-.52 0-1.04.2-1.43.59L10.3 9.45l-7.72 7.72c-.78.78-.78 2.05 0 2.83L4 21.41c.39.39.9.59 1.41.59.51 0 1.02-.2 1.41-.59l7.78-7.78 2.81-2.81c.8-.78.8-2.07 0-2.86zM5.41 20L4 18.59l7.72-7.72 1.47 1.35L5.41 20z\"/>\n",
              "  </svg>\n",
              "      </button>\n",
              "      \n",
              "  <style>\n",
              "    .colab-df-container {\n",
              "      display:flex;\n",
              "      flex-wrap:wrap;\n",
              "      gap: 12px;\n",
              "    }\n",
              "\n",
              "    .colab-df-convert {\n",
              "      background-color: #E8F0FE;\n",
              "      border: none;\n",
              "      border-radius: 50%;\n",
              "      cursor: pointer;\n",
              "      display: none;\n",
              "      fill: #1967D2;\n",
              "      height: 32px;\n",
              "      padding: 0 0 0 0;\n",
              "      width: 32px;\n",
              "    }\n",
              "\n",
              "    .colab-df-convert:hover {\n",
              "      background-color: #E2EBFA;\n",
              "      box-shadow: 0px 1px 2px rgba(60, 64, 67, 0.3), 0px 1px 3px 1px rgba(60, 64, 67, 0.15);\n",
              "      fill: #174EA6;\n",
              "    }\n",
              "\n",
              "    [theme=dark] .colab-df-convert {\n",
              "      background-color: #3B4455;\n",
              "      fill: #D2E3FC;\n",
              "    }\n",
              "\n",
              "    [theme=dark] .colab-df-convert:hover {\n",
              "      background-color: #434B5C;\n",
              "      box-shadow: 0px 1px 3px 1px rgba(0, 0, 0, 0.15);\n",
              "      filter: drop-shadow(0px 1px 2px rgba(0, 0, 0, 0.3));\n",
              "      fill: #FFFFFF;\n",
              "    }\n",
              "  </style>\n",
              "\n",
              "      <script>\n",
              "        const buttonEl =\n",
              "          document.querySelector('#df-9bcb6e85-c376-4baf-9144-a852abdcfd74 button.colab-df-convert');\n",
              "        buttonEl.style.display =\n",
              "          google.colab.kernel.accessAllowed ? 'block' : 'none';\n",
              "\n",
              "        async function convertToInteractive(key) {\n",
              "          const element = document.querySelector('#df-9bcb6e85-c376-4baf-9144-a852abdcfd74');\n",
              "          const dataTable =\n",
              "            await google.colab.kernel.invokeFunction('convertToInteractive',\n",
              "                                                     [key], {});\n",
              "          if (!dataTable) return;\n",
              "\n",
              "          const docLinkHtml = 'Like what you see? Visit the ' +\n",
              "            '<a target=\"_blank\" href=https://colab.research.google.com/notebooks/data_table.ipynb>data table notebook</a>'\n",
              "            + ' to learn more about interactive tables.';\n",
              "          element.innerHTML = '';\n",
              "          dataTable['output_type'] = 'display_data';\n",
              "          await google.colab.output.renderOutput(dataTable, element);\n",
              "          const docLink = document.createElement('div');\n",
              "          docLink.innerHTML = docLinkHtml;\n",
              "          element.appendChild(docLink);\n",
              "        }\n",
              "      </script>\n",
              "    </div>\n",
              "  </div>\n",
              "  "
            ]
          },
          "metadata": {},
          "execution_count": 50
        }
      ]
    },
    {
      "cell_type": "code",
      "source": [
        "descr_vectorizer, descr_word_index = build_vocab(\n",
        "  [df_dissim.description1, df_dissim.description2],\n",
        "  MAX_DESCRIPTION_LENGTH,\n",
        ")\n",
        "\n",
        "print(\n",
        "  'Most frequent description words:',\n",
        "  list(itertools.islice(descr_word_index.keys(), 5)),\n",
        ")"
      ],
      "metadata": {
        "colab": {
          "base_uri": "https://localhost:8080/"
        },
        "id": "p_aOFNCSbFTw",
        "outputId": "15cc6b98-9c87-4470-f49b-1be62a26016f"
      },
      "execution_count": 51,
      "outputs": [
        {
          "output_type": "stream",
          "name": "stdout",
          "text": [
            "Most frequent description words: ['', '[UNK]', 'task', 'info', 'org']\n"
          ]
        }
      ]
    },
    {
      "cell_type": "code",
      "source": [
        "def create_embedding_matrix(\n",
        "  embeddings_index: Dict[str, np.ndarray],\n",
        "  word_index: Dict[str, int],\n",
        "  verbose=False,\n",
        "):\n",
        "  hits = 0\n",
        "  misses = 0\n",
        "\n",
        "  # prepare embedding matrix\n",
        "  embedding_matrix = np.zeros((descr_vectorizer.vocabulary_size(), EMBEDDING_DIM))\n",
        "  for word, i in word_index.items():\n",
        "    embedding_vector = embeddings_index.get(word)\n",
        "    if embedding_vector is not None:\n",
        "      # Words not found in embedding index will be all-zeros.\n",
        "      # This includes the representation for \"padding\" and \"OOV\"\n",
        "      embedding_matrix[i] = embedding_vector\n",
        "      hits += 1\n",
        "    else:\n",
        "      misses += 1\n",
        "\n",
        "  if verbose:\n",
        "    print('Embedding shape:', embedding_matrix.shape)\n",
        "    print(f'Found {hits} words, missed {misses}.')\n",
        "\n",
        "  return embedding_matrix"
      ],
      "metadata": {
        "id": "VrpcRQPkbE5m"
      },
      "execution_count": 52,
      "outputs": []
    },
    {
      "cell_type": "code",
      "source": [
        "print('Creating description embedding matrix:')\n",
        "descr_embedding_matrix1 = create_embedding_matrix(\n",
        "  embeddings_index, descr_word_index, True,\n",
        ")"
      ],
      "metadata": {
        "colab": {
          "base_uri": "https://localhost:8080/"
        },
        "id": "8k9Wg7D8jbrJ",
        "outputId": "6d525035-e8cd-43c3-b774-4a4c923a38e7"
      },
      "execution_count": 53,
      "outputs": [
        {
          "output_type": "stream",
          "name": "stdout",
          "text": [
            "Creating description embedding matrix:\n",
            "Embedding shape: (2898, 100)\n",
            "Found 2129 words, missed 769.\n"
          ]
        }
      ]
    },
    {
      "cell_type": "code",
      "source": [
        "descr_embedding_matrix1"
      ],
      "metadata": {
        "colab": {
          "base_uri": "https://localhost:8080/"
        },
        "id": "-X5T5Vg2jfvl",
        "outputId": "4cddd258-4d32-4478-d388-a33c010aa83c"
      },
      "execution_count": 54,
      "outputs": [
        {
          "output_type": "execute_result",
          "data": {
            "text/plain": [
              "array([[ 0.        ,  0.        ,  0.        , ...,  0.        ,\n",
              "         0.        ,  0.        ],\n",
              "       [ 0.        ,  0.        ,  0.        , ...,  0.        ,\n",
              "         0.        ,  0.        ],\n",
              "       [-0.87711   ,  0.024024  ,  0.24731   , ..., -0.67763001,\n",
              "         0.52288002,  0.37309   ],\n",
              "       ...,\n",
              "       [-0.085363  , -0.53375   ,  1.37989998, ..., -1.01979995,\n",
              "        -0.17844   ,  0.25850999],\n",
              "       [ 0.38417   , -0.75831002,  0.13336   , ...,  0.65424001,\n",
              "        -0.14044   ,  0.12812001],\n",
              "       [ 0.13818   , -0.67548001, -0.38606   , ...,  0.45556   ,\n",
              "        -0.2233    , -0.45269999]])"
            ]
          },
          "metadata": {},
          "execution_count": 54
        }
      ]
    },
    {
      "cell_type": "code",
      "source": [
        "X1 = descr_embedding_matrix1"
      ],
      "metadata": {
        "id": "UPaJcmEJwPcp"
      },
      "execution_count": 55,
      "outputs": []
    },
    {
      "cell_type": "code",
      "source": [
        "#hopkins(scale(X1),X1.shape[0])"
      ],
      "metadata": {
        "id": "4diPVDtcwPhL"
      },
      "execution_count": 56,
      "outputs": []
    },
    {
      "cell_type": "code",
      "source": [
        "#hopkins(X1, X1.shape[0])"
      ],
      "metadata": {
        "id": "F0D1HUSXwPkA"
      },
      "execution_count": 57,
      "outputs": []
    },
    {
      "cell_type": "code",
      "source": [
        "# function to compute hopkins's statistic for the dataframe X\n",
        "def hopkins_statistic(X1):\n",
        "    \n",
        "     #convert dataframe to a numpy array\n",
        "    sample_size = int(X1.shape[0]*0.05) #0.05 (5%) based on paper by Lawson and Jures\n",
        "    \n",
        "    \n",
        "    #a uniform random sample in the original data space\n",
        "    X1_uniform_random_sample = uniform(X1.min(axis=0), X1.max(axis=0) ,(sample_size , X1.shape[1]))\n",
        "    \n",
        "    \n",
        "    \n",
        "    #a random sample of size sample_size from the original data X\n",
        "    random_indices=sample(range(0, X1.shape[0], 1), sample_size)\n",
        "    X1_sample = X1[random_indices]\n",
        "   \n",
        "    \n",
        "    #initialise unsupervised learner for implementing neighbor searches\n",
        "    neigh = NearestNeighbors(n_neighbors=2)\n",
        "    nbrs=neigh.fit(X1)\n",
        "    \n",
        "    #u_distances = nearest neighbour distances from uniform random sample\n",
        "    u_distances , u_indices = nbrs.kneighbors(X1_uniform_random_sample , n_neighbors=2)\n",
        "    u_distances = u_distances[: , 0] #distance to the first (nearest) neighbour\n",
        "    \n",
        "    #w_distances = nearest neighbour distances from a sample of points from original data X\n",
        "    w_distances , w_indices = nbrs.kneighbors(X1_sample , n_neighbors=2)\n",
        "    #distance to the second nearest neighbour (as the first neighbour will be the point itself, with distance = 0)\n",
        "    w_distances = w_distances[: , 1]\n",
        "    \n",
        " \n",
        "    \n",
        "    u_sum = np.sum(u_distances)\n",
        "    w_sum = np.sum(w_distances)\n",
        "    \n",
        "    #compute and return hopkins' statistic\n",
        "    H = u_sum/ (u_sum + w_sum)\n",
        "    return H"
      ],
      "metadata": {
        "id": "zfMWX0zCCoQ9"
      },
      "execution_count": 58,
      "outputs": []
    },
    {
      "cell_type": "code",
      "source": [
        "l1 = [] #list to hold values for each call\n",
        "for i in range(300):\n",
        "    H1=hopkins_statistic(X1)\n",
        "    l1.append(H1)\n",
        "#print average value:\n",
        "print(H1)\n",
        "print(l1)"
      ],
      "metadata": {
        "colab": {
          "base_uri": "https://localhost:8080/"
        },
        "id": "Df_zxvEGCoTo",
        "outputId": "304852b7-0f3e-4c91-a3f5-26483d1d1645"
      },
      "execution_count": 59,
      "outputs": [
        {
          "output_type": "stream",
          "name": "stdout",
          "text": [
            "0.7596057920591343\n",
            "[0.7750801537152895, 0.784190180992661, 0.7597320419773628, 0.7904671099741377, 0.7729743285512365, 0.7786896368750778, 0.756954267437068, 0.7791171731873882, 0.770631634596505, 0.7843750847081722, 0.7850666639610997, 0.7651330289999116, 0.7686223343537035, 0.7735591559341662, 0.7654063914254824, 0.7835546823912126, 0.763388848052929, 0.7659821238455571, 0.7741902211746415, 0.7706507239506428, 0.7809675432818707, 0.7721816277639781, 0.7634391001988463, 0.7837890111449007, 0.760920592106273, 0.7678101994319474, 0.7596627768454015, 0.773069053640954, 0.7642142648322273, 0.7752677922748403, 0.7676840841185325, 0.7616491576311686, 0.7477387296985243, 0.7779506264264577, 0.7621094712594767, 0.7950238520396512, 0.7596356605213375, 0.7645929312582664, 0.757806618226693, 0.7646228645760962, 0.7720926237330116, 0.77125235627666, 0.767469581532574, 0.7593852558655833, 0.7493205513867526, 0.7863397215630415, 0.7687538695693106, 0.7709111406240301, 0.7645167310327271, 0.7702501190964091, 0.7677312477431428, 0.7627932048231166, 0.7666126713313849, 0.7846853533702757, 0.7769339009021317, 0.7834912244917264, 0.7793814511446435, 0.7675199700219388, 0.7842238650465694, 0.7678449773457309, 0.7779857274162354, 0.7683518552487745, 0.7841920974326605, 0.7709241681863357, 0.7945475154196684, 0.7733343815014253, 0.78241043184066, 0.7718524203523756, 0.7898619554290374, 0.774059319215566, 0.7792839585295274, 0.7790439725504854, 0.7651112785470371, 0.7561002079127054, 0.7654446785123914, 0.7834627090092524, 0.7699392212924452, 0.7692038888843609, 0.7757930805180626, 0.7808076906742708, 0.7663956131255183, 0.7667995915262519, 0.7724273670188488, 0.7852834055261391, 0.7480781189706475, 0.7722342154397253, 0.7834822840334698, 0.7835251352050452, 0.7749434450475166, 0.7690742537510651, 0.7772884664475948, 0.7758529110848218, 0.7631303790851905, 0.7702886200803178, 0.7814578675699033, 0.7652738047174339, 0.7830438414763066, 0.7715025675319707, 0.7910633819051682, 0.7733964686973116, 0.7527873085315742, 0.766885964485267, 0.782206138388058, 0.7770068079686531, 0.7704209937415295, 0.7557535757542038, 0.7612233078975672, 0.7851308882007602, 0.7611808405774573, 0.7657041190723318, 0.7516058616047869, 0.7641773903868623, 0.769842955279377, 0.7699798044592211, 0.7744731119356965, 0.7676385182972653, 0.776913423564719, 0.7672354586086452, 0.7591676942444114, 0.7845205721676927, 0.787063730845788, 0.783514042351935, 0.7829153358229521, 0.7786295754772484, 0.7843547270338511, 0.7615020754556268, 0.7679675656541461, 0.7870135108611197, 0.7622803473178011, 0.7656623743534325, 0.7795897664550295, 0.777295604389444, 0.7855840280352777, 0.7779216158600715, 0.7671201941953083, 0.7827649417979478, 0.7591803609349166, 0.7750968478700778, 0.7613393081716623, 0.7564921230096936, 0.7804687445207537, 0.758461697640692, 0.7831002703392138, 0.7728696179245619, 0.7696937656430423, 0.7798364078623241, 0.7622857356411127, 0.7644706762849179, 0.7752327674051692, 0.7741273422029695, 0.7710526751763781, 0.7758562902897111, 0.7581579462232765, 0.7722986359611458, 0.7775811274745669, 0.7778261533615023, 0.778363271047671, 0.7692593447264244, 0.7748500650591936, 0.7802892589638668, 0.7786792126341968, 0.7646929053509759, 0.776312712344082, 0.7781328433221787, 0.7756035954601739, 0.7788235169667099, 0.7767208773455665, 0.788518105667476, 0.7796122561824744, 0.7632247754011556, 0.785185407551876, 0.7722693880221468, 0.7708047417453695, 0.7679789083960812, 0.7624549747459479, 0.7571195418171816, 0.7615218145417612, 0.7681442389450485, 0.7618390552968894, 0.7802375720612967, 0.7610777736936867, 0.7546711535380398, 0.7579768977591431, 0.7787498241378426, 0.7782813012112596, 0.7602914963936196, 0.7727643148904997, 0.7719671295299734, 0.779570080354015, 0.7803566770534426, 0.7673964100898095, 0.7666777617926702, 0.7635414783249957, 0.7694387910931023, 0.7659654571755015, 0.7655952978832655, 0.7704155277479183, 0.7548980842607267, 0.7697751362896496, 0.7590592122282395, 0.767237445373178, 0.7760568335647536, 0.7652105918284705, 0.7829346761054279, 0.7810452624191188, 0.7794579214715889, 0.7803393539006714, 0.7829234484348891, 0.7630034896988704, 0.7853796918497065, 0.7642212495239761, 0.7846038292031025, 0.7465726470335318, 0.7835281867819198, 0.7851299573446441, 0.7849571149474517, 0.7747860623109363, 0.762247874369923, 0.7739093283280488, 0.7823235606695276, 0.7666954046844797, 0.7719031433862936, 0.7759737404556892, 0.7733003342237262, 0.7821544455591398, 0.7672544016023122, 0.7763904643425604, 0.7712085472216574, 0.7723267343537428, 0.7792777164589458, 0.7653583986923249, 0.7712128914632224, 0.7671424243923272, 0.7747792792636973, 0.7717654958647985, 0.7651174710643015, 0.7605087465811694, 0.7612744132727515, 0.7904753602171942, 0.7675836651855531, 0.7575308235548078, 0.7799459366539379, 0.7835752152199311, 0.7881951165120271, 0.7655768767660184, 0.7672104539839282, 0.7832560806190615, 0.7637501802698466, 0.7702055504549497, 0.7728399554942551, 0.7772272207089246, 0.7690913686798793, 0.7790018426188582, 0.7700545010080427, 0.7818268354453769, 0.7684318072997621, 0.7641278084810634, 0.7656983843970293, 0.7610433845301411, 0.7597852895452889, 0.7873111619453466, 0.7781825422828877, 0.7661581031795802, 0.7689514731059486, 0.7538113329145636, 0.7689512730765793, 0.7706474551754086, 0.7733377510597412, 0.768528325488612, 0.7675346695419009, 0.7918069987329086, 0.768361535811527, 0.777588078231268, 0.7775088814765414, 0.7831288296467972, 0.7761854143572734, 0.7916030813297474, 0.768493249721583, 0.7665754216223635, 0.7666589495096605, 0.7725784839042379, 0.7768035123855447, 0.795693832674382, 0.7621659666414944, 0.7691025788834432, 0.7503756795892437, 0.7589903318815769, 0.7826505129282456, 0.7915317990081722, 0.7671250001140117, 0.7614148050868016, 0.7698559858253521, 0.7814416770365408, 0.7644278606117365, 0.7674693723484033, 0.7673777647694286, 0.7687334578260574, 0.789214553615289, 0.7857890199124873, 0.7596057920591343]\n"
          ]
        }
      ]
    },
    {
      "cell_type": "code",
      "source": [
        "# print in new line\n",
        "print(l1, sep = \"\\n\")"
      ],
      "metadata": {
        "colab": {
          "base_uri": "https://localhost:8080/"
        },
        "id": "8z_RmoOeWwLM",
        "outputId": "c721000a-05d8-436b-b835-55f019736765"
      },
      "execution_count": 60,
      "outputs": [
        {
          "output_type": "stream",
          "name": "stdout",
          "text": [
            "[0.7750801537152895, 0.784190180992661, 0.7597320419773628, 0.7904671099741377, 0.7729743285512365, 0.7786896368750778, 0.756954267437068, 0.7791171731873882, 0.770631634596505, 0.7843750847081722, 0.7850666639610997, 0.7651330289999116, 0.7686223343537035, 0.7735591559341662, 0.7654063914254824, 0.7835546823912126, 0.763388848052929, 0.7659821238455571, 0.7741902211746415, 0.7706507239506428, 0.7809675432818707, 0.7721816277639781, 0.7634391001988463, 0.7837890111449007, 0.760920592106273, 0.7678101994319474, 0.7596627768454015, 0.773069053640954, 0.7642142648322273, 0.7752677922748403, 0.7676840841185325, 0.7616491576311686, 0.7477387296985243, 0.7779506264264577, 0.7621094712594767, 0.7950238520396512, 0.7596356605213375, 0.7645929312582664, 0.757806618226693, 0.7646228645760962, 0.7720926237330116, 0.77125235627666, 0.767469581532574, 0.7593852558655833, 0.7493205513867526, 0.7863397215630415, 0.7687538695693106, 0.7709111406240301, 0.7645167310327271, 0.7702501190964091, 0.7677312477431428, 0.7627932048231166, 0.7666126713313849, 0.7846853533702757, 0.7769339009021317, 0.7834912244917264, 0.7793814511446435, 0.7675199700219388, 0.7842238650465694, 0.7678449773457309, 0.7779857274162354, 0.7683518552487745, 0.7841920974326605, 0.7709241681863357, 0.7945475154196684, 0.7733343815014253, 0.78241043184066, 0.7718524203523756, 0.7898619554290374, 0.774059319215566, 0.7792839585295274, 0.7790439725504854, 0.7651112785470371, 0.7561002079127054, 0.7654446785123914, 0.7834627090092524, 0.7699392212924452, 0.7692038888843609, 0.7757930805180626, 0.7808076906742708, 0.7663956131255183, 0.7667995915262519, 0.7724273670188488, 0.7852834055261391, 0.7480781189706475, 0.7722342154397253, 0.7834822840334698, 0.7835251352050452, 0.7749434450475166, 0.7690742537510651, 0.7772884664475948, 0.7758529110848218, 0.7631303790851905, 0.7702886200803178, 0.7814578675699033, 0.7652738047174339, 0.7830438414763066, 0.7715025675319707, 0.7910633819051682, 0.7733964686973116, 0.7527873085315742, 0.766885964485267, 0.782206138388058, 0.7770068079686531, 0.7704209937415295, 0.7557535757542038, 0.7612233078975672, 0.7851308882007602, 0.7611808405774573, 0.7657041190723318, 0.7516058616047869, 0.7641773903868623, 0.769842955279377, 0.7699798044592211, 0.7744731119356965, 0.7676385182972653, 0.776913423564719, 0.7672354586086452, 0.7591676942444114, 0.7845205721676927, 0.787063730845788, 0.783514042351935, 0.7829153358229521, 0.7786295754772484, 0.7843547270338511, 0.7615020754556268, 0.7679675656541461, 0.7870135108611197, 0.7622803473178011, 0.7656623743534325, 0.7795897664550295, 0.777295604389444, 0.7855840280352777, 0.7779216158600715, 0.7671201941953083, 0.7827649417979478, 0.7591803609349166, 0.7750968478700778, 0.7613393081716623, 0.7564921230096936, 0.7804687445207537, 0.758461697640692, 0.7831002703392138, 0.7728696179245619, 0.7696937656430423, 0.7798364078623241, 0.7622857356411127, 0.7644706762849179, 0.7752327674051692, 0.7741273422029695, 0.7710526751763781, 0.7758562902897111, 0.7581579462232765, 0.7722986359611458, 0.7775811274745669, 0.7778261533615023, 0.778363271047671, 0.7692593447264244, 0.7748500650591936, 0.7802892589638668, 0.7786792126341968, 0.7646929053509759, 0.776312712344082, 0.7781328433221787, 0.7756035954601739, 0.7788235169667099, 0.7767208773455665, 0.788518105667476, 0.7796122561824744, 0.7632247754011556, 0.785185407551876, 0.7722693880221468, 0.7708047417453695, 0.7679789083960812, 0.7624549747459479, 0.7571195418171816, 0.7615218145417612, 0.7681442389450485, 0.7618390552968894, 0.7802375720612967, 0.7610777736936867, 0.7546711535380398, 0.7579768977591431, 0.7787498241378426, 0.7782813012112596, 0.7602914963936196, 0.7727643148904997, 0.7719671295299734, 0.779570080354015, 0.7803566770534426, 0.7673964100898095, 0.7666777617926702, 0.7635414783249957, 0.7694387910931023, 0.7659654571755015, 0.7655952978832655, 0.7704155277479183, 0.7548980842607267, 0.7697751362896496, 0.7590592122282395, 0.767237445373178, 0.7760568335647536, 0.7652105918284705, 0.7829346761054279, 0.7810452624191188, 0.7794579214715889, 0.7803393539006714, 0.7829234484348891, 0.7630034896988704, 0.7853796918497065, 0.7642212495239761, 0.7846038292031025, 0.7465726470335318, 0.7835281867819198, 0.7851299573446441, 0.7849571149474517, 0.7747860623109363, 0.762247874369923, 0.7739093283280488, 0.7823235606695276, 0.7666954046844797, 0.7719031433862936, 0.7759737404556892, 0.7733003342237262, 0.7821544455591398, 0.7672544016023122, 0.7763904643425604, 0.7712085472216574, 0.7723267343537428, 0.7792777164589458, 0.7653583986923249, 0.7712128914632224, 0.7671424243923272, 0.7747792792636973, 0.7717654958647985, 0.7651174710643015, 0.7605087465811694, 0.7612744132727515, 0.7904753602171942, 0.7675836651855531, 0.7575308235548078, 0.7799459366539379, 0.7835752152199311, 0.7881951165120271, 0.7655768767660184, 0.7672104539839282, 0.7832560806190615, 0.7637501802698466, 0.7702055504549497, 0.7728399554942551, 0.7772272207089246, 0.7690913686798793, 0.7790018426188582, 0.7700545010080427, 0.7818268354453769, 0.7684318072997621, 0.7641278084810634, 0.7656983843970293, 0.7610433845301411, 0.7597852895452889, 0.7873111619453466, 0.7781825422828877, 0.7661581031795802, 0.7689514731059486, 0.7538113329145636, 0.7689512730765793, 0.7706474551754086, 0.7733377510597412, 0.768528325488612, 0.7675346695419009, 0.7918069987329086, 0.768361535811527, 0.777588078231268, 0.7775088814765414, 0.7831288296467972, 0.7761854143572734, 0.7916030813297474, 0.768493249721583, 0.7665754216223635, 0.7666589495096605, 0.7725784839042379, 0.7768035123855447, 0.795693832674382, 0.7621659666414944, 0.7691025788834432, 0.7503756795892437, 0.7589903318815769, 0.7826505129282456, 0.7915317990081722, 0.7671250001140117, 0.7614148050868016, 0.7698559858253521, 0.7814416770365408, 0.7644278606117365, 0.7674693723484033, 0.7673777647694286, 0.7687334578260574, 0.789214553615289, 0.7857890199124873, 0.7596057920591343]\n"
          ]
        }
      ]
    },
    {
      "cell_type": "code",
      "source": [
        "print('\\n'.join(map(str, l1)))"
      ],
      "metadata": {
        "colab": {
          "base_uri": "https://localhost:8080/"
        },
        "id": "dbHDXwC4W_qO",
        "outputId": "62b499ab-7e64-4148-9110-6bd765cc48f7"
      },
      "execution_count": 61,
      "outputs": [
        {
          "output_type": "stream",
          "name": "stdout",
          "text": [
            "0.7750801537152895\n",
            "0.784190180992661\n",
            "0.7597320419773628\n",
            "0.7904671099741377\n",
            "0.7729743285512365\n",
            "0.7786896368750778\n",
            "0.756954267437068\n",
            "0.7791171731873882\n",
            "0.770631634596505\n",
            "0.7843750847081722\n",
            "0.7850666639610997\n",
            "0.7651330289999116\n",
            "0.7686223343537035\n",
            "0.7735591559341662\n",
            "0.7654063914254824\n",
            "0.7835546823912126\n",
            "0.763388848052929\n",
            "0.7659821238455571\n",
            "0.7741902211746415\n",
            "0.7706507239506428\n",
            "0.7809675432818707\n",
            "0.7721816277639781\n",
            "0.7634391001988463\n",
            "0.7837890111449007\n",
            "0.760920592106273\n",
            "0.7678101994319474\n",
            "0.7596627768454015\n",
            "0.773069053640954\n",
            "0.7642142648322273\n",
            "0.7752677922748403\n",
            "0.7676840841185325\n",
            "0.7616491576311686\n",
            "0.7477387296985243\n",
            "0.7779506264264577\n",
            "0.7621094712594767\n",
            "0.7950238520396512\n",
            "0.7596356605213375\n",
            "0.7645929312582664\n",
            "0.757806618226693\n",
            "0.7646228645760962\n",
            "0.7720926237330116\n",
            "0.77125235627666\n",
            "0.767469581532574\n",
            "0.7593852558655833\n",
            "0.7493205513867526\n",
            "0.7863397215630415\n",
            "0.7687538695693106\n",
            "0.7709111406240301\n",
            "0.7645167310327271\n",
            "0.7702501190964091\n",
            "0.7677312477431428\n",
            "0.7627932048231166\n",
            "0.7666126713313849\n",
            "0.7846853533702757\n",
            "0.7769339009021317\n",
            "0.7834912244917264\n",
            "0.7793814511446435\n",
            "0.7675199700219388\n",
            "0.7842238650465694\n",
            "0.7678449773457309\n",
            "0.7779857274162354\n",
            "0.7683518552487745\n",
            "0.7841920974326605\n",
            "0.7709241681863357\n",
            "0.7945475154196684\n",
            "0.7733343815014253\n",
            "0.78241043184066\n",
            "0.7718524203523756\n",
            "0.7898619554290374\n",
            "0.774059319215566\n",
            "0.7792839585295274\n",
            "0.7790439725504854\n",
            "0.7651112785470371\n",
            "0.7561002079127054\n",
            "0.7654446785123914\n",
            "0.7834627090092524\n",
            "0.7699392212924452\n",
            "0.7692038888843609\n",
            "0.7757930805180626\n",
            "0.7808076906742708\n",
            "0.7663956131255183\n",
            "0.7667995915262519\n",
            "0.7724273670188488\n",
            "0.7852834055261391\n",
            "0.7480781189706475\n",
            "0.7722342154397253\n",
            "0.7834822840334698\n",
            "0.7835251352050452\n",
            "0.7749434450475166\n",
            "0.7690742537510651\n",
            "0.7772884664475948\n",
            "0.7758529110848218\n",
            "0.7631303790851905\n",
            "0.7702886200803178\n",
            "0.7814578675699033\n",
            "0.7652738047174339\n",
            "0.7830438414763066\n",
            "0.7715025675319707\n",
            "0.7910633819051682\n",
            "0.7733964686973116\n",
            "0.7527873085315742\n",
            "0.766885964485267\n",
            "0.782206138388058\n",
            "0.7770068079686531\n",
            "0.7704209937415295\n",
            "0.7557535757542038\n",
            "0.7612233078975672\n",
            "0.7851308882007602\n",
            "0.7611808405774573\n",
            "0.7657041190723318\n",
            "0.7516058616047869\n",
            "0.7641773903868623\n",
            "0.769842955279377\n",
            "0.7699798044592211\n",
            "0.7744731119356965\n",
            "0.7676385182972653\n",
            "0.776913423564719\n",
            "0.7672354586086452\n",
            "0.7591676942444114\n",
            "0.7845205721676927\n",
            "0.787063730845788\n",
            "0.783514042351935\n",
            "0.7829153358229521\n",
            "0.7786295754772484\n",
            "0.7843547270338511\n",
            "0.7615020754556268\n",
            "0.7679675656541461\n",
            "0.7870135108611197\n",
            "0.7622803473178011\n",
            "0.7656623743534325\n",
            "0.7795897664550295\n",
            "0.777295604389444\n",
            "0.7855840280352777\n",
            "0.7779216158600715\n",
            "0.7671201941953083\n",
            "0.7827649417979478\n",
            "0.7591803609349166\n",
            "0.7750968478700778\n",
            "0.7613393081716623\n",
            "0.7564921230096936\n",
            "0.7804687445207537\n",
            "0.758461697640692\n",
            "0.7831002703392138\n",
            "0.7728696179245619\n",
            "0.7696937656430423\n",
            "0.7798364078623241\n",
            "0.7622857356411127\n",
            "0.7644706762849179\n",
            "0.7752327674051692\n",
            "0.7741273422029695\n",
            "0.7710526751763781\n",
            "0.7758562902897111\n",
            "0.7581579462232765\n",
            "0.7722986359611458\n",
            "0.7775811274745669\n",
            "0.7778261533615023\n",
            "0.778363271047671\n",
            "0.7692593447264244\n",
            "0.7748500650591936\n",
            "0.7802892589638668\n",
            "0.7786792126341968\n",
            "0.7646929053509759\n",
            "0.776312712344082\n",
            "0.7781328433221787\n",
            "0.7756035954601739\n",
            "0.7788235169667099\n",
            "0.7767208773455665\n",
            "0.788518105667476\n",
            "0.7796122561824744\n",
            "0.7632247754011556\n",
            "0.785185407551876\n",
            "0.7722693880221468\n",
            "0.7708047417453695\n",
            "0.7679789083960812\n",
            "0.7624549747459479\n",
            "0.7571195418171816\n",
            "0.7615218145417612\n",
            "0.7681442389450485\n",
            "0.7618390552968894\n",
            "0.7802375720612967\n",
            "0.7610777736936867\n",
            "0.7546711535380398\n",
            "0.7579768977591431\n",
            "0.7787498241378426\n",
            "0.7782813012112596\n",
            "0.7602914963936196\n",
            "0.7727643148904997\n",
            "0.7719671295299734\n",
            "0.779570080354015\n",
            "0.7803566770534426\n",
            "0.7673964100898095\n",
            "0.7666777617926702\n",
            "0.7635414783249957\n",
            "0.7694387910931023\n",
            "0.7659654571755015\n",
            "0.7655952978832655\n",
            "0.7704155277479183\n",
            "0.7548980842607267\n",
            "0.7697751362896496\n",
            "0.7590592122282395\n",
            "0.767237445373178\n",
            "0.7760568335647536\n",
            "0.7652105918284705\n",
            "0.7829346761054279\n",
            "0.7810452624191188\n",
            "0.7794579214715889\n",
            "0.7803393539006714\n",
            "0.7829234484348891\n",
            "0.7630034896988704\n",
            "0.7853796918497065\n",
            "0.7642212495239761\n",
            "0.7846038292031025\n",
            "0.7465726470335318\n",
            "0.7835281867819198\n",
            "0.7851299573446441\n",
            "0.7849571149474517\n",
            "0.7747860623109363\n",
            "0.762247874369923\n",
            "0.7739093283280488\n",
            "0.7823235606695276\n",
            "0.7666954046844797\n",
            "0.7719031433862936\n",
            "0.7759737404556892\n",
            "0.7733003342237262\n",
            "0.7821544455591398\n",
            "0.7672544016023122\n",
            "0.7763904643425604\n",
            "0.7712085472216574\n",
            "0.7723267343537428\n",
            "0.7792777164589458\n",
            "0.7653583986923249\n",
            "0.7712128914632224\n",
            "0.7671424243923272\n",
            "0.7747792792636973\n",
            "0.7717654958647985\n",
            "0.7651174710643015\n",
            "0.7605087465811694\n",
            "0.7612744132727515\n",
            "0.7904753602171942\n",
            "0.7675836651855531\n",
            "0.7575308235548078\n",
            "0.7799459366539379\n",
            "0.7835752152199311\n",
            "0.7881951165120271\n",
            "0.7655768767660184\n",
            "0.7672104539839282\n",
            "0.7832560806190615\n",
            "0.7637501802698466\n",
            "0.7702055504549497\n",
            "0.7728399554942551\n",
            "0.7772272207089246\n",
            "0.7690913686798793\n",
            "0.7790018426188582\n",
            "0.7700545010080427\n",
            "0.7818268354453769\n",
            "0.7684318072997621\n",
            "0.7641278084810634\n",
            "0.7656983843970293\n",
            "0.7610433845301411\n",
            "0.7597852895452889\n",
            "0.7873111619453466\n",
            "0.7781825422828877\n",
            "0.7661581031795802\n",
            "0.7689514731059486\n",
            "0.7538113329145636\n",
            "0.7689512730765793\n",
            "0.7706474551754086\n",
            "0.7733377510597412\n",
            "0.768528325488612\n",
            "0.7675346695419009\n",
            "0.7918069987329086\n",
            "0.768361535811527\n",
            "0.777588078231268\n",
            "0.7775088814765414\n",
            "0.7831288296467972\n",
            "0.7761854143572734\n",
            "0.7916030813297474\n",
            "0.768493249721583\n",
            "0.7665754216223635\n",
            "0.7666589495096605\n",
            "0.7725784839042379\n",
            "0.7768035123855447\n",
            "0.795693832674382\n",
            "0.7621659666414944\n",
            "0.7691025788834432\n",
            "0.7503756795892437\n",
            "0.7589903318815769\n",
            "0.7826505129282456\n",
            "0.7915317990081722\n",
            "0.7671250001140117\n",
            "0.7614148050868016\n",
            "0.7698559858253521\n",
            "0.7814416770365408\n",
            "0.7644278606117365\n",
            "0.7674693723484033\n",
            "0.7673777647694286\n",
            "0.7687334578260574\n",
            "0.789214553615289\n",
            "0.7857890199124873\n",
            "0.7596057920591343\n"
          ]
        }
      ]
    },
    {
      "cell_type": "code",
      "source": [
        "len(l1)"
      ],
      "metadata": {
        "colab": {
          "base_uri": "https://localhost:8080/"
        },
        "id": "vocB5nUeD6WE",
        "outputId": "588d3183-9bc8-4ba1-c13a-50951eb0514a"
      },
      "execution_count": 62,
      "outputs": [
        {
          "output_type": "execute_result",
          "data": {
            "text/plain": [
              "300"
            ]
          },
          "metadata": {},
          "execution_count": 62
        }
      ]
    },
    {
      "cell_type": "code",
      "source": [
        "df_dissim_hopkin = pd.DataFrame(l1)\n",
        "print(df_dissim_hopkin)"
      ],
      "metadata": {
        "colab": {
          "base_uri": "https://localhost:8080/"
        },
        "id": "bDiUBOE2EODu",
        "outputId": "0ea60509-32d0-4b14-8fc2-69ca23b2e19b"
      },
      "execution_count": 63,
      "outputs": [
        {
          "output_type": "stream",
          "name": "stdout",
          "text": [
            "            0\n",
            "0    0.775080\n",
            "1    0.784190\n",
            "2    0.759732\n",
            "3    0.790467\n",
            "4    0.772974\n",
            "..        ...\n",
            "295  0.767378\n",
            "296  0.768733\n",
            "297  0.789215\n",
            "298  0.785789\n",
            "299  0.759606\n",
            "\n",
            "[300 rows x 1 columns]\n"
          ]
        }
      ]
    },
    {
      "cell_type": "code",
      "source": [
        "df_dissim_hopkin.shape"
      ],
      "metadata": {
        "colab": {
          "base_uri": "https://localhost:8080/"
        },
        "id": "7bOLRT0WIQEf",
        "outputId": "fefdf8c4-3011-417f-dc39-09711c58c618"
      },
      "execution_count": 64,
      "outputs": [
        {
          "output_type": "execute_result",
          "data": {
            "text/plain": [
              "(300, 1)"
            ]
          },
          "metadata": {},
          "execution_count": 64
        }
      ]
    },
    {
      "cell_type": "code",
      "source": [
        "import seaborn as sns"
      ],
      "metadata": {
        "id": "X6CNALh4v1xh"
      },
      "execution_count": 65,
      "outputs": []
    },
    {
      "cell_type": "code",
      "source": [
        "# # Picking the top 100 points as TSNE takes a lot of time for 15K points\n",
        "# from sklearn.decomposition import PCA\n",
        "# data_100 = descr_embedding_matrix1\n",
        "# labels_100 = df_dissim.is_similar\n",
        "\n",
        "# # model = PCA(n_components=2)\n",
        "# # # configuring the parameteres\n",
        "\n",
        "# PCA_data = model.transform(data_100)"
      ],
      "metadata": {
        "id": "peDXpb-juTL8"
      },
      "execution_count": 66,
      "outputs": []
    },
    {
      "cell_type": "code",
      "source": [
        "# PCA_data.shape"
      ],
      "metadata": {
        "id": "5ttfmh6gZ1xu"
      },
      "execution_count": 67,
      "outputs": []
    },
    {
      "cell_type": "code",
      "source": [
        "# # Ploting the result of tsne\n",
        "# import seaborn as sns\n",
        "# import matplotlib.pyplot as plt\n",
        "# plt.scatter(PCA_data[:, 0], PCA_data[:, 1])\n",
        "# plt.savefig('output_similar.jpg')\n",
        "# plt.show()\n"
      ],
      "metadata": {
        "id": "v5LzqqF3j8TQ"
      },
      "execution_count": 68,
      "outputs": []
    },
    {
      "cell_type": "markdown",
      "source": [
        "## Box plot using hopkin test value for each pair"
      ],
      "metadata": {
        "id": "Rt-X7M5RH2Iv"
      }
    },
    {
      "cell_type": "code",
      "source": [
        "\n",
        "# Import libraries\n",
        "import matplotlib.pyplot as plt\n",
        "from matplotlib import pyplot as plt \n",
        "import numpy as np\n",
        " \n",
        "# Creating dataset\n",
        "np.random.seed(10)\n",
        "data_1 = l #tex_sim\n",
        "data_2 = l1 #tex_dissim\n",
        "\n",
        "data = [data_1, data_2]\n",
        " \n",
        "fig = plt.figure(figsize =(10, 7))\n",
        "ax = fig.add_subplot(111)\n",
        " \n",
        "# Creating axes instance\n",
        "bp = ax.boxplot(data, patch_artist = True,\n",
        "                notch ='True', vert = 0)\n",
        " \n",
        "colors = ['#0000FF', '#00FF00',\n",
        "          '#FFFF00', '#FF00FF']\n",
        " \n",
        "for patch, color in zip(bp['boxes'], colors):\n",
        "    patch.set_facecolor(color)\n",
        " \n",
        "# changing color and linewidth of\n",
        "# whiskers\n",
        "for whisker in bp['whiskers']:\n",
        "    whisker.set(color ='#8B008B',\n",
        "                linewidth = 1.5,\n",
        "                linestyle =\":\")\n",
        " \n",
        "# changing color and linewidth of\n",
        "# caps\n",
        "for cap in bp['caps']:\n",
        "    cap.set(color ='#8B008B',\n",
        "            linewidth = 2)\n",
        " \n",
        "# changing color and linewidth of\n",
        "# medians\n",
        "for median in bp['medians']:\n",
        "    median.set(color ='red',\n",
        "               linewidth = 3)\n",
        " \n",
        "# changing style of fliers\n",
        "for flier in bp['fliers']:\n",
        "    flier.set(marker ='D',\n",
        "              color ='#e7298a',\n",
        "              alpha = 0.5)\n",
        "     \n",
        "# x-axis labels\n",
        "plt.xlabel('H values of Hopkins Statistics', fontsize = 12)\n",
        "ax.set_yticklabels(['Textually Similar', 'Textually Dissimilar'], fontsize = 12)\n",
        " \n",
        "# Removing top axes and right axes\n",
        "# ticks\n",
        "ax.get_xaxis().tick_bottom()\n",
        "ax.get_yaxis().tick_left()\n",
        "     \n",
        "# show plot\n",
        "plt.show()\n",
        "\n",
        "fig = plt.figure()\n",
        "fig.savefig('hopkin_eclipse.jpg')"
      ],
      "metadata": {
        "colab": {
          "base_uri": "https://localhost:8080/",
          "height": 470
        },
        "id": "1N72EEwqIbbG",
        "outputId": "7515b252-c2d8-406e-8db7-8bd7cd0635a5"
      },
      "execution_count": 73,
      "outputs": [
        {
          "output_type": "display_data",
          "data": {
            "text/plain": [
              "<Figure size 720x504 with 1 Axes>"
            ],
            "image/png": "[encoded data removed]"
          },
          "metadata": {
            "image/png": {
              "width": 692,
              "height": 436
            },
            "needs_background": "light"
          }
        },
        {
          "output_type": "display_data",
          "data": {
            "text/plain": [
              "<Figure size 432x288 with 0 Axes>"
            ]
          },
          "metadata": {}
        }
      ]
    },
    {
      "cell_type": "code",
      "source": [
        "!pip install PyNonpar"
      ],
      "metadata": {
        "id": "KTY2KHiMfQYU",
        "colab": {
          "base_uri": "https://localhost:8080/"
        },
        "outputId": "9093c8ef-8e85-4a6e-bf4e-40e6c78ca4b8"
      },
      "execution_count": 74,
      "outputs": [
        {
          "output_type": "stream",
          "name": "stdout",
          "text": [
            "Collecting PyNonpar\n",
            "  Downloading PyNonpar-0.2.0-py3-none-any.whl (15 kB)\n",
            "Collecting pytest-cov\n",
            "  Downloading pytest_cov-3.0.0-py3-none-any.whl (20 kB)\n",
            "Collecting codecov\n",
            "  Downloading codecov-2.1.12-py2.py3-none-any.whl (16 kB)\n",
            "Requirement already satisfied: numba in /usr/local/lib/python3.7/dist-packages (from PyNonpar) (0.51.2)\n",
            "Requirement already satisfied: scipy in /usr/local/lib/python3.7/dist-packages (from PyNonpar) (1.4.1)\n",
            "Requirement already satisfied: pytest in /usr/local/lib/python3.7/dist-packages (from PyNonpar) (3.6.4)\n",
            "Requirement already satisfied: pandas in /usr/local/lib/python3.7/dist-packages (from PyNonpar) (1.3.5)\n",
            "Requirement already satisfied: numpy in /usr/local/lib/python3.7/dist-packages (from PyNonpar) (1.21.5)\n",
            "Requirement already satisfied: coverage in /usr/local/lib/python3.7/dist-packages (from codecov->PyNonpar) (3.7.1)\n",
            "Requirement already satisfied: requests>=2.7.9 in /usr/local/lib/python3.7/dist-packages (from codecov->PyNonpar) (2.23.0)\n",
            "Requirement already satisfied: urllib3!=1.25.0,!=1.25.1,<1.26,>=1.21.1 in /usr/local/lib/python3.7/dist-packages (from requests>=2.7.9->codecov->PyNonpar) (1.24.3)\n",
            "Requirement already satisfied: certifi>=2017.4.17 in /usr/local/lib/python3.7/dist-packages (from requests>=2.7.9->codecov->PyNonpar) (2021.10.8)\n",
            "Requirement already satisfied: chardet<4,>=3.0.2 in /usr/local/lib/python3.7/dist-packages (from requests>=2.7.9->codecov->PyNonpar) (3.0.4)\n",
            "Requirement already satisfied: idna<3,>=2.5 in /usr/local/lib/python3.7/dist-packages (from requests>=2.7.9->codecov->PyNonpar) (2.10)\n",
            "Requirement already satisfied: setuptools in /usr/local/lib/python3.7/dist-packages (from numba->PyNonpar) (57.4.0)\n",
            "Requirement already satisfied: llvmlite<0.35,>=0.34.0.dev0 in /usr/local/lib/python3.7/dist-packages (from numba->PyNonpar) (0.34.0)\n",
            "Requirement already satisfied: pytz>=2017.3 in /usr/local/lib/python3.7/dist-packages (from pandas->PyNonpar) (2018.9)\n",
            "Requirement already satisfied: python-dateutil>=2.7.3 in /usr/local/lib/python3.7/dist-packages (from pandas->PyNonpar) (2.8.2)\n",
            "Requirement already satisfied: six>=1.5 in /usr/local/lib/python3.7/dist-packages (from python-dateutil>=2.7.3->pandas->PyNonpar) (1.15.0)\n",
            "Requirement already satisfied: pluggy<0.8,>=0.5 in /usr/local/lib/python3.7/dist-packages (from pytest->PyNonpar) (0.7.1)\n",
            "Requirement already satisfied: atomicwrites>=1.0 in /usr/local/lib/python3.7/dist-packages (from pytest->PyNonpar) (1.4.0)\n",
            "Requirement already satisfied: py>=1.5.0 in /usr/local/lib/python3.7/dist-packages (from pytest->PyNonpar) (1.11.0)\n",
            "Requirement already satisfied: attrs>=17.4.0 in /usr/local/lib/python3.7/dist-packages (from pytest->PyNonpar) (21.4.0)\n",
            "Requirement already satisfied: more-itertools>=4.0.0 in /usr/local/lib/python3.7/dist-packages (from pytest->PyNonpar) (8.12.0)\n",
            "Collecting coverage[toml]>=5.2.1\n",
            "  Downloading coverage-6.3.2-cp37-cp37m-manylinux_2_5_x86_64.manylinux1_x86_64.manylinux_2_17_x86_64.manylinux2014_x86_64.whl (207 kB)\n",
            "\u001b[K     |████████████████████████████████| 207 kB 7.8 MB/s \n",
            "\u001b[?25hCollecting pytest\n",
            "  Downloading pytest-7.1.1-py3-none-any.whl (297 kB)\n",
            "\u001b[K     |████████████████████████████████| 297 kB 58.5 MB/s \n",
            "\u001b[?25hRequirement already satisfied: tomli in /usr/local/lib/python3.7/dist-packages (from coverage[toml]>=5.2.1->pytest-cov->PyNonpar) (2.0.1)\n",
            "Requirement already satisfied: importlib-metadata>=0.12 in /usr/local/lib/python3.7/dist-packages (from pytest->PyNonpar) (4.11.3)\n",
            "Requirement already satisfied: packaging in /usr/local/lib/python3.7/dist-packages (from pytest->PyNonpar) (21.3)\n",
            "Requirement already satisfied: iniconfig in /usr/local/lib/python3.7/dist-packages (from pytest->PyNonpar) (1.1.1)\n",
            "  Downloading pytest-7.1.0-py3-none-any.whl (297 kB)\n",
            "\u001b[K     |████████████████████████████████| 297 kB 63.9 MB/s \n",
            "\u001b[?25h  Downloading pytest-7.0.1-py3-none-any.whl (296 kB)\n",
            "\u001b[K     |████████████████████████████████| 296 kB 47.0 MB/s \n",
            "\u001b[?25h  Downloading pytest-7.0.0-py3-none-any.whl (296 kB)\n",
            "\u001b[K     |████████████████████████████████| 296 kB 46.6 MB/s \n",
            "\u001b[?25h  Downloading pytest-6.2.5-py3-none-any.whl (280 kB)\n",
            "\u001b[K     |████████████████████████████████| 280 kB 56.3 MB/s \n",
            "\u001b[?25hCollecting toml\n",
            "  Downloading toml-0.10.2-py2.py3-none-any.whl (16 kB)\n",
            "Collecting pytest\n",
            "  Downloading pytest-6.2.4-py3-none-any.whl (280 kB)\n",
            "\u001b[K     |████████████████████████████████| 280 kB 50.3 MB/s \n",
            "\u001b[?25h  Downloading pytest-6.2.3-py3-none-any.whl (280 kB)\n",
            "\u001b[K     |████████████████████████████████| 280 kB 55.4 MB/s \n",
            "\u001b[?25h  Downloading pytest-6.2.2-py3-none-any.whl (280 kB)\n",
            "\u001b[K     |████████████████████████████████| 280 kB 49.4 MB/s \n",
            "\u001b[?25h  Downloading pytest-6.2.1-py3-none-any.whl (279 kB)\n",
            "\u001b[K     |████████████████████████████████| 279 kB 50.7 MB/s \n",
            "\u001b[?25h  Downloading pytest-6.2.0-py3-none-any.whl (279 kB)\n",
            "\u001b[K     |████████████████████████████████| 279 kB 31.6 MB/s \n",
            "\u001b[?25h  Downloading pytest-6.1.2-py3-none-any.whl (272 kB)\n",
            "\u001b[K     |████████████████████████████████| 272 kB 53.4 MB/s \n",
            "\u001b[?25h  Downloading pytest-6.1.1-py3-none-any.whl (272 kB)\n",
            "\u001b[K     |████████████████████████████████| 272 kB 45.1 MB/s \n",
            "\u001b[?25h  Downloading pytest-6.1.0-py3-none-any.whl (272 kB)\n",
            "\u001b[K     |████████████████████████████████| 272 kB 49.4 MB/s \n",
            "\u001b[?25h  Downloading pytest-6.0.2-py3-none-any.whl (270 kB)\n",
            "\u001b[K     |████████████████████████████████| 270 kB 44.3 MB/s \n",
            "\u001b[?25h  Downloading pytest-6.0.1-py3-none-any.whl (270 kB)\n",
            "\u001b[K     |████████████████████████████████| 270 kB 1.3 MB/s \n",
            "\u001b[?25h  Downloading pytest-6.0.0-py3-none-any.whl (270 kB)\n",
            "\u001b[K     |████████████████████████████████| 270 kB 47.1 MB/s \n",
            "\u001b[?25h  Downloading pytest-5.4.3-py3-none-any.whl (248 kB)\n",
            "\u001b[K     |████████████████████████████████| 248 kB 45.9 MB/s \n",
            "\u001b[?25hRequirement already satisfied: wcwidth in /usr/local/lib/python3.7/dist-packages (from pytest->PyNonpar) (0.2.5)\n",
            "  Downloading pytest-5.4.2-py3-none-any.whl (247 kB)\n",
            "\u001b[K     |████████████████████████████████| 247 kB 47.7 MB/s \n",
            "\u001b[?25h  Downloading pytest-5.4.1-py3-none-any.whl (246 kB)\n",
            "\u001b[K     |████████████████████████████████| 246 kB 30.3 MB/s \n",
            "\u001b[?25h  Downloading pytest-5.4.0-py3-none-any.whl (247 kB)\n",
            "\u001b[K     |████████████████████████████████| 247 kB 46.0 MB/s \n",
            "\u001b[?25h  Downloading pytest-5.3.5-py3-none-any.whl (235 kB)\n",
            "\u001b[K     |████████████████████████████████| 235 kB 48.6 MB/s \n",
            "\u001b[?25h  Downloading pytest-5.3.4-py3-none-any.whl (235 kB)\n",
            "\u001b[K     |████████████████████████████████| 235 kB 46.0 MB/s \n",
            "\u001b[?25h  Downloading pytest-5.3.3-py3-none-any.whl (235 kB)\n",
            "\u001b[K     |████████████████████████████████| 235 kB 43.1 MB/s \n",
            "\u001b[?25h  Downloading pytest-5.3.2-py3-none-any.whl (234 kB)\n",
            "\u001b[K     |████████████████████████████████| 234 kB 46.9 MB/s \n",
            "\u001b[?25h  Downloading pytest-5.3.1-py3-none-any.whl (233 kB)\n",
            "\u001b[K     |████████████████████████████████| 233 kB 48.3 MB/s \n",
            "\u001b[?25h  Downloading pytest-5.3.0-py3-none-any.whl (233 kB)\n",
            "\u001b[K     |████████████████████████████████| 233 kB 46.9 MB/s \n",
            "\u001b[?25h  Downloading pytest-5.2.4-py3-none-any.whl (227 kB)\n",
            "\u001b[K     |████████████████████████████████| 227 kB 40.3 MB/s \n",
            "\u001b[?25h  Downloading pytest-5.2.3-py3-none-any.whl (227 kB)\n",
            "\u001b[K     |████████████████████████████████| 227 kB 48.6 MB/s \n",
            "\u001b[?25h  Downloading pytest-5.2.2-py3-none-any.whl (227 kB)\n",
            "\u001b[K     |████████████████████████████████| 227 kB 48.9 MB/s \n",
            "\u001b[?25h  Downloading pytest-5.2.1-py3-none-any.whl (226 kB)\n",
            "\u001b[K     |████████████████████████████████| 226 kB 46.6 MB/s \n",
            "\u001b[?25h  Downloading pytest-5.2.0-py3-none-any.whl (226 kB)\n",
            "\u001b[K     |████████████████████████████████| 226 kB 49.4 MB/s \n",
            "\u001b[?25h  Downloading pytest-5.1.3-py3-none-any.whl (224 kB)\n",
            "\u001b[K     |████████████████████████████████| 224 kB 45.4 MB/s \n",
            "\u001b[?25h  Downloading pytest-5.1.2-py3-none-any.whl (224 kB)\n",
            "\u001b[K     |████████████████████████████████| 224 kB 47.8 MB/s \n",
            "\u001b[?25h  Downloading pytest-5.1.1-py3-none-any.whl (223 kB)\n",
            "\u001b[K     |████████████████████████████████| 223 kB 48.8 MB/s \n",
            "\u001b[?25h  Downloading pytest-5.1.0-py3-none-any.whl (223 kB)\n",
            "\u001b[K     |████████████████████████████████| 223 kB 48.0 MB/s \n",
            "\u001b[?25h  Downloading pytest-5.0.1-py3-none-any.whl (221 kB)\n",
            "\u001b[K     |████████████████████████████████| 221 kB 14.9 MB/s \n",
            "\u001b[?25h  Downloading pytest-5.0.0-py3-none-any.whl (221 kB)\n",
            "\u001b[K     |████████████████████████████████| 221 kB 46.9 MB/s \n",
            "\u001b[?25h  Downloading pytest-4.6.11-py2.py3-none-any.whl (231 kB)\n",
            "\u001b[K     |████████████████████████████████| 231 kB 44.8 MB/s \n",
            "\u001b[?25h  Downloading pytest-4.6.10-py2.py3-none-any.whl (231 kB)\n",
            "\u001b[K     |████████████████████████████████| 231 kB 39.2 MB/s \n",
            "\u001b[?25h  Downloading pytest-4.6.9-py2.py3-none-any.whl (231 kB)\n",
            "\u001b[K     |████████████████████████████████| 231 kB 37.8 MB/s \n",
            "\u001b[?25h  Downloading pytest-4.6.8-py2.py3-none-any.whl (230 kB)\n",
            "\u001b[K     |████████████████████████████████| 230 kB 50.1 MB/s \n",
            "\u001b[?25h  Downloading pytest-4.6.7-py2.py3-none-any.whl (230 kB)\n",
            "\u001b[K     |████████████████████████████████| 230 kB 46.3 MB/s \n",
            "\u001b[?25h  Downloading pytest-4.6.6-py2.py3-none-any.whl (230 kB)\n",
            "\u001b[K     |████████████████████████████████| 230 kB 40.0 MB/s \n",
            "\u001b[?25h  Downloading pytest-4.6.5-py2.py3-none-any.whl (230 kB)\n",
            "\u001b[K     |████████████████████████████████| 230 kB 45.7 MB/s \n",
            "\u001b[?25h  Downloading pytest-4.6.4-py2.py3-none-any.whl (229 kB)\n",
            "\u001b[K     |████████████████████████████████| 229 kB 47.2 MB/s \n",
            "\u001b[?25h  Downloading pytest-4.6.3-py2.py3-none-any.whl (229 kB)\n",
            "\u001b[K     |████████████████████████████████| 229 kB 41.4 MB/s \n",
            "\u001b[?25h  Downloading pytest-4.6.2-py2.py3-none-any.whl (229 kB)\n",
            "\u001b[K     |████████████████████████████████| 229 kB 24.7 MB/s \n",
            "\u001b[?25h  Downloading pytest-4.6.1-py2.py3-none-any.whl (229 kB)\n",
            "\u001b[K     |████████████████████████████████| 229 kB 47.0 MB/s \n",
            "\u001b[?25h  Downloading pytest-4.6.0-py2.py3-none-any.whl (229 kB)\n",
            "\u001b[K     |████████████████████████████████| 229 kB 47.5 MB/s \n",
            "\u001b[?25hINFO: pip is looking at multiple versions of coverage to determine which version is compatible with other requirements. This could take a while.\n",
            "INFO: pip is looking at multiple versions of coverage[toml] to determine which version is compatible with other requirements. This could take a while.\n",
            "Collecting coverage[toml]>=5.2.1\n",
            "  Downloading coverage-6.3.1-cp37-cp37m-manylinux_2_5_x86_64.manylinux1_x86_64.manylinux_2_17_x86_64.manylinux2014_x86_64.whl (207 kB)\n",
            "\u001b[K     |████████████████████████████████| 207 kB 50.5 MB/s \n",
            "\u001b[?25h  Downloading coverage-6.3-cp37-cp37m-manylinux_2_5_x86_64.manylinux1_x86_64.manylinux_2_17_x86_64.manylinux2014_x86_64.whl (207 kB)\n",
            "\u001b[K     |████████████████████████████████| 207 kB 55.4 MB/s \n",
            "\u001b[?25h  Downloading coverage-6.2-cp37-cp37m-manylinux_2_5_x86_64.manylinux1_x86_64.manylinux_2_12_x86_64.manylinux2010_x86_64.whl (213 kB)\n",
            "\u001b[K     |████████████████████████████████| 213 kB 45.3 MB/s \n",
            "\u001b[?25h  Downloading coverage-6.1.2-cp37-cp37m-manylinux_2_5_x86_64.manylinux1_x86_64.manylinux_2_12_x86_64.manylinux2010_x86_64.whl (213 kB)\n",
            "\u001b[K     |████████████████████████████████| 213 kB 42.1 MB/s \n",
            "\u001b[?25h  Downloading coverage-6.1.1-cp37-cp37m-manylinux_2_5_x86_64.manylinux1_x86_64.manylinux_2_12_x86_64.manylinux2010_x86_64.whl (213 kB)\n",
            "\u001b[K     |████████████████████████████████| 213 kB 47.8 MB/s \n",
            "\u001b[?25h  Downloading coverage-6.1-cp37-cp37m-manylinux_2_5_x86_64.manylinux1_x86_64.manylinux_2_12_x86_64.manylinux2010_x86_64.whl (213 kB)\n",
            "\u001b[K     |████████████████████████████████| 213 kB 40.3 MB/s \n",
            "\u001b[?25h  Downloading coverage-6.0.2-cp37-cp37m-manylinux_2_5_x86_64.manylinux1_x86_64.manylinux_2_12_x86_64.manylinux2010_x86_64.whl (253 kB)\n",
            "\u001b[K     |████████████████████████████████| 253 kB 46.2 MB/s \n",
            "\u001b[?25hINFO: pip is looking at multiple versions of coverage to determine which version is compatible with other requirements. This could take a while.\n",
            "INFO: pip is looking at multiple versions of coverage[toml] to determine which version is compatible with other requirements. This could take a while.\n",
            "  Downloading coverage-6.0.1-cp37-cp37m-manylinux_2_5_x86_64.manylinux1_x86_64.manylinux_2_12_x86_64.manylinux2010_x86_64.whl (252 kB)\n",
            "\u001b[K     |████████████████████████████████| 252 kB 54.3 MB/s \n",
            "\u001b[?25h  Downloading coverage-6.0-cp37-cp37m-manylinux_2_5_x86_64.manylinux1_x86_64.manylinux_2_12_x86_64.manylinux2010_x86_64.whl (252 kB)\n",
            "\u001b[K     |████████████████████████████████| 252 kB 54.1 MB/s \n",
            "\u001b[?25h  Downloading coverage-5.5-cp37-cp37m-manylinux2010_x86_64.whl (242 kB)\n",
            "\u001b[K     |████████████████████████████████| 242 kB 51.9 MB/s \n",
            "\u001b[?25h  Downloading coverage-5.4-cp37-cp37m-manylinux2010_x86_64.whl (242 kB)\n",
            "\u001b[K     |████████████████████████████████| 242 kB 41.0 MB/s \n",
            "\u001b[?25h  Downloading coverage-5.3.1-cp37-cp37m-manylinux2010_x86_64.whl (242 kB)\n",
            "\u001b[K     |████████████████████████████████| 242 kB 35.9 MB/s \n",
            "\u001b[?25hINFO: This is taking longer than usual. You might need to provide the dependency resolver with stricter constraints to reduce runtime. If you want to abort this run, you can press Ctrl + C to do so. To improve how pip performs, tell us what happened here: https://pip.pypa.io/surveys/backtracking\n",
            "INFO: This is taking longer than usual. You might need to provide the dependency resolver with stricter constraints to reduce runtime. If you want to abort this run, you can press Ctrl + C to do so. To improve how pip performs, tell us what happened here: https://pip.pypa.io/surveys/backtracking\n",
            "  Downloading coverage-5.3-cp37-cp37m-manylinux1_x86_64.whl (229 kB)\n",
            "\u001b[K     |████████████████████████████████| 229 kB 47.4 MB/s \n",
            "\u001b[?25h  Downloading coverage-5.2.1-cp37-cp37m-manylinux1_x86_64.whl (229 kB)\n",
            "\u001b[K     |████████████████████████████████| 229 kB 42.5 MB/s \n",
            "\u001b[?25hINFO: pip is looking at multiple versions of pytest-cov to determine which version is compatible with other requirements. This could take a while.\n",
            "Collecting pytest-cov\n",
            "  Downloading pytest_cov-2.12.1-py2.py3-none-any.whl (20 kB)\n",
            "  Downloading pytest_cov-2.12.0-py2.py3-none-any.whl (20 kB)\n",
            "  Downloading pytest_cov-2.11.1-py2.py3-none-any.whl (20 kB)\n",
            "  Downloading pytest_cov-2.11.0-py2.py3-none-any.whl (20 kB)\n",
            "  Downloading pytest_cov-2.10.1-py2.py3-none-any.whl (19 kB)\n",
            "Collecting coverage\n",
            "  Downloading coverage-5.2-cp37-cp37m-manylinux1_x86_64.whl (229 kB)\n",
            "\u001b[K     |████████████████████████████████| 229 kB 60.6 MB/s \n",
            "\u001b[?25h  Downloading coverage-5.1-cp37-cp37m-manylinux1_x86_64.whl (227 kB)\n",
            "\u001b[K     |████████████████████████████████| 227 kB 58.8 MB/s \n",
            "\u001b[?25h  Downloading coverage-5.0.4-cp37-cp37m-manylinux1_x86_64.whl (227 kB)\n",
            "\u001b[K     |████████████████████████████████| 227 kB 37.3 MB/s \n",
            "\u001b[?25h  Downloading coverage-5.0.3-cp37-cp37m-manylinux1_x86_64.whl (227 kB)\n",
            "\u001b[K     |████████████████████████████████| 227 kB 53.6 MB/s \n",
            "\u001b[?25h  Downloading coverage-5.0.2-cp37-cp37m-manylinux1_x86_64.whl (226 kB)\n",
            "\u001b[K     |████████████████████████████████| 226 kB 56.1 MB/s \n",
            "\u001b[?25h  Downloading coverage-5.0.1-cp37-cp37m-manylinux1_x86_64.whl (226 kB)\n",
            "\u001b[K     |████████████████████████████████| 226 kB 41.6 MB/s \n",
            "\u001b[?25h  Downloading coverage-5.0-cp37-cp37m-manylinux1_x86_64.whl (226 kB)\n",
            "\u001b[K     |████████████████████████████████| 226 kB 54.6 MB/s \n",
            "\u001b[?25h  Downloading coverage-4.5.4-cp37-cp37m-manylinux1_x86_64.whl (205 kB)\n",
            "\u001b[K     |████████████████████████████████| 205 kB 46.7 MB/s \n",
            "\u001b[?25h  Downloading coverage-4.5.3-cp37-cp37m-manylinux1_x86_64.whl (204 kB)\n",
            "\u001b[K     |████████████████████████████████| 204 kB 51.0 MB/s \n",
            "\u001b[?25h  Downloading coverage-4.5.2-cp37-cp37m-manylinux1_x86_64.whl (205 kB)\n",
            "\u001b[K     |████████████████████████████████| 205 kB 54.0 MB/s \n",
            "\u001b[?25h  Downloading coverage-4.5.1-cp37-cp37m-manylinux1_x86_64.whl (202 kB)\n",
            "\u001b[K     |████████████████████████████████| 202 kB 49.3 MB/s \n",
            "\u001b[?25h  Downloading coverage-4.5.tar.gz (378 kB)\n",
            "\u001b[K     |████████████████████████████████| 378 kB 59.4 MB/s \n",
            "\u001b[?25h  Downloading coverage-4.4.2.tar.gz (374 kB)\n",
            "\u001b[K     |████████████████████████████████| 374 kB 55.6 MB/s \n",
            "\u001b[?25h  Downloading coverage-4.4.1.tar.gz (369 kB)\n",
            "\u001b[K     |████████████████████████████████| 369 kB 47.0 MB/s \n",
            "\u001b[?25h  Downloading coverage-4.4.tar.gz (369 kB)\n",
            "\u001b[K     |████████████████████████████████| 369 kB 55.6 MB/s \n",
            "\u001b[?25hCollecting pytest-cov\n",
            "  Downloading pytest_cov-2.10.0-py2.py3-none-any.whl (19 kB)\n",
            "  Downloading pytest_cov-2.9.0-py2.py3-none-any.whl (19 kB)\n",
            "Installing collected packages: coverage, pytest-cov, codecov, PyNonpar\n",
            "  Attempting uninstall: coverage\n",
            "    Found existing installation: coverage 3.7.1\n",
            "    Uninstalling coverage-3.7.1:\n",
            "      Successfully uninstalled coverage-3.7.1\n",
            "\u001b[31mERROR: pip's dependency resolver does not currently take into account all the packages that are installed. This behaviour is the source of the following dependency conflicts.\n",
            "datascience 0.10.6 requires coverage==3.7.1, but you have coverage 6.3.2 which is incompatible.\n",
            "datascience 0.10.6 requires folium==0.2.1, but you have folium 0.8.3 which is incompatible.\n",
            "coveralls 0.5 requires coverage<3.999,>=3.6, but you have coverage 6.3.2 which is incompatible.\u001b[0m\n",
            "Successfully installed PyNonpar-0.2.0 codecov-2.1.12 coverage-6.3.2 pytest-cov-2.9.0\n"
          ]
        }
      ]
    },
    {
      "cell_type": "code",
      "source": [
        "pip install scipy pandas pingouin"
      ],
      "metadata": {
        "id": "zjqbejNnfOBQ",
        "colab": {
          "base_uri": "https://localhost:8080/",
          "height": 1000
        },
        "outputId": "454f3cf3-4d4b-4f5b-cbb9-800b95941127"
      },
      "execution_count": 75,
      "outputs": [
        {
          "output_type": "stream",
          "name": "stdout",
          "text": [
            "Requirement already satisfied: scipy in /usr/local/lib/python3.7/dist-packages (1.4.1)\n",
            "Requirement already satisfied: pandas in /usr/local/lib/python3.7/dist-packages (1.3.5)\n",
            "Collecting pingouin\n",
            "  Downloading pingouin-0.5.1.tar.gz (183 kB)\n",
            "\u001b[K     |████████████████████████████████| 183 kB 4.8 MB/s \n",
            "\u001b[?25hRequirement already satisfied: numpy>=1.13.3 in /usr/local/lib/python3.7/dist-packages (from scipy) (1.21.5)\n",
            "Requirement already satisfied: python-dateutil>=2.7.3 in /usr/local/lib/python3.7/dist-packages (from pandas) (2.8.2)\n",
            "Requirement already satisfied: pytz>=2017.3 in /usr/local/lib/python3.7/dist-packages (from pandas) (2018.9)\n",
            "Requirement already satisfied: six>=1.5 in /usr/local/lib/python3.7/dist-packages (from python-dateutil>=2.7.3->pandas) (1.15.0)\n",
            "Collecting scipy\n",
            "  Downloading scipy-1.7.3-cp37-cp37m-manylinux_2_12_x86_64.manylinux2010_x86_64.whl (38.1 MB)\n",
            "\u001b[K     |████████████████████████████████| 38.1 MB 1.3 MB/s \n",
            "\u001b[?25hRequirement already satisfied: matplotlib>=3.0.2 in /usr/local/lib/python3.7/dist-packages (from pingouin) (3.2.2)\n",
            "Requirement already satisfied: seaborn>=0.11 in /usr/local/lib/python3.7/dist-packages (from pingouin) (0.11.2)\n",
            "Collecting statsmodels>=0.13\n",
            "  Downloading statsmodels-0.13.2-cp37-cp37m-manylinux_2_17_x86_64.manylinux2014_x86_64.whl (9.8 MB)\n",
            "\u001b[K     |████████████████████████████████| 9.8 MB 18.5 MB/s \n",
            "\u001b[?25hRequirement already satisfied: scikit-learn in /usr/local/lib/python3.7/dist-packages (from pingouin) (1.0.2)\n",
            "Collecting pandas_flavor>=0.2.0\n",
            "  Downloading pandas_flavor-0.2.0-py2.py3-none-any.whl (6.6 kB)\n",
            "Collecting outdated\n",
            "  Downloading outdated-0.2.1-py3-none-any.whl (7.5 kB)\n",
            "Requirement already satisfied: tabulate in /usr/local/lib/python3.7/dist-packages (from pingouin) (0.8.9)\n",
            "Requirement already satisfied: kiwisolver>=1.0.1 in /usr/local/lib/python3.7/dist-packages (from matplotlib>=3.0.2->pingouin) (1.4.0)\n",
            "Requirement already satisfied: cycler>=0.10 in /usr/local/lib/python3.7/dist-packages (from matplotlib>=3.0.2->pingouin) (0.11.0)\n",
            "Requirement already satisfied: pyparsing!=2.0.4,!=2.1.2,!=2.1.6,>=2.0.1 in /usr/local/lib/python3.7/dist-packages (from matplotlib>=3.0.2->pingouin) (3.0.7)\n",
            "Requirement already satisfied: typing-extensions in /usr/local/lib/python3.7/dist-packages (from kiwisolver>=1.0.1->matplotlib>=3.0.2->pingouin) (3.10.0.2)\n",
            "Requirement already satisfied: xarray in /usr/local/lib/python3.7/dist-packages (from pandas_flavor>=0.2.0->pingouin) (0.18.2)\n",
            "Requirement already satisfied: packaging>=21.3 in /usr/local/lib/python3.7/dist-packages (from statsmodels>=0.13->pingouin) (21.3)\n",
            "Requirement already satisfied: patsy>=0.5.2 in /usr/local/lib/python3.7/dist-packages (from statsmodels>=0.13->pingouin) (0.5.2)\n",
            "Requirement already satisfied: requests in /usr/local/lib/python3.7/dist-packages (from outdated->pingouin) (2.23.0)\n",
            "Collecting littleutils\n",
            "  Downloading littleutils-0.2.2.tar.gz (6.6 kB)\n",
            "Requirement already satisfied: idna<3,>=2.5 in /usr/local/lib/python3.7/dist-packages (from requests->outdated->pingouin) (2.10)\n",
            "Requirement already satisfied: chardet<4,>=3.0.2 in /usr/local/lib/python3.7/dist-packages (from requests->outdated->pingouin) (3.0.4)\n",
            "Requirement already satisfied: urllib3!=1.25.0,!=1.25.1,<1.26,>=1.21.1 in /usr/local/lib/python3.7/dist-packages (from requests->outdated->pingouin) (1.24.3)\n",
            "Requirement already satisfied: certifi>=2017.4.17 in /usr/local/lib/python3.7/dist-packages (from requests->outdated->pingouin) (2021.10.8)\n",
            "Requirement already satisfied: joblib>=0.11 in /usr/local/lib/python3.7/dist-packages (from scikit-learn->pingouin) (1.1.0)\n",
            "Requirement already satisfied: threadpoolctl>=2.0.0 in /usr/local/lib/python3.7/dist-packages (from scikit-learn->pingouin) (3.1.0)\n",
            "Requirement already satisfied: setuptools>=40.4 in /usr/local/lib/python3.7/dist-packages (from xarray->pandas_flavor>=0.2.0->pingouin) (57.4.0)\n",
            "Building wheels for collected packages: pingouin, littleutils\n",
            "  Building wheel for pingouin (setup.py) ... \u001b[?25l\u001b[?25hdone\n",
            "  Created wheel for pingouin: filename=pingouin-0.5.1-py3-none-any.whl size=194002 sha256=a69708feeb61072701233aa616bf3f88e1607f82c31b40ef88d6563c1bbba784\n",
            "  Stored in directory: /root/.cache/pip/wheels/74/a7/b6/5b5f03b0395fdada1f45d3aed76e7da48873a02805545ef652\n",
            "  Building wheel for littleutils (setup.py) ... \u001b[?25l\u001b[?25hdone\n",
            "  Created wheel for littleutils: filename=littleutils-0.2.2-py3-none-any.whl size=7048 sha256=87d1ac96747ad89001d92713b6a2cd40bfff2873188b96a55fe805e2eaee2153\n",
            "  Stored in directory: /root/.cache/pip/wheels/d6/64/cd/32819b511a488e4993f2fab909a95330289c3f4e0f6ef4676d\n",
            "Successfully built pingouin littleutils\n",
            "Installing collected packages: scipy, littleutils, statsmodels, pandas-flavor, outdated, pingouin\n",
            "  Attempting uninstall: scipy\n",
            "    Found existing installation: scipy 1.4.1\n",
            "    Uninstalling scipy-1.4.1:\n",
            "      Successfully uninstalled scipy-1.4.1\n",
            "  Attempting uninstall: statsmodels\n",
            "    Found existing installation: statsmodels 0.10.2\n",
            "    Uninstalling statsmodels-0.10.2:\n",
            "      Successfully uninstalled statsmodels-0.10.2\n",
            "\u001b[31mERROR: pip's dependency resolver does not currently take into account all the packages that are installed. This behaviour is the source of the following dependency conflicts.\n",
            "albumentations 0.1.12 requires imgaug<0.2.7,>=0.2.5, but you have imgaug 0.2.9 which is incompatible.\u001b[0m\n",
            "Successfully installed littleutils-0.2.2 outdated-0.2.1 pandas-flavor-0.2.0 pingouin-0.5.1 scipy-1.7.3 statsmodels-0.13.2\n"
          ]
        },
        {
          "output_type": "display_data",
          "data": {
            "application/vnd.colab-display-data+json": {
              "pip_warning": {
                "packages": [
                  "scipy",
                  "statsmodels"
                ]
              }
            }
          },
          "metadata": {}
        }
      ]
    },
    {
      "cell_type": "code",
      "source": [
        "## Significance test\n",
        "import pandas as pd\n",
        "import numpy as np\n",
        "from scipy import stats\n",
        "from numpy.random import seed\n",
        "from scipy.stats import kstest\n",
        "from scipy.stats import ks_2samp\n",
        "np.random.seed(0)\n",
        "rng = np.random.default_rng()\n",
        "import pandas as pd\n",
        "import numpy as np\n",
        "from scipy import stats\n",
        "from numpy.random import seed\n",
        "from scipy.stats import kstest\n",
        "from scipy.stats import ks_2samp\n",
        "np.random.seed(0)\n",
        "rng = np.random.default_rng()\n",
        "from sklearn.metrics.pairwise import cosine_similarity\n",
        "import statistics\n",
        "from datetime import datetime\n",
        "from scipy.stats import skew\n",
        "%matplotlib notebook\n",
        "import matplotlib.pyplot as plt\n",
        "import seaborn as sns\n",
        "import pandas as pd\n",
        "import numpy as np\n",
        "plt.rcParams.update({'figure.max_open_warning': 0})\n",
        "import matplotlib as mpl\n",
        "import matplotlib.pyplot as plt\n",
        "plt.style.use('classic')\n",
        "import cv2\n",
        "%matplotlib inline\n",
        "sns.set_context('notebook')\n",
        "%config InlineBackend.figure_format = 'retina'\n",
        "import cv2 as cv\n",
        "from google.colab.patches import cv2_imshow # for image display\n",
        "from skimage import io\n",
        "from PIL import Image\n",
        "import matplotlib.pylab as plt\n",
        "import PyNonpar\n",
        "from PyNonpar.twosample import wilcoxon_mann_whitney_test"
      ],
      "metadata": {
        "id": "GJBQnZKSMglM"
      },
      "execution_count": 76,
      "outputs": []
    },
    {
      "cell_type": "code",
      "source": [
        "hopkin_sim = l\n",
        "hopkin_sim"
      ],
      "metadata": {
        "id": "-J9okixQ0pSG",
        "colab": {
          "base_uri": "https://localhost:8080/"
        },
        "outputId": "fcaf1621-9f61-474d-c4fb-9e403a5b2c37"
      },
      "execution_count": 77,
      "outputs": [
        {
          "output_type": "execute_result",
          "data": {
            "text/plain": [
              "[0.7852064154180431,\n",
              " 0.7816241389493717,\n",
              " 0.7801477423503137,\n",
              " 0.7736646871399228,\n",
              " 0.7850236969099379,\n",
              " 0.7844640393567397,\n",
              " 0.7691577460234506,\n",
              " 0.7909811498504552,\n",
              " 0.7759243913476346,\n",
              " 0.7788630989739771,\n",
              " 0.7880896632872112,\n",
              " 0.7773038498575634,\n",
              " 0.7853685200969039,\n",
              " 0.784565682639982,\n",
              " 0.7721928792743473,\n",
              " 0.779271526427724,\n",
              " 0.7971996771548429,\n",
              " 0.7834985538690976,\n",
              " 0.7818303894151686,\n",
              " 0.7940105580034416,\n",
              " 0.7756143318475898,\n",
              " 0.7687571580408947,\n",
              " 0.7828308924114578,\n",
              " 0.7847042246863025,\n",
              " 0.7665637579241142,\n",
              " 0.7805207866470232,\n",
              " 0.7729836628552984,\n",
              " 0.768464870386072,\n",
              " 0.7958005743661821,\n",
              " 0.7848326860252097,\n",
              " 0.7814663549650522,\n",
              " 0.7947094522271022,\n",
              " 0.7775443200254588,\n",
              " 0.7729943199697209,\n",
              " 0.7896868360849788,\n",
              " 0.7620494959641092,\n",
              " 0.7794956529705723,\n",
              " 0.7742020825036727,\n",
              " 0.7820844631421099,\n",
              " 0.775056364558742,\n",
              " 0.7760725869842809,\n",
              " 0.7714620682355342,\n",
              " 0.7657275281970565,\n",
              " 0.761557442380171,\n",
              " 0.7802682962823905,\n",
              " 0.799295770888126,\n",
              " 0.7651371632444834,\n",
              " 0.7701714296867938,\n",
              " 0.7838134308417378,\n",
              " 0.7744240304940065,\n",
              " 0.7876332288197052,\n",
              " 0.7696510826846779,\n",
              " 0.7705497387013589,\n",
              " 0.7752925312227,\n",
              " 0.7744478816597038,\n",
              " 0.76057942942349,\n",
              " 0.77528858521762,\n",
              " 0.7766717511252621,\n",
              " 0.7678721873515525,\n",
              " 0.7922701727495053,\n",
              " 0.7677651191160967,\n",
              " 0.7619396569482016,\n",
              " 0.8144580711060011,\n",
              " 0.7808007519492134,\n",
              " 0.7932055468028426,\n",
              " 0.7643199229298844,\n",
              " 0.765919284670087,\n",
              " 0.7905632325154052,\n",
              " 0.7705956425001956,\n",
              " 0.7844315160555969,\n",
              " 0.7886682765250165,\n",
              " 0.774375182124949,\n",
              " 0.7905990816808424,\n",
              " 0.7939292876212132,\n",
              " 0.7745565769155823,\n",
              " 0.7813546175016348,\n",
              " 0.7821931829006823,\n",
              " 0.7651687640266162,\n",
              " 0.788157425238677,\n",
              " 0.785316282940065,\n",
              " 0.7781808757065714,\n",
              " 0.7871607181126188,\n",
              " 0.7757166769776694,\n",
              " 0.7934618938006246,\n",
              " 0.7830887890430033,\n",
              " 0.7960488732521533,\n",
              " 0.785708163776516,\n",
              " 0.7720893607441832,\n",
              " 0.7588918184779557,\n",
              " 0.7945055653334528,\n",
              " 0.7694178969826295,\n",
              " 0.7759458745535636,\n",
              " 0.7745578198849156,\n",
              " 0.7913857715653433,\n",
              " 0.775446618355128,\n",
              " 0.7830533803627777,\n",
              " 0.788069241537521,\n",
              " 0.7702695069379499,\n",
              " 0.7910514650462723,\n",
              " 0.7749856166692005,\n",
              " 0.7703051878373316,\n",
              " 0.7905031284657138,\n",
              " 0.7644915062578718,\n",
              " 0.7757623675384565,\n",
              " 0.7846624104345059,\n",
              " 0.7972616632523016,\n",
              " 0.7968441870537202,\n",
              " 0.7680477726172195,\n",
              " 0.7756694002633676,\n",
              " 0.7802438819248637,\n",
              " 0.7635132390856743,\n",
              " 0.776362760535071,\n",
              " 0.7936518006448451,\n",
              " 0.7916181721572276,\n",
              " 0.7867351821869826,\n",
              " 0.7929369054930704,\n",
              " 0.7768339612877665,\n",
              " 0.7873098225846157,\n",
              " 0.7926180624505601,\n",
              " 0.7811511296810519,\n",
              " 0.7716458640898682,\n",
              " 0.7686645909264431,\n",
              " 0.7717675647548652,\n",
              " 0.7849919445164243,\n",
              " 0.7850849402467414,\n",
              " 0.7853531481176876,\n",
              " 0.7697991812208745,\n",
              " 0.77838390277293,\n",
              " 0.7913799044194323,\n",
              " 0.7856752450267515,\n",
              " 0.7759456836591242,\n",
              " 0.7931716820351042,\n",
              " 0.7837217280042497,\n",
              " 0.781278983791058,\n",
              " 0.7948023574801796,\n",
              " 0.7785305509159779,\n",
              " 0.7778708778892709,\n",
              " 0.7852173478720649,\n",
              " 0.772667723778937,\n",
              " 0.7846194708204285,\n",
              " 0.7627769041711863,\n",
              " 0.7859905711648866,\n",
              " 0.7830093889587815,\n",
              " 0.7780512001704332,\n",
              " 0.7898886524297225,\n",
              " 0.787046180415845,\n",
              " 0.7918002856045356,\n",
              " 0.7830248918847189,\n",
              " 0.781148544134749,\n",
              " 0.7902566307893496,\n",
              " 0.776592925235574,\n",
              " 0.7815817599417579,\n",
              " 0.7783173049890445,\n",
              " 0.7749937693032415,\n",
              " 0.7792021370888597,\n",
              " 0.7828121657434338,\n",
              " 0.7830478083246328,\n",
              " 0.7930589210480523,\n",
              " 0.7866462774367698,\n",
              " 0.7951142356520379,\n",
              " 0.7833399411231572,\n",
              " 0.7546046370153783,\n",
              " 0.768321415792946,\n",
              " 0.7760914972822156,\n",
              " 0.7828687318498035,\n",
              " 0.7710908464029442,\n",
              " 0.7630055384710697,\n",
              " 0.782390081677251,\n",
              " 0.7960031341008783,\n",
              " 0.7725918676075846,\n",
              " 0.7730608569016699,\n",
              " 0.7746742101396095,\n",
              " 0.7823368651057921,\n",
              " 0.7781023364955004,\n",
              " 0.7790347508471541,\n",
              " 0.7949281976708024,\n",
              " 0.7869589931917587,\n",
              " 0.781630494238242,\n",
              " 0.7617016929387963,\n",
              " 0.7737178749828948,\n",
              " 0.7965728806446174,\n",
              " 0.7728833667961637,\n",
              " 0.7709748825666427,\n",
              " 0.778611253510341,\n",
              " 0.782933787898815,\n",
              " 0.7891190681187231,\n",
              " 0.7810658356800506,\n",
              " 0.7763024150846849,\n",
              " 0.7751296792576432,\n",
              " 0.7686707519317081,\n",
              " 0.7718920010347533,\n",
              " 0.7786327508289714,\n",
              " 0.7825427384374121,\n",
              " 0.7742240459840787,\n",
              " 0.7807438662820102,\n",
              " 0.7764779034599208,\n",
              " 0.7817169188812181,\n",
              " 0.7728913176837029,\n",
              " 0.785079422457294,\n",
              " 0.7685851916997537,\n",
              " 0.7684108439961672,\n",
              " 0.7761875379254224,\n",
              " 0.7904465186661733,\n",
              " 0.7786005805339616,\n",
              " 0.7612503883410954,\n",
              " 0.7851882825273481,\n",
              " 0.7761661401141458,\n",
              " 0.7766201996489187,\n",
              " 0.7689788323171407,\n",
              " 0.7829613052113321,\n",
              " 0.7843063847981978,\n",
              " 0.7745553433653218,\n",
              " 0.7834381866224841,\n",
              " 0.7671587247255895,\n",
              " 0.7872584034686091,\n",
              " 0.7983212668339343,\n",
              " 0.7627275649831374,\n",
              " 0.7697736229559654,\n",
              " 0.7877998682751268,\n",
              " 0.7888004771768162,\n",
              " 0.7793751372522406,\n",
              " 0.7805910183040711,\n",
              " 0.7925157912520752,\n",
              " 0.7723935362820223,\n",
              " 0.7835860530226433,\n",
              " 0.8229176507889912,\n",
              " 0.7695143685107421,\n",
              " 0.78459983712746,\n",
              " 0.7932424648906335,\n",
              " 0.7764654461779601,\n",
              " 0.7645011498217433,\n",
              " 0.778199212556172,\n",
              " 0.7847857310528701,\n",
              " 0.7709787376079321,\n",
              " 0.7825082857755602,\n",
              " 0.7593837558741611,\n",
              " 0.7848746052706473,\n",
              " 0.7987524663096929,\n",
              " 0.7767106055415405,\n",
              " 0.7773531871549193,\n",
              " 0.8017141815160792,\n",
              " 0.7780183127881962,\n",
              " 0.77772099293689,\n",
              " 0.7800121428496835,\n",
              " 0.782160628595831,\n",
              " 0.7660911499003177,\n",
              " 0.7905269352505611,\n",
              " 0.7784689815896118,\n",
              " 0.7806914550172549,\n",
              " 0.7839143727511502,\n",
              " 0.7673508799644918,\n",
              " 0.7761586796093224,\n",
              " 0.787157106605431,\n",
              " 0.7821404347613092,\n",
              " 0.7731755667286065,\n",
              " 0.7854887476390249,\n",
              " 0.7738786715106918,\n",
              " 0.7711039965675266,\n",
              " 0.7662347564095954,\n",
              " 0.7666184165501112,\n",
              " 0.7804989966520627,\n",
              " 0.7850298375219108,\n",
              " 0.7806821683734907,\n",
              " 0.775349673012631,\n",
              " 0.7752399007587083,\n",
              " 0.7777845623440754,\n",
              " 0.7790225616868163,\n",
              " 0.7779768836056249,\n",
              " 0.79582663801106,\n",
              " 0.7732557367221995,\n",
              " 0.7949343377513339,\n",
              " 0.7806694823158675,\n",
              " 0.77630177863979,\n",
              " 0.7752650220784184,\n",
              " 0.7692326134641811,\n",
              " 0.7911283750555527,\n",
              " 0.783154304281768,\n",
              " 0.7908853489828819,\n",
              " 0.7632005048662099,\n",
              " 0.7743477277868568,\n",
              " 0.7754160980023791,\n",
              " 0.7851203767301728,\n",
              " 0.7691022546425473,\n",
              " 0.7775202794263685,\n",
              " 0.780661977218003,\n",
              " 0.7715676645654478,\n",
              " 0.7652570103116358,\n",
              " 0.7623786281925939,\n",
              " 0.7749239973491195,\n",
              " 0.7942445140636555,\n",
              " 0.7656562903245471,\n",
              " 0.7834625285483001,\n",
              " 0.7737585390761499,\n",
              " 0.7836332289468442,\n",
              " 0.7711402196079571,\n",
              " 0.77587154744411,\n",
              " 0.7749435695080245,\n",
              " 0.7775115889406105,\n",
              " 0.7811293953486951,\n",
              " 0.7917992429823132]"
            ]
          },
          "metadata": {},
          "execution_count": 77
        }
      ]
    },
    {
      "cell_type": "code",
      "source": [
        "hopkin_dissim= l1\n",
        "hopkin_dissim"
      ],
      "metadata": {
        "id": "A2yqGQpY07kd",
        "colab": {
          "base_uri": "https://localhost:8080/"
        },
        "outputId": "f4721c43-cf34-43c6-cda8-30698a52b598"
      },
      "execution_count": 78,
      "outputs": [
        {
          "output_type": "execute_result",
          "data": {
            "text/plain": [
              "[0.7750801537152895,\n",
              " 0.784190180992661,\n",
              " 0.7597320419773628,\n",
              " 0.7904671099741377,\n",
              " 0.7729743285512365,\n",
              " 0.7786896368750778,\n",
              " 0.756954267437068,\n",
              " 0.7791171731873882,\n",
              " 0.770631634596505,\n",
              " 0.7843750847081722,\n",
              " 0.7850666639610997,\n",
              " 0.7651330289999116,\n",
              " 0.7686223343537035,\n",
              " 0.7735591559341662,\n",
              " 0.7654063914254824,\n",
              " 0.7835546823912126,\n",
              " 0.763388848052929,\n",
              " 0.7659821238455571,\n",
              " 0.7741902211746415,\n",
              " 0.7706507239506428,\n",
              " 0.7809675432818707,\n",
              " 0.7721816277639781,\n",
              " 0.7634391001988463,\n",
              " 0.7837890111449007,\n",
              " 0.760920592106273,\n",
              " 0.7678101994319474,\n",
              " 0.7596627768454015,\n",
              " 0.773069053640954,\n",
              " 0.7642142648322273,\n",
              " 0.7752677922748403,\n",
              " 0.7676840841185325,\n",
              " 0.7616491576311686,\n",
              " 0.7477387296985243,\n",
              " 0.7779506264264577,\n",
              " 0.7621094712594767,\n",
              " 0.7950238520396512,\n",
              " 0.7596356605213375,\n",
              " 0.7645929312582664,\n",
              " 0.757806618226693,\n",
              " 0.7646228645760962,\n",
              " 0.7720926237330116,\n",
              " 0.77125235627666,\n",
              " 0.767469581532574,\n",
              " 0.7593852558655833,\n",
              " 0.7493205513867526,\n",
              " 0.7863397215630415,\n",
              " 0.7687538695693106,\n",
              " 0.7709111406240301,\n",
              " 0.7645167310327271,\n",
              " 0.7702501190964091,\n",
              " 0.7677312477431428,\n",
              " 0.7627932048231166,\n",
              " 0.7666126713313849,\n",
              " 0.7846853533702757,\n",
              " 0.7769339009021317,\n",
              " 0.7834912244917264,\n",
              " 0.7793814511446435,\n",
              " 0.7675199700219388,\n",
              " 0.7842238650465694,\n",
              " 0.7678449773457309,\n",
              " 0.7779857274162354,\n",
              " 0.7683518552487745,\n",
              " 0.7841920974326605,\n",
              " 0.7709241681863357,\n",
              " 0.7945475154196684,\n",
              " 0.7733343815014253,\n",
              " 0.78241043184066,\n",
              " 0.7718524203523756,\n",
              " 0.7898619554290374,\n",
              " 0.774059319215566,\n",
              " 0.7792839585295274,\n",
              " 0.7790439725504854,\n",
              " 0.7651112785470371,\n",
              " 0.7561002079127054,\n",
              " 0.7654446785123914,\n",
              " 0.7834627090092524,\n",
              " 0.7699392212924452,\n",
              " 0.7692038888843609,\n",
              " 0.7757930805180626,\n",
              " 0.7808076906742708,\n",
              " 0.7663956131255183,\n",
              " 0.7667995915262519,\n",
              " 0.7724273670188488,\n",
              " 0.7852834055261391,\n",
              " 0.7480781189706475,\n",
              " 0.7722342154397253,\n",
              " 0.7834822840334698,\n",
              " 0.7835251352050452,\n",
              " 0.7749434450475166,\n",
              " 0.7690742537510651,\n",
              " 0.7772884664475948,\n",
              " 0.7758529110848218,\n",
              " 0.7631303790851905,\n",
              " 0.7702886200803178,\n",
              " 0.7814578675699033,\n",
              " 0.7652738047174339,\n",
              " 0.7830438414763066,\n",
              " 0.7715025675319707,\n",
              " 0.7910633819051682,\n",
              " 0.7733964686973116,\n",
              " 0.7527873085315742,\n",
              " 0.766885964485267,\n",
              " 0.782206138388058,\n",
              " 0.7770068079686531,\n",
              " 0.7704209937415295,\n",
              " 0.7557535757542038,\n",
              " 0.7612233078975672,\n",
              " 0.7851308882007602,\n",
              " 0.7611808405774573,\n",
              " 0.7657041190723318,\n",
              " 0.7516058616047869,\n",
              " 0.7641773903868623,\n",
              " 0.769842955279377,\n",
              " 0.7699798044592211,\n",
              " 0.7744731119356965,\n",
              " 0.7676385182972653,\n",
              " 0.776913423564719,\n",
              " 0.7672354586086452,\n",
              " 0.7591676942444114,\n",
              " 0.7845205721676927,\n",
              " 0.787063730845788,\n",
              " 0.783514042351935,\n",
              " 0.7829153358229521,\n",
              " 0.7786295754772484,\n",
              " 0.7843547270338511,\n",
              " 0.7615020754556268,\n",
              " 0.7679675656541461,\n",
              " 0.7870135108611197,\n",
              " 0.7622803473178011,\n",
              " 0.7656623743534325,\n",
              " 0.7795897664550295,\n",
              " 0.777295604389444,\n",
              " 0.7855840280352777,\n",
              " 0.7779216158600715,\n",
              " 0.7671201941953083,\n",
              " 0.7827649417979478,\n",
              " 0.7591803609349166,\n",
              " 0.7750968478700778,\n",
              " 0.7613393081716623,\n",
              " 0.7564921230096936,\n",
              " 0.7804687445207537,\n",
              " 0.758461697640692,\n",
              " 0.7831002703392138,\n",
              " 0.7728696179245619,\n",
              " 0.7696937656430423,\n",
              " 0.7798364078623241,\n",
              " 0.7622857356411127,\n",
              " 0.7644706762849179,\n",
              " 0.7752327674051692,\n",
              " 0.7741273422029695,\n",
              " 0.7710526751763781,\n",
              " 0.7758562902897111,\n",
              " 0.7581579462232765,\n",
              " 0.7722986359611458,\n",
              " 0.7775811274745669,\n",
              " 0.7778261533615023,\n",
              " 0.778363271047671,\n",
              " 0.7692593447264244,\n",
              " 0.7748500650591936,\n",
              " 0.7802892589638668,\n",
              " 0.7786792126341968,\n",
              " 0.7646929053509759,\n",
              " 0.776312712344082,\n",
              " 0.7781328433221787,\n",
              " 0.7756035954601739,\n",
              " 0.7788235169667099,\n",
              " 0.7767208773455665,\n",
              " 0.788518105667476,\n",
              " 0.7796122561824744,\n",
              " 0.7632247754011556,\n",
              " 0.785185407551876,\n",
              " 0.7722693880221468,\n",
              " 0.7708047417453695,\n",
              " 0.7679789083960812,\n",
              " 0.7624549747459479,\n",
              " 0.7571195418171816,\n",
              " 0.7615218145417612,\n",
              " 0.7681442389450485,\n",
              " 0.7618390552968894,\n",
              " 0.7802375720612967,\n",
              " 0.7610777736936867,\n",
              " 0.7546711535380398,\n",
              " 0.7579768977591431,\n",
              " 0.7787498241378426,\n",
              " 0.7782813012112596,\n",
              " 0.7602914963936196,\n",
              " 0.7727643148904997,\n",
              " 0.7719671295299734,\n",
              " 0.779570080354015,\n",
              " 0.7803566770534426,\n",
              " 0.7673964100898095,\n",
              " 0.7666777617926702,\n",
              " 0.7635414783249957,\n",
              " 0.7694387910931023,\n",
              " 0.7659654571755015,\n",
              " 0.7655952978832655,\n",
              " 0.7704155277479183,\n",
              " 0.7548980842607267,\n",
              " 0.7697751362896496,\n",
              " 0.7590592122282395,\n",
              " 0.767237445373178,\n",
              " 0.7760568335647536,\n",
              " 0.7652105918284705,\n",
              " 0.7829346761054279,\n",
              " 0.7810452624191188,\n",
              " 0.7794579214715889,\n",
              " 0.7803393539006714,\n",
              " 0.7829234484348891,\n",
              " 0.7630034896988704,\n",
              " 0.7853796918497065,\n",
              " 0.7642212495239761,\n",
              " 0.7846038292031025,\n",
              " 0.7465726470335318,\n",
              " 0.7835281867819198,\n",
              " 0.7851299573446441,\n",
              " 0.7849571149474517,\n",
              " 0.7747860623109363,\n",
              " 0.762247874369923,\n",
              " 0.7739093283280488,\n",
              " 0.7823235606695276,\n",
              " 0.7666954046844797,\n",
              " 0.7719031433862936,\n",
              " 0.7759737404556892,\n",
              " 0.7733003342237262,\n",
              " 0.7821544455591398,\n",
              " 0.7672544016023122,\n",
              " 0.7763904643425604,\n",
              " 0.7712085472216574,\n",
              " 0.7723267343537428,\n",
              " 0.7792777164589458,\n",
              " 0.7653583986923249,\n",
              " 0.7712128914632224,\n",
              " 0.7671424243923272,\n",
              " 0.7747792792636973,\n",
              " 0.7717654958647985,\n",
              " 0.7651174710643015,\n",
              " 0.7605087465811694,\n",
              " 0.7612744132727515,\n",
              " 0.7904753602171942,\n",
              " 0.7675836651855531,\n",
              " 0.7575308235548078,\n",
              " 0.7799459366539379,\n",
              " 0.7835752152199311,\n",
              " 0.7881951165120271,\n",
              " 0.7655768767660184,\n",
              " 0.7672104539839282,\n",
              " 0.7832560806190615,\n",
              " 0.7637501802698466,\n",
              " 0.7702055504549497,\n",
              " 0.7728399554942551,\n",
              " 0.7772272207089246,\n",
              " 0.7690913686798793,\n",
              " 0.7790018426188582,\n",
              " 0.7700545010080427,\n",
              " 0.7818268354453769,\n",
              " 0.7684318072997621,\n",
              " 0.7641278084810634,\n",
              " 0.7656983843970293,\n",
              " 0.7610433845301411,\n",
              " 0.7597852895452889,\n",
              " 0.7873111619453466,\n",
              " 0.7781825422828877,\n",
              " 0.7661581031795802,\n",
              " 0.7689514731059486,\n",
              " 0.7538113329145636,\n",
              " 0.7689512730765793,\n",
              " 0.7706474551754086,\n",
              " 0.7733377510597412,\n",
              " 0.768528325488612,\n",
              " 0.7675346695419009,\n",
              " 0.7918069987329086,\n",
              " 0.768361535811527,\n",
              " 0.777588078231268,\n",
              " 0.7775088814765414,\n",
              " 0.7831288296467972,\n",
              " 0.7761854143572734,\n",
              " 0.7916030813297474,\n",
              " 0.768493249721583,\n",
              " 0.7665754216223635,\n",
              " 0.7666589495096605,\n",
              " 0.7725784839042379,\n",
              " 0.7768035123855447,\n",
              " 0.795693832674382,\n",
              " 0.7621659666414944,\n",
              " 0.7691025788834432,\n",
              " 0.7503756795892437,\n",
              " 0.7589903318815769,\n",
              " 0.7826505129282456,\n",
              " 0.7915317990081722,\n",
              " 0.7671250001140117,\n",
              " 0.7614148050868016,\n",
              " 0.7698559858253521,\n",
              " 0.7814416770365408,\n",
              " 0.7644278606117365,\n",
              " 0.7674693723484033,\n",
              " 0.7673777647694286,\n",
              " 0.7687334578260574,\n",
              " 0.789214553615289,\n",
              " 0.7857890199124873,\n",
              " 0.7596057920591343]"
            ]
          },
          "metadata": {},
          "execution_count": 78
        }
      ]
    },
    {
      "cell_type": "code",
      "source": [
        "print (\"eclipse_hopkin_sim_dist:\", stats.kstest(hopkin_sim, 'norm')) # Not normal dist"
      ],
      "metadata": {
        "id": "mNdQwyO-1AN2",
        "colab": {
          "base_uri": "https://localhost:8080/"
        },
        "outputId": "e849a927-3256-44cb-f8ba-e58b856cf809"
      },
      "execution_count": 79,
      "outputs": [
        {
          "output_type": "stream",
          "name": "stdout",
          "text": [
            "eclipse_hopkin_sim_dist: KstestResult(statistic=0.774756879711032, pvalue=3.052307484650139e-190)\n"
          ]
        }
      ]
    },
    {
      "cell_type": "code",
      "source": [
        "print (\"eclipse_hopkin_dissim_dist:\", stats.kstest(hopkin_dissim, 'norm')) # Not normal dist"
      ],
      "metadata": {
        "id": "S3sQLS7o1e0n",
        "colab": {
          "base_uri": "https://localhost:8080/"
        },
        "outputId": "203999c7-39b8-4dc2-8223-5903cf251bae"
      },
      "execution_count": 80,
      "outputs": [
        {
          "output_type": "stream",
          "name": "stdout",
          "text": [
            "eclipse_hopkin_dissim_dist: KstestResult(statistic=0.7723392177193051, pvalue=1.0600880852071405e-188)\n"
          ]
        }
      ]
    },
    {
      "cell_type": "code",
      "source": [
        "from scipy.stats import mannwhitneyu"
      ],
      "metadata": {
        "id": "YiBnQvbR1pFi"
      },
      "execution_count": 81,
      "outputs": []
    },
    {
      "cell_type": "code",
      "source": [
        "PyNonpar.twosample.wilcoxon_mann_whitney_test(hopkin_sim, hopkin_dissim, method= \"asymptotic\")"
      ],
      "metadata": {
        "id": "xRJD2WPm3N-B",
        "colab": {
          "base_uri": "https://localhost:8080/"
        },
        "outputId": "10606099-583b-48aa-998d-b1df145d52f6"
      },
      "execution_count": 82,
      "outputs": [
        {
          "output_type": "stream",
          "name": "stderr",
          "text": [
            "/usr/local/lib/python3.7/dist-packages/numba/core/ir_utils.py:2031: NumbaPendingDeprecationWarning: \n",
            "Encountered the use of a type that is scheduled for deprecation: type 'reflected list' found for argument 'data' of function '_psrank_average'.\n",
            "\n",
            "For more information visit https://numba.pydata.org/numba-doc/latest/reference/deprecation.html#deprecation-of-reflection-for-list-and-set-types\n",
            "\n",
            "File \"../usr/local/lib/python3.7/dist-packages/PyNonpar/pseudorank.py\", line 19:\n",
            "@nu.jit(nopython=True)\n",
            "def _psrank_average(data: list, group: list, N: int, n: list, a: int) -> list:\n",
            "^\n",
            "\n",
            "  warnings.warn(NumbaPendingDeprecationWarning(msg, loc=loc))\n",
            "/usr/local/lib/python3.7/dist-packages/numba/core/ir_utils.py:2031: NumbaPendingDeprecationWarning: \n",
            "Encountered the use of a type that is scheduled for deprecation: type 'reflected list' found for argument 'group' of function '_psrank_average'.\n",
            "\n",
            "For more information visit https://numba.pydata.org/numba-doc/latest/reference/deprecation.html#deprecation-of-reflection-for-list-and-set-types\n",
            "\n",
            "File \"../usr/local/lib/python3.7/dist-packages/PyNonpar/pseudorank.py\", line 19:\n",
            "@nu.jit(nopython=True)\n",
            "def _psrank_average(data: list, group: list, N: int, n: list, a: int) -> list:\n",
            "^\n",
            "\n",
            "  warnings.warn(NumbaPendingDeprecationWarning(msg, loc=loc))\n",
            "/usr/local/lib/python3.7/dist-packages/numba/core/ir_utils.py:2031: NumbaPendingDeprecationWarning: \n",
            "Encountered the use of a type that is scheduled for deprecation: type 'reflected list' found for argument 'n' of function '_psrank_average'.\n",
            "\n",
            "For more information visit https://numba.pydata.org/numba-doc/latest/reference/deprecation.html#deprecation-of-reflection-for-list-and-set-types\n",
            "\n",
            "File \"../usr/local/lib/python3.7/dist-packages/PyNonpar/pseudorank.py\", line 19:\n",
            "@nu.jit(nopython=True)\n",
            "def _psrank_average(data: list, group: list, N: int, n: list, a: int) -> list:\n",
            "^\n",
            "\n",
            "  warnings.warn(NumbaPendingDeprecationWarning(msg, loc=loc))\n"
          ]
        },
        {
          "output_type": "execute_result",
          "data": {
            "text/plain": [
              "WilcoxonMannWhitneyResult(alternative='two.sided', statistic=-8.779195912224798, HodgesLehmann=-0.007516139728711846, lowerCI=-0.009065149962202979, upperCI=-0.005917468846738716, pvalue=1.6464751255786473e-18)"
            ]
          },
          "metadata": {},
          "execution_count": 82
        }
      ]
    },
    {
      "cell_type": "code",
      "source": [
        ""
      ],
      "metadata": {
        "id": "NLXcPax50B8V"
      },
      "execution_count": null,
      "outputs": []
    },
    {
      "cell_type": "code",
      "source": [
        "import math\n",
        "z = abs(-8.779195912224798)\n",
        "n = 147\n",
        "r = z/math.sqrt(n)\n",
        "print(r) #large effect"
      ],
      "metadata": {
        "id": "LuWj02D82rxJ",
        "colab": {
          "base_uri": "https://localhost:8080/"
        },
        "outputId": "0e632962-53c8-41cf-871a-17a3b3d5ba6c"
      },
      "execution_count": 85,
      "outputs": [
        {
          "output_type": "stream",
          "name": "stdout",
          "text": [
            "0.7240958747416356\n"
          ]
        }
      ]
    },
    {
      "cell_type": "code",
      "source": [
        "#Effect size test\n",
        "#Effect Size r less than 0.3 -> small effect\n",
        "#Effect Size r between 0.3 and 0.5 -> medium effect\n",
        "#Effect Size r greater than 0.5 -> large effect"
      ],
      "metadata": {
        "id": "x2GsnXFq3q1N"
      },
      "execution_count": 84,
      "outputs": []
    }
  ]
}