{
 "cells": [
  {
   "cell_type": "markdown",
   "id": "4aa4f807-2ba9-433f-b792-7870d8d16c0d",
   "metadata": {},
   "source": [
    "### 1596303 & 1263176 Textually Dissimilar Data"
   ]
  },
  {
   "cell_type": "code",
   "execution_count": 88,
   "id": "3068a5fb-a4c8-480b-b03b-b095db643a87",
   "metadata": {},
   "outputs": [],
   "source": [
    "desc1 = '''STR:\n",
    "\n",
    "find a .txt file with mimetype text/plain and content-disposition download + filename.txt\n",
    "download\n",
    "ER:\n",
    "default open app is nodepad\n",
    "\n",
    "AR:\n",
    "default open app is \"Microsoft WinRT Storage API\". Whatever that is.\n",
    "\n",
    "Marking as a regression though I wonder if it's a win10 change.'''\n",
    "\n",
    "desc2 = '''\n",
    "This is basically bug 1260483 but for file extension and mime type associations instead of just protocols:\n",
    "\n",
    "STR:\n",
    "1. On Windows 8+, install a Universal App (like Excel Mobile)\n",
    "2. Ensure it is the default handler for .xls files\n",
    "3. Attempt to open an xls file from, say, http://www.sample-videos.com/xls/Sample-Spreadsheet-10-rows.xls\n",
    "\n",
    "The \"Opening Sample-Spreadsheet-10-rows.xls\" dialog recommends we \"Open with TWINUI (default)\"\n",
    "\n",
    "Alternatively,\n",
    "4. Select \"Do this automatically for files like this from now on.\" On the \"Opening Sample-Spreadsheet-10-rows.xls\" dialog and press \"OK\"\n",
    "5. In Firefox, Options > Applications\n",
    "\n",
    "It says \"Use (default)\" instead of \"Use Excel Mobile (default)\n",
    "'''"
   ]
  },
  {
   "cell_type": "code",
   "execution_count": 89,
   "id": "e3b7d300-056b-4867-bc54-ee01b3edd6ad",
   "metadata": {},
   "outputs": [
    {
     "data": {
      "text/plain": [
       "'STR:\\n\\nfind a .txt file with mimetype text/plain and content-disposition download + filename.txt\\ndownload\\nER:\\ndefault open app is nodepad\\n\\nAR:\\ndefault open app is \"Microsoft WinRT Storage API\". Whatever that is.\\n\\nMarking as a regression though I wonder if it\\'s a win10 change.'"
      ]
     },
     "execution_count": 89,
     "metadata": {},
     "output_type": "execute_result"
    }
   ],
   "source": [
    "desc1"
   ]
  },
  {
   "cell_type": "code",
   "execution_count": 90,
   "id": "937220fd-a116-4630-9248-1c4f5da74f13",
   "metadata": {},
   "outputs": [
    {
     "data": {
      "text/plain": [
       "'\\nThis is basically bug 1260483 but for file extension and mime type associations instead of just protocols:\\n\\nSTR:\\n1. On Windows 8+, install a Universal App (like Excel Mobile)\\n2. Ensure it is the default handler for .xls files\\n3. Attempt to open an xls file from, say, http://www.sample-videos.com/xls/Sample-Spreadsheet-10-rows.xls\\n\\nThe \"Opening Sample-Spreadsheet-10-rows.xls\" dialog recommends we \"Open with TWINUI (default)\"\\n\\nAlternatively,\\n4. Select \"Do this automatically for files like this from now on.\" On the \"Opening Sample-Spreadsheet-10-rows.xls\" dialog and press \"OK\"\\n5. In Firefox, Options > Applications\\n\\nIt says \"Use (default)\" instead of \"Use Excel Mobile (default)\\n'"
      ]
     },
     "execution_count": 90,
     "metadata": {},
     "output_type": "execute_result"
    }
   ],
   "source": [
    "desc2"
   ]
  },
  {
   "cell_type": "code",
   "execution_count": 91,
   "id": "afc0e638-065c-4f3d-9266-c2cd2ff0671a",
   "metadata": {},
   "outputs": [],
   "source": [
    "import re\n",
    "# as per recommendation from @freylis, compile once only\n",
    "CLEANR = re.compile('<.*?>|&([a-z0-9]+|#[0-9]{1,6}|#x[0-9a-f]{1,6});') \n",
    "\n",
    "def cleanhtml(raw_html):\n",
    "    cleantext = re.sub(CLEANR, '', raw_html)\n",
    "    return cleantext"
   ]
  },
  {
   "cell_type": "code",
   "execution_count": 92,
   "id": "9eb70164-7be4-4339-9419-91bc014f7429",
   "metadata": {},
   "outputs": [],
   "source": [
    "des =  str(desc1)\n",
    "des = des.replace(\"\\n\",\" \")\n",
    "desc1 = cleanhtml(des) "
   ]
  },
  {
   "cell_type": "code",
   "execution_count": 93,
   "id": "7432b1eb-b101-47b9-96d9-0ea8ead7f76f",
   "metadata": {},
   "outputs": [],
   "source": [
    "des2 =  str(desc2)\n",
    "des2 = des2.replace(\"\\n\",\" \")\n",
    "desc2 = cleanhtml(des2) "
   ]
  },
  {
   "cell_type": "code",
   "execution_count": 94,
   "id": "c5691ab5-2a73-4b2f-8488-2bc46c0ce520",
   "metadata": {},
   "outputs": [
    {
     "data": {
      "text/plain": [
       "'STR:  find a .txt file with mimetype text/plain and content-disposition download + filename.txt download ER: default open app is nodepad  AR: default open app is \"Microsoft WinRT Storage API\". Whatever that is.  Marking as a regression though I wonder if it\\'s a win10 change.'"
      ]
     },
     "execution_count": 94,
     "metadata": {},
     "output_type": "execute_result"
    }
   ],
   "source": [
    "desc1"
   ]
  },
  {
   "cell_type": "code",
   "execution_count": 95,
   "id": "e1729b81-6969-48b2-9ec7-0bff89d0ba01",
   "metadata": {},
   "outputs": [
    {
     "data": {
      "text/plain": [
       "' This is basically bug 1260483 but for file extension and mime type associations instead of just protocols:  STR: 1. On Windows 8+, install a Universal App (like Excel Mobile) 2. Ensure it is the default handler for .xls files 3. Attempt to open an xls file from, say, http://www.sample-videos.com/xls/Sample-Spreadsheet-10-rows.xls  The \"Opening Sample-Spreadsheet-10-rows.xls\" dialog recommends we \"Open with TWINUI (default)\"  Alternatively, 4. Select \"Do this automatically for files like this from now on.\" On the \"Opening Sample-Spreadsheet-10-rows.xls\" dialog and press \"OK\" 5. In Firefox, Options > Applications  It says \"Use (default)\" instead of \"Use Excel Mobile (default) '"
      ]
     },
     "execution_count": 95,
     "metadata": {},
     "output_type": "execute_result"
    }
   ],
   "source": [
    "desc2"
   ]
  },
  {
   "cell_type": "code",
   "execution_count": 96,
   "id": "37d9fc4a-6491-423c-87e9-5a51d12e2606",
   "metadata": {},
   "outputs": [],
   "source": [
    "#Text Cleaning round 1 (removing punctutions)\n",
    "import re\n",
    "import string\n",
    "\n",
    "def clean_text_round1(text):\n",
    "    '''Make text lowercase, remove text in square brackets, remove punctuation and remove words containing numbers.'''\n",
    "#     print(text)\n",
    "    text = re.sub('\\w*\\d\\w*', ' ', text)\n",
    "    text = re.sub('\\w*\\f\\w*', ' ', text)\n",
    "    text = re.sub('\\(.*?\\)', ' ', text)\n",
    "    text = re.sub('\\[.*]\\)', ' ', text)\n",
    "    text = re.sub(r'https?://[A-Za-z0-9./]+',' ',text)\n",
    "    text = text.lower()\n",
    "    text = re.sub('[%s]' % re.escape(string.punctuation), ' ', text)\n",
    "    return text"
   ]
  },
  {
   "cell_type": "code",
   "execution_count": 97,
   "id": "37b031f0-fa68-40d2-ac35-2947de3e59f8",
   "metadata": {},
   "outputs": [],
   "source": [
    "desc1 = clean_text_round1(desc1)\n",
    "desc2 = clean_text_round1(desc2)"
   ]
  },
  {
   "cell_type": "code",
   "execution_count": 98,
   "id": "cd3f8df9-b6d6-4c80-9409-db5ec1621979",
   "metadata": {},
   "outputs": [
    {
     "name": "stdout",
     "output_type": "stream",
     "text": [
      "desc1:\n",
      " str   find a  txt file with mimetype text plain and content disposition download   filename txt download er  default open app is nodepad  ar  default open app is  microsoft winrt storage api   whatever that is   marking as a regression though i wonder if it s a   change \n",
      "desc2:\n",
      "  this is basically bug   but for file extension and mime type associations instead of just protocols   str     on windows     install a universal app      ensure it is the default handler for  xls files    attempt to open an xls file from  say    videos com xls sample spreadsheet   rows xls  the  opening sample spreadsheet   rows xls  dialog recommends we  open with twinui     alternatively     select  do this automatically for files like this from now on   on the  opening sample spreadsheet   rows xls  dialog and press  ok     in firefox  options   applications  it says  use    instead of  use excel mobile   \n"
     ]
    }
   ],
   "source": [
    "print(\"desc1:\\n\",desc1)\n",
    "print(\"desc2:\\n\",desc2)"
   ]
  },
  {
   "cell_type": "code",
   "execution_count": 99,
   "id": "523bbe65-e601-4a83-8001-c1431a442603",
   "metadata": {},
   "outputs": [],
   "source": [
    "# Apply a second round of cleaning (removing punctuations)\n",
    "def clean_text_round2(text):\n",
    "    '''Get rid of some additional punctuation and non-sensical text that was missed the first time around.'''\n",
    "    text = re.sub('[‘’“”…]', ' ', text)\n",
    "    text = re.sub('\\n', ' ', text)\n",
    "    text = re.sub('\\t', ' ', text)\n",
    "    return text"
   ]
  },
  {
   "cell_type": "code",
   "execution_count": 100,
   "id": "b661cdfd-e17b-4c64-8664-7ab5c411f36f",
   "metadata": {},
   "outputs": [],
   "source": [
    "desc1 = clean_text_round2(desc1)\n",
    "desc2 = clean_text_round2(desc2)"
   ]
  },
  {
   "cell_type": "code",
   "execution_count": 101,
   "id": "b8fbb654-10b5-4933-80c6-acf2dba542f1",
   "metadata": {},
   "outputs": [
    {
     "name": "stdout",
     "output_type": "stream",
     "text": [
      "desc1:\n",
      " str   find a  txt file with mimetype text plain and content disposition download   filename txt download er  default open app is nodepad  ar  default open app is  microsoft winrt storage api   whatever that is   marking as a regression though i wonder if it s a   change \n",
      "desc2:\n",
      "  this is basically bug   but for file extension and mime type associations instead of just protocols   str     on windows     install a universal app      ensure it is the default handler for  xls files    attempt to open an xls file from  say    videos com xls sample spreadsheet   rows xls  the  opening sample spreadsheet   rows xls  dialog recommends we  open with twinui     alternatively     select  do this automatically for files like this from now on   on the  opening sample spreadsheet   rows xls  dialog and press  ok     in firefox  options   applications  it says  use    instead of  use excel mobile   \n"
     ]
    }
   ],
   "source": [
    "print(\"desc1:\\n\",desc1)\n",
    "print(\"desc2:\\n\",desc2)"
   ]
  },
  {
   "cell_type": "code",
   "execution_count": 102,
   "id": "85e1b3e2-a976-4102-a1fa-95d9ac7a6204",
   "metadata": {},
   "outputs": [],
   "source": [
    "import nltk"
   ]
  },
  {
   "cell_type": "code",
   "execution_count": 103,
   "id": "25097c74-1163-463b-83c5-60b78006d2ae",
   "metadata": {},
   "outputs": [],
   "source": [
    "sent_text1 = nltk.sent_tokenize(desc1)"
   ]
  },
  {
   "cell_type": "code",
   "execution_count": 104,
   "id": "558a45fb-87f4-4a76-99c8-56b3622c7697",
   "metadata": {},
   "outputs": [
    {
     "name": "stdout",
     "output_type": "stream",
     "text": [
      "['str', 'find', 'a', 'txt', 'file', 'with', 'mimetype', 'text', 'plain', 'and', 'content', 'disposition', 'download', 'filename', 'txt', 'download', 'er', 'default', 'open', 'app', 'is', 'nodepad', 'ar', 'default', 'open', 'app', 'is', 'microsoft', 'winrt', 'storage', 'api', 'whatever', 'that', 'is', 'marking', 'as', 'a', 'regression', 'though', 'i', 'wonder', 'if', 'it', 's', 'a', 'change']\n"
     ]
    }
   ],
   "source": [
    "for sentence in sent_text1:\n",
    "    tokenized_text1 = nltk.word_tokenize(sentence)\n",
    "    print(tokenized_text1)"
   ]
  },
  {
   "cell_type": "code",
   "execution_count": 105,
   "id": "27de219d-dd30-44f3-a5a1-68fd3428b436",
   "metadata": {},
   "outputs": [],
   "source": [
    "sent_text2 = nltk.sent_tokenize(desc2)"
   ]
  },
  {
   "cell_type": "code",
   "execution_count": 106,
   "id": "8f76fcb2-bfd1-4e3c-95a1-a20dcab45a1a",
   "metadata": {},
   "outputs": [
    {
     "name": "stdout",
     "output_type": "stream",
     "text": [
      "['this', 'is', 'basically', 'bug', 'but', 'for', 'file', 'extension', 'and', 'mime', 'type', 'associations', 'instead', 'of', 'just', 'protocols', 'str', 'on', 'windows', 'install', 'a', 'universal', 'app', 'ensure', 'it', 'is', 'the', 'default', 'handler', 'for', 'xls', 'files', 'attempt', 'to', 'open', 'an', 'xls', 'file', 'from', 'say', 'videos', 'com', 'xls', 'sample', 'spreadsheet', 'rows', 'xls', 'the', 'opening', 'sample', 'spreadsheet', 'rows', 'xls', 'dialog', 'recommends', 'we', 'open', 'with', 'twinui', 'alternatively', 'select', 'do', 'this', 'automatically', 'for', 'files', 'like', 'this', 'from', 'now', 'on', 'on', 'the', 'opening', 'sample', 'spreadsheet', 'rows', 'xls', 'dialog', 'and', 'press', 'ok', 'in', 'firefox', 'options', 'applications', 'it', 'says', 'use', 'instead', 'of', 'use', 'excel', 'mobile']\n"
     ]
    }
   ],
   "source": [
    "for sentence in sent_text2:\n",
    "    tokenized_text2 = nltk.word_tokenize(sentence)\n",
    "    print(tokenized_text2)"
   ]
  },
  {
   "cell_type": "code",
   "execution_count": 107,
   "id": "f6b8fe20-b80c-4ab2-94d9-441f4fd9b5b7",
   "metadata": {},
   "outputs": [],
   "source": [
    "common_elements = list(set(tokenized_text1).intersection(set(tokenized_text2)))"
   ]
  },
  {
   "cell_type": "code",
   "execution_count": 108,
   "id": "b32da5a2-5b0d-4860-954e-0e532b5177fa",
   "metadata": {},
   "outputs": [
    {
     "data": {
      "text/plain": [
       "10"
      ]
     },
     "execution_count": 108,
     "metadata": {},
     "output_type": "execute_result"
    }
   ],
   "source": [
    "len(common_elements)"
   ]
  },
  {
   "cell_type": "code",
   "execution_count": null,
   "id": "262f9e60-f634-452b-9838-260c29b4b699",
   "metadata": {},
   "outputs": [],
   "source": []
  }
 ],
 "metadata": {
  "kernelspec": {
   "display_name": "Python 3",
   "language": "python",
   "name": "python3"
  },
  "language_info": {
   "codemirror_mode": {
    "name": "ipython",
    "version": 3
   },
   "file_extension": ".py",
   "mimetype": "text/x-python",
   "name": "python",
   "nbconvert_exporter": "python",
   "pygments_lexer": "ipython3",
   "version": "3.7.11"
  }
 },
 "nbformat": 4,
 "nbformat_minor": 5
}
