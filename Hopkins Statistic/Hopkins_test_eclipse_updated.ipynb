{
  "nbformat": 4,
  "nbformat_minor": 0,
  "metadata": {
    "colab": {
      "name": "Hopkins_test_eclipse_updated.ipynb",
      "provenance": [],
      "collapsed_sections": []
    },
    "kernelspec": {
      "name": "python3",
      "display_name": "Python 3"
    },
    "language_info": {
      "name": "python"
    }
  },
  "cells": [
    {
      "cell_type": "code",
      "execution_count": null,
      "metadata": {
        "colab": {
          "base_uri": "https://localhost:8080/"
        },
        "id": "uVXqq5SyGkYi",
        "outputId": "f477b537-1da1-451c-b4a9-dc237e57f7ee"
      },
      "outputs": [
        {
          "output_type": "stream",
          "name": "stdout",
          "text": [
            "Requirement already satisfied: gensim in /usr/local/lib/python3.7/dist-packages (3.6.0)\n",
            "Requirement already satisfied: scipy>=0.18.1 in /usr/local/lib/python3.7/dist-packages (from gensim) (1.4.1)\n",
            "Requirement already satisfied: numpy>=1.11.3 in /usr/local/lib/python3.7/dist-packages (from gensim) (1.21.5)\n",
            "Requirement already satisfied: six>=1.5.0 in /usr/local/lib/python3.7/dist-packages (from gensim) (1.15.0)\n",
            "Requirement already satisfied: smart-open>=1.2.1 in /usr/local/lib/python3.7/dist-packages (from gensim) (5.2.1)\n"
          ]
        }
      ],
      "source": [
        "!pip install gensim"
      ]
    },
    {
      "cell_type": "code",
      "source": [
        "import pickle\n",
        "from gensim.test.utils import datapath, get_tmpfile\n",
        "from gensim.models import KeyedVectors\n",
        "from gensim.scripts.glove2word2vec import glove2word2vec"
      ],
      "metadata": {
        "id": "GCrTBvgCYYP-"
      },
      "execution_count": null,
      "outputs": []
    },
    {
      "cell_type": "code",
      "source": [
        "glove_file = datapath('/content/glove.6B.100d.txt')\n",
        "word2vec_glove_file = get_tmpfile(\"glove.6B.100d.txt\")"
      ],
      "metadata": {
        "id": "jL7NsxTYYbYm"
      },
      "execution_count": null,
      "outputs": []
    },
    {
      "cell_type": "code",
      "source": [
        "!wget http://nlp.stanford.edu/data/glove.6B.zip"
      ],
      "metadata": {
        "colab": {
          "base_uri": "https://localhost:8080/"
        },
        "id": "MlyJZucwYw_1",
        "outputId": "e81fb084-5efd-4125-fff4-8e66ab59c973"
      },
      "execution_count": null,
      "outputs": [
        {
          "output_type": "stream",
          "name": "stdout",
          "text": [
            "--2022-04-07 00:49:19--  http://nlp.stanford.edu/data/glove.6B.zip\n",
            "Resolving nlp.stanford.edu (nlp.stanford.edu)... 171.64.67.140\n",
            "Connecting to nlp.stanford.edu (nlp.stanford.edu)|171.64.67.140|:80... connected.\n",
            "HTTP request sent, awaiting response... 302 Found\n",
            "Location: https://nlp.stanford.edu/data/glove.6B.zip [following]\n",
            "--2022-04-07 00:49:20--  https://nlp.stanford.edu/data/glove.6B.zip\n",
            "Connecting to nlp.stanford.edu (nlp.stanford.edu)|171.64.67.140|:443... connected.\n",
            "HTTP request sent, awaiting response... 301 Moved Permanently\n",
            "Location: http://downloads.cs.stanford.edu/nlp/data/glove.6B.zip [following]\n",
            "--2022-04-07 00:49:20--  http://downloads.cs.stanford.edu/nlp/data/glove.6B.zip\n",
            "Resolving downloads.cs.stanford.edu (downloads.cs.stanford.edu)... 171.64.64.22\n",
            "Connecting to downloads.cs.stanford.edu (downloads.cs.stanford.edu)|171.64.64.22|:80... connected.\n",
            "HTTP request sent, awaiting response... 200 OK\n",
            "Length: 862182613 (822M) [application/zip]\n",
            "Saving to: ‘glove.6B.zip’\n",
            "\n",
            "glove.6B.zip        100%[===================>] 822.24M  5.11MB/s    in 2m 41s  \n",
            "\n",
            "2022-04-07 00:52:02 (5.10 MB/s) - ‘glove.6B.zip’ saved [862182613/862182613]\n",
            "\n"
          ]
        }
      ]
    },
    {
      "cell_type": "code",
      "source": [
        "!unzip -o glove*.zip"
      ],
      "metadata": {
        "colab": {
          "base_uri": "https://localhost:8080/"
        },
        "id": "T1InGVTRY0hD",
        "outputId": "a2703118-12e9-4ff9-ec37-c6dcff735633"
      },
      "execution_count": null,
      "outputs": [
        {
          "output_type": "stream",
          "name": "stdout",
          "text": [
            "Archive:  glove.6B.zip\n",
            "  inflating: glove.6B.50d.txt        \n",
            "  inflating: glove.6B.100d.txt       \n",
            "  inflating: glove.6B.200d.txt       \n",
            "  inflating: glove.6B.300d.txt       \n"
          ]
        }
      ]
    },
    {
      "cell_type": "code",
      "source": [
        "import numpy as np\n",
        "print('Indexing word vectors.')\n",
        "\n",
        "embeddings_index = {}\n",
        "f = open('glove.6B.100d.txt', encoding='utf-8')\n",
        "for line in f:\n",
        "    values = line.split()\n",
        "    word = values[0]\n",
        "    coefs = np.asarray(values[1:], dtype='float32')\n",
        "    embeddings_index[word] = coefs\n",
        "f.close()\n",
        "\n",
        "print('Found %s word vectors.' % len(embeddings_index))"
      ],
      "metadata": {
        "colab": {
          "base_uri": "https://localhost:8080/"
        },
        "id": "lkD-tJ81Y5ZA",
        "outputId": "175a94cb-1ffb-4743-ec70-9d2d1805bbd7"
      },
      "execution_count": null,
      "outputs": [
        {
          "output_type": "stream",
          "name": "stdout",
          "text": [
            "Indexing word vectors.\n",
            "Found 400000 word vectors.\n"
          ]
        }
      ]
    },
    {
      "cell_type": "code",
      "source": [
        "import pickle\n",
        "pickle.dump({'embeddings_index' : embeddings_index } , open('/content/glove.6B.100d.txt', 'wb'))"
      ],
      "metadata": {
        "id": "sKGgdCrbOXnv"
      },
      "execution_count": null,
      "outputs": []
    },
    {
      "cell_type": "code",
      "source": [
        "from typing import List"
      ],
      "metadata": {
        "id": "bGpykR2NPOiK"
      },
      "execution_count": null,
      "outputs": []
    },
    {
      "cell_type": "code",
      "source": [
        "MAX_TOKENS = 20000\n",
        "MAX_DESCRIPTION_LENGTH = 300\n",
        "EMBEDDING_DIM = 100"
      ],
      "metadata": {
        "id": "J1QgvkmLQLTh"
      },
      "execution_count": null,
      "outputs": []
    },
    {
      "cell_type": "code",
      "source": [
        "def build_vocab(sentences: List[str], sequence_length: int):\n",
        "  vectorizer = TextVectorization(\n",
        "    output_sequence_length=sequence_length,\n",
        "  )\n",
        "  vectorizer.adapt(sentences)\n",
        "  vocab = vectorizer.get_vocabulary()\n",
        "  word_index = dict(zip(vocab, range(len(vocab))))\n",
        "\n",
        "  return vectorizer, word_index"
      ],
      "metadata": {
        "id": "XmJZI90IQNkY"
      },
      "execution_count": null,
      "outputs": []
    },
    {
      "cell_type": "code",
      "source": [
        "from keras.layers.preprocessing.text_vectorization import TextVectorization"
      ],
      "metadata": {
        "id": "az-WxAYlSdzg"
      },
      "execution_count": null,
      "outputs": []
    },
    {
      "cell_type": "markdown",
      "source": [
        "# Textually Similar"
      ],
      "metadata": {
        "id": "qM_1p0jaz9Ge"
      }
    },
    {
      "cell_type": "code",
      "source": [
        "import pandas as pd\n",
        "#mounting the google drive\n",
        "from google.colab import drive\n",
        "drive.mount('/content/drive')"
      ],
      "metadata": {
        "colab": {
          "base_uri": "https://localhost:8080/"
        },
        "id": "kVZAciXrQRiR",
        "outputId": "38555b9d-d373-462f-a4c6-7aa37329d978"
      },
      "execution_count": null,
      "outputs": [
        {
          "output_type": "stream",
          "name": "stdout",
          "text": [
            "Mounted at /content/drive\n"
          ]
        }
      ]
    },
    {
      "cell_type": "code",
      "source": [
        "#importing the CSV file of the dataset from google drive into a dataframe\n",
        "df_sim=pd.read_csv('drive/MyDrive/Project 6308 + ICSME/Siamese/Eclipse_siamese_textually_similar_test_duplicates_preprocessed.csv')\n",
        "df_sim = df_sim[df_sim.is_similar.astype('bool')].sample(300)\n",
        "df_sim= df_sim.sample(300)"
      ],
      "metadata": {
        "id": "LP-0197jKKk7"
      },
      "execution_count": null,
      "outputs": []
    },
    {
      "cell_type": "code",
      "source": [
        "df_sim = df_sim.drop(columns=['Unnamed: 0'])\n",
        "df_sim"
      ],
      "metadata": {
        "colab": {
          "base_uri": "https://localhost:8080/",
          "height": 424
        },
        "id": "9LhAVPOxQiHX",
        "outputId": "19e6fa20-a306-444c-f1c2-037979e5b250"
      },
      "execution_count": null,
      "outputs": [
        {
          "output_type": "execute_result",
          "data": {
            "text/plain": [
              "                                          description1  \\\n",
              "165    if i try to run   tests for with tycho   i g...   \n",
              "179    from   bug cgi id                this should...   \n",
              "290    what steps will reproduce the problem     se...   \n",
              "508    created attachment   eclipse error log  the ...   \n",
              "487     entry org eclipse core resources           ...   \n",
              "..                                                 ...   \n",
              "175    i just downloaded and installed the latest r...   \n",
              "562    created attachment   push blocked because no...   \n",
              "578    viewing a directory on download eclipse org ...   \n",
              "511    hi  it s the first time i m trying to run a ...   \n",
              "115    for java   there is at least the class versi...   \n",
              "\n",
              "                                          description2  is_similar  \n",
              "165    the package  junit runner  is missing in tyc...           1  \n",
              "179    see some discussion about this in tycho bug ...           1  \n",
              "290    created attachment   screenshot of pop up  r...           1  \n",
              "508    created attachment   error log  hi   using  ...           1  \n",
              "487    created attachment   sample file to reproduc...           1  \n",
              "..                                                 ...         ...  \n",
              "175    the framework today detects the level of jav...           1  \n",
              "562    for example  at the end of a rebase    it wo...           1  \n",
              "578     show directory contents  is not working any...           1  \n",
              "511    created attachment   added proposal for new ...           1  \n",
              "115    top level bug for java     release support i...           1  \n",
              "\n",
              "[300 rows x 3 columns]"
            ],
            "text/html": [
              "\n",
              "  <div id=\"df-5d35907a-aaf0-43b4-9f23-56bd74bc0c7a\">\n",
              "    <div class=\"colab-df-container\">\n",
              "      <div>\n",
              "<style scoped>\n",
              "    .dataframe tbody tr th:only-of-type {\n",
              "        vertical-align: middle;\n",
              "    }\n",
              "\n",
              "    .dataframe tbody tr th {\n",
              "        vertical-align: top;\n",
              "    }\n",
              "\n",
              "    .dataframe thead th {\n",
              "        text-align: right;\n",
              "    }\n",
              "</style>\n",
              "<table border=\"1\" class=\"dataframe\">\n",
              "  <thead>\n",
              "    <tr style=\"text-align: right;\">\n",
              "      <th></th>\n",
              "      <th>description1</th>\n",
              "      <th>description2</th>\n",
              "      <th>is_similar</th>\n",
              "    </tr>\n",
              "  </thead>\n",
              "  <tbody>\n",
              "    <tr>\n",
              "      <th>165</th>\n",
              "      <td>if i try to run   tests for with tycho   i g...</td>\n",
              "      <td>the package  junit runner  is missing in tyc...</td>\n",
              "      <td>1</td>\n",
              "    </tr>\n",
              "    <tr>\n",
              "      <th>179</th>\n",
              "      <td>from   bug cgi id                this should...</td>\n",
              "      <td>see some discussion about this in tycho bug ...</td>\n",
              "      <td>1</td>\n",
              "    </tr>\n",
              "    <tr>\n",
              "      <th>290</th>\n",
              "      <td>what steps will reproduce the problem     se...</td>\n",
              "      <td>created attachment   screenshot of pop up  r...</td>\n",
              "      <td>1</td>\n",
              "    </tr>\n",
              "    <tr>\n",
              "      <th>508</th>\n",
              "      <td>created attachment   eclipse error log  the ...</td>\n",
              "      <td>created attachment   error log  hi   using  ...</td>\n",
              "      <td>1</td>\n",
              "    </tr>\n",
              "    <tr>\n",
              "      <th>487</th>\n",
              "      <td>entry org eclipse core resources           ...</td>\n",
              "      <td>created attachment   sample file to reproduc...</td>\n",
              "      <td>1</td>\n",
              "    </tr>\n",
              "    <tr>\n",
              "      <th>...</th>\n",
              "      <td>...</td>\n",
              "      <td>...</td>\n",
              "      <td>...</td>\n",
              "    </tr>\n",
              "    <tr>\n",
              "      <th>175</th>\n",
              "      <td>i just downloaded and installed the latest r...</td>\n",
              "      <td>the framework today detects the level of jav...</td>\n",
              "      <td>1</td>\n",
              "    </tr>\n",
              "    <tr>\n",
              "      <th>562</th>\n",
              "      <td>created attachment   push blocked because no...</td>\n",
              "      <td>for example  at the end of a rebase    it wo...</td>\n",
              "      <td>1</td>\n",
              "    </tr>\n",
              "    <tr>\n",
              "      <th>578</th>\n",
              "      <td>viewing a directory on download eclipse org ...</td>\n",
              "      <td>show directory contents  is not working any...</td>\n",
              "      <td>1</td>\n",
              "    </tr>\n",
              "    <tr>\n",
              "      <th>511</th>\n",
              "      <td>hi  it s the first time i m trying to run a ...</td>\n",
              "      <td>created attachment   added proposal for new ...</td>\n",
              "      <td>1</td>\n",
              "    </tr>\n",
              "    <tr>\n",
              "      <th>115</th>\n",
              "      <td>for java   there is at least the class versi...</td>\n",
              "      <td>top level bug for java     release support i...</td>\n",
              "      <td>1</td>\n",
              "    </tr>\n",
              "  </tbody>\n",
              "</table>\n",
              "<p>300 rows × 3 columns</p>\n",
              "</div>\n",
              "      <button class=\"colab-df-convert\" onclick=\"convertToInteractive('df-5d35907a-aaf0-43b4-9f23-56bd74bc0c7a')\"\n",
              "              title=\"Convert this dataframe to an interactive table.\"\n",
              "              style=\"display:none;\">\n",
              "        \n",
              "  <svg xmlns=\"http://www.w3.org/2000/svg\" height=\"24px\"viewBox=\"0 0 24 24\"\n",
              "       width=\"24px\">\n",
              "    <path d=\"M0 0h24v24H0V0z\" fill=\"none\"/>\n",
              "    <path d=\"M18.56 5.44l.94 2.06.94-2.06 2.06-.94-2.06-.94-.94-2.06-.94 2.06-2.06.94zm-11 1L8.5 8.5l.94-2.06 2.06-.94-2.06-.94L8.5 2.5l-.94 2.06-2.06.94zm10 10l.94 2.06.94-2.06 2.06-.94-2.06-.94-.94-2.06-.94 2.06-2.06.94z\"/><path d=\"M17.41 7.96l-1.37-1.37c-.4-.4-.92-.59-1.43-.59-.52 0-1.04.2-1.43.59L10.3 9.45l-7.72 7.72c-.78.78-.78 2.05 0 2.83L4 21.41c.39.39.9.59 1.41.59.51 0 1.02-.2 1.41-.59l7.78-7.78 2.81-2.81c.8-.78.8-2.07 0-2.86zM5.41 20L4 18.59l7.72-7.72 1.47 1.35L5.41 20z\"/>\n",
              "  </svg>\n",
              "      </button>\n",
              "      \n",
              "  <style>\n",
              "    .colab-df-container {\n",
              "      display:flex;\n",
              "      flex-wrap:wrap;\n",
              "      gap: 12px;\n",
              "    }\n",
              "\n",
              "    .colab-df-convert {\n",
              "      background-color: #E8F0FE;\n",
              "      border: none;\n",
              "      border-radius: 50%;\n",
              "      cursor: pointer;\n",
              "      display: none;\n",
              "      fill: #1967D2;\n",
              "      height: 32px;\n",
              "      padding: 0 0 0 0;\n",
              "      width: 32px;\n",
              "    }\n",
              "\n",
              "    .colab-df-convert:hover {\n",
              "      background-color: #E2EBFA;\n",
              "      box-shadow: 0px 1px 2px rgba(60, 64, 67, 0.3), 0px 1px 3px 1px rgba(60, 64, 67, 0.15);\n",
              "      fill: #174EA6;\n",
              "    }\n",
              "\n",
              "    [theme=dark] .colab-df-convert {\n",
              "      background-color: #3B4455;\n",
              "      fill: #D2E3FC;\n",
              "    }\n",
              "\n",
              "    [theme=dark] .colab-df-convert:hover {\n",
              "      background-color: #434B5C;\n",
              "      box-shadow: 0px 1px 3px 1px rgba(0, 0, 0, 0.15);\n",
              "      filter: drop-shadow(0px 1px 2px rgba(0, 0, 0, 0.3));\n",
              "      fill: #FFFFFF;\n",
              "    }\n",
              "  </style>\n",
              "\n",
              "      <script>\n",
              "        const buttonEl =\n",
              "          document.querySelector('#df-5d35907a-aaf0-43b4-9f23-56bd74bc0c7a button.colab-df-convert');\n",
              "        buttonEl.style.display =\n",
              "          google.colab.kernel.accessAllowed ? 'block' : 'none';\n",
              "\n",
              "        async function convertToInteractive(key) {\n",
              "          const element = document.querySelector('#df-5d35907a-aaf0-43b4-9f23-56bd74bc0c7a');\n",
              "          const dataTable =\n",
              "            await google.colab.kernel.invokeFunction('convertToInteractive',\n",
              "                                                     [key], {});\n",
              "          if (!dataTable) return;\n",
              "\n",
              "          const docLinkHtml = 'Like what you see? Visit the ' +\n",
              "            '<a target=\"_blank\" href=https://colab.research.google.com/notebooks/data_table.ipynb>data table notebook</a>'\n",
              "            + ' to learn more about interactive tables.';\n",
              "          element.innerHTML = '';\n",
              "          dataTable['output_type'] = 'display_data';\n",
              "          await google.colab.output.renderOutput(dataTable, element);\n",
              "          const docLink = document.createElement('div');\n",
              "          docLink.innerHTML = docLinkHtml;\n",
              "          element.appendChild(docLink);\n",
              "        }\n",
              "      </script>\n",
              "    </div>\n",
              "  </div>\n",
              "  "
            ]
          },
          "metadata": {},
          "execution_count": 14
        }
      ]
    },
    {
      "cell_type": "code",
      "source": [
        "FEATURES = ['description1', 'description2']"
      ],
      "metadata": {
        "id": "FoO7o_kBsPF-"
      },
      "execution_count": null,
      "outputs": []
    },
    {
      "cell_type": "code",
      "source": [
        "import itertools"
      ],
      "metadata": {
        "id": "_T3p_00mSlnC"
      },
      "execution_count": null,
      "outputs": []
    },
    {
      "cell_type": "code",
      "source": [
        "descr_vectorizer, descr_word_index = build_vocab(\n",
        "  [df_sim.description1, df_sim.description2],\n",
        "  MAX_DESCRIPTION_LENGTH,\n",
        ")\n",
        "\n",
        "print(\n",
        "  'Most frequent description words:',\n",
        "  list(itertools.islice(descr_word_index.keys(), 5)),\n",
        ")"
      ],
      "metadata": {
        "colab": {
          "base_uri": "https://localhost:8080/"
        },
        "id": "Gklyg_q2Q58K",
        "outputId": "7dd9ae8d-f18f-4659-9c05-3c0b48e8d0b4"
      },
      "execution_count": null,
      "outputs": [
        {
          "output_type": "stream",
          "name": "stdout",
          "text": [
            "Most frequent description words: ['', '[UNK]', 'eclipse', 'org', 'at']\n"
          ]
        }
      ]
    },
    {
      "cell_type": "code",
      "source": [
        "descr_vectorizer.vocabulary_size()"
      ],
      "metadata": {
        "colab": {
          "base_uri": "https://localhost:8080/"
        },
        "id": "Qaski6uvYn_Z",
        "outputId": "ee49a6fc-4786-4576-84ab-12fe611ea2f0"
      },
      "execution_count": null,
      "outputs": [
        {
          "output_type": "execute_result",
          "data": {
            "text/plain": [
              "7439"
            ]
          },
          "metadata": {},
          "execution_count": 18
        }
      ]
    },
    {
      "cell_type": "code",
      "source": [
        "from typing import List, Dict, Tuple, Set"
      ],
      "metadata": {
        "id": "jwz8md8iS2gN"
      },
      "execution_count": null,
      "outputs": []
    },
    {
      "cell_type": "code",
      "source": [
        "def create_embedding_matrix(\n",
        "  embeddings_index: Dict[str, np.ndarray],\n",
        "  word_index: Dict[str, int],\n",
        "  verbose=False,\n",
        "):\n",
        "  hits = 0\n",
        "  misses = 0\n",
        "\n",
        "  # prepare embedding matrix\n",
        "  embedding_matrix = np.zeros((descr_vectorizer.vocabulary_size(),EMBEDDING_DIM))\n",
        "  for word, i in word_index.items():\n",
        "    embedding_vector = embeddings_index.get(word)\n",
        "    if embedding_vector is not None:\n",
        "      # Words not found in embedding index will be all-zeros.\n",
        "      # This includes the representation for \"padding\" and \"OOV\"\n",
        "      embedding_matrix[i] = embedding_vector\n",
        "      hits += 1\n",
        "    else:\n",
        "      misses += 1\n",
        "\n",
        "  if verbose:\n",
        "    print('Embedding shape:', embedding_matrix.shape)\n",
        "    print(f'Found {hits} words, missed {misses}.')\n",
        "\n",
        "  return embedding_matrix"
      ],
      "metadata": {
        "id": "zf6egM0_RBVH"
      },
      "execution_count": null,
      "outputs": []
    },
    {
      "cell_type": "code",
      "source": [
        "print('Creating description embedding matrix:')\n",
        "descr_embedding_matrix = create_embedding_matrix(\n",
        "  embeddings_index, descr_word_index, True,\n",
        ")"
      ],
      "metadata": {
        "colab": {
          "base_uri": "https://localhost:8080/"
        },
        "id": "UV9pK9wQSruU",
        "outputId": "b945c46b-7f2b-402a-ed39-09c4013e4abc"
      },
      "execution_count": null,
      "outputs": [
        {
          "output_type": "stream",
          "name": "stdout",
          "text": [
            "Creating description embedding matrix:\n",
            "Embedding shape: (7439, 100)\n",
            "Found 4066 words, missed 3373.\n"
          ]
        }
      ]
    },
    {
      "cell_type": "code",
      "source": [
        "descr_embedding_matrix.shape"
      ],
      "metadata": {
        "colab": {
          "base_uri": "https://localhost:8080/"
        },
        "id": "Y9KisltkTZ70",
        "outputId": "32faa253-a8b9-4e6b-9b0d-25e05d55e22e"
      },
      "execution_count": null,
      "outputs": [
        {
          "output_type": "execute_result",
          "data": {
            "text/plain": [
              "(7439, 100)"
            ]
          },
          "metadata": {},
          "execution_count": 22
        }
      ]
    },
    {
      "cell_type": "code",
      "source": [
        "from sklearn.decomposition import PCA"
      ],
      "metadata": {
        "id": "d8s8O8zlNiWd"
      },
      "execution_count": null,
      "outputs": []
    },
    {
      "cell_type": "code",
      "source": [
        "descr_embedding_matrix"
      ],
      "metadata": {
        "colab": {
          "base_uri": "https://localhost:8080/"
        },
        "id": "4lWFHbDYtRXe",
        "outputId": "2a335861-d9e9-4dde-cecb-76d841d6f21d"
      },
      "execution_count": null,
      "outputs": [
        {
          "output_type": "execute_result",
          "data": {
            "text/plain": [
              "array([[ 0.        ,  0.        ,  0.        , ...,  0.        ,\n",
              "         0.        ,  0.        ],\n",
              "       [ 0.        ,  0.        ,  0.        , ...,  0.        ,\n",
              "         0.        ,  0.        ],\n",
              "       [-0.44308999,  0.14926   ,  0.16649   , ...,  0.044676  ,\n",
              "         0.139     , -0.10406   ],\n",
              "       ...,\n",
              "       [ 0.        ,  0.        ,  0.        , ...,  0.        ,\n",
              "         0.        ,  0.        ],\n",
              "       [ 0.        ,  0.        ,  0.        , ...,  0.        ,\n",
              "         0.        ,  0.        ],\n",
              "       [ 0.        ,  0.        ,  0.        , ...,  0.        ,\n",
              "         0.        ,  0.        ]])"
            ]
          },
          "metadata": {},
          "execution_count": 24
        }
      ]
    },
    {
      "cell_type": "code",
      "source": [
        "X = descr_embedding_matrix"
      ],
      "metadata": {
        "id": "LPcHPAl4vB61"
      },
      "execution_count": null,
      "outputs": []
    },
    {
      "cell_type": "code",
      "source": [
        ""
      ],
      "metadata": {
        "id": "2DtRSERv_VC0"
      },
      "execution_count": null,
      "outputs": []
    },
    {
      "cell_type": "code",
      "source": [
        "pip install pyclustertend"
      ],
      "metadata": {
        "colab": {
          "base_uri": "https://localhost:8080/"
        },
        "id": "mXETTFbavQVz",
        "outputId": "3b514728-c800-4260-d96e-4eb3f21c44ac"
      },
      "execution_count": null,
      "outputs": [
        {
          "output_type": "stream",
          "name": "stdout",
          "text": [
            "Collecting pyclustertend\n",
            "  Downloading pyclustertend-1.4.9-py3-none-any.whl (9.8 kB)\n",
            "Installing collected packages: pyclustertend\n",
            "Successfully installed pyclustertend-1.4.9\n"
          ]
        }
      ]
    },
    {
      "cell_type": "code",
      "source": [
        "import numpy as np # linear algebra\n",
        "import pandas as pd # data processing, CSV file I/O (e.g. pd.read_csv)\n",
        "\n",
        "from sklearn.decomposition import PCA\n",
        "from sklearn import datasets\n",
        "from sklearn.preprocessing import scale\n",
        "from pyclustertend import hopkins ## the hopkins test\n",
        "\n",
        "\n",
        "from mpl_toolkits.mplot3d import Axes3D\n",
        "import matplotlib.pyplot as plt\n",
        "\n",
        "import numpy as np\n",
        "from sklearn.neighbors import NearestNeighbors\n",
        "import pandas as pd\n",
        "import matplotlib.pyplot as plt\n",
        "%matplotlib inline\n",
        "from random import sample\n",
        "from numpy.random import uniform"
      ],
      "metadata": {
        "id": "8Ykl0J36vOwL"
      },
      "execution_count": null,
      "outputs": []
    },
    {
      "cell_type": "code",
      "source": [
        "import math\n",
        "#Sample data must be preprocessed into dataframe or matrix form before given as the value of parameter \"data\"."
      ],
      "metadata": {
        "id": "vRvlbTCFtvpO"
      },
      "execution_count": null,
      "outputs": []
    },
    {
      "cell_type": "code",
      "source": [
        "# hopkins(X, X.shape[0])"
      ],
      "metadata": {
        "id": "4sa81sG0vwlB"
      },
      "execution_count": null,
      "outputs": []
    },
    {
      "cell_type": "code",
      "source": [
        "# hopkins(scale(X),X.shape[0])"
      ],
      "metadata": {
        "id": "uy9FnTEZvoxB"
      },
      "execution_count": null,
      "outputs": []
    },
    {
      "cell_type": "code",
      "source": [
        "# H=hopkins_statistic(X)\n",
        "# print(H)"
      ],
      "metadata": {
        "id": "FPAX688Y1qlt"
      },
      "execution_count": null,
      "outputs": []
    },
    {
      "cell_type": "code",
      "source": [
        "X = descr_embedding_matrix"
      ],
      "metadata": {
        "id": "mBXPmuOnwR2t"
      },
      "execution_count": null,
      "outputs": []
    },
    {
      "cell_type": "code",
      "source": [
        "# function to compute hopkins's statistic for the dataframe X\n",
        "def hopkins_statistic(X):\n",
        "    \n",
        "     #convert dataframe to a numpy array\n",
        "    sample_size = int(X.shape[0]*0.05) #0.05 (5%) based on paper by Lawson and Jures\n",
        "    \n",
        "    \n",
        "    #a uniform random sample in the original data space\n",
        "    X_uniform_random_sample = uniform(X.min(axis=0), X.max(axis=0) ,(sample_size , X.shape[1]))\n",
        "    \n",
        "    \n",
        "    \n",
        "    #a random sample of size sample_size from the original data X\n",
        "    random_indices=sample(range(0, X.shape[0], 1), sample_size)\n",
        "    X_sample = X[random_indices]\n",
        "   \n",
        "    \n",
        "    #initialise unsupervised learner for implementing neighbor searches\n",
        "    neigh = NearestNeighbors(n_neighbors=2)\n",
        "    nbrs=neigh.fit(X)\n",
        "    \n",
        "    #u_distances = nearest neighbour distances from uniform random sample\n",
        "    u_distances , u_indices = nbrs.kneighbors(X_uniform_random_sample , n_neighbors=2)\n",
        "    u_distances = u_distances[: , 0] #distance to the first (nearest) neighbour\n",
        "    \n",
        "    #w_distances = nearest neighbour distances from a sample of points from original data X\n",
        "    w_distances , w_indices = nbrs.kneighbors(X_sample , n_neighbors=2)\n",
        "    #distance to the second nearest neighbour (as the first neighbour will be the point itself, with distance = 0)\n",
        "    w_distances = w_distances[: , 1]\n",
        "    \n",
        " \n",
        "    \n",
        "    u_sum = np.sum(u_distances)\n",
        "    w_sum = np.sum(w_distances)\n",
        "    \n",
        "    #compute and return hopkins' statistic\n",
        "    H = u_sum/ (u_sum + w_sum)\n",
        "    return H"
      ],
      "metadata": {
        "id": "BoxE3ZMd-5fM"
      },
      "execution_count": null,
      "outputs": []
    },
    {
      "cell_type": "code",
      "source": [
        ""
      ],
      "metadata": {
        "id": "ye6tqFm1v6TM"
      },
      "execution_count": null,
      "outputs": []
    },
    {
      "cell_type": "code",
      "source": [
        "l = [] #list to hold values for each call\n",
        "for i in range(300):\n",
        "    H= hopkins_statistic(X)\n",
        "    l.append(H)\n",
        "#print average value:\n",
        "print(H)\n",
        "print(l)"
      ],
      "metadata": {
        "colab": {
          "base_uri": "https://localhost:8080/"
        },
        "id": "dI4-TMa11osX",
        "outputId": "bfd01a06-7024-49a8-8a38-2170f5396e15"
      },
      "execution_count": null,
      "outputs": [
        {
          "output_type": "stream",
          "name": "stdout",
          "text": [
            "0.8242329612870873\n",
            "[0.821536937250178, 0.8247257160466986, 0.8321869753879805, 0.8205924922392963, 0.8228275059966401, 0.8319493340179465, 0.8197568260329811, 0.8266959627748639, 0.8307233181378648, 0.830353840871939, 0.8234534059091013, 0.8360457960937306, 0.81980629401282, 0.8325621824163312, 0.8294448666275573, 0.8232958559608463, 0.8114869628770548, 0.8274460026246482, 0.8315523137747065, 0.8286066628806753, 0.8328343409327884, 0.8295557694345745, 0.8288510456068165, 0.8296107050043547, 0.8235203101190318, 0.831386515815617, 0.8297361245368204, 0.8174351103137275, 0.8243347919683403, 0.8267170612345509, 0.8343777697489442, 0.8324960040080052, 0.8183692167134606, 0.8463270904857877, 0.8281055225978136, 0.8275133564189365, 0.8190943517776751, 0.8150670959447647, 0.8384906729714592, 0.8246101734568474, 0.8212880961207816, 0.8226531036199981, 0.8260390126261316, 0.8295673076017789, 0.8331211825806775, 0.825406295962348, 0.8236478219471626, 0.838465416483732, 0.8259055039617369, 0.8340567287134373, 0.8240153421970109, 0.8441028196983303, 0.8218837299549396, 0.8280907320133657, 0.8275037441852544, 0.8163213235251474, 0.8327951302368298, 0.8179320562390795, 0.8203985147428418, 0.8199002209866417, 0.8280048342878457, 0.8420260589371833, 0.8251452634666625, 0.8361779864567345, 0.8229914689803194, 0.8221694145284202, 0.8240166973605948, 0.828685486057376, 0.8235476177776005, 0.8326035979697625, 0.8218240843825902, 0.8380970732695332, 0.8182020307870748, 0.8314930611560548, 0.8234761234087138, 0.8302575042820624, 0.8233812577898092, 0.8370552520561507, 0.8257568493536807, 0.8284328775357968, 0.8282489760680181, 0.8346338069804855, 0.8288198952228877, 0.8332947459191302, 0.8187255402000213, 0.8293568110752308, 0.8280812623976138, 0.8166612281527499, 0.8326231682375499, 0.8193930665028007, 0.8216687177011793, 0.8275314897773112, 0.8205158010314751, 0.8222849277810299, 0.8360600940490007, 0.8327669649229128, 0.8232812615607352, 0.8276923179316842, 0.8443118540875256, 0.8164099257204617, 0.8299893878450011, 0.8317393409128346, 0.8284067553126933, 0.8203952564226843, 0.8393711835979755, 0.8279925617986283, 0.8419704608085044, 0.8361194530391559, 0.8327837971523017, 0.8271627241161706, 0.8227253718454295, 0.8252639203669742, 0.8260254431956738, 0.8280947551044859, 0.8276453588405264, 0.8271216058248575, 0.8313998900432732, 0.8305928518250354, 0.8385059068344894, 0.8336692175701362, 0.8302106713478322, 0.8180017035037822, 0.8424528087605513, 0.8303416871005985, 0.8278848261856313, 0.830375237076328, 0.8210862283907777, 0.8272066596048394, 0.8274258696316781, 0.8236778144172376, 0.8369735644342691, 0.8366198285655382, 0.8401352183637592, 0.8238573467113129, 0.8284558526231481, 0.8346800050046913, 0.8427391295502497, 0.8368059045824406, 0.8196083542513373, 0.8314914122372538, 0.8331107016845871, 0.8356074037801823, 0.8192416517527554, 0.8168184064323005, 0.8296641526298224, 0.8152914148457647, 0.8328020610708823, 0.8204193699384917, 0.8146045750563777, 0.8254984507000321, 0.8162066378123998, 0.8264280762399289, 0.8311200494870504, 0.828088617408808, 0.8285803642119158, 0.8260095816958902, 0.8238665525007245, 0.8305765805079829, 0.8236523136404311, 0.8187735545657315, 0.824506095239736, 0.8337506303384219, 0.8335248751624722, 0.8245186322512332, 0.8262260643002308, 0.8239644188027763, 0.8230307418147564, 0.8313422551252999, 0.8248769198049429, 0.819835223407573, 0.8180063442072278, 0.8201084119454118, 0.8303855219804464, 0.8282562656308154, 0.8267455167598277, 0.8400399122926415, 0.8334357864389861, 0.8164164530125068, 0.8365166837892707, 0.833117704084994, 0.8378991738285062, 0.8249254779784454, 0.8146919526262408, 0.8310295415948474, 0.8300463127009919, 0.8423093318525849, 0.8344921405254968, 0.8381855302634688, 0.8192103829152354, 0.8379268116469456, 0.830727197843823, 0.8316318454610028, 0.8159127775381267, 0.8241426328673895, 0.8312209549691327, 0.8274526626181113, 0.8252409721454341, 0.834989104891501, 0.8111093241404721, 0.8249401457349351, 0.8374226719888983, 0.8266777531761619, 0.8290253091819483, 0.8145929696828281, 0.8299904326024079, 0.8276317820694052, 0.8209802833133838, 0.8288752660486698, 0.844154798690034, 0.8213372624169567, 0.8313867175852815, 0.8305835379700804, 0.8246607317569963, 0.8276839241505743, 0.8209915521138715, 0.829316343965142, 0.8285631918794905, 0.8284051618244626, 0.8197391377025391, 0.8382146975643041, 0.8268345627851635, 0.8152654794761713, 0.8283352006764191, 0.8277594759153099, 0.8276887874922001, 0.8285759112879583, 0.8277202754598258, 0.8294810861999923, 0.835062647322506, 0.8387557594606827, 0.8293903343618869, 0.8244527661000229, 0.8203718887818295, 0.8342721411573435, 0.8263133419403398, 0.8230447902391522, 0.830303652079215, 0.8197253288877574, 0.8345137502326614, 0.8214001667040681, 0.8381954898404064, 0.8269330319202469, 0.8395297888591357, 0.8237589138120304, 0.83175764311275, 0.8336572042298817, 0.8257282699719325, 0.8203057021504174, 0.8312362111525321, 0.8285910380517272, 0.827436528225916, 0.8277185587518489, 0.8422475900460072, 0.822960694407373, 0.83379031062702, 0.8234531814044459, 0.8354334547197538, 0.8354381009944457, 0.8287027873459336, 0.83636261389353, 0.8208228759526702, 0.8272007641876737, 0.8239761061838325, 0.8162312937669275, 0.822755146144957, 0.8198029727589612, 0.8218501435280036, 0.8203975249228718, 0.8282305518338426, 0.8387933795440202, 0.8371884835716262, 0.8291999918740677, 0.8290393886249954, 0.8288242108862494, 0.8256237716912852, 0.8265089919986833, 0.8282568128915289, 0.8303184860656887, 0.8323753053941418, 0.8284133001246947, 0.8280667689645219, 0.8236726789940625, 0.8286549049395647, 0.8223977683933538, 0.8348653597174712, 0.8195698133800648, 0.8278065132084209, 0.8217166621105472, 0.8251249678082279, 0.8230301540090258, 0.8210385872609441, 0.8259630517662955, 0.8398953824342099, 0.8263646102505345, 0.8175908822086515, 0.8339156920556223, 0.8294824835171016, 0.823349844066012, 0.8394709354114205, 0.8242329612870873]\n"
          ]
        }
      ]
    },
    {
      "cell_type": "code",
      "source": [
        ""
      ],
      "metadata": {
        "id": "dBFtfCObXW8Q"
      },
      "execution_count": null,
      "outputs": []
    },
    {
      "cell_type": "code",
      "source": [
        ""
      ],
      "metadata": {
        "id": "0sdg_hjhDzjS"
      },
      "execution_count": null,
      "outputs": []
    },
    {
      "cell_type": "code",
      "source": [
        "df_sim_hopkin = pd.DataFrame(l)\n",
        "print(df_sim_hopkin)"
      ],
      "metadata": {
        "colab": {
          "base_uri": "https://localhost:8080/"
        },
        "id": "XHzwACE7EWMd",
        "outputId": "886584c6-b74a-4980-c882-51804cd3fd26"
      },
      "execution_count": null,
      "outputs": [
        {
          "output_type": "stream",
          "name": "stdout",
          "text": [
            "            0\n",
            "0    0.821537\n",
            "1    0.824726\n",
            "2    0.832187\n",
            "3    0.820592\n",
            "4    0.822828\n",
            "..        ...\n",
            "295  0.833916\n",
            "296  0.829482\n",
            "297  0.823350\n",
            "298  0.839471\n",
            "299  0.824233\n",
            "\n",
            "[300 rows x 1 columns]\n"
          ]
        }
      ]
    },
    {
      "cell_type": "markdown",
      "source": [
        "# Textually Dissimilar"
      ],
      "metadata": {
        "id": "epP1eDUQz0bR"
      }
    },
    {
      "cell_type": "code",
      "source": [
        "#importing the CSV file of the dataset from google drive into a dataframe\n",
        "df_dissim = pd.read_csv('drive/MyDrive/Project 6308 + ICSME/Siamese/Eclipse_siamese_textually_dissimilar_test_duplicates_preprocessed.csv')\n",
        "df_dissim = df_dissim[df_dissim.is_similar.astype('bool')].sample(300)\n",
        "df_dissim"
      ],
      "metadata": {
        "colab": {
          "base_uri": "https://localhost:8080/",
          "height": 424
        },
        "id": "Yk1qvNW7a26X",
        "outputId": "17f8e531-c693-4386-f60e-121f80e1ccce"
      },
      "execution_count": null,
      "outputs": [
        {
          "output_type": "execute_result",
          "data": {
            "text/plain": [
              "     Unnamed: 0                                       description1  \\\n",
              "86           94    i never change the default settings on the e...   \n",
              "275         302    created attachment       project explorer wi...   \n",
              "566         621    change              added error condition if...   \n",
              "133         146    would be nice to have a linkfactory for crea...   \n",
              "238         260    created attachment   wsl   processes running...   \n",
              "..          ...                                                ...   \n",
              "614         676    when gcc       is installed     memory  head...   \n",
              "235         257    we need to make sure that epl     appears as...   \n",
              "368         405    new task   context view  actions  ist to sma...   \n",
              "226         248        this bug was initially created as a clon...   \n",
              "592         652    hello   i have the following classes in a fi...   \n",
              "\n",
              "                                          description2  is_similar  \n",
              "86     we should add the option to skip the branch ...           1  \n",
              "275    created attachment   find actions dark theme...           1  \n",
              "566    change  it is a compile time error if an ass...           1  \n",
              "133    similar to bug   this one is for link    sim...           1  \n",
              "238    created attachment   eclipse jgit threaddump...           1  \n",
              "..                                                 ...         ...  \n",
              "614    here s how the cool kids these days are doin...           1  \n",
              "235    jeremie has opened an issue on our behalf   ...           1  \n",
              "368    the context tab actions are not displaying r...           1  \n",
              "226    build identifier    provided that cvs is ava...           1  \n",
              "592    created attachment   test project           ...           1  \n",
              "\n",
              "[300 rows x 4 columns]"
            ],
            "text/html": [
              "\n",
              "  <div id=\"df-367aa3fd-83c1-4cca-af10-d37b71fa80f5\">\n",
              "    <div class=\"colab-df-container\">\n",
              "      <div>\n",
              "<style scoped>\n",
              "    .dataframe tbody tr th:only-of-type {\n",
              "        vertical-align: middle;\n",
              "    }\n",
              "\n",
              "    .dataframe tbody tr th {\n",
              "        vertical-align: top;\n",
              "    }\n",
              "\n",
              "    .dataframe thead th {\n",
              "        text-align: right;\n",
              "    }\n",
              "</style>\n",
              "<table border=\"1\" class=\"dataframe\">\n",
              "  <thead>\n",
              "    <tr style=\"text-align: right;\">\n",
              "      <th></th>\n",
              "      <th>Unnamed: 0</th>\n",
              "      <th>description1</th>\n",
              "      <th>description2</th>\n",
              "      <th>is_similar</th>\n",
              "    </tr>\n",
              "  </thead>\n",
              "  <tbody>\n",
              "    <tr>\n",
              "      <th>86</th>\n",
              "      <td>94</td>\n",
              "      <td>i never change the default settings on the e...</td>\n",
              "      <td>we should add the option to skip the branch ...</td>\n",
              "      <td>1</td>\n",
              "    </tr>\n",
              "    <tr>\n",
              "      <th>275</th>\n",
              "      <td>302</td>\n",
              "      <td>created attachment       project explorer wi...</td>\n",
              "      <td>created attachment   find actions dark theme...</td>\n",
              "      <td>1</td>\n",
              "    </tr>\n",
              "    <tr>\n",
              "      <th>566</th>\n",
              "      <td>621</td>\n",
              "      <td>change              added error condition if...</td>\n",
              "      <td>change  it is a compile time error if an ass...</td>\n",
              "      <td>1</td>\n",
              "    </tr>\n",
              "    <tr>\n",
              "      <th>133</th>\n",
              "      <td>146</td>\n",
              "      <td>would be nice to have a linkfactory for crea...</td>\n",
              "      <td>similar to bug   this one is for link    sim...</td>\n",
              "      <td>1</td>\n",
              "    </tr>\n",
              "    <tr>\n",
              "      <th>238</th>\n",
              "      <td>260</td>\n",
              "      <td>created attachment   wsl   processes running...</td>\n",
              "      <td>created attachment   eclipse jgit threaddump...</td>\n",
              "      <td>1</td>\n",
              "    </tr>\n",
              "    <tr>\n",
              "      <th>...</th>\n",
              "      <td>...</td>\n",
              "      <td>...</td>\n",
              "      <td>...</td>\n",
              "      <td>...</td>\n",
              "    </tr>\n",
              "    <tr>\n",
              "      <th>614</th>\n",
              "      <td>676</td>\n",
              "      <td>when gcc       is installed     memory  head...</td>\n",
              "      <td>here s how the cool kids these days are doin...</td>\n",
              "      <td>1</td>\n",
              "    </tr>\n",
              "    <tr>\n",
              "      <th>235</th>\n",
              "      <td>257</td>\n",
              "      <td>we need to make sure that epl     appears as...</td>\n",
              "      <td>jeremie has opened an issue on our behalf   ...</td>\n",
              "      <td>1</td>\n",
              "    </tr>\n",
              "    <tr>\n",
              "      <th>368</th>\n",
              "      <td>405</td>\n",
              "      <td>new task   context view  actions  ist to sma...</td>\n",
              "      <td>the context tab actions are not displaying r...</td>\n",
              "      <td>1</td>\n",
              "    </tr>\n",
              "    <tr>\n",
              "      <th>226</th>\n",
              "      <td>248</td>\n",
              "      <td>this bug was initially created as a clon...</td>\n",
              "      <td>build identifier    provided that cvs is ava...</td>\n",
              "      <td>1</td>\n",
              "    </tr>\n",
              "    <tr>\n",
              "      <th>592</th>\n",
              "      <td>652</td>\n",
              "      <td>hello   i have the following classes in a fi...</td>\n",
              "      <td>created attachment   test project           ...</td>\n",
              "      <td>1</td>\n",
              "    </tr>\n",
              "  </tbody>\n",
              "</table>\n",
              "<p>300 rows × 4 columns</p>\n",
              "</div>\n",
              "      <button class=\"colab-df-convert\" onclick=\"convertToInteractive('df-367aa3fd-83c1-4cca-af10-d37b71fa80f5')\"\n",
              "              title=\"Convert this dataframe to an interactive table.\"\n",
              "              style=\"display:none;\">\n",
              "        \n",
              "  <svg xmlns=\"http://www.w3.org/2000/svg\" height=\"24px\"viewBox=\"0 0 24 24\"\n",
              "       width=\"24px\">\n",
              "    <path d=\"M0 0h24v24H0V0z\" fill=\"none\"/>\n",
              "    <path d=\"M18.56 5.44l.94 2.06.94-2.06 2.06-.94-2.06-.94-.94-2.06-.94 2.06-2.06.94zm-11 1L8.5 8.5l.94-2.06 2.06-.94-2.06-.94L8.5 2.5l-.94 2.06-2.06.94zm10 10l.94 2.06.94-2.06 2.06-.94-2.06-.94-.94-2.06-.94 2.06-2.06.94z\"/><path d=\"M17.41 7.96l-1.37-1.37c-.4-.4-.92-.59-1.43-.59-.52 0-1.04.2-1.43.59L10.3 9.45l-7.72 7.72c-.78.78-.78 2.05 0 2.83L4 21.41c.39.39.9.59 1.41.59.51 0 1.02-.2 1.41-.59l7.78-7.78 2.81-2.81c.8-.78.8-2.07 0-2.86zM5.41 20L4 18.59l7.72-7.72 1.47 1.35L5.41 20z\"/>\n",
              "  </svg>\n",
              "      </button>\n",
              "      \n",
              "  <style>\n",
              "    .colab-df-container {\n",
              "      display:flex;\n",
              "      flex-wrap:wrap;\n",
              "      gap: 12px;\n",
              "    }\n",
              "\n",
              "    .colab-df-convert {\n",
              "      background-color: #E8F0FE;\n",
              "      border: none;\n",
              "      border-radius: 50%;\n",
              "      cursor: pointer;\n",
              "      display: none;\n",
              "      fill: #1967D2;\n",
              "      height: 32px;\n",
              "      padding: 0 0 0 0;\n",
              "      width: 32px;\n",
              "    }\n",
              "\n",
              "    .colab-df-convert:hover {\n",
              "      background-color: #E2EBFA;\n",
              "      box-shadow: 0px 1px 2px rgba(60, 64, 67, 0.3), 0px 1px 3px 1px rgba(60, 64, 67, 0.15);\n",
              "      fill: #174EA6;\n",
              "    }\n",
              "\n",
              "    [theme=dark] .colab-df-convert {\n",
              "      background-color: #3B4455;\n",
              "      fill: #D2E3FC;\n",
              "    }\n",
              "\n",
              "    [theme=dark] .colab-df-convert:hover {\n",
              "      background-color: #434B5C;\n",
              "      box-shadow: 0px 1px 3px 1px rgba(0, 0, 0, 0.15);\n",
              "      filter: drop-shadow(0px 1px 2px rgba(0, 0, 0, 0.3));\n",
              "      fill: #FFFFFF;\n",
              "    }\n",
              "  </style>\n",
              "\n",
              "      <script>\n",
              "        const buttonEl =\n",
              "          document.querySelector('#df-367aa3fd-83c1-4cca-af10-d37b71fa80f5 button.colab-df-convert');\n",
              "        buttonEl.style.display =\n",
              "          google.colab.kernel.accessAllowed ? 'block' : 'none';\n",
              "\n",
              "        async function convertToInteractive(key) {\n",
              "          const element = document.querySelector('#df-367aa3fd-83c1-4cca-af10-d37b71fa80f5');\n",
              "          const dataTable =\n",
              "            await google.colab.kernel.invokeFunction('convertToInteractive',\n",
              "                                                     [key], {});\n",
              "          if (!dataTable) return;\n",
              "\n",
              "          const docLinkHtml = 'Like what you see? Visit the ' +\n",
              "            '<a target=\"_blank\" href=https://colab.research.google.com/notebooks/data_table.ipynb>data table notebook</a>'\n",
              "            + ' to learn more about interactive tables.';\n",
              "          element.innerHTML = '';\n",
              "          dataTable['output_type'] = 'display_data';\n",
              "          await google.colab.output.renderOutput(dataTable, element);\n",
              "          const docLink = document.createElement('div');\n",
              "          docLink.innerHTML = docLinkHtml;\n",
              "          element.appendChild(docLink);\n",
              "        }\n",
              "      </script>\n",
              "    </div>\n",
              "  </div>\n",
              "  "
            ]
          },
          "metadata": {},
          "execution_count": 40
        }
      ]
    },
    {
      "cell_type": "code",
      "source": [
        "df_dissim = df_dissim.drop(columns=['Unnamed: 0'])\n",
        "df_dissim"
      ],
      "metadata": {
        "colab": {
          "base_uri": "https://localhost:8080/",
          "height": 424
        },
        "id": "CUQhO84GbFit",
        "outputId": "6b278ce0-a5b3-44e5-ff9a-a32a861356e2"
      },
      "execution_count": null,
      "outputs": [
        {
          "output_type": "execute_result",
          "data": {
            "text/plain": [
              "                                          description1  \\\n",
              "86     i never change the default settings on the e...   \n",
              "275    created attachment       project explorer wi...   \n",
              "566    change              added error condition if...   \n",
              "133    would be nice to have a linkfactory for crea...   \n",
              "238    created attachment   wsl   processes running...   \n",
              "..                                                 ...   \n",
              "614    when gcc       is installed     memory  head...   \n",
              "235    we need to make sure that epl     appears as...   \n",
              "368    new task   context view  actions  ist to sma...   \n",
              "226        this bug was initially created as a clon...   \n",
              "592    hello   i have the following classes in a fi...   \n",
              "\n",
              "                                          description2  is_similar  \n",
              "86     we should add the option to skip the branch ...           1  \n",
              "275    created attachment   find actions dark theme...           1  \n",
              "566    change  it is a compile time error if an ass...           1  \n",
              "133    similar to bug   this one is for link    sim...           1  \n",
              "238    created attachment   eclipse jgit threaddump...           1  \n",
              "..                                                 ...         ...  \n",
              "614    here s how the cool kids these days are doin...           1  \n",
              "235    jeremie has opened an issue on our behalf   ...           1  \n",
              "368    the context tab actions are not displaying r...           1  \n",
              "226    build identifier    provided that cvs is ava...           1  \n",
              "592    created attachment   test project           ...           1  \n",
              "\n",
              "[300 rows x 3 columns]"
            ],
            "text/html": [
              "\n",
              "  <div id=\"df-1755466e-6d6c-4e59-82f7-82f89878f979\">\n",
              "    <div class=\"colab-df-container\">\n",
              "      <div>\n",
              "<style scoped>\n",
              "    .dataframe tbody tr th:only-of-type {\n",
              "        vertical-align: middle;\n",
              "    }\n",
              "\n",
              "    .dataframe tbody tr th {\n",
              "        vertical-align: top;\n",
              "    }\n",
              "\n",
              "    .dataframe thead th {\n",
              "        text-align: right;\n",
              "    }\n",
              "</style>\n",
              "<table border=\"1\" class=\"dataframe\">\n",
              "  <thead>\n",
              "    <tr style=\"text-align: right;\">\n",
              "      <th></th>\n",
              "      <th>description1</th>\n",
              "      <th>description2</th>\n",
              "      <th>is_similar</th>\n",
              "    </tr>\n",
              "  </thead>\n",
              "  <tbody>\n",
              "    <tr>\n",
              "      <th>86</th>\n",
              "      <td>i never change the default settings on the e...</td>\n",
              "      <td>we should add the option to skip the branch ...</td>\n",
              "      <td>1</td>\n",
              "    </tr>\n",
              "    <tr>\n",
              "      <th>275</th>\n",
              "      <td>created attachment       project explorer wi...</td>\n",
              "      <td>created attachment   find actions dark theme...</td>\n",
              "      <td>1</td>\n",
              "    </tr>\n",
              "    <tr>\n",
              "      <th>566</th>\n",
              "      <td>change              added error condition if...</td>\n",
              "      <td>change  it is a compile time error if an ass...</td>\n",
              "      <td>1</td>\n",
              "    </tr>\n",
              "    <tr>\n",
              "      <th>133</th>\n",
              "      <td>would be nice to have a linkfactory for crea...</td>\n",
              "      <td>similar to bug   this one is for link    sim...</td>\n",
              "      <td>1</td>\n",
              "    </tr>\n",
              "    <tr>\n",
              "      <th>238</th>\n",
              "      <td>created attachment   wsl   processes running...</td>\n",
              "      <td>created attachment   eclipse jgit threaddump...</td>\n",
              "      <td>1</td>\n",
              "    </tr>\n",
              "    <tr>\n",
              "      <th>...</th>\n",
              "      <td>...</td>\n",
              "      <td>...</td>\n",
              "      <td>...</td>\n",
              "    </tr>\n",
              "    <tr>\n",
              "      <th>614</th>\n",
              "      <td>when gcc       is installed     memory  head...</td>\n",
              "      <td>here s how the cool kids these days are doin...</td>\n",
              "      <td>1</td>\n",
              "    </tr>\n",
              "    <tr>\n",
              "      <th>235</th>\n",
              "      <td>we need to make sure that epl     appears as...</td>\n",
              "      <td>jeremie has opened an issue on our behalf   ...</td>\n",
              "      <td>1</td>\n",
              "    </tr>\n",
              "    <tr>\n",
              "      <th>368</th>\n",
              "      <td>new task   context view  actions  ist to sma...</td>\n",
              "      <td>the context tab actions are not displaying r...</td>\n",
              "      <td>1</td>\n",
              "    </tr>\n",
              "    <tr>\n",
              "      <th>226</th>\n",
              "      <td>this bug was initially created as a clon...</td>\n",
              "      <td>build identifier    provided that cvs is ava...</td>\n",
              "      <td>1</td>\n",
              "    </tr>\n",
              "    <tr>\n",
              "      <th>592</th>\n",
              "      <td>hello   i have the following classes in a fi...</td>\n",
              "      <td>created attachment   test project           ...</td>\n",
              "      <td>1</td>\n",
              "    </tr>\n",
              "  </tbody>\n",
              "</table>\n",
              "<p>300 rows × 3 columns</p>\n",
              "</div>\n",
              "      <button class=\"colab-df-convert\" onclick=\"convertToInteractive('df-1755466e-6d6c-4e59-82f7-82f89878f979')\"\n",
              "              title=\"Convert this dataframe to an interactive table.\"\n",
              "              style=\"display:none;\">\n",
              "        \n",
              "  <svg xmlns=\"http://www.w3.org/2000/svg\" height=\"24px\"viewBox=\"0 0 24 24\"\n",
              "       width=\"24px\">\n",
              "    <path d=\"M0 0h24v24H0V0z\" fill=\"none\"/>\n",
              "    <path d=\"M18.56 5.44l.94 2.06.94-2.06 2.06-.94-2.06-.94-.94-2.06-.94 2.06-2.06.94zm-11 1L8.5 8.5l.94-2.06 2.06-.94-2.06-.94L8.5 2.5l-.94 2.06-2.06.94zm10 10l.94 2.06.94-2.06 2.06-.94-2.06-.94-.94-2.06-.94 2.06-2.06.94z\"/><path d=\"M17.41 7.96l-1.37-1.37c-.4-.4-.92-.59-1.43-.59-.52 0-1.04.2-1.43.59L10.3 9.45l-7.72 7.72c-.78.78-.78 2.05 0 2.83L4 21.41c.39.39.9.59 1.41.59.51 0 1.02-.2 1.41-.59l7.78-7.78 2.81-2.81c.8-.78.8-2.07 0-2.86zM5.41 20L4 18.59l7.72-7.72 1.47 1.35L5.41 20z\"/>\n",
              "  </svg>\n",
              "      </button>\n",
              "      \n",
              "  <style>\n",
              "    .colab-df-container {\n",
              "      display:flex;\n",
              "      flex-wrap:wrap;\n",
              "      gap: 12px;\n",
              "    }\n",
              "\n",
              "    .colab-df-convert {\n",
              "      background-color: #E8F0FE;\n",
              "      border: none;\n",
              "      border-radius: 50%;\n",
              "      cursor: pointer;\n",
              "      display: none;\n",
              "      fill: #1967D2;\n",
              "      height: 32px;\n",
              "      padding: 0 0 0 0;\n",
              "      width: 32px;\n",
              "    }\n",
              "\n",
              "    .colab-df-convert:hover {\n",
              "      background-color: #E2EBFA;\n",
              "      box-shadow: 0px 1px 2px rgba(60, 64, 67, 0.3), 0px 1px 3px 1px rgba(60, 64, 67, 0.15);\n",
              "      fill: #174EA6;\n",
              "    }\n",
              "\n",
              "    [theme=dark] .colab-df-convert {\n",
              "      background-color: #3B4455;\n",
              "      fill: #D2E3FC;\n",
              "    }\n",
              "\n",
              "    [theme=dark] .colab-df-convert:hover {\n",
              "      background-color: #434B5C;\n",
              "      box-shadow: 0px 1px 3px 1px rgba(0, 0, 0, 0.15);\n",
              "      filter: drop-shadow(0px 1px 2px rgba(0, 0, 0, 0.3));\n",
              "      fill: #FFFFFF;\n",
              "    }\n",
              "  </style>\n",
              "\n",
              "      <script>\n",
              "        const buttonEl =\n",
              "          document.querySelector('#df-1755466e-6d6c-4e59-82f7-82f89878f979 button.colab-df-convert');\n",
              "        buttonEl.style.display =\n",
              "          google.colab.kernel.accessAllowed ? 'block' : 'none';\n",
              "\n",
              "        async function convertToInteractive(key) {\n",
              "          const element = document.querySelector('#df-1755466e-6d6c-4e59-82f7-82f89878f979');\n",
              "          const dataTable =\n",
              "            await google.colab.kernel.invokeFunction('convertToInteractive',\n",
              "                                                     [key], {});\n",
              "          if (!dataTable) return;\n",
              "\n",
              "          const docLinkHtml = 'Like what you see? Visit the ' +\n",
              "            '<a target=\"_blank\" href=https://colab.research.google.com/notebooks/data_table.ipynb>data table notebook</a>'\n",
              "            + ' to learn more about interactive tables.';\n",
              "          element.innerHTML = '';\n",
              "          dataTable['output_type'] = 'display_data';\n",
              "          await google.colab.output.renderOutput(dataTable, element);\n",
              "          const docLink = document.createElement('div');\n",
              "          docLink.innerHTML = docLinkHtml;\n",
              "          element.appendChild(docLink);\n",
              "        }\n",
              "      </script>\n",
              "    </div>\n",
              "  </div>\n",
              "  "
            ]
          },
          "metadata": {},
          "execution_count": 41
        }
      ]
    },
    {
      "cell_type": "code",
      "source": [
        "descr_vectorizer, descr_word_index = build_vocab(\n",
        "  [df_dissim.description1, df_dissim.description2],\n",
        "  MAX_DESCRIPTION_LENGTH,\n",
        ")\n",
        "\n",
        "print(\n",
        "  'Most frequent description words:',\n",
        "  list(itertools.islice(descr_word_index.keys(), 5)),\n",
        ")"
      ],
      "metadata": {
        "colab": {
          "base_uri": "https://localhost:8080/"
        },
        "id": "p_aOFNCSbFTw",
        "outputId": "234f98cd-117b-440c-88d8-3bb2b50fc61c"
      },
      "execution_count": null,
      "outputs": [
        {
          "output_type": "stream",
          "name": "stdout",
          "text": [
            "Most frequent description words: ['', '[UNK]', 'the', 'eclipse', 'in']\n"
          ]
        }
      ]
    },
    {
      "cell_type": "code",
      "source": [
        "def create_embedding_matrix(\n",
        "  embeddings_index: Dict[str, np.ndarray],\n",
        "  word_index: Dict[str, int],\n",
        "  verbose=False,\n",
        "):\n",
        "  hits = 0\n",
        "  misses = 0\n",
        "\n",
        "  # prepare embedding matrix\n",
        "  embedding_matrix = np.zeros((descr_vectorizer.vocabulary_size(), EMBEDDING_DIM))\n",
        "  for word, i in word_index.items():\n",
        "    embedding_vector = embeddings_index.get(word)\n",
        "    if embedding_vector is not None:\n",
        "      # Words not found in embedding index will be all-zeros.\n",
        "      # This includes the representation for \"padding\" and \"OOV\"\n",
        "      embedding_matrix[i] = embedding_vector\n",
        "      hits += 1\n",
        "    else:\n",
        "      misses += 1\n",
        "\n",
        "  if verbose:\n",
        "    print('Embedding shape:', embedding_matrix.shape)\n",
        "    print(f'Found {hits} words, missed {misses}.')\n",
        "\n",
        "  return embedding_matrix"
      ],
      "metadata": {
        "id": "VrpcRQPkbE5m"
      },
      "execution_count": null,
      "outputs": []
    },
    {
      "cell_type": "code",
      "source": [
        "print('Creating description embedding matrix:')\n",
        "descr_embedding_matrix1 = create_embedding_matrix(\n",
        "  embeddings_index, descr_word_index, True,\n",
        ")"
      ],
      "metadata": {
        "colab": {
          "base_uri": "https://localhost:8080/"
        },
        "id": "8k9Wg7D8jbrJ",
        "outputId": "a2f0964f-2282-49cc-87b9-dd491df78ec0"
      },
      "execution_count": null,
      "outputs": [
        {
          "output_type": "stream",
          "name": "stdout",
          "text": [
            "Creating description embedding matrix:\n",
            "Embedding shape: (5539, 100)\n",
            "Found 3733 words, missed 1806.\n"
          ]
        }
      ]
    },
    {
      "cell_type": "code",
      "source": [
        "descr_embedding_matrix1"
      ],
      "metadata": {
        "colab": {
          "base_uri": "https://localhost:8080/"
        },
        "id": "-X5T5Vg2jfvl",
        "outputId": "247b66ea-9dc9-4eff-c650-cde1a79b4eaa"
      },
      "execution_count": null,
      "outputs": [
        {
          "output_type": "execute_result",
          "data": {
            "text/plain": [
              "array([[ 0.        ,  0.        ,  0.        , ...,  0.        ,\n",
              "         0.        ,  0.        ],\n",
              "       [ 0.        ,  0.        ,  0.        , ...,  0.        ,\n",
              "         0.        ,  0.        ],\n",
              "       [-0.038194  , -0.24487001,  0.72812003, ..., -0.1459    ,\n",
              "         0.82779998,  0.27061999],\n",
              "       ...,\n",
              "       [ 0.31790999, -0.32554999, -0.31496   , ...,  0.53825998,\n",
              "        -0.30695999, -0.85655999],\n",
              "       [ 0.        ,  0.        ,  0.        , ...,  0.        ,\n",
              "         0.        ,  0.        ],\n",
              "       [-0.69509   , -0.40583   ,  0.49144   , ..., -0.022975  ,\n",
              "         0.79710001,  0.041716  ]])"
            ]
          },
          "metadata": {},
          "execution_count": 45
        }
      ]
    },
    {
      "cell_type": "code",
      "source": [
        "X1 = descr_embedding_matrix1"
      ],
      "metadata": {
        "id": "UPaJcmEJwPcp"
      },
      "execution_count": null,
      "outputs": []
    },
    {
      "cell_type": "code",
      "source": [
        "#hopkins(scale(X1),X1.shape[0])"
      ],
      "metadata": {
        "id": "4diPVDtcwPhL"
      },
      "execution_count": null,
      "outputs": []
    },
    {
      "cell_type": "code",
      "source": [
        "#hopkins(X1, X1.shape[0])"
      ],
      "metadata": {
        "id": "F0D1HUSXwPkA"
      },
      "execution_count": null,
      "outputs": []
    },
    {
      "cell_type": "code",
      "source": [
        "# function to compute hopkins's statistic for the dataframe X\n",
        "def hopkins_statistic(X1):\n",
        "    \n",
        "     #convert dataframe to a numpy array\n",
        "    sample_size = int(X1.shape[0]*0.05) #0.05 (5%) based on paper by Lawson and Jures\n",
        "    \n",
        "    \n",
        "    #a uniform random sample in the original data space\n",
        "    X1_uniform_random_sample = uniform(X1.min(axis=0), X1.max(axis=0) ,(sample_size , X1.shape[1]))\n",
        "    \n",
        "    \n",
        "    \n",
        "    #a random sample of size sample_size from the original data X\n",
        "    random_indices=sample(range(0, X1.shape[0], 1), sample_size)\n",
        "    X1_sample = X1[random_indices]\n",
        "   \n",
        "    \n",
        "    #initialise unsupervised learner for implementing neighbor searches\n",
        "    neigh = NearestNeighbors(n_neighbors=2)\n",
        "    nbrs=neigh.fit(X1)\n",
        "    \n",
        "    #u_distances = nearest neighbour distances from uniform random sample\n",
        "    u_distances , u_indices = nbrs.kneighbors(X1_uniform_random_sample , n_neighbors=2)\n",
        "    u_distances = u_distances[: , 0] #distance to the first (nearest) neighbour\n",
        "    \n",
        "    #w_distances = nearest neighbour distances from a sample of points from original data X\n",
        "    w_distances , w_indices = nbrs.kneighbors(X1_sample , n_neighbors=2)\n",
        "    #distance to the second nearest neighbour (as the first neighbour will be the point itself, with distance = 0)\n",
        "    w_distances = w_distances[: , 1]\n",
        "    \n",
        " \n",
        "    \n",
        "    u_sum = np.sum(u_distances)\n",
        "    w_sum = np.sum(w_distances)\n",
        "    \n",
        "    #compute and return hopkins' statistic\n",
        "    H = u_sum/ (u_sum + w_sum)\n",
        "    return H"
      ],
      "metadata": {
        "id": "zfMWX0zCCoQ9"
      },
      "execution_count": null,
      "outputs": []
    },
    {
      "cell_type": "code",
      "source": [
        "l1 = [] #list to hold values for each call\n",
        "for i in range(300):\n",
        "    H1=hopkins_statistic(X1)\n",
        "    l1.append(H1)\n",
        "#print average value:\n",
        "print(H1)\n",
        "print(l1)"
      ],
      "metadata": {
        "colab": {
          "base_uri": "https://localhost:8080/"
        },
        "id": "Df_zxvEGCoTo",
        "outputId": "a04546cb-81a8-473f-c1a0-b653ffaea567"
      },
      "execution_count": null,
      "outputs": [
        {
          "output_type": "stream",
          "name": "stdout",
          "text": [
            "0.797272046213317\n",
            "[0.7828455892774291, 0.8001048344071238, 0.7956174613657607, 0.8025530539864181, 0.7878236433930063, 0.7963584668522783, 0.7956096098156912, 0.8005439636702608, 0.795267843884561, 0.8033422668583561, 0.8092943755958896, 0.7909236697122682, 0.8003849559905865, 0.8005526462548415, 0.7892054444408405, 0.803040404571761, 0.7944224600996687, 0.797987708618008, 0.8003654005245321, 0.8077464392614133, 0.7940914085327188, 0.7898920576734073, 0.7922381940156401, 0.8059713777297597, 0.7961834345271701, 0.7913210021215266, 0.7962220808074284, 0.7946797310312163, 0.80520692884431, 0.7857656238601289, 0.7997624456315413, 0.798022255854832, 0.7989077704395608, 0.79387947936926, 0.8018722335929368, 0.7881389541900847, 0.7937803963166741, 0.8036297382587497, 0.7905563025783218, 0.80170046436212, 0.7983061878896013, 0.7950510666569582, 0.8003132000181629, 0.7998369756354982, 0.7977727716523347, 0.79371647856967, 0.7999752508924248, 0.7953826899072896, 0.7895259788818672, 0.8002226213227233, 0.7931667239612163, 0.7996556609277186, 0.8045527871049889, 0.7870459977845938, 0.7731421314028255, 0.7989561924693039, 0.7908583752331988, 0.8042681452719088, 0.8107075699519504, 0.7957649893000296, 0.7951915961605018, 0.8026540708669962, 0.7972690687163195, 0.8006459913710096, 0.7969945107002949, 0.7946919910074989, 0.7922601626355606, 0.8003696393682264, 0.7922732081464313, 0.7908372621556976, 0.7852490442613534, 0.7891653607404467, 0.7940961565839002, 0.7828302028589166, 0.7887227007114415, 0.7975576011313001, 0.7923744803590742, 0.8146699441087614, 0.8044751280600724, 0.7860948181653012, 0.7872998764316407, 0.7970012553147751, 0.8137599638510339, 0.8067127560481273, 0.7886280505640311, 0.7997580479867994, 0.8012252160426528, 0.8004394357949705, 0.7838823560252164, 0.7994891579805141, 0.8106094071146925, 0.7880055105334237, 0.7988306428985397, 0.7930656068081103, 0.7933676766026104, 0.7864452097382921, 0.806206161967225, 0.800835339916408, 0.7902673873901854, 0.8023654139898906, 0.8049708878173837, 0.799517831525674, 0.7883638130948225, 0.8030383207572979, 0.8020236816617479, 0.804550593632785, 0.8098034835531395, 0.7906234596416679, 0.8138573766003974, 0.7940388083064317, 0.7887013272992575, 0.8077737015082149, 0.805412892010579, 0.7892821466264077, 0.793212695511923, 0.7938098587237516, 0.7988122994311925, 0.7890694232632117, 0.7940650667239306, 0.8126934874258849, 0.7949205444254158, 0.7878958147944822, 0.7864573918291915, 0.802824998142234, 0.7963181285691018, 0.7931101163034897, 0.7956350969687952, 0.7950966327483412, 0.7885722116767723, 0.7998335293391702, 0.7970631917442208, 0.7982254043645935, 0.7837880827995846, 0.7981272855555317, 0.7865874561168489, 0.7864538374967767, 0.7958756086781189, 0.7993450276296623, 0.7901017417744002, 0.7877997503537242, 0.8032903581796433, 0.793475378317262, 0.7951089547055393, 0.7824234107154918, 0.8037975299321225, 0.7991401264100282, 0.7978950618626051, 0.7989677050316243, 0.7833652810286784, 0.7865508772022975, 0.7803490845208584, 0.7861354585968566, 0.7944702117735177, 0.8017465679342819, 0.7978111841735068, 0.8087668315109655, 0.7881190394424147, 0.7906961036097967, 0.7985493603067071, 0.7863585664592401, 0.8003609734889214, 0.8031786398004376, 0.776814715112745, 0.7865952577831061, 0.8022170867917582, 0.7980624648279322, 0.7915220775924091, 0.7932855174710702, 0.8008046405587699, 0.7946650409607013, 0.7890556837760898, 0.7988783423060263, 0.790840585832363, 0.8019254852165485, 0.7958612329131528, 0.8011665394604285, 0.7983254992947182, 0.7888939830474703, 0.7966480037679242, 0.8043970270912792, 0.8005259836302026, 0.786608853063927, 0.7973920705286436, 0.804970074347423, 0.7949683784017788, 0.8016489450412795, 0.7944665083808924, 0.8007547794776553, 0.7968327023274278, 0.786181200880748, 0.7998241857180309, 0.7968587897173361, 0.7944977991681187, 0.7944439283426417, 0.7826090246349775, 0.7921960246431331, 0.7972218323814123, 0.7931210260400815, 0.7952644545075663, 0.7933298088169942, 0.808336506502603, 0.7996196986309577, 0.7865945815095435, 0.7883622335542978, 0.7986833203960624, 0.7950103393016684, 0.7927936580463776, 0.8012898383161563, 0.7919006812438861, 0.7822594340191948, 0.795894329924327, 0.7981928260300145, 0.7862753341121878, 0.799937849932153, 0.7918021155312007, 0.7890835065078295, 0.808080777963708, 0.786878429351356, 0.7985438188135375, 0.8056805574818509, 0.8054153819748758, 0.8119876336893989, 0.8023779928284575, 0.8034318869786745, 0.8127694367590068, 0.8010160264314883, 0.7915898980515151, 0.7913144855594618, 0.7990971110489204, 0.7873000587992838, 0.7961541865724175, 0.7844953607752114, 0.806793718657778, 0.7828081678851228, 0.7991294002947054, 0.809360664710298, 0.7881924575565502, 0.7984647304626765, 0.7902282086051504, 0.7939280306193942, 0.7839307307536372, 0.8018983175332755, 0.798518609672808, 0.8012633337575118, 0.7972298730905703, 0.7877075240355839, 0.7787176658525289, 0.7939223684031949, 0.7908439445576715, 0.805541436411044, 0.7982259972934583, 0.790710131091394, 0.7873118689630086, 0.8058431662422698, 0.7884239727944574, 0.7857809371233494, 0.7845047532071545, 0.8036485623653769, 0.7973115059760777, 0.7882416169155677, 0.7940070457929271, 0.7999944451564045, 0.8012445408813798, 0.792349555305685, 0.7949041909373824, 0.7884165626926194, 0.7913381287285841, 0.7957979261806128, 0.8018399204878403, 0.7927516921826332, 0.7973393918305115, 0.7901607267532351, 0.7861327723239016, 0.7965600932157818, 0.8024398349508342, 0.7946314580319558, 0.7780629178167322, 0.7901945689946847, 0.8006010910422929, 0.7892242720553321, 0.7897605880581653, 0.7937737687575376, 0.7853425998209032, 0.7873839607401676, 0.8023025963219721, 0.7907669958802777, 0.7898240105988777, 0.7929971064430378, 0.7892668298679089, 0.7958806549216794, 0.7951651926442377, 0.79289870932329, 0.8055152583674213, 0.7835440357252353, 0.7922865508731108, 0.7885505254466738, 0.7985423328161728, 0.8014771872536323, 0.7824536754536658, 0.797272046213317]\n"
          ]
        }
      ]
    },
    {
      "cell_type": "code",
      "source": [
        "# print in new line\n",
        "print(l1, sep = \"\\n\")"
      ],
      "metadata": {
        "colab": {
          "base_uri": "https://localhost:8080/"
        },
        "id": "8z_RmoOeWwLM",
        "outputId": "ef47fcc9-6961-49c1-c497-ad2965d7ff93"
      },
      "execution_count": null,
      "outputs": [
        {
          "output_type": "stream",
          "name": "stdout",
          "text": [
            "[0.7828455892774291, 0.8001048344071238, 0.7956174613657607, 0.8025530539864181, 0.7878236433930063, 0.7963584668522783, 0.7956096098156912, 0.8005439636702608, 0.795267843884561, 0.8033422668583561, 0.8092943755958896, 0.7909236697122682, 0.8003849559905865, 0.8005526462548415, 0.7892054444408405, 0.803040404571761, 0.7944224600996687, 0.797987708618008, 0.8003654005245321, 0.8077464392614133, 0.7940914085327188, 0.7898920576734073, 0.7922381940156401, 0.8059713777297597, 0.7961834345271701, 0.7913210021215266, 0.7962220808074284, 0.7946797310312163, 0.80520692884431, 0.7857656238601289, 0.7997624456315413, 0.798022255854832, 0.7989077704395608, 0.79387947936926, 0.8018722335929368, 0.7881389541900847, 0.7937803963166741, 0.8036297382587497, 0.7905563025783218, 0.80170046436212, 0.7983061878896013, 0.7950510666569582, 0.8003132000181629, 0.7998369756354982, 0.7977727716523347, 0.79371647856967, 0.7999752508924248, 0.7953826899072896, 0.7895259788818672, 0.8002226213227233, 0.7931667239612163, 0.7996556609277186, 0.8045527871049889, 0.7870459977845938, 0.7731421314028255, 0.7989561924693039, 0.7908583752331988, 0.8042681452719088, 0.8107075699519504, 0.7957649893000296, 0.7951915961605018, 0.8026540708669962, 0.7972690687163195, 0.8006459913710096, 0.7969945107002949, 0.7946919910074989, 0.7922601626355606, 0.8003696393682264, 0.7922732081464313, 0.7908372621556976, 0.7852490442613534, 0.7891653607404467, 0.7940961565839002, 0.7828302028589166, 0.7887227007114415, 0.7975576011313001, 0.7923744803590742, 0.8146699441087614, 0.8044751280600724, 0.7860948181653012, 0.7872998764316407, 0.7970012553147751, 0.8137599638510339, 0.8067127560481273, 0.7886280505640311, 0.7997580479867994, 0.8012252160426528, 0.8004394357949705, 0.7838823560252164, 0.7994891579805141, 0.8106094071146925, 0.7880055105334237, 0.7988306428985397, 0.7930656068081103, 0.7933676766026104, 0.7864452097382921, 0.806206161967225, 0.800835339916408, 0.7902673873901854, 0.8023654139898906, 0.8049708878173837, 0.799517831525674, 0.7883638130948225, 0.8030383207572979, 0.8020236816617479, 0.804550593632785, 0.8098034835531395, 0.7906234596416679, 0.8138573766003974, 0.7940388083064317, 0.7887013272992575, 0.8077737015082149, 0.805412892010579, 0.7892821466264077, 0.793212695511923, 0.7938098587237516, 0.7988122994311925, 0.7890694232632117, 0.7940650667239306, 0.8126934874258849, 0.7949205444254158, 0.7878958147944822, 0.7864573918291915, 0.802824998142234, 0.7963181285691018, 0.7931101163034897, 0.7956350969687952, 0.7950966327483412, 0.7885722116767723, 0.7998335293391702, 0.7970631917442208, 0.7982254043645935, 0.7837880827995846, 0.7981272855555317, 0.7865874561168489, 0.7864538374967767, 0.7958756086781189, 0.7993450276296623, 0.7901017417744002, 0.7877997503537242, 0.8032903581796433, 0.793475378317262, 0.7951089547055393, 0.7824234107154918, 0.8037975299321225, 0.7991401264100282, 0.7978950618626051, 0.7989677050316243, 0.7833652810286784, 0.7865508772022975, 0.7803490845208584, 0.7861354585968566, 0.7944702117735177, 0.8017465679342819, 0.7978111841735068, 0.8087668315109655, 0.7881190394424147, 0.7906961036097967, 0.7985493603067071, 0.7863585664592401, 0.8003609734889214, 0.8031786398004376, 0.776814715112745, 0.7865952577831061, 0.8022170867917582, 0.7980624648279322, 0.7915220775924091, 0.7932855174710702, 0.8008046405587699, 0.7946650409607013, 0.7890556837760898, 0.7988783423060263, 0.790840585832363, 0.8019254852165485, 0.7958612329131528, 0.8011665394604285, 0.7983254992947182, 0.7888939830474703, 0.7966480037679242, 0.8043970270912792, 0.8005259836302026, 0.786608853063927, 0.7973920705286436, 0.804970074347423, 0.7949683784017788, 0.8016489450412795, 0.7944665083808924, 0.8007547794776553, 0.7968327023274278, 0.786181200880748, 0.7998241857180309, 0.7968587897173361, 0.7944977991681187, 0.7944439283426417, 0.7826090246349775, 0.7921960246431331, 0.7972218323814123, 0.7931210260400815, 0.7952644545075663, 0.7933298088169942, 0.808336506502603, 0.7996196986309577, 0.7865945815095435, 0.7883622335542978, 0.7986833203960624, 0.7950103393016684, 0.7927936580463776, 0.8012898383161563, 0.7919006812438861, 0.7822594340191948, 0.795894329924327, 0.7981928260300145, 0.7862753341121878, 0.799937849932153, 0.7918021155312007, 0.7890835065078295, 0.808080777963708, 0.786878429351356, 0.7985438188135375, 0.8056805574818509, 0.8054153819748758, 0.8119876336893989, 0.8023779928284575, 0.8034318869786745, 0.8127694367590068, 0.8010160264314883, 0.7915898980515151, 0.7913144855594618, 0.7990971110489204, 0.7873000587992838, 0.7961541865724175, 0.7844953607752114, 0.806793718657778, 0.7828081678851228, 0.7991294002947054, 0.809360664710298, 0.7881924575565502, 0.7984647304626765, 0.7902282086051504, 0.7939280306193942, 0.7839307307536372, 0.8018983175332755, 0.798518609672808, 0.8012633337575118, 0.7972298730905703, 0.7877075240355839, 0.7787176658525289, 0.7939223684031949, 0.7908439445576715, 0.805541436411044, 0.7982259972934583, 0.790710131091394, 0.7873118689630086, 0.8058431662422698, 0.7884239727944574, 0.7857809371233494, 0.7845047532071545, 0.8036485623653769, 0.7973115059760777, 0.7882416169155677, 0.7940070457929271, 0.7999944451564045, 0.8012445408813798, 0.792349555305685, 0.7949041909373824, 0.7884165626926194, 0.7913381287285841, 0.7957979261806128, 0.8018399204878403, 0.7927516921826332, 0.7973393918305115, 0.7901607267532351, 0.7861327723239016, 0.7965600932157818, 0.8024398349508342, 0.7946314580319558, 0.7780629178167322, 0.7901945689946847, 0.8006010910422929, 0.7892242720553321, 0.7897605880581653, 0.7937737687575376, 0.7853425998209032, 0.7873839607401676, 0.8023025963219721, 0.7907669958802777, 0.7898240105988777, 0.7929971064430378, 0.7892668298679089, 0.7958806549216794, 0.7951651926442377, 0.79289870932329, 0.8055152583674213, 0.7835440357252353, 0.7922865508731108, 0.7885505254466738, 0.7985423328161728, 0.8014771872536323, 0.7824536754536658, 0.797272046213317]\n"
          ]
        }
      ]
    },
    {
      "cell_type": "code",
      "source": [
        "print('\\n'.join(map(str, l1)))"
      ],
      "metadata": {
        "colab": {
          "base_uri": "https://localhost:8080/"
        },
        "id": "dbHDXwC4W_qO",
        "outputId": "e72172cc-1719-42f4-cf52-8d51a18ed018"
      },
      "execution_count": null,
      "outputs": [
        {
          "output_type": "stream",
          "name": "stdout",
          "text": [
            "0.7828455892774291\n",
            "0.8001048344071238\n",
            "0.7956174613657607\n",
            "0.8025530539864181\n",
            "0.7878236433930063\n",
            "0.7963584668522783\n",
            "0.7956096098156912\n",
            "0.8005439636702608\n",
            "0.795267843884561\n",
            "0.8033422668583561\n",
            "0.8092943755958896\n",
            "0.7909236697122682\n",
            "0.8003849559905865\n",
            "0.8005526462548415\n",
            "0.7892054444408405\n",
            "0.803040404571761\n",
            "0.7944224600996687\n",
            "0.797987708618008\n",
            "0.8003654005245321\n",
            "0.8077464392614133\n",
            "0.7940914085327188\n",
            "0.7898920576734073\n",
            "0.7922381940156401\n",
            "0.8059713777297597\n",
            "0.7961834345271701\n",
            "0.7913210021215266\n",
            "0.7962220808074284\n",
            "0.7946797310312163\n",
            "0.80520692884431\n",
            "0.7857656238601289\n",
            "0.7997624456315413\n",
            "0.798022255854832\n",
            "0.7989077704395608\n",
            "0.79387947936926\n",
            "0.8018722335929368\n",
            "0.7881389541900847\n",
            "0.7937803963166741\n",
            "0.8036297382587497\n",
            "0.7905563025783218\n",
            "0.80170046436212\n",
            "0.7983061878896013\n",
            "0.7950510666569582\n",
            "0.8003132000181629\n",
            "0.7998369756354982\n",
            "0.7977727716523347\n",
            "0.79371647856967\n",
            "0.7999752508924248\n",
            "0.7953826899072896\n",
            "0.7895259788818672\n",
            "0.8002226213227233\n",
            "0.7931667239612163\n",
            "0.7996556609277186\n",
            "0.8045527871049889\n",
            "0.7870459977845938\n",
            "0.7731421314028255\n",
            "0.7989561924693039\n",
            "0.7908583752331988\n",
            "0.8042681452719088\n",
            "0.8107075699519504\n",
            "0.7957649893000296\n",
            "0.7951915961605018\n",
            "0.8026540708669962\n",
            "0.7972690687163195\n",
            "0.8006459913710096\n",
            "0.7969945107002949\n",
            "0.7946919910074989\n",
            "0.7922601626355606\n",
            "0.8003696393682264\n",
            "0.7922732081464313\n",
            "0.7908372621556976\n",
            "0.7852490442613534\n",
            "0.7891653607404467\n",
            "0.7940961565839002\n",
            "0.7828302028589166\n",
            "0.7887227007114415\n",
            "0.7975576011313001\n",
            "0.7923744803590742\n",
            "0.8146699441087614\n",
            "0.8044751280600724\n",
            "0.7860948181653012\n",
            "0.7872998764316407\n",
            "0.7970012553147751\n",
            "0.8137599638510339\n",
            "0.8067127560481273\n",
            "0.7886280505640311\n",
            "0.7997580479867994\n",
            "0.8012252160426528\n",
            "0.8004394357949705\n",
            "0.7838823560252164\n",
            "0.7994891579805141\n",
            "0.8106094071146925\n",
            "0.7880055105334237\n",
            "0.7988306428985397\n",
            "0.7930656068081103\n",
            "0.7933676766026104\n",
            "0.7864452097382921\n",
            "0.806206161967225\n",
            "0.800835339916408\n",
            "0.7902673873901854\n",
            "0.8023654139898906\n",
            "0.8049708878173837\n",
            "0.799517831525674\n",
            "0.7883638130948225\n",
            "0.8030383207572979\n",
            "0.8020236816617479\n",
            "0.804550593632785\n",
            "0.8098034835531395\n",
            "0.7906234596416679\n",
            "0.8138573766003974\n",
            "0.7940388083064317\n",
            "0.7887013272992575\n",
            "0.8077737015082149\n",
            "0.805412892010579\n",
            "0.7892821466264077\n",
            "0.793212695511923\n",
            "0.7938098587237516\n",
            "0.7988122994311925\n",
            "0.7890694232632117\n",
            "0.7940650667239306\n",
            "0.8126934874258849\n",
            "0.7949205444254158\n",
            "0.7878958147944822\n",
            "0.7864573918291915\n",
            "0.802824998142234\n",
            "0.7963181285691018\n",
            "0.7931101163034897\n",
            "0.7956350969687952\n",
            "0.7950966327483412\n",
            "0.7885722116767723\n",
            "0.7998335293391702\n",
            "0.7970631917442208\n",
            "0.7982254043645935\n",
            "0.7837880827995846\n",
            "0.7981272855555317\n",
            "0.7865874561168489\n",
            "0.7864538374967767\n",
            "0.7958756086781189\n",
            "0.7993450276296623\n",
            "0.7901017417744002\n",
            "0.7877997503537242\n",
            "0.8032903581796433\n",
            "0.793475378317262\n",
            "0.7951089547055393\n",
            "0.7824234107154918\n",
            "0.8037975299321225\n",
            "0.7991401264100282\n",
            "0.7978950618626051\n",
            "0.7989677050316243\n",
            "0.7833652810286784\n",
            "0.7865508772022975\n",
            "0.7803490845208584\n",
            "0.7861354585968566\n",
            "0.7944702117735177\n",
            "0.8017465679342819\n",
            "0.7978111841735068\n",
            "0.8087668315109655\n",
            "0.7881190394424147\n",
            "0.7906961036097967\n",
            "0.7985493603067071\n",
            "0.7863585664592401\n",
            "0.8003609734889214\n",
            "0.8031786398004376\n",
            "0.776814715112745\n",
            "0.7865952577831061\n",
            "0.8022170867917582\n",
            "0.7980624648279322\n",
            "0.7915220775924091\n",
            "0.7932855174710702\n",
            "0.8008046405587699\n",
            "0.7946650409607013\n",
            "0.7890556837760898\n",
            "0.7988783423060263\n",
            "0.790840585832363\n",
            "0.8019254852165485\n",
            "0.7958612329131528\n",
            "0.8011665394604285\n",
            "0.7983254992947182\n",
            "0.7888939830474703\n",
            "0.7966480037679242\n",
            "0.8043970270912792\n",
            "0.8005259836302026\n",
            "0.786608853063927\n",
            "0.7973920705286436\n",
            "0.804970074347423\n",
            "0.7949683784017788\n",
            "0.8016489450412795\n",
            "0.7944665083808924\n",
            "0.8007547794776553\n",
            "0.7968327023274278\n",
            "0.786181200880748\n",
            "0.7998241857180309\n",
            "0.7968587897173361\n",
            "0.7944977991681187\n",
            "0.7944439283426417\n",
            "0.7826090246349775\n",
            "0.7921960246431331\n",
            "0.7972218323814123\n",
            "0.7931210260400815\n",
            "0.7952644545075663\n",
            "0.7933298088169942\n",
            "0.808336506502603\n",
            "0.7996196986309577\n",
            "0.7865945815095435\n",
            "0.7883622335542978\n",
            "0.7986833203960624\n",
            "0.7950103393016684\n",
            "0.7927936580463776\n",
            "0.8012898383161563\n",
            "0.7919006812438861\n",
            "0.7822594340191948\n",
            "0.795894329924327\n",
            "0.7981928260300145\n",
            "0.7862753341121878\n",
            "0.799937849932153\n",
            "0.7918021155312007\n",
            "0.7890835065078295\n",
            "0.808080777963708\n",
            "0.786878429351356\n",
            "0.7985438188135375\n",
            "0.8056805574818509\n",
            "0.8054153819748758\n",
            "0.8119876336893989\n",
            "0.8023779928284575\n",
            "0.8034318869786745\n",
            "0.8127694367590068\n",
            "0.8010160264314883\n",
            "0.7915898980515151\n",
            "0.7913144855594618\n",
            "0.7990971110489204\n",
            "0.7873000587992838\n",
            "0.7961541865724175\n",
            "0.7844953607752114\n",
            "0.806793718657778\n",
            "0.7828081678851228\n",
            "0.7991294002947054\n",
            "0.809360664710298\n",
            "0.7881924575565502\n",
            "0.7984647304626765\n",
            "0.7902282086051504\n",
            "0.7939280306193942\n",
            "0.7839307307536372\n",
            "0.8018983175332755\n",
            "0.798518609672808\n",
            "0.8012633337575118\n",
            "0.7972298730905703\n",
            "0.7877075240355839\n",
            "0.7787176658525289\n",
            "0.7939223684031949\n",
            "0.7908439445576715\n",
            "0.805541436411044\n",
            "0.7982259972934583\n",
            "0.790710131091394\n",
            "0.7873118689630086\n",
            "0.8058431662422698\n",
            "0.7884239727944574\n",
            "0.7857809371233494\n",
            "0.7845047532071545\n",
            "0.8036485623653769\n",
            "0.7973115059760777\n",
            "0.7882416169155677\n",
            "0.7940070457929271\n",
            "0.7999944451564045\n",
            "0.8012445408813798\n",
            "0.792349555305685\n",
            "0.7949041909373824\n",
            "0.7884165626926194\n",
            "0.7913381287285841\n",
            "0.7957979261806128\n",
            "0.8018399204878403\n",
            "0.7927516921826332\n",
            "0.7973393918305115\n",
            "0.7901607267532351\n",
            "0.7861327723239016\n",
            "0.7965600932157818\n",
            "0.8024398349508342\n",
            "0.7946314580319558\n",
            "0.7780629178167322\n",
            "0.7901945689946847\n",
            "0.8006010910422929\n",
            "0.7892242720553321\n",
            "0.7897605880581653\n",
            "0.7937737687575376\n",
            "0.7853425998209032\n",
            "0.7873839607401676\n",
            "0.8023025963219721\n",
            "0.7907669958802777\n",
            "0.7898240105988777\n",
            "0.7929971064430378\n",
            "0.7892668298679089\n",
            "0.7958806549216794\n",
            "0.7951651926442377\n",
            "0.79289870932329\n",
            "0.8055152583674213\n",
            "0.7835440357252353\n",
            "0.7922865508731108\n",
            "0.7885505254466738\n",
            "0.7985423328161728\n",
            "0.8014771872536323\n",
            "0.7824536754536658\n",
            "0.797272046213317\n"
          ]
        }
      ]
    },
    {
      "cell_type": "code",
      "source": [
        "len(l1)"
      ],
      "metadata": {
        "colab": {
          "base_uri": "https://localhost:8080/"
        },
        "id": "vocB5nUeD6WE",
        "outputId": "502eb8ab-0597-43ab-ca62-6b943f67f9b0"
      },
      "execution_count": null,
      "outputs": [
        {
          "output_type": "execute_result",
          "data": {
            "text/plain": [
              "300"
            ]
          },
          "metadata": {},
          "execution_count": 53
        }
      ]
    },
    {
      "cell_type": "code",
      "source": [
        "df_dissim_hopkin = pd.DataFrame(l1)\n",
        "print(df_dissim_hopkin)"
      ],
      "metadata": {
        "colab": {
          "base_uri": "https://localhost:8080/"
        },
        "id": "bDiUBOE2EODu",
        "outputId": "b149974d-ee42-4f15-fdf0-a26703890724"
      },
      "execution_count": null,
      "outputs": [
        {
          "output_type": "stream",
          "name": "stdout",
          "text": [
            "            0\n",
            "0    0.782846\n",
            "1    0.800105\n",
            "2    0.795617\n",
            "3    0.802553\n",
            "4    0.787824\n",
            "..        ...\n",
            "295  0.788551\n",
            "296  0.798542\n",
            "297  0.801477\n",
            "298  0.782454\n",
            "299  0.797272\n",
            "\n",
            "[300 rows x 1 columns]\n"
          ]
        }
      ]
    },
    {
      "cell_type": "code",
      "source": [
        "df_dissim_hopkin.shape"
      ],
      "metadata": {
        "colab": {
          "base_uri": "https://localhost:8080/"
        },
        "id": "7bOLRT0WIQEf",
        "outputId": "9c8fb2b6-e4c2-4516-80f3-4c680c80745c"
      },
      "execution_count": null,
      "outputs": [
        {
          "output_type": "execute_result",
          "data": {
            "text/plain": [
              "(300, 1)"
            ]
          },
          "metadata": {},
          "execution_count": 55
        }
      ]
    },
    {
      "cell_type": "code",
      "source": [
        "import seaborn as sns"
      ],
      "metadata": {
        "id": "X6CNALh4v1xh"
      },
      "execution_count": null,
      "outputs": []
    },
    {
      "cell_type": "markdown",
      "source": [
        "## Box plot using hopkin test value for each pair"
      ],
      "metadata": {
        "id": "Rt-X7M5RH2Iv"
      }
    },
    {
      "cell_type": "code",
      "source": [
        "\n",
        "# Import libraries\n",
        "import matplotlib.pyplot as plt\n",
        "from matplotlib import pyplot as plt \n",
        "import numpy as np\n",
        " \n",
        "# Creating dataset\n",
        "np.random.seed(10)\n",
        "data_1 = l #tex_sim\n",
        "data_2 = l1 #tex_dissim\n",
        "\n",
        "data = [data_1, data_2]\n",
        " \n",
        "fig = plt.figure(figsize =(10, 7))\n",
        "ax = fig.add_subplot(111)\n",
        " \n",
        "# Creating axes instance\n",
        "bp = ax.boxplot(data, patch_artist = True,\n",
        "                notch ='True', vert = 0)\n",
        " \n",
        "colors = ['#0000FF', '#00FF00',\n",
        "          '#FFFF00', '#FF00FF']\n",
        " \n",
        "for patch, color in zip(bp['boxes'], colors):\n",
        "    patch.set_facecolor(color)\n",
        " \n",
        "# changing color and linewidth of\n",
        "# whiskers\n",
        "for whisker in bp['whiskers']:\n",
        "    whisker.set(color ='#8B008B',\n",
        "                linewidth = 1.5,\n",
        "                linestyle =\":\")\n",
        " \n",
        "# changing color and linewidth of\n",
        "# caps\n",
        "for cap in bp['caps']:\n",
        "    cap.set(color ='#8B008B',\n",
        "            linewidth = 2)\n",
        " \n",
        "# changing color and linewidth of\n",
        "# medians\n",
        "for median in bp['medians']:\n",
        "    median.set(color ='red',\n",
        "               linewidth = 3)\n",
        " \n",
        "# changing style of fliers\n",
        "for flier in bp['fliers']:\n",
        "    flier.set(marker ='D',\n",
        "              color ='#e7298a',\n",
        "              alpha = 0.5)\n",
        "     \n",
        "# x-axis labels\n",
        "plt.xlabel('H values of Hopkins Statistics', fontsize = 12)\n",
        "ax.set_yticklabels(['Textually Similar', 'Textually Dissimilar'], fontsize = 12)\n",
        " \n",
        "# Removing top axes and right axes\n",
        "# ticks\n",
        "ax.get_xaxis().tick_bottom()\n",
        "ax.get_yaxis().tick_left()\n",
        "     \n",
        "# show plot\n",
        "plt.show()\n",
        "\n",
        "fig = plt.figure()\n",
        "fig.savefig('hopkin_eclipse.jpg')"
      ],
      "metadata": {
        "colab": {
          "base_uri": "https://localhost:8080/",
          "height": 462
        },
        "id": "1N72EEwqIbbG",
        "outputId": "58e786e5-65a2-4060-d4b5-e6e9a6722f55"
      },
      "execution_count": null,
      "outputs": [
        {
          "output_type": "display_data",
          "data": {
            "text/plain": [
              "<Figure size 720x504 with 1 Axes>"
            ],
            "image/png": "[encoded data removed]"
          },
          "metadata": {
            "needs_background": "light"
          }
        },
        {
          "output_type": "display_data",
          "data": {
            "text/plain": [
              "<Figure size 432x288 with 0 Axes>"
            ]
          },
          "metadata": {}
        }
      ]
    },
    {
      "cell_type": "code",
      "source": [
        "#!pip install PyNonpar"
      ],
      "metadata": {
        "id": "KTY2KHiMfQYU"
      },
      "execution_count": null,
      "outputs": []
    },
    {
      "cell_type": "code",
      "source": [
        "#pip install scipy pandas pingouin"
      ],
      "metadata": {
        "id": "zjqbejNnfOBQ"
      },
      "execution_count": null,
      "outputs": []
    },
    {
      "cell_type": "code",
      "source": [
        "## Significance test\n",
        "import pandas as pd\n",
        "import numpy as np\n",
        "from scipy import stats\n",
        "from numpy.random import seed\n",
        "from scipy.stats import kstest\n",
        "from scipy.stats import ks_2samp\n",
        "np.random.seed(0)\n",
        "rng = np.random.default_rng()\n",
        "import pandas as pd\n",
        "import numpy as np\n",
        "from scipy import stats\n",
        "from numpy.random import seed\n",
        "from scipy.stats import kstest\n",
        "from scipy.stats import ks_2samp\n",
        "np.random.seed(0)\n",
        "rng = np.random.default_rng()\n",
        "from sklearn.metrics.pairwise import cosine_similarity\n",
        "import statistics\n",
        "from datetime import datetime\n",
        "from scipy.stats import skew\n",
        "%matplotlib notebook\n",
        "import matplotlib.pyplot as plt\n",
        "import seaborn as sns\n",
        "import pandas as pd\n",
        "import numpy as np\n",
        "plt.rcParams.update({'figure.max_open_warning': 0})\n",
        "import matplotlib as mpl\n",
        "import matplotlib.pyplot as plt\n",
        "plt.style.use('classic')\n",
        "import cv2\n",
        "%matplotlib inline\n",
        "sns.set_context('notebook')\n",
        "%config InlineBackend.figure_format = 'retina'\n",
        "import cv2 as cv\n",
        "from google.colab.patches import cv2_imshow # for image display\n",
        "from skimage import io\n",
        "from PIL import Image\n",
        "import matplotlib.pylab as plt\n",
        "import PyNonpar\n",
        "from PyNonpar.twosample import wilcoxon_mann_whitney_test"
      ],
      "metadata": {
        "id": "GJBQnZKSMglM"
      },
      "execution_count": null,
      "outputs": []
    },
    {
      "cell_type": "code",
      "source": [
        "hopkin_sim = l\n",
        "hopkin_sim"
      ],
      "metadata": {
        "id": "-J9okixQ0pSG"
      },
      "execution_count": null,
      "outputs": []
    },
    {
      "cell_type": "code",
      "source": [
        "hopkin_dissim= l1\n",
        "hopkin_dissim"
      ],
      "metadata": {
        "id": "A2yqGQpY07kd"
      },
      "execution_count": null,
      "outputs": []
    },
    {
      "cell_type": "code",
      "source": [
        "print (\"eclipse_hopkin_sim_dist:\", stats.kstest(hopkin_sim, 'norm')) # Not normal dist"
      ],
      "metadata": {
        "id": "mNdQwyO-1AN2"
      },
      "execution_count": null,
      "outputs": []
    },
    {
      "cell_type": "code",
      "source": [
        "print (\"eclipse_hopkin_dissim_dist:\", stats.kstest(hopkin_dissim, 'norm')) # Not normal dist"
      ],
      "metadata": {
        "id": "S3sQLS7o1e0n"
      },
      "execution_count": null,
      "outputs": []
    },
    {
      "cell_type": "code",
      "source": [
        "from scipy.stats import mannwhitneyu"
      ],
      "metadata": {
        "id": "YiBnQvbR1pFi"
      },
      "execution_count": null,
      "outputs": []
    },
    {
      "cell_type": "code",
      "source": [
        "PyNonpar.twosample.wilcoxon_mann_whitney_test(hopkin_sim, hopkin_dissim, method= \"asymptotic\")"
      ],
      "metadata": {
        "id": "xRJD2WPm3N-B"
      },
      "execution_count": null,
      "outputs": []
    },
    {
      "cell_type": "code",
      "source": [
        "import math\n",
        "z = abs(-21.13620029857694)\n",
        "n = 5\n",
        "r = z/math.sqrt(n)\n",
        "print(r) #large effect"
      ],
      "metadata": {
        "id": "LuWj02D82rxJ"
      },
      "execution_count": null,
      "outputs": []
    },
    {
      "cell_type": "code",
      "source": [
        ""
      ],
      "metadata": {
        "id": "x2GsnXFq3q1N"
      },
      "execution_count": null,
      "outputs": []
    }
  ]
}