{
  "nbformat": 4,
  "nbformat_minor": 0,
  "metadata": {
    "colab": {
      "name": "Eclipse_Siamese_Model_RQ3.ipynb",
      "provenance": [],
      "collapsed_sections": [
        "PAV0wX2jxSWJ",
        "0RmhmXHOuOum"
      ]
    },
    "kernelspec": {
      "name": "python3",
      "display_name": "Python 3"
    },
    "language_info": {
      "name": "python"
    }
  },
  "cells": [
    {
      "cell_type": "code",
      "source": [
        "#importing necessary libraries \n",
        "import pandas as pd\n",
        "import nltk\n",
        "import gensim\n",
        "from gensim.utils import simple_preprocess\n",
        "from nltk.corpus import stopwords\n",
        "from nltk import word_tokenize\n",
        "from nltk.stem import WordNetLemmatizer, SnowballStemmer\n",
        "from nltk.stem.porter import *\n",
        "from gensim.parsing.preprocessing import STOPWORDS\n",
        "import numpy as np\n",
        "import pickle\n",
        "nltk.download('stopwords')\n",
        "nltk.download('wordnet')\n",
        "from typing import List, Dict, Tuple, Set\n",
        "import itertools\n",
        "import warnings\n",
        "warnings.filterwarnings(\"ignore\", category=DeprecationWarning)\n",
        "import pickle\n",
        "import requests\n",
        "import json\n",
        "import urllib.request\n",
        "import time\n",
        "from bs4 import BeautifulSoup\n",
        "from sklearn.feature_extraction.text import TfidfVectorizer\n",
        "from nltk.stem import PorterStemmer\n",
        "import re\n",
        "from sklearn.metrics.pairwise import cosine_similarity\n",
        "import statistics\n",
        "from datetime import datetime\n",
        "from scipy.stats import skew\n",
        "from sklearn.datasets import make_circles\n",
        "from sklearn.metrics import accuracy_score\n",
        "from sklearn.metrics import precision_score\n",
        "from sklearn.metrics import recall_score\n",
        "from sklearn.metrics import f1_score\n",
        "from sklearn.metrics import cohen_kappa_score\n",
        "from sklearn.metrics import roc_auc_score\n",
        "from sklearn.metrics import confusion_matrix\n",
        "from keras.models import Sequential\n",
        "from keras.layers import Dense"
      ],
      "metadata": {
        "id": "YBc2CtGYZTCO",
        "colab": {
          "base_uri": "https://localhost:8080/"
        },
        "outputId": "3115c14c-4670-4223-af16-8ada6da49493"
      },
      "execution_count": null,
      "outputs": [
        {
          "output_type": "stream",
          "name": "stdout",
          "text": [
            "[nltk_data] Downloading package stopwords to /root/nltk_data...\n",
            "[nltk_data]   Package stopwords is already up-to-date!\n",
            "[nltk_data] Downloading package wordnet to /root/nltk_data...\n",
            "[nltk_data]   Package wordnet is already up-to-date!\n"
          ]
        }
      ]
    },
    {
      "cell_type": "code",
      "source": [
        "#mounting the google drive\n",
        "from google.colab import drive\n",
        "drive.mount('/content/drive')"
      ],
      "metadata": {
        "colab": {
          "base_uri": "https://localhost:8080/"
        },
        "id": "GXIfn-rvu7pd",
        "outputId": "f3362b4e-0ba9-430c-cb20-239b31444c81"
      },
      "execution_count": null,
      "outputs": [
        {
          "output_type": "stream",
          "name": "stdout",
          "text": [
            "Drive already mounted at /content/drive; to attempt to forcibly remount, call drive.mount(\"/content/drive\", force_remount=True).\n"
          ]
        }
      ]
    },
    {
      "cell_type": "markdown",
      "source": [
        "## Reading dataset"
      ],
      "metadata": {
        "id": "77GiYleYVlax"
      }
    },
    {
      "cell_type": "code",
      "source": [
        "#importing the CSV file of the dataset from google drive into a dataframe\n",
        "train_eclipse_df=pd.read_csv('drive/MyDrive/Project 6308 + ICSME/Siamese/Eclipse_siamese_train_preprocessed.csv')\n",
        "train_eclipse_df\n"
      ],
      "metadata": {
        "colab": {
          "base_uri": "https://localhost:8080/",
          "height": 424
        },
        "id": "a82T-YTgU1nb",
        "outputId": "b89c5daf-4dbc-4611-9c56-c708e77041f6"
      },
      "execution_count": null,
      "outputs": [
        {
          "output_type": "execute_result",
          "data": {
            "text/plain": [
              "       Unnamed: 0                                       description1  \\\n",
              "0               0    investigate changes required for jep    maco...   \n",
              "1               2    oshi allows to access hard disk info  let s ...   \n",
              "2               3    details of this problem have been discussed ...   \n",
              "3               4    created attachment   example  hello  can you...   \n",
              "4               5    rename module path container from  module so...   \n",
              "...           ...                                                ...   \n",
              "34490       36402    if a miner fails for some reason  now it is ...   \n",
              "34491       36403    created attachment   unsolved imports   upgr...   \n",
              "34492       36404    in the coming days weeks we will migrate the...   \n",
              "34493       36405    the view model editor should provide proper ...   \n",
              "34494       36406    hi   we have some issues regarding the gitla...   \n",
              "\n",
              "                                            description2  is_similar  \n",
              "0        older api has limitations   that require ugl...           0  \n",
              "1        created attachment   screenshot     set maco...           0  \n",
              "2        originally from    method signature selectio...           1  \n",
              "3        partontopmanager uses  eventtopic instead of...           0  \n",
              "4        created attachment   workspace log  i have a...           0  \n",
              "...                                                  ...         ...  \n",
              "34490    i install oprofile plugin of eclipse on linu...           0  \n",
              "34491    expected result  record r  implements i but ...           0  \n",
              "34492    consider the following code  public sealed c...           0  \n",
              "34493     terminate all  does only terminate one proc...           0  \n",
              "34494    tbh  i never understood why oomph has an adv...           0  \n",
              "\n",
              "[34495 rows x 4 columns]"
            ],
            "text/html": [
              "\n",
              "  <div id=\"df-f33aa033-9b7d-48c4-9b8d-7c88c34d2512\">\n",
              "    <div class=\"colab-df-container\">\n",
              "      <div>\n",
              "<style scoped>\n",
              "    .dataframe tbody tr th:only-of-type {\n",
              "        vertical-align: middle;\n",
              "    }\n",
              "\n",
              "    .dataframe tbody tr th {\n",
              "        vertical-align: top;\n",
              "    }\n",
              "\n",
              "    .dataframe thead th {\n",
              "        text-align: right;\n",
              "    }\n",
              "</style>\n",
              "<table border=\"1\" class=\"dataframe\">\n",
              "  <thead>\n",
              "    <tr style=\"text-align: right;\">\n",
              "      <th></th>\n",
              "      <th>Unnamed: 0</th>\n",
              "      <th>description1</th>\n",
              "      <th>description2</th>\n",
              "      <th>is_similar</th>\n",
              "    </tr>\n",
              "  </thead>\n",
              "  <tbody>\n",
              "    <tr>\n",
              "      <th>0</th>\n",
              "      <td>0</td>\n",
              "      <td>investigate changes required for jep    maco...</td>\n",
              "      <td>older api has limitations   that require ugl...</td>\n",
              "      <td>0</td>\n",
              "    </tr>\n",
              "    <tr>\n",
              "      <th>1</th>\n",
              "      <td>2</td>\n",
              "      <td>oshi allows to access hard disk info  let s ...</td>\n",
              "      <td>created attachment   screenshot     set maco...</td>\n",
              "      <td>0</td>\n",
              "    </tr>\n",
              "    <tr>\n",
              "      <th>2</th>\n",
              "      <td>3</td>\n",
              "      <td>details of this problem have been discussed ...</td>\n",
              "      <td>originally from    method signature selectio...</td>\n",
              "      <td>1</td>\n",
              "    </tr>\n",
              "    <tr>\n",
              "      <th>3</th>\n",
              "      <td>4</td>\n",
              "      <td>created attachment   example  hello  can you...</td>\n",
              "      <td>partontopmanager uses  eventtopic instead of...</td>\n",
              "      <td>0</td>\n",
              "    </tr>\n",
              "    <tr>\n",
              "      <th>4</th>\n",
              "      <td>5</td>\n",
              "      <td>rename module path container from  module so...</td>\n",
              "      <td>created attachment   workspace log  i have a...</td>\n",
              "      <td>0</td>\n",
              "    </tr>\n",
              "    <tr>\n",
              "      <th>...</th>\n",
              "      <td>...</td>\n",
              "      <td>...</td>\n",
              "      <td>...</td>\n",
              "      <td>...</td>\n",
              "    </tr>\n",
              "    <tr>\n",
              "      <th>34490</th>\n",
              "      <td>36402</td>\n",
              "      <td>if a miner fails for some reason  now it is ...</td>\n",
              "      <td>i install oprofile plugin of eclipse on linu...</td>\n",
              "      <td>0</td>\n",
              "    </tr>\n",
              "    <tr>\n",
              "      <th>34491</th>\n",
              "      <td>36403</td>\n",
              "      <td>created attachment   unsolved imports   upgr...</td>\n",
              "      <td>expected result  record r  implements i but ...</td>\n",
              "      <td>0</td>\n",
              "    </tr>\n",
              "    <tr>\n",
              "      <th>34492</th>\n",
              "      <td>36404</td>\n",
              "      <td>in the coming days weeks we will migrate the...</td>\n",
              "      <td>consider the following code  public sealed c...</td>\n",
              "      <td>0</td>\n",
              "    </tr>\n",
              "    <tr>\n",
              "      <th>34493</th>\n",
              "      <td>36405</td>\n",
              "      <td>the view model editor should provide proper ...</td>\n",
              "      <td>terminate all  does only terminate one proc...</td>\n",
              "      <td>0</td>\n",
              "    </tr>\n",
              "    <tr>\n",
              "      <th>34494</th>\n",
              "      <td>36406</td>\n",
              "      <td>hi   we have some issues regarding the gitla...</td>\n",
              "      <td>tbh  i never understood why oomph has an adv...</td>\n",
              "      <td>0</td>\n",
              "    </tr>\n",
              "  </tbody>\n",
              "</table>\n",
              "<p>34495 rows × 4 columns</p>\n",
              "</div>\n",
              "      <button class=\"colab-df-convert\" onclick=\"convertToInteractive('df-f33aa033-9b7d-48c4-9b8d-7c88c34d2512')\"\n",
              "              title=\"Convert this dataframe to an interactive table.\"\n",
              "              style=\"display:none;\">\n",
              "        \n",
              "  <svg xmlns=\"http://www.w3.org/2000/svg\" height=\"24px\"viewBox=\"0 0 24 24\"\n",
              "       width=\"24px\">\n",
              "    <path d=\"M0 0h24v24H0V0z\" fill=\"none\"/>\n",
              "    <path d=\"M18.56 5.44l.94 2.06.94-2.06 2.06-.94-2.06-.94-.94-2.06-.94 2.06-2.06.94zm-11 1L8.5 8.5l.94-2.06 2.06-.94-2.06-.94L8.5 2.5l-.94 2.06-2.06.94zm10 10l.94 2.06.94-2.06 2.06-.94-2.06-.94-.94-2.06-.94 2.06-2.06.94z\"/><path d=\"M17.41 7.96l-1.37-1.37c-.4-.4-.92-.59-1.43-.59-.52 0-1.04.2-1.43.59L10.3 9.45l-7.72 7.72c-.78.78-.78 2.05 0 2.83L4 21.41c.39.39.9.59 1.41.59.51 0 1.02-.2 1.41-.59l7.78-7.78 2.81-2.81c.8-.78.8-2.07 0-2.86zM5.41 20L4 18.59l7.72-7.72 1.47 1.35L5.41 20z\"/>\n",
              "  </svg>\n",
              "      </button>\n",
              "      \n",
              "  <style>\n",
              "    .colab-df-container {\n",
              "      display:flex;\n",
              "      flex-wrap:wrap;\n",
              "      gap: 12px;\n",
              "    }\n",
              "\n",
              "    .colab-df-convert {\n",
              "      background-color: #E8F0FE;\n",
              "      border: none;\n",
              "      border-radius: 50%;\n",
              "      cursor: pointer;\n",
              "      display: none;\n",
              "      fill: #1967D2;\n",
              "      height: 32px;\n",
              "      padding: 0 0 0 0;\n",
              "      width: 32px;\n",
              "    }\n",
              "\n",
              "    .colab-df-convert:hover {\n",
              "      background-color: #E2EBFA;\n",
              "      box-shadow: 0px 1px 2px rgba(60, 64, 67, 0.3), 0px 1px 3px 1px rgba(60, 64, 67, 0.15);\n",
              "      fill: #174EA6;\n",
              "    }\n",
              "\n",
              "    [theme=dark] .colab-df-convert {\n",
              "      background-color: #3B4455;\n",
              "      fill: #D2E3FC;\n",
              "    }\n",
              "\n",
              "    [theme=dark] .colab-df-convert:hover {\n",
              "      background-color: #434B5C;\n",
              "      box-shadow: 0px 1px 3px 1px rgba(0, 0, 0, 0.15);\n",
              "      filter: drop-shadow(0px 1px 2px rgba(0, 0, 0, 0.3));\n",
              "      fill: #FFFFFF;\n",
              "    }\n",
              "  </style>\n",
              "\n",
              "      <script>\n",
              "        const buttonEl =\n",
              "          document.querySelector('#df-f33aa033-9b7d-48c4-9b8d-7c88c34d2512 button.colab-df-convert');\n",
              "        buttonEl.style.display =\n",
              "          google.colab.kernel.accessAllowed ? 'block' : 'none';\n",
              "\n",
              "        async function convertToInteractive(key) {\n",
              "          const element = document.querySelector('#df-f33aa033-9b7d-48c4-9b8d-7c88c34d2512');\n",
              "          const dataTable =\n",
              "            await google.colab.kernel.invokeFunction('convertToInteractive',\n",
              "                                                     [key], {});\n",
              "          if (!dataTable) return;\n",
              "\n",
              "          const docLinkHtml = 'Like what you see? Visit the ' +\n",
              "            '<a target=\"_blank\" href=https://colab.research.google.com/notebooks/data_table.ipynb>data table notebook</a>'\n",
              "            + ' to learn more about interactive tables.';\n",
              "          element.innerHTML = '';\n",
              "          dataTable['output_type'] = 'display_data';\n",
              "          await google.colab.output.renderOutput(dataTable, element);\n",
              "          const docLink = document.createElement('div');\n",
              "          docLink.innerHTML = docLinkHtml;\n",
              "          element.appendChild(docLink);\n",
              "        }\n",
              "      </script>\n",
              "    </div>\n",
              "  </div>\n",
              "  "
            ]
          },
          "metadata": {},
          "execution_count": 3
        }
      ]
    },
    {
      "cell_type": "code",
      "source": [
        "#importing the CSV file of the dataset from google drive into a dataframe\n",
        "test_eclipse_df=pd.read_csv('drive/MyDrive/Project 6308 + ICSME/Siamese/Eclipse_siamese_test_preprocessed.csv')\n",
        "test_eclipse_df"
      ],
      "metadata": {
        "colab": {
          "base_uri": "https://localhost:8080/",
          "height": 424
        },
        "id": "FKNb9p7tVkhS",
        "outputId": "6db0cb6f-5e43-420d-d061-5c5eafbe1253"
      },
      "execution_count": null,
      "outputs": [
        {
          "output_type": "execute_result",
          "data": {
            "text/plain": [
              "      Unnamed: 0                                       description1  \\\n",
              "0              0    the new meta model is adapted for new coming...   \n",
              "1              1    as of now  when a language server starts the...   \n",
              "2              2    i found an important bug regarding marketpla...   \n",
              "3              3    the method generatorconfigurationoperations ...   \n",
              "4              4    the current query test framework is incapabl...   \n",
              "...          ...                                                ...   \n",
              "8843        9465    created attachment   screenshot  bug   imple...   \n",
              "8844        9466    using eclipse         build id       the com...   \n",
              "8845        9467    see for example   tycho build   console     ...   \n",
              "8846        9468    add support to change background   foregroun...   \n",
              "8847        9469    when i copy the type name from somewhere    ...   \n",
              "\n",
              "                                           description2  is_similar  \n",
              "0       created attachment   azure vm agents config ...           0  \n",
              "1       bug   comment   by robart is spam  please de...           0  \n",
              "2       in stylemanager  remove the restriction that...           0  \n",
              "3       seems like babel doesn t provide translation...           0  \n",
              "4       in ticket    the generic rule was changed to...           0  \n",
              "...                                                 ...         ...  \n",
              "8843    the git statistics property page should not ...           0  \n",
              "8844    a tree column   created with swt center styl...           0  \n",
              "8845    when deploying an application and changing i...           0  \n",
              "8846    most packages are named  eclipse ide for    ...           0  \n",
              "8847    when one copies and pastes class names from ...           1  \n",
              "\n",
              "[8848 rows x 4 columns]"
            ],
            "text/html": [
              "\n",
              "  <div id=\"df-febd7808-a021-4dec-bd67-642edebf9932\">\n",
              "    <div class=\"colab-df-container\">\n",
              "      <div>\n",
              "<style scoped>\n",
              "    .dataframe tbody tr th:only-of-type {\n",
              "        vertical-align: middle;\n",
              "    }\n",
              "\n",
              "    .dataframe tbody tr th {\n",
              "        vertical-align: top;\n",
              "    }\n",
              "\n",
              "    .dataframe thead th {\n",
              "        text-align: right;\n",
              "    }\n",
              "</style>\n",
              "<table border=\"1\" class=\"dataframe\">\n",
              "  <thead>\n",
              "    <tr style=\"text-align: right;\">\n",
              "      <th></th>\n",
              "      <th>Unnamed: 0</th>\n",
              "      <th>description1</th>\n",
              "      <th>description2</th>\n",
              "      <th>is_similar</th>\n",
              "    </tr>\n",
              "  </thead>\n",
              "  <tbody>\n",
              "    <tr>\n",
              "      <th>0</th>\n",
              "      <td>0</td>\n",
              "      <td>the new meta model is adapted for new coming...</td>\n",
              "      <td>created attachment   azure vm agents config ...</td>\n",
              "      <td>0</td>\n",
              "    </tr>\n",
              "    <tr>\n",
              "      <th>1</th>\n",
              "      <td>1</td>\n",
              "      <td>as of now  when a language server starts the...</td>\n",
              "      <td>bug   comment   by robart is spam  please de...</td>\n",
              "      <td>0</td>\n",
              "    </tr>\n",
              "    <tr>\n",
              "      <th>2</th>\n",
              "      <td>2</td>\n",
              "      <td>i found an important bug regarding marketpla...</td>\n",
              "      <td>in stylemanager  remove the restriction that...</td>\n",
              "      <td>0</td>\n",
              "    </tr>\n",
              "    <tr>\n",
              "      <th>3</th>\n",
              "      <td>3</td>\n",
              "      <td>the method generatorconfigurationoperations ...</td>\n",
              "      <td>seems like babel doesn t provide translation...</td>\n",
              "      <td>0</td>\n",
              "    </tr>\n",
              "    <tr>\n",
              "      <th>4</th>\n",
              "      <td>4</td>\n",
              "      <td>the current query test framework is incapabl...</td>\n",
              "      <td>in ticket    the generic rule was changed to...</td>\n",
              "      <td>0</td>\n",
              "    </tr>\n",
              "    <tr>\n",
              "      <th>...</th>\n",
              "      <td>...</td>\n",
              "      <td>...</td>\n",
              "      <td>...</td>\n",
              "      <td>...</td>\n",
              "    </tr>\n",
              "    <tr>\n",
              "      <th>8843</th>\n",
              "      <td>9465</td>\n",
              "      <td>created attachment   screenshot  bug   imple...</td>\n",
              "      <td>the git statistics property page should not ...</td>\n",
              "      <td>0</td>\n",
              "    </tr>\n",
              "    <tr>\n",
              "      <th>8844</th>\n",
              "      <td>9466</td>\n",
              "      <td>using eclipse         build id       the com...</td>\n",
              "      <td>a tree column   created with swt center styl...</td>\n",
              "      <td>0</td>\n",
              "    </tr>\n",
              "    <tr>\n",
              "      <th>8845</th>\n",
              "      <td>9467</td>\n",
              "      <td>see for example   tycho build   console     ...</td>\n",
              "      <td>when deploying an application and changing i...</td>\n",
              "      <td>0</td>\n",
              "    </tr>\n",
              "    <tr>\n",
              "      <th>8846</th>\n",
              "      <td>9468</td>\n",
              "      <td>add support to change background   foregroun...</td>\n",
              "      <td>most packages are named  eclipse ide for    ...</td>\n",
              "      <td>0</td>\n",
              "    </tr>\n",
              "    <tr>\n",
              "      <th>8847</th>\n",
              "      <td>9469</td>\n",
              "      <td>when i copy the type name from somewhere    ...</td>\n",
              "      <td>when one copies and pastes class names from ...</td>\n",
              "      <td>1</td>\n",
              "    </tr>\n",
              "  </tbody>\n",
              "</table>\n",
              "<p>8848 rows × 4 columns</p>\n",
              "</div>\n",
              "      <button class=\"colab-df-convert\" onclick=\"convertToInteractive('df-febd7808-a021-4dec-bd67-642edebf9932')\"\n",
              "              title=\"Convert this dataframe to an interactive table.\"\n",
              "              style=\"display:none;\">\n",
              "        \n",
              "  <svg xmlns=\"http://www.w3.org/2000/svg\" height=\"24px\"viewBox=\"0 0 24 24\"\n",
              "       width=\"24px\">\n",
              "    <path d=\"M0 0h24v24H0V0z\" fill=\"none\"/>\n",
              "    <path d=\"M18.56 5.44l.94 2.06.94-2.06 2.06-.94-2.06-.94-.94-2.06-.94 2.06-2.06.94zm-11 1L8.5 8.5l.94-2.06 2.06-.94-2.06-.94L8.5 2.5l-.94 2.06-2.06.94zm10 10l.94 2.06.94-2.06 2.06-.94-2.06-.94-.94-2.06-.94 2.06-2.06.94z\"/><path d=\"M17.41 7.96l-1.37-1.37c-.4-.4-.92-.59-1.43-.59-.52 0-1.04.2-1.43.59L10.3 9.45l-7.72 7.72c-.78.78-.78 2.05 0 2.83L4 21.41c.39.39.9.59 1.41.59.51 0 1.02-.2 1.41-.59l7.78-7.78 2.81-2.81c.8-.78.8-2.07 0-2.86zM5.41 20L4 18.59l7.72-7.72 1.47 1.35L5.41 20z\"/>\n",
              "  </svg>\n",
              "      </button>\n",
              "      \n",
              "  <style>\n",
              "    .colab-df-container {\n",
              "      display:flex;\n",
              "      flex-wrap:wrap;\n",
              "      gap: 12px;\n",
              "    }\n",
              "\n",
              "    .colab-df-convert {\n",
              "      background-color: #E8F0FE;\n",
              "      border: none;\n",
              "      border-radius: 50%;\n",
              "      cursor: pointer;\n",
              "      display: none;\n",
              "      fill: #1967D2;\n",
              "      height: 32px;\n",
              "      padding: 0 0 0 0;\n",
              "      width: 32px;\n",
              "    }\n",
              "\n",
              "    .colab-df-convert:hover {\n",
              "      background-color: #E2EBFA;\n",
              "      box-shadow: 0px 1px 2px rgba(60, 64, 67, 0.3), 0px 1px 3px 1px rgba(60, 64, 67, 0.15);\n",
              "      fill: #174EA6;\n",
              "    }\n",
              "\n",
              "    [theme=dark] .colab-df-convert {\n",
              "      background-color: #3B4455;\n",
              "      fill: #D2E3FC;\n",
              "    }\n",
              "\n",
              "    [theme=dark] .colab-df-convert:hover {\n",
              "      background-color: #434B5C;\n",
              "      box-shadow: 0px 1px 3px 1px rgba(0, 0, 0, 0.15);\n",
              "      filter: drop-shadow(0px 1px 2px rgba(0, 0, 0, 0.3));\n",
              "      fill: #FFFFFF;\n",
              "    }\n",
              "  </style>\n",
              "\n",
              "      <script>\n",
              "        const buttonEl =\n",
              "          document.querySelector('#df-febd7808-a021-4dec-bd67-642edebf9932 button.colab-df-convert');\n",
              "        buttonEl.style.display =\n",
              "          google.colab.kernel.accessAllowed ? 'block' : 'none';\n",
              "\n",
              "        async function convertToInteractive(key) {\n",
              "          const element = document.querySelector('#df-febd7808-a021-4dec-bd67-642edebf9932');\n",
              "          const dataTable =\n",
              "            await google.colab.kernel.invokeFunction('convertToInteractive',\n",
              "                                                     [key], {});\n",
              "          if (!dataTable) return;\n",
              "\n",
              "          const docLinkHtml = 'Like what you see? Visit the ' +\n",
              "            '<a target=\"_blank\" href=https://colab.research.google.com/notebooks/data_table.ipynb>data table notebook</a>'\n",
              "            + ' to learn more about interactive tables.';\n",
              "          element.innerHTML = '';\n",
              "          dataTable['output_type'] = 'display_data';\n",
              "          await google.colab.output.renderOutput(dataTable, element);\n",
              "          const docLink = document.createElement('div');\n",
              "          docLink.innerHTML = docLinkHtml;\n",
              "          element.appendChild(docLink);\n",
              "        }\n",
              "      </script>\n",
              "    </div>\n",
              "  </div>\n",
              "  "
            ]
          },
          "metadata": {},
          "execution_count": 4
        }
      ]
    },
    {
      "cell_type": "code",
      "source": [
        "#Merge train & test\n",
        "frames = [train_eclipse_df, test_eclipse_df]\n",
        "result = pd.concat(frames)\n",
        "result = result.sample(frac=1, random_state=1).reset_index(drop=True)\n",
        "result1 = result.copy()\n",
        "dup_df= result.copy()\n",
        "dup_df"
      ],
      "metadata": {
        "colab": {
          "base_uri": "https://localhost:8080/",
          "height": 424
        },
        "id": "Q9mDbnx-YOhp",
        "outputId": "d4dd7362-0a34-40d7-c0b3-ad4de67070b7"
      },
      "execution_count": null,
      "outputs": [
        {
          "output_type": "execute_result",
          "data": {
            "text/plain": [
              "       Unnamed: 0                                       description1  \\\n",
              "0            1954    in bug   we discovered that pde does not sup...   \n",
              "1           34311    i need a mentor  please      eclipse swtchar...   \n",
              "2           13017    some advices require additional inputs  e g ...   \n",
              "3           10131    created attachment   workspace log file  ste...   \n",
              "4           27543     textdocument definition  request is expecte...   \n",
              "...           ...                                                ...   \n",
              "43338        8241    after bug   it seems unnecessary to listen t...   \n",
              "43339       34307    the data provider documentation is incomplet...   \n",
              "43340        5478    it is not uncommon to use multiple levels of...   \n",
              "43341       12835    the registered downloads are filtered by pla...   \n",
              "43342       34825    i created a custom fb type with an adapter  ...   \n",
              "\n",
              "                                            description2  is_similar  \n",
              "0        in current version    this causes orbit reci...           0  \n",
              "1        hello   checking out the basyx repository vi...           0  \n",
              "2        created attachment   ada source code and exe...           0  \n",
              "3        steps to reproduce   run the sample applicat...           0  \n",
              "4         denis we should upgrade to the new version ...           0  \n",
              "...                                                  ...         ...  \n",
              "43338    the jsonforms export should support the expo...           0  \n",
              "43339    hello webmaster   please delete branch  jona...           0  \n",
              "43340    the label  restore from local history     is...           0  \n",
              "43341    use case  user wants to download an eclipse ...           0  \n",
              "43342    the  target editor misses error markers  and...           0  \n",
              "\n",
              "[43343 rows x 4 columns]"
            ],
            "text/html": [
              "\n",
              "  <div id=\"df-acb1d143-fce4-4c45-9b84-0c16347d52f9\">\n",
              "    <div class=\"colab-df-container\">\n",
              "      <div>\n",
              "<style scoped>\n",
              "    .dataframe tbody tr th:only-of-type {\n",
              "        vertical-align: middle;\n",
              "    }\n",
              "\n",
              "    .dataframe tbody tr th {\n",
              "        vertical-align: top;\n",
              "    }\n",
              "\n",
              "    .dataframe thead th {\n",
              "        text-align: right;\n",
              "    }\n",
              "</style>\n",
              "<table border=\"1\" class=\"dataframe\">\n",
              "  <thead>\n",
              "    <tr style=\"text-align: right;\">\n",
              "      <th></th>\n",
              "      <th>Unnamed: 0</th>\n",
              "      <th>description1</th>\n",
              "      <th>description2</th>\n",
              "      <th>is_similar</th>\n",
              "    </tr>\n",
              "  </thead>\n",
              "  <tbody>\n",
              "    <tr>\n",
              "      <th>0</th>\n",
              "      <td>1954</td>\n",
              "      <td>in bug   we discovered that pde does not sup...</td>\n",
              "      <td>in current version    this causes orbit reci...</td>\n",
              "      <td>0</td>\n",
              "    </tr>\n",
              "    <tr>\n",
              "      <th>1</th>\n",
              "      <td>34311</td>\n",
              "      <td>i need a mentor  please      eclipse swtchar...</td>\n",
              "      <td>hello   checking out the basyx repository vi...</td>\n",
              "      <td>0</td>\n",
              "    </tr>\n",
              "    <tr>\n",
              "      <th>2</th>\n",
              "      <td>13017</td>\n",
              "      <td>some advices require additional inputs  e g ...</td>\n",
              "      <td>created attachment   ada source code and exe...</td>\n",
              "      <td>0</td>\n",
              "    </tr>\n",
              "    <tr>\n",
              "      <th>3</th>\n",
              "      <td>10131</td>\n",
              "      <td>created attachment   workspace log file  ste...</td>\n",
              "      <td>steps to reproduce   run the sample applicat...</td>\n",
              "      <td>0</td>\n",
              "    </tr>\n",
              "    <tr>\n",
              "      <th>4</th>\n",
              "      <td>27543</td>\n",
              "      <td>textdocument definition  request is expecte...</td>\n",
              "      <td>denis we should upgrade to the new version ...</td>\n",
              "      <td>0</td>\n",
              "    </tr>\n",
              "    <tr>\n",
              "      <th>...</th>\n",
              "      <td>...</td>\n",
              "      <td>...</td>\n",
              "      <td>...</td>\n",
              "      <td>...</td>\n",
              "    </tr>\n",
              "    <tr>\n",
              "      <th>43338</th>\n",
              "      <td>8241</td>\n",
              "      <td>after bug   it seems unnecessary to listen t...</td>\n",
              "      <td>the jsonforms export should support the expo...</td>\n",
              "      <td>0</td>\n",
              "    </tr>\n",
              "    <tr>\n",
              "      <th>43339</th>\n",
              "      <td>34307</td>\n",
              "      <td>the data provider documentation is incomplet...</td>\n",
              "      <td>hello webmaster   please delete branch  jona...</td>\n",
              "      <td>0</td>\n",
              "    </tr>\n",
              "    <tr>\n",
              "      <th>43340</th>\n",
              "      <td>5478</td>\n",
              "      <td>it is not uncommon to use multiple levels of...</td>\n",
              "      <td>the label  restore from local history     is...</td>\n",
              "      <td>0</td>\n",
              "    </tr>\n",
              "    <tr>\n",
              "      <th>43341</th>\n",
              "      <td>12835</td>\n",
              "      <td>the registered downloads are filtered by pla...</td>\n",
              "      <td>use case  user wants to download an eclipse ...</td>\n",
              "      <td>0</td>\n",
              "    </tr>\n",
              "    <tr>\n",
              "      <th>43342</th>\n",
              "      <td>34825</td>\n",
              "      <td>i created a custom fb type with an adapter  ...</td>\n",
              "      <td>the  target editor misses error markers  and...</td>\n",
              "      <td>0</td>\n",
              "    </tr>\n",
              "  </tbody>\n",
              "</table>\n",
              "<p>43343 rows × 4 columns</p>\n",
              "</div>\n",
              "      <button class=\"colab-df-convert\" onclick=\"convertToInteractive('df-acb1d143-fce4-4c45-9b84-0c16347d52f9')\"\n",
              "              title=\"Convert this dataframe to an interactive table.\"\n",
              "              style=\"display:none;\">\n",
              "        \n",
              "  <svg xmlns=\"http://www.w3.org/2000/svg\" height=\"24px\"viewBox=\"0 0 24 24\"\n",
              "       width=\"24px\">\n",
              "    <path d=\"M0 0h24v24H0V0z\" fill=\"none\"/>\n",
              "    <path d=\"M18.56 5.44l.94 2.06.94-2.06 2.06-.94-2.06-.94-.94-2.06-.94 2.06-2.06.94zm-11 1L8.5 8.5l.94-2.06 2.06-.94-2.06-.94L8.5 2.5l-.94 2.06-2.06.94zm10 10l.94 2.06.94-2.06 2.06-.94-2.06-.94-.94-2.06-.94 2.06-2.06.94z\"/><path d=\"M17.41 7.96l-1.37-1.37c-.4-.4-.92-.59-1.43-.59-.52 0-1.04.2-1.43.59L10.3 9.45l-7.72 7.72c-.78.78-.78 2.05 0 2.83L4 21.41c.39.39.9.59 1.41.59.51 0 1.02-.2 1.41-.59l7.78-7.78 2.81-2.81c.8-.78.8-2.07 0-2.86zM5.41 20L4 18.59l7.72-7.72 1.47 1.35L5.41 20z\"/>\n",
              "  </svg>\n",
              "      </button>\n",
              "      \n",
              "  <style>\n",
              "    .colab-df-container {\n",
              "      display:flex;\n",
              "      flex-wrap:wrap;\n",
              "      gap: 12px;\n",
              "    }\n",
              "\n",
              "    .colab-df-convert {\n",
              "      background-color: #E8F0FE;\n",
              "      border: none;\n",
              "      border-radius: 50%;\n",
              "      cursor: pointer;\n",
              "      display: none;\n",
              "      fill: #1967D2;\n",
              "      height: 32px;\n",
              "      padding: 0 0 0 0;\n",
              "      width: 32px;\n",
              "    }\n",
              "\n",
              "    .colab-df-convert:hover {\n",
              "      background-color: #E2EBFA;\n",
              "      box-shadow: 0px 1px 2px rgba(60, 64, 67, 0.3), 0px 1px 3px 1px rgba(60, 64, 67, 0.15);\n",
              "      fill: #174EA6;\n",
              "    }\n",
              "\n",
              "    [theme=dark] .colab-df-convert {\n",
              "      background-color: #3B4455;\n",
              "      fill: #D2E3FC;\n",
              "    }\n",
              "\n",
              "    [theme=dark] .colab-df-convert:hover {\n",
              "      background-color: #434B5C;\n",
              "      box-shadow: 0px 1px 3px 1px rgba(0, 0, 0, 0.15);\n",
              "      filter: drop-shadow(0px 1px 2px rgba(0, 0, 0, 0.3));\n",
              "      fill: #FFFFFF;\n",
              "    }\n",
              "  </style>\n",
              "\n",
              "      <script>\n",
              "        const buttonEl =\n",
              "          document.querySelector('#df-acb1d143-fce4-4c45-9b84-0c16347d52f9 button.colab-df-convert');\n",
              "        buttonEl.style.display =\n",
              "          google.colab.kernel.accessAllowed ? 'block' : 'none';\n",
              "\n",
              "        async function convertToInteractive(key) {\n",
              "          const element = document.querySelector('#df-acb1d143-fce4-4c45-9b84-0c16347d52f9');\n",
              "          const dataTable =\n",
              "            await google.colab.kernel.invokeFunction('convertToInteractive',\n",
              "                                                     [key], {});\n",
              "          if (!dataTable) return;\n",
              "\n",
              "          const docLinkHtml = 'Like what you see? Visit the ' +\n",
              "            '<a target=\"_blank\" href=https://colab.research.google.com/notebooks/data_table.ipynb>data table notebook</a>'\n",
              "            + ' to learn more about interactive tables.';\n",
              "          element.innerHTML = '';\n",
              "          dataTable['output_type'] = 'display_data';\n",
              "          await google.colab.output.renderOutput(dataTable, element);\n",
              "          const docLink = document.createElement('div');\n",
              "          docLink.innerHTML = docLinkHtml;\n",
              "          element.appendChild(docLink);\n",
              "        }\n",
              "      </script>\n",
              "    </div>\n",
              "  </div>\n",
              "  "
            ]
          },
          "metadata": {},
          "execution_count": 5
        }
      ]
    },
    {
      "cell_type": "code",
      "source": [
        "FEATURES = ['description1', 'description2']\n",
        "print('Description of length of the feature columns')\n",
        "dup_df[FEATURES].apply(lambda col: col.str.len().describe())"
      ],
      "metadata": {
        "colab": {
          "base_uri": "https://localhost:8080/",
          "height": 318
        },
        "id": "iUe8hMYBY31i",
        "outputId": "80719896-6517-4d84-a907-a460b6277a74"
      },
      "execution_count": null,
      "outputs": [
        {
          "output_type": "stream",
          "name": "stdout",
          "text": [
            "Description of length of the feature columns\n"
          ]
        },
        {
          "output_type": "execute_result",
          "data": {
            "text/plain": [
              "       description1  description2\n",
              "count  43343.000000  43343.000000\n",
              "mean     859.045498    914.414969\n",
              "std     2150.363951   2395.067752\n",
              "min       50.000000     50.000000\n",
              "25%      185.000000    188.000000\n",
              "50%      359.000000    371.000000\n",
              "75%      740.000000    782.000000\n",
              "max    94030.000000  94030.000000"
            ],
            "text/html": [
              "\n",
              "  <div id=\"df-a9baca28-b202-422c-8721-79e9f7aec1a8\">\n",
              "    <div class=\"colab-df-container\">\n",
              "      <div>\n",
              "<style scoped>\n",
              "    .dataframe tbody tr th:only-of-type {\n",
              "        vertical-align: middle;\n",
              "    }\n",
              "\n",
              "    .dataframe tbody tr th {\n",
              "        vertical-align: top;\n",
              "    }\n",
              "\n",
              "    .dataframe thead th {\n",
              "        text-align: right;\n",
              "    }\n",
              "</style>\n",
              "<table border=\"1\" class=\"dataframe\">\n",
              "  <thead>\n",
              "    <tr style=\"text-align: right;\">\n",
              "      <th></th>\n",
              "      <th>description1</th>\n",
              "      <th>description2</th>\n",
              "    </tr>\n",
              "  </thead>\n",
              "  <tbody>\n",
              "    <tr>\n",
              "      <th>count</th>\n",
              "      <td>43343.000000</td>\n",
              "      <td>43343.000000</td>\n",
              "    </tr>\n",
              "    <tr>\n",
              "      <th>mean</th>\n",
              "      <td>859.045498</td>\n",
              "      <td>914.414969</td>\n",
              "    </tr>\n",
              "    <tr>\n",
              "      <th>std</th>\n",
              "      <td>2150.363951</td>\n",
              "      <td>2395.067752</td>\n",
              "    </tr>\n",
              "    <tr>\n",
              "      <th>min</th>\n",
              "      <td>50.000000</td>\n",
              "      <td>50.000000</td>\n",
              "    </tr>\n",
              "    <tr>\n",
              "      <th>25%</th>\n",
              "      <td>185.000000</td>\n",
              "      <td>188.000000</td>\n",
              "    </tr>\n",
              "    <tr>\n",
              "      <th>50%</th>\n",
              "      <td>359.000000</td>\n",
              "      <td>371.000000</td>\n",
              "    </tr>\n",
              "    <tr>\n",
              "      <th>75%</th>\n",
              "      <td>740.000000</td>\n",
              "      <td>782.000000</td>\n",
              "    </tr>\n",
              "    <tr>\n",
              "      <th>max</th>\n",
              "      <td>94030.000000</td>\n",
              "      <td>94030.000000</td>\n",
              "    </tr>\n",
              "  </tbody>\n",
              "</table>\n",
              "</div>\n",
              "      <button class=\"colab-df-convert\" onclick=\"convertToInteractive('df-a9baca28-b202-422c-8721-79e9f7aec1a8')\"\n",
              "              title=\"Convert this dataframe to an interactive table.\"\n",
              "              style=\"display:none;\">\n",
              "        \n",
              "  <svg xmlns=\"http://www.w3.org/2000/svg\" height=\"24px\"viewBox=\"0 0 24 24\"\n",
              "       width=\"24px\">\n",
              "    <path d=\"M0 0h24v24H0V0z\" fill=\"none\"/>\n",
              "    <path d=\"M18.56 5.44l.94 2.06.94-2.06 2.06-.94-2.06-.94-.94-2.06-.94 2.06-2.06.94zm-11 1L8.5 8.5l.94-2.06 2.06-.94-2.06-.94L8.5 2.5l-.94 2.06-2.06.94zm10 10l.94 2.06.94-2.06 2.06-.94-2.06-.94-.94-2.06-.94 2.06-2.06.94z\"/><path d=\"M17.41 7.96l-1.37-1.37c-.4-.4-.92-.59-1.43-.59-.52 0-1.04.2-1.43.59L10.3 9.45l-7.72 7.72c-.78.78-.78 2.05 0 2.83L4 21.41c.39.39.9.59 1.41.59.51 0 1.02-.2 1.41-.59l7.78-7.78 2.81-2.81c.8-.78.8-2.07 0-2.86zM5.41 20L4 18.59l7.72-7.72 1.47 1.35L5.41 20z\"/>\n",
              "  </svg>\n",
              "      </button>\n",
              "      \n",
              "  <style>\n",
              "    .colab-df-container {\n",
              "      display:flex;\n",
              "      flex-wrap:wrap;\n",
              "      gap: 12px;\n",
              "    }\n",
              "\n",
              "    .colab-df-convert {\n",
              "      background-color: #E8F0FE;\n",
              "      border: none;\n",
              "      border-radius: 50%;\n",
              "      cursor: pointer;\n",
              "      display: none;\n",
              "      fill: #1967D2;\n",
              "      height: 32px;\n",
              "      padding: 0 0 0 0;\n",
              "      width: 32px;\n",
              "    }\n",
              "\n",
              "    .colab-df-convert:hover {\n",
              "      background-color: #E2EBFA;\n",
              "      box-shadow: 0px 1px 2px rgba(60, 64, 67, 0.3), 0px 1px 3px 1px rgba(60, 64, 67, 0.15);\n",
              "      fill: #174EA6;\n",
              "    }\n",
              "\n",
              "    [theme=dark] .colab-df-convert {\n",
              "      background-color: #3B4455;\n",
              "      fill: #D2E3FC;\n",
              "    }\n",
              "\n",
              "    [theme=dark] .colab-df-convert:hover {\n",
              "      background-color: #434B5C;\n",
              "      box-shadow: 0px 1px 3px 1px rgba(0, 0, 0, 0.15);\n",
              "      filter: drop-shadow(0px 1px 2px rgba(0, 0, 0, 0.3));\n",
              "      fill: #FFFFFF;\n",
              "    }\n",
              "  </style>\n",
              "\n",
              "      <script>\n",
              "        const buttonEl =\n",
              "          document.querySelector('#df-a9baca28-b202-422c-8721-79e9f7aec1a8 button.colab-df-convert');\n",
              "        buttonEl.style.display =\n",
              "          google.colab.kernel.accessAllowed ? 'block' : 'none';\n",
              "\n",
              "        async function convertToInteractive(key) {\n",
              "          const element = document.querySelector('#df-a9baca28-b202-422c-8721-79e9f7aec1a8');\n",
              "          const dataTable =\n",
              "            await google.colab.kernel.invokeFunction('convertToInteractive',\n",
              "                                                     [key], {});\n",
              "          if (!dataTable) return;\n",
              "\n",
              "          const docLinkHtml = 'Like what you see? Visit the ' +\n",
              "            '<a target=\"_blank\" href=https://colab.research.google.com/notebooks/data_table.ipynb>data table notebook</a>'\n",
              "            + ' to learn more about interactive tables.';\n",
              "          element.innerHTML = '';\n",
              "          dataTable['output_type'] = 'display_data';\n",
              "          await google.colab.output.renderOutput(dataTable, element);\n",
              "          const docLink = document.createElement('div');\n",
              "          docLink.innerHTML = docLinkHtml;\n",
              "          element.appendChild(docLink);\n",
              "        }\n",
              "      </script>\n",
              "    </div>\n",
              "  </div>\n",
              "  "
            ]
          },
          "metadata": {},
          "execution_count": 6
        }
      ]
    },
    {
      "cell_type": "markdown",
      "source": [
        "## Train, Validation, Test Split"
      ],
      "metadata": {
        "id": "PAV0wX2jxSWJ"
      }
    },
    {
      "cell_type": "code",
      "source": [
        "from sklearn.model_selection import train_test_split\n",
        "import random\n",
        "import sklearn"
      ],
      "metadata": {
        "id": "ydZiq_CqxTVw"
      },
      "execution_count": null,
      "outputs": []
    },
    {
      "cell_type": "code",
      "source": [
        "train_val_df = train_eclipse_df.copy()\n",
        "train_val_df"
      ],
      "metadata": {
        "colab": {
          "base_uri": "https://localhost:8080/",
          "height": 424
        },
        "id": "xAlQ7mFiVvax",
        "outputId": "6b703e70-1d37-4275-d6f3-2849a037412c"
      },
      "execution_count": null,
      "outputs": [
        {
          "output_type": "execute_result",
          "data": {
            "text/plain": [
              "       Unnamed: 0                                       description1  \\\n",
              "0               0    investigate changes required for jep    maco...   \n",
              "1               2    oshi allows to access hard disk info  let s ...   \n",
              "2               3    details of this problem have been discussed ...   \n",
              "3               4    created attachment   example  hello  can you...   \n",
              "4               5    rename module path container from  module so...   \n",
              "...           ...                                                ...   \n",
              "34490       36402    if a miner fails for some reason  now it is ...   \n",
              "34491       36403    created attachment   unsolved imports   upgr...   \n",
              "34492       36404    in the coming days weeks we will migrate the...   \n",
              "34493       36405    the view model editor should provide proper ...   \n",
              "34494       36406    hi   we have some issues regarding the gitla...   \n",
              "\n",
              "                                            description2  is_similar  \n",
              "0        older api has limitations   that require ugl...           0  \n",
              "1        created attachment   screenshot     set maco...           0  \n",
              "2        originally from    method signature selectio...           1  \n",
              "3        partontopmanager uses  eventtopic instead of...           0  \n",
              "4        created attachment   workspace log  i have a...           0  \n",
              "...                                                  ...         ...  \n",
              "34490    i install oprofile plugin of eclipse on linu...           0  \n",
              "34491    expected result  record r  implements i but ...           0  \n",
              "34492    consider the following code  public sealed c...           0  \n",
              "34493     terminate all  does only terminate one proc...           0  \n",
              "34494    tbh  i never understood why oomph has an adv...           0  \n",
              "\n",
              "[34495 rows x 4 columns]"
            ],
            "text/html": [
              "\n",
              "  <div id=\"df-14a488de-3610-4c1b-b07b-72d691a5d524\">\n",
              "    <div class=\"colab-df-container\">\n",
              "      <div>\n",
              "<style scoped>\n",
              "    .dataframe tbody tr th:only-of-type {\n",
              "        vertical-align: middle;\n",
              "    }\n",
              "\n",
              "    .dataframe tbody tr th {\n",
              "        vertical-align: top;\n",
              "    }\n",
              "\n",
              "    .dataframe thead th {\n",
              "        text-align: right;\n",
              "    }\n",
              "</style>\n",
              "<table border=\"1\" class=\"dataframe\">\n",
              "  <thead>\n",
              "    <tr style=\"text-align: right;\">\n",
              "      <th></th>\n",
              "      <th>Unnamed: 0</th>\n",
              "      <th>description1</th>\n",
              "      <th>description2</th>\n",
              "      <th>is_similar</th>\n",
              "    </tr>\n",
              "  </thead>\n",
              "  <tbody>\n",
              "    <tr>\n",
              "      <th>0</th>\n",
              "      <td>0</td>\n",
              "      <td>investigate changes required for jep    maco...</td>\n",
              "      <td>older api has limitations   that require ugl...</td>\n",
              "      <td>0</td>\n",
              "    </tr>\n",
              "    <tr>\n",
              "      <th>1</th>\n",
              "      <td>2</td>\n",
              "      <td>oshi allows to access hard disk info  let s ...</td>\n",
              "      <td>created attachment   screenshot     set maco...</td>\n",
              "      <td>0</td>\n",
              "    </tr>\n",
              "    <tr>\n",
              "      <th>2</th>\n",
              "      <td>3</td>\n",
              "      <td>details of this problem have been discussed ...</td>\n",
              "      <td>originally from    method signature selectio...</td>\n",
              "      <td>1</td>\n",
              "    </tr>\n",
              "    <tr>\n",
              "      <th>3</th>\n",
              "      <td>4</td>\n",
              "      <td>created attachment   example  hello  can you...</td>\n",
              "      <td>partontopmanager uses  eventtopic instead of...</td>\n",
              "      <td>0</td>\n",
              "    </tr>\n",
              "    <tr>\n",
              "      <th>4</th>\n",
              "      <td>5</td>\n",
              "      <td>rename module path container from  module so...</td>\n",
              "      <td>created attachment   workspace log  i have a...</td>\n",
              "      <td>0</td>\n",
              "    </tr>\n",
              "    <tr>\n",
              "      <th>...</th>\n",
              "      <td>...</td>\n",
              "      <td>...</td>\n",
              "      <td>...</td>\n",
              "      <td>...</td>\n",
              "    </tr>\n",
              "    <tr>\n",
              "      <th>34490</th>\n",
              "      <td>36402</td>\n",
              "      <td>if a miner fails for some reason  now it is ...</td>\n",
              "      <td>i install oprofile plugin of eclipse on linu...</td>\n",
              "      <td>0</td>\n",
              "    </tr>\n",
              "    <tr>\n",
              "      <th>34491</th>\n",
              "      <td>36403</td>\n",
              "      <td>created attachment   unsolved imports   upgr...</td>\n",
              "      <td>expected result  record r  implements i but ...</td>\n",
              "      <td>0</td>\n",
              "    </tr>\n",
              "    <tr>\n",
              "      <th>34492</th>\n",
              "      <td>36404</td>\n",
              "      <td>in the coming days weeks we will migrate the...</td>\n",
              "      <td>consider the following code  public sealed c...</td>\n",
              "      <td>0</td>\n",
              "    </tr>\n",
              "    <tr>\n",
              "      <th>34493</th>\n",
              "      <td>36405</td>\n",
              "      <td>the view model editor should provide proper ...</td>\n",
              "      <td>terminate all  does only terminate one proc...</td>\n",
              "      <td>0</td>\n",
              "    </tr>\n",
              "    <tr>\n",
              "      <th>34494</th>\n",
              "      <td>36406</td>\n",
              "      <td>hi   we have some issues regarding the gitla...</td>\n",
              "      <td>tbh  i never understood why oomph has an adv...</td>\n",
              "      <td>0</td>\n",
              "    </tr>\n",
              "  </tbody>\n",
              "</table>\n",
              "<p>34495 rows × 4 columns</p>\n",
              "</div>\n",
              "      <button class=\"colab-df-convert\" onclick=\"convertToInteractive('df-14a488de-3610-4c1b-b07b-72d691a5d524')\"\n",
              "              title=\"Convert this dataframe to an interactive table.\"\n",
              "              style=\"display:none;\">\n",
              "        \n",
              "  <svg xmlns=\"http://www.w3.org/2000/svg\" height=\"24px\"viewBox=\"0 0 24 24\"\n",
              "       width=\"24px\">\n",
              "    <path d=\"M0 0h24v24H0V0z\" fill=\"none\"/>\n",
              "    <path d=\"M18.56 5.44l.94 2.06.94-2.06 2.06-.94-2.06-.94-.94-2.06-.94 2.06-2.06.94zm-11 1L8.5 8.5l.94-2.06 2.06-.94-2.06-.94L8.5 2.5l-.94 2.06-2.06.94zm10 10l.94 2.06.94-2.06 2.06-.94-2.06-.94-.94-2.06-.94 2.06-2.06.94z\"/><path d=\"M17.41 7.96l-1.37-1.37c-.4-.4-.92-.59-1.43-.59-.52 0-1.04.2-1.43.59L10.3 9.45l-7.72 7.72c-.78.78-.78 2.05 0 2.83L4 21.41c.39.39.9.59 1.41.59.51 0 1.02-.2 1.41-.59l7.78-7.78 2.81-2.81c.8-.78.8-2.07 0-2.86zM5.41 20L4 18.59l7.72-7.72 1.47 1.35L5.41 20z\"/>\n",
              "  </svg>\n",
              "      </button>\n",
              "      \n",
              "  <style>\n",
              "    .colab-df-container {\n",
              "      display:flex;\n",
              "      flex-wrap:wrap;\n",
              "      gap: 12px;\n",
              "    }\n",
              "\n",
              "    .colab-df-convert {\n",
              "      background-color: #E8F0FE;\n",
              "      border: none;\n",
              "      border-radius: 50%;\n",
              "      cursor: pointer;\n",
              "      display: none;\n",
              "      fill: #1967D2;\n",
              "      height: 32px;\n",
              "      padding: 0 0 0 0;\n",
              "      width: 32px;\n",
              "    }\n",
              "\n",
              "    .colab-df-convert:hover {\n",
              "      background-color: #E2EBFA;\n",
              "      box-shadow: 0px 1px 2px rgba(60, 64, 67, 0.3), 0px 1px 3px 1px rgba(60, 64, 67, 0.15);\n",
              "      fill: #174EA6;\n",
              "    }\n",
              "\n",
              "    [theme=dark] .colab-df-convert {\n",
              "      background-color: #3B4455;\n",
              "      fill: #D2E3FC;\n",
              "    }\n",
              "\n",
              "    [theme=dark] .colab-df-convert:hover {\n",
              "      background-color: #434B5C;\n",
              "      box-shadow: 0px 1px 3px 1px rgba(0, 0, 0, 0.15);\n",
              "      filter: drop-shadow(0px 1px 2px rgba(0, 0, 0, 0.3));\n",
              "      fill: #FFFFFF;\n",
              "    }\n",
              "  </style>\n",
              "\n",
              "      <script>\n",
              "        const buttonEl =\n",
              "          document.querySelector('#df-14a488de-3610-4c1b-b07b-72d691a5d524 button.colab-df-convert');\n",
              "        buttonEl.style.display =\n",
              "          google.colab.kernel.accessAllowed ? 'block' : 'none';\n",
              "\n",
              "        async function convertToInteractive(key) {\n",
              "          const element = document.querySelector('#df-14a488de-3610-4c1b-b07b-72d691a5d524');\n",
              "          const dataTable =\n",
              "            await google.colab.kernel.invokeFunction('convertToInteractive',\n",
              "                                                     [key], {});\n",
              "          if (!dataTable) return;\n",
              "\n",
              "          const docLinkHtml = 'Like what you see? Visit the ' +\n",
              "            '<a target=\"_blank\" href=https://colab.research.google.com/notebooks/data_table.ipynb>data table notebook</a>'\n",
              "            + ' to learn more about interactive tables.';\n",
              "          element.innerHTML = '';\n",
              "          dataTable['output_type'] = 'display_data';\n",
              "          await google.colab.output.renderOutput(dataTable, element);\n",
              "          const docLink = document.createElement('div');\n",
              "          docLink.innerHTML = docLinkHtml;\n",
              "          element.appendChild(docLink);\n",
              "        }\n",
              "      </script>\n",
              "    </div>\n",
              "  </div>\n",
              "  "
            ]
          },
          "metadata": {},
          "execution_count": 8
        }
      ]
    },
    {
      "cell_type": "code",
      "source": [
        " test_df = test_eclipse_df.copy()\n",
        " test_df"
      ],
      "metadata": {
        "id": "FjyZNriwxU8E",
        "colab": {
          "base_uri": "https://localhost:8080/",
          "height": 424
        },
        "outputId": "bb5cd78e-71f8-4988-c35b-00908a630ee0"
      },
      "execution_count": null,
      "outputs": [
        {
          "output_type": "execute_result",
          "data": {
            "text/plain": [
              "      Unnamed: 0                                       description1  \\\n",
              "0              0    the new meta model is adapted for new coming...   \n",
              "1              1    as of now  when a language server starts the...   \n",
              "2              2    i found an important bug regarding marketpla...   \n",
              "3              3    the method generatorconfigurationoperations ...   \n",
              "4              4    the current query test framework is incapabl...   \n",
              "...          ...                                                ...   \n",
              "8843        9465    created attachment   screenshot  bug   imple...   \n",
              "8844        9466    using eclipse         build id       the com...   \n",
              "8845        9467    see for example   tycho build   console     ...   \n",
              "8846        9468    add support to change background   foregroun...   \n",
              "8847        9469    when i copy the type name from somewhere    ...   \n",
              "\n",
              "                                           description2  is_similar  \n",
              "0       created attachment   azure vm agents config ...           0  \n",
              "1       bug   comment   by robart is spam  please de...           0  \n",
              "2       in stylemanager  remove the restriction that...           0  \n",
              "3       seems like babel doesn t provide translation...           0  \n",
              "4       in ticket    the generic rule was changed to...           0  \n",
              "...                                                 ...         ...  \n",
              "8843    the git statistics property page should not ...           0  \n",
              "8844    a tree column   created with swt center styl...           0  \n",
              "8845    when deploying an application and changing i...           0  \n",
              "8846    most packages are named  eclipse ide for    ...           0  \n",
              "8847    when one copies and pastes class names from ...           1  \n",
              "\n",
              "[8848 rows x 4 columns]"
            ],
            "text/html": [
              "\n",
              "  <div id=\"df-d3f5ead9-7c1c-444c-bfc0-16a5f26f045f\">\n",
              "    <div class=\"colab-df-container\">\n",
              "      <div>\n",
              "<style scoped>\n",
              "    .dataframe tbody tr th:only-of-type {\n",
              "        vertical-align: middle;\n",
              "    }\n",
              "\n",
              "    .dataframe tbody tr th {\n",
              "        vertical-align: top;\n",
              "    }\n",
              "\n",
              "    .dataframe thead th {\n",
              "        text-align: right;\n",
              "    }\n",
              "</style>\n",
              "<table border=\"1\" class=\"dataframe\">\n",
              "  <thead>\n",
              "    <tr style=\"text-align: right;\">\n",
              "      <th></th>\n",
              "      <th>Unnamed: 0</th>\n",
              "      <th>description1</th>\n",
              "      <th>description2</th>\n",
              "      <th>is_similar</th>\n",
              "    </tr>\n",
              "  </thead>\n",
              "  <tbody>\n",
              "    <tr>\n",
              "      <th>0</th>\n",
              "      <td>0</td>\n",
              "      <td>the new meta model is adapted for new coming...</td>\n",
              "      <td>created attachment   azure vm agents config ...</td>\n",
              "      <td>0</td>\n",
              "    </tr>\n",
              "    <tr>\n",
              "      <th>1</th>\n",
              "      <td>1</td>\n",
              "      <td>as of now  when a language server starts the...</td>\n",
              "      <td>bug   comment   by robart is spam  please de...</td>\n",
              "      <td>0</td>\n",
              "    </tr>\n",
              "    <tr>\n",
              "      <th>2</th>\n",
              "      <td>2</td>\n",
              "      <td>i found an important bug regarding marketpla...</td>\n",
              "      <td>in stylemanager  remove the restriction that...</td>\n",
              "      <td>0</td>\n",
              "    </tr>\n",
              "    <tr>\n",
              "      <th>3</th>\n",
              "      <td>3</td>\n",
              "      <td>the method generatorconfigurationoperations ...</td>\n",
              "      <td>seems like babel doesn t provide translation...</td>\n",
              "      <td>0</td>\n",
              "    </tr>\n",
              "    <tr>\n",
              "      <th>4</th>\n",
              "      <td>4</td>\n",
              "      <td>the current query test framework is incapabl...</td>\n",
              "      <td>in ticket    the generic rule was changed to...</td>\n",
              "      <td>0</td>\n",
              "    </tr>\n",
              "    <tr>\n",
              "      <th>...</th>\n",
              "      <td>...</td>\n",
              "      <td>...</td>\n",
              "      <td>...</td>\n",
              "      <td>...</td>\n",
              "    </tr>\n",
              "    <tr>\n",
              "      <th>8843</th>\n",
              "      <td>9465</td>\n",
              "      <td>created attachment   screenshot  bug   imple...</td>\n",
              "      <td>the git statistics property page should not ...</td>\n",
              "      <td>0</td>\n",
              "    </tr>\n",
              "    <tr>\n",
              "      <th>8844</th>\n",
              "      <td>9466</td>\n",
              "      <td>using eclipse         build id       the com...</td>\n",
              "      <td>a tree column   created with swt center styl...</td>\n",
              "      <td>0</td>\n",
              "    </tr>\n",
              "    <tr>\n",
              "      <th>8845</th>\n",
              "      <td>9467</td>\n",
              "      <td>see for example   tycho build   console     ...</td>\n",
              "      <td>when deploying an application and changing i...</td>\n",
              "      <td>0</td>\n",
              "    </tr>\n",
              "    <tr>\n",
              "      <th>8846</th>\n",
              "      <td>9468</td>\n",
              "      <td>add support to change background   foregroun...</td>\n",
              "      <td>most packages are named  eclipse ide for    ...</td>\n",
              "      <td>0</td>\n",
              "    </tr>\n",
              "    <tr>\n",
              "      <th>8847</th>\n",
              "      <td>9469</td>\n",
              "      <td>when i copy the type name from somewhere    ...</td>\n",
              "      <td>when one copies and pastes class names from ...</td>\n",
              "      <td>1</td>\n",
              "    </tr>\n",
              "  </tbody>\n",
              "</table>\n",
              "<p>8848 rows × 4 columns</p>\n",
              "</div>\n",
              "      <button class=\"colab-df-convert\" onclick=\"convertToInteractive('df-d3f5ead9-7c1c-444c-bfc0-16a5f26f045f')\"\n",
              "              title=\"Convert this dataframe to an interactive table.\"\n",
              "              style=\"display:none;\">\n",
              "        \n",
              "  <svg xmlns=\"http://www.w3.org/2000/svg\" height=\"24px\"viewBox=\"0 0 24 24\"\n",
              "       width=\"24px\">\n",
              "    <path d=\"M0 0h24v24H0V0z\" fill=\"none\"/>\n",
              "    <path d=\"M18.56 5.44l.94 2.06.94-2.06 2.06-.94-2.06-.94-.94-2.06-.94 2.06-2.06.94zm-11 1L8.5 8.5l.94-2.06 2.06-.94-2.06-.94L8.5 2.5l-.94 2.06-2.06.94zm10 10l.94 2.06.94-2.06 2.06-.94-2.06-.94-.94-2.06-.94 2.06-2.06.94z\"/><path d=\"M17.41 7.96l-1.37-1.37c-.4-.4-.92-.59-1.43-.59-.52 0-1.04.2-1.43.59L10.3 9.45l-7.72 7.72c-.78.78-.78 2.05 0 2.83L4 21.41c.39.39.9.59 1.41.59.51 0 1.02-.2 1.41-.59l7.78-7.78 2.81-2.81c.8-.78.8-2.07 0-2.86zM5.41 20L4 18.59l7.72-7.72 1.47 1.35L5.41 20z\"/>\n",
              "  </svg>\n",
              "      </button>\n",
              "      \n",
              "  <style>\n",
              "    .colab-df-container {\n",
              "      display:flex;\n",
              "      flex-wrap:wrap;\n",
              "      gap: 12px;\n",
              "    }\n",
              "\n",
              "    .colab-df-convert {\n",
              "      background-color: #E8F0FE;\n",
              "      border: none;\n",
              "      border-radius: 50%;\n",
              "      cursor: pointer;\n",
              "      display: none;\n",
              "      fill: #1967D2;\n",
              "      height: 32px;\n",
              "      padding: 0 0 0 0;\n",
              "      width: 32px;\n",
              "    }\n",
              "\n",
              "    .colab-df-convert:hover {\n",
              "      background-color: #E2EBFA;\n",
              "      box-shadow: 0px 1px 2px rgba(60, 64, 67, 0.3), 0px 1px 3px 1px rgba(60, 64, 67, 0.15);\n",
              "      fill: #174EA6;\n",
              "    }\n",
              "\n",
              "    [theme=dark] .colab-df-convert {\n",
              "      background-color: #3B4455;\n",
              "      fill: #D2E3FC;\n",
              "    }\n",
              "\n",
              "    [theme=dark] .colab-df-convert:hover {\n",
              "      background-color: #434B5C;\n",
              "      box-shadow: 0px 1px 3px 1px rgba(0, 0, 0, 0.15);\n",
              "      filter: drop-shadow(0px 1px 2px rgba(0, 0, 0, 0.3));\n",
              "      fill: #FFFFFF;\n",
              "    }\n",
              "  </style>\n",
              "\n",
              "      <script>\n",
              "        const buttonEl =\n",
              "          document.querySelector('#df-d3f5ead9-7c1c-444c-bfc0-16a5f26f045f button.colab-df-convert');\n",
              "        buttonEl.style.display =\n",
              "          google.colab.kernel.accessAllowed ? 'block' : 'none';\n",
              "\n",
              "        async function convertToInteractive(key) {\n",
              "          const element = document.querySelector('#df-d3f5ead9-7c1c-444c-bfc0-16a5f26f045f');\n",
              "          const dataTable =\n",
              "            await google.colab.kernel.invokeFunction('convertToInteractive',\n",
              "                                                     [key], {});\n",
              "          if (!dataTable) return;\n",
              "\n",
              "          const docLinkHtml = 'Like what you see? Visit the ' +\n",
              "            '<a target=\"_blank\" href=https://colab.research.google.com/notebooks/data_table.ipynb>data table notebook</a>'\n",
              "            + ' to learn more about interactive tables.';\n",
              "          element.innerHTML = '';\n",
              "          dataTable['output_type'] = 'display_data';\n",
              "          await google.colab.output.renderOutput(dataTable, element);\n",
              "          const docLink = document.createElement('div');\n",
              "          docLink.innerHTML = docLinkHtml;\n",
              "          element.appendChild(docLink);\n",
              "        }\n",
              "      </script>\n",
              "    </div>\n",
              "  </div>\n",
              "  "
            ]
          },
          "metadata": {},
          "execution_count": 9
        }
      ]
    },
    {
      "cell_type": "code",
      "source": [
        "train_df, val_df = train_test_split(\n",
        "  train_val_df,\n",
        "  test_size=0.2,\n",
        "  stratify=train_val_df.is_similar,\n",
        "  random_state=13,\n",
        ")"
      ],
      "metadata": {
        "id": "n4RGc4NYxX3S"
      },
      "execution_count": null,
      "outputs": []
    },
    {
      "cell_type": "code",
      "source": [
        "train_df"
      ],
      "metadata": {
        "colab": {
          "base_uri": "https://localhost:8080/",
          "height": 424
        },
        "id": "eRuiK2VDWWX6",
        "outputId": "e593b5b6-55bd-40a0-a006-372c5de3d8d4"
      },
      "execution_count": null,
      "outputs": [
        {
          "output_type": "execute_result",
          "data": {
            "text/plain": [
              "       Unnamed: 0                                       description1  \\\n",
              "33970       35858    a number of times today i attempted to push ...   \n",
              "22051       23259    the download location for the three     ecli...   \n",
              "27042       28531    on windows    korean locale the defaultwebbr...   \n",
              "31184       32901    here is a convoluted issue when trying to bu...   \n",
              "13394       14101    ei creation inside interface in idb cdb diag...   \n",
              "...           ...                                                ...   \n",
              "20006       21103    this bug is for the following commit    xy g...   \n",
              "27573       29095    the message err too many redirects is alread...   \n",
              "3635         3837    to track issues for the capella modes states...   \n",
              "17642       18612    fix a problem in run task phase  chart gener...   \n",
              "25237       26620    recently i receive always a e mail  reportin...   \n",
              "\n",
              "                                            description2  is_similar  \n",
              "33970    signing service is down as can be seen at   ...           0  \n",
              "22051    when trying to open the target platfrom pref...           0  \n",
              "27042    for the following code  see outline view    ...           0  \n",
              "31184    we have various compiler warnings in e g    ...           0  \n",
              "13394    since yesterday the workspace has   build pa...           0  \n",
              "...                                                  ...         ...  \n",
              "20006    hello team   we would like to configure the ...           0  \n",
              "27573    some tests are failing due to diagram openin...           0  \n",
              "3635     currently openmdm   uses   to quote strings ...           0  \n",
              "17642    the following features show up in the build ...           0  \n",
              "25237    another round of dead code removal motivated...           0  \n",
              "\n",
              "[27596 rows x 4 columns]"
            ],
            "text/html": [
              "\n",
              "  <div id=\"df-248a53bd-e213-4ffb-b375-fb9982a915af\">\n",
              "    <div class=\"colab-df-container\">\n",
              "      <div>\n",
              "<style scoped>\n",
              "    .dataframe tbody tr th:only-of-type {\n",
              "        vertical-align: middle;\n",
              "    }\n",
              "\n",
              "    .dataframe tbody tr th {\n",
              "        vertical-align: top;\n",
              "    }\n",
              "\n",
              "    .dataframe thead th {\n",
              "        text-align: right;\n",
              "    }\n",
              "</style>\n",
              "<table border=\"1\" class=\"dataframe\">\n",
              "  <thead>\n",
              "    <tr style=\"text-align: right;\">\n",
              "      <th></th>\n",
              "      <th>Unnamed: 0</th>\n",
              "      <th>description1</th>\n",
              "      <th>description2</th>\n",
              "      <th>is_similar</th>\n",
              "    </tr>\n",
              "  </thead>\n",
              "  <tbody>\n",
              "    <tr>\n",
              "      <th>33970</th>\n",
              "      <td>35858</td>\n",
              "      <td>a number of times today i attempted to push ...</td>\n",
              "      <td>signing service is down as can be seen at   ...</td>\n",
              "      <td>0</td>\n",
              "    </tr>\n",
              "    <tr>\n",
              "      <th>22051</th>\n",
              "      <td>23259</td>\n",
              "      <td>the download location for the three     ecli...</td>\n",
              "      <td>when trying to open the target platfrom pref...</td>\n",
              "      <td>0</td>\n",
              "    </tr>\n",
              "    <tr>\n",
              "      <th>27042</th>\n",
              "      <td>28531</td>\n",
              "      <td>on windows    korean locale the defaultwebbr...</td>\n",
              "      <td>for the following code  see outline view    ...</td>\n",
              "      <td>0</td>\n",
              "    </tr>\n",
              "    <tr>\n",
              "      <th>31184</th>\n",
              "      <td>32901</td>\n",
              "      <td>here is a convoluted issue when trying to bu...</td>\n",
              "      <td>we have various compiler warnings in e g    ...</td>\n",
              "      <td>0</td>\n",
              "    </tr>\n",
              "    <tr>\n",
              "      <th>13394</th>\n",
              "      <td>14101</td>\n",
              "      <td>ei creation inside interface in idb cdb diag...</td>\n",
              "      <td>since yesterday the workspace has   build pa...</td>\n",
              "      <td>0</td>\n",
              "    </tr>\n",
              "    <tr>\n",
              "      <th>...</th>\n",
              "      <td>...</td>\n",
              "      <td>...</td>\n",
              "      <td>...</td>\n",
              "      <td>...</td>\n",
              "    </tr>\n",
              "    <tr>\n",
              "      <th>20006</th>\n",
              "      <td>21103</td>\n",
              "      <td>this bug is for the following commit    xy g...</td>\n",
              "      <td>hello team   we would like to configure the ...</td>\n",
              "      <td>0</td>\n",
              "    </tr>\n",
              "    <tr>\n",
              "      <th>27573</th>\n",
              "      <td>29095</td>\n",
              "      <td>the message err too many redirects is alread...</td>\n",
              "      <td>some tests are failing due to diagram openin...</td>\n",
              "      <td>0</td>\n",
              "    </tr>\n",
              "    <tr>\n",
              "      <th>3635</th>\n",
              "      <td>3837</td>\n",
              "      <td>to track issues for the capella modes states...</td>\n",
              "      <td>currently openmdm   uses   to quote strings ...</td>\n",
              "      <td>0</td>\n",
              "    </tr>\n",
              "    <tr>\n",
              "      <th>17642</th>\n",
              "      <td>18612</td>\n",
              "      <td>fix a problem in run task phase  chart gener...</td>\n",
              "      <td>the following features show up in the build ...</td>\n",
              "      <td>0</td>\n",
              "    </tr>\n",
              "    <tr>\n",
              "      <th>25237</th>\n",
              "      <td>26620</td>\n",
              "      <td>recently i receive always a e mail  reportin...</td>\n",
              "      <td>another round of dead code removal motivated...</td>\n",
              "      <td>0</td>\n",
              "    </tr>\n",
              "  </tbody>\n",
              "</table>\n",
              "<p>27596 rows × 4 columns</p>\n",
              "</div>\n",
              "      <button class=\"colab-df-convert\" onclick=\"convertToInteractive('df-248a53bd-e213-4ffb-b375-fb9982a915af')\"\n",
              "              title=\"Convert this dataframe to an interactive table.\"\n",
              "              style=\"display:none;\">\n",
              "        \n",
              "  <svg xmlns=\"http://www.w3.org/2000/svg\" height=\"24px\"viewBox=\"0 0 24 24\"\n",
              "       width=\"24px\">\n",
              "    <path d=\"M0 0h24v24H0V0z\" fill=\"none\"/>\n",
              "    <path d=\"M18.56 5.44l.94 2.06.94-2.06 2.06-.94-2.06-.94-.94-2.06-.94 2.06-2.06.94zm-11 1L8.5 8.5l.94-2.06 2.06-.94-2.06-.94L8.5 2.5l-.94 2.06-2.06.94zm10 10l.94 2.06.94-2.06 2.06-.94-2.06-.94-.94-2.06-.94 2.06-2.06.94z\"/><path d=\"M17.41 7.96l-1.37-1.37c-.4-.4-.92-.59-1.43-.59-.52 0-1.04.2-1.43.59L10.3 9.45l-7.72 7.72c-.78.78-.78 2.05 0 2.83L4 21.41c.39.39.9.59 1.41.59.51 0 1.02-.2 1.41-.59l7.78-7.78 2.81-2.81c.8-.78.8-2.07 0-2.86zM5.41 20L4 18.59l7.72-7.72 1.47 1.35L5.41 20z\"/>\n",
              "  </svg>\n",
              "      </button>\n",
              "      \n",
              "  <style>\n",
              "    .colab-df-container {\n",
              "      display:flex;\n",
              "      flex-wrap:wrap;\n",
              "      gap: 12px;\n",
              "    }\n",
              "\n",
              "    .colab-df-convert {\n",
              "      background-color: #E8F0FE;\n",
              "      border: none;\n",
              "      border-radius: 50%;\n",
              "      cursor: pointer;\n",
              "      display: none;\n",
              "      fill: #1967D2;\n",
              "      height: 32px;\n",
              "      padding: 0 0 0 0;\n",
              "      width: 32px;\n",
              "    }\n",
              "\n",
              "    .colab-df-convert:hover {\n",
              "      background-color: #E2EBFA;\n",
              "      box-shadow: 0px 1px 2px rgba(60, 64, 67, 0.3), 0px 1px 3px 1px rgba(60, 64, 67, 0.15);\n",
              "      fill: #174EA6;\n",
              "    }\n",
              "\n",
              "    [theme=dark] .colab-df-convert {\n",
              "      background-color: #3B4455;\n",
              "      fill: #D2E3FC;\n",
              "    }\n",
              "\n",
              "    [theme=dark] .colab-df-convert:hover {\n",
              "      background-color: #434B5C;\n",
              "      box-shadow: 0px 1px 3px 1px rgba(0, 0, 0, 0.15);\n",
              "      filter: drop-shadow(0px 1px 2px rgba(0, 0, 0, 0.3));\n",
              "      fill: #FFFFFF;\n",
              "    }\n",
              "  </style>\n",
              "\n",
              "      <script>\n",
              "        const buttonEl =\n",
              "          document.querySelector('#df-248a53bd-e213-4ffb-b375-fb9982a915af button.colab-df-convert');\n",
              "        buttonEl.style.display =\n",
              "          google.colab.kernel.accessAllowed ? 'block' : 'none';\n",
              "\n",
              "        async function convertToInteractive(key) {\n",
              "          const element = document.querySelector('#df-248a53bd-e213-4ffb-b375-fb9982a915af');\n",
              "          const dataTable =\n",
              "            await google.colab.kernel.invokeFunction('convertToInteractive',\n",
              "                                                     [key], {});\n",
              "          if (!dataTable) return;\n",
              "\n",
              "          const docLinkHtml = 'Like what you see? Visit the ' +\n",
              "            '<a target=\"_blank\" href=https://colab.research.google.com/notebooks/data_table.ipynb>data table notebook</a>'\n",
              "            + ' to learn more about interactive tables.';\n",
              "          element.innerHTML = '';\n",
              "          dataTable['output_type'] = 'display_data';\n",
              "          await google.colab.output.renderOutput(dataTable, element);\n",
              "          const docLink = document.createElement('div');\n",
              "          docLink.innerHTML = docLinkHtml;\n",
              "          element.appendChild(docLink);\n",
              "        }\n",
              "      </script>\n",
              "    </div>\n",
              "  </div>\n",
              "  "
            ]
          },
          "metadata": {},
          "execution_count": 61
        }
      ]
    },
    {
      "cell_type": "code",
      "source": [
        "len(val_df[val_df.is_similar.astype('bool')]) / len(val_df)"
      ],
      "metadata": {
        "colab": {
          "base_uri": "https://localhost:8080/"
        },
        "id": "Bp32fHa1WX25",
        "outputId": "15f56e03-9dd0-4b11-b38e-952227159fa3"
      },
      "execution_count": null,
      "outputs": [
        {
          "output_type": "execute_result",
          "data": {
            "text/plain": [
              "0.06899550659515871"
            ]
          },
          "metadata": {},
          "execution_count": 62
        }
      ]
    },
    {
      "cell_type": "code",
      "source": [
        "from collections import Counter\n",
        "from sklearn.datasets import make_classification\n",
        "from imblearn.over_sampling import RandomOverSampler "
      ],
      "metadata": {
        "id": "Z3xEKKzbrOBH"
      },
      "execution_count": null,
      "outputs": []
    },
    {
      "cell_type": "code",
      "source": [
        "label= train_df.is_similar\n",
        "type(label)"
      ],
      "metadata": {
        "colab": {
          "base_uri": "https://localhost:8080/"
        },
        "id": "R5lkIlJktBOZ",
        "outputId": "2bcc391a-b4b2-4932-93c4-a06993c5f91c"
      },
      "execution_count": null,
      "outputs": [
        {
          "output_type": "execute_result",
          "data": {
            "text/plain": [
              "pandas.core.series.Series"
            ]
          },
          "metadata": {},
          "execution_count": 64
        }
      ]
    },
    {
      "cell_type": "code",
      "source": [
        "type(train_df)"
      ],
      "metadata": {
        "colab": {
          "base_uri": "https://localhost:8080/"
        },
        "id": "ZRQM7bqGtYXM",
        "outputId": "2850780d-9964-40d9-fc50-57a88099e51e"
      },
      "execution_count": null,
      "outputs": [
        {
          "output_type": "execute_result",
          "data": {
            "text/plain": [
              "pandas.core.frame.DataFrame"
            ]
          },
          "metadata": {},
          "execution_count": 65
        }
      ]
    },
    {
      "cell_type": "code",
      "source": [
        "sm = RandomOverSampler(random_state=42)\n",
        "X_res, y_res = sm.fit_resample(X=train_df[['description1', 'description2']], y=train_df.is_similar)"
      ],
      "metadata": {
        "id": "OKcRHII3sYKG"
      },
      "execution_count": null,
      "outputs": []
    },
    {
      "cell_type": "code",
      "source": [
        "train_df = X_res.copy()\n",
        "train_df['is_similar'] = y_res\n",
        "train_df = train_df.sample(frac=1)"
      ],
      "metadata": {
        "id": "rY2pAwvAuD4T"
      },
      "execution_count": null,
      "outputs": []
    },
    {
      "cell_type": "code",
      "source": [
        "train_df"
      ],
      "metadata": {
        "colab": {
          "base_uri": "https://localhost:8080/",
          "height": 424
        },
        "id": "0iZG2QuMuKNT",
        "outputId": "12d8a968-c9f9-462d-c703-09c9c1fd82d8"
      },
      "execution_count": null,
      "outputs": [
        {
          "output_type": "execute_result",
          "data": {
            "text/plain": [
              "                                            description1  \\\n",
              "8341     in the coming days we will migrate the triqu...   \n",
              "34149    the membership fee will change from being st...   \n",
              "30487         in my master workspace   i had the type...   \n",
              "8801     as an application developer i would like to ...   \n",
              "39014    eclipse java ee ide for web developers  vers...   \n",
              "...                                                  ...   \n",
              "46903    just saw this error in the error log  i m us...   \n",
              "9175     tried to test hte build with codeedit widget...   \n",
              "16460     new png  icon which is used in platform tip...   \n",
              "32973    created attachment   screenshot showing text...   \n",
              "42758    add maven package to list of pre defined goa...   \n",
              "\n",
              "                                            description2  is_similar  \n",
              "8341     dual faced ports can discard messages of a c...           0  \n",
              "34149    let s use this bug to discuss changes to   p...           1  \n",
              "30487    eclipse freeze when invoking type hierarchy ...           1  \n",
              "8801     when generating xhtml  some html pages are n...           0  \n",
              "39014    yesterday and today when i want to update my...           1  \n",
              "...                                                  ...         ...  \n",
              "46903    as bug title says  i ve closed workbench wit...           1  \n",
              "9175     created attachment   log file  i get the bel...           0  \n",
              "16460    please add ibm jdk   into jenkins environmen...           0  \n",
              "32973    this is a gtk issue being tracked at       t...           1  \n",
              "42758    build identifier       right clicking the pr...           1  \n",
              "\n",
              "[51386 rows x 3 columns]"
            ],
            "text/html": [
              "\n",
              "  <div id=\"df-10f96c4f-fa56-426a-bf93-50378e700d26\">\n",
              "    <div class=\"colab-df-container\">\n",
              "      <div>\n",
              "<style scoped>\n",
              "    .dataframe tbody tr th:only-of-type {\n",
              "        vertical-align: middle;\n",
              "    }\n",
              "\n",
              "    .dataframe tbody tr th {\n",
              "        vertical-align: top;\n",
              "    }\n",
              "\n",
              "    .dataframe thead th {\n",
              "        text-align: right;\n",
              "    }\n",
              "</style>\n",
              "<table border=\"1\" class=\"dataframe\">\n",
              "  <thead>\n",
              "    <tr style=\"text-align: right;\">\n",
              "      <th></th>\n",
              "      <th>description1</th>\n",
              "      <th>description2</th>\n",
              "      <th>is_similar</th>\n",
              "    </tr>\n",
              "  </thead>\n",
              "  <tbody>\n",
              "    <tr>\n",
              "      <th>8341</th>\n",
              "      <td>in the coming days we will migrate the triqu...</td>\n",
              "      <td>dual faced ports can discard messages of a c...</td>\n",
              "      <td>0</td>\n",
              "    </tr>\n",
              "    <tr>\n",
              "      <th>34149</th>\n",
              "      <td>the membership fee will change from being st...</td>\n",
              "      <td>let s use this bug to discuss changes to   p...</td>\n",
              "      <td>1</td>\n",
              "    </tr>\n",
              "    <tr>\n",
              "      <th>30487</th>\n",
              "      <td>in my master workspace   i had the type...</td>\n",
              "      <td>eclipse freeze when invoking type hierarchy ...</td>\n",
              "      <td>1</td>\n",
              "    </tr>\n",
              "    <tr>\n",
              "      <th>8801</th>\n",
              "      <td>as an application developer i would like to ...</td>\n",
              "      <td>when generating xhtml  some html pages are n...</td>\n",
              "      <td>0</td>\n",
              "    </tr>\n",
              "    <tr>\n",
              "      <th>39014</th>\n",
              "      <td>eclipse java ee ide for web developers  vers...</td>\n",
              "      <td>yesterday and today when i want to update my...</td>\n",
              "      <td>1</td>\n",
              "    </tr>\n",
              "    <tr>\n",
              "      <th>...</th>\n",
              "      <td>...</td>\n",
              "      <td>...</td>\n",
              "      <td>...</td>\n",
              "    </tr>\n",
              "    <tr>\n",
              "      <th>46903</th>\n",
              "      <td>just saw this error in the error log  i m us...</td>\n",
              "      <td>as bug title says  i ve closed workbench wit...</td>\n",
              "      <td>1</td>\n",
              "    </tr>\n",
              "    <tr>\n",
              "      <th>9175</th>\n",
              "      <td>tried to test hte build with codeedit widget...</td>\n",
              "      <td>created attachment   log file  i get the bel...</td>\n",
              "      <td>0</td>\n",
              "    </tr>\n",
              "    <tr>\n",
              "      <th>16460</th>\n",
              "      <td>new png  icon which is used in platform tip...</td>\n",
              "      <td>please add ibm jdk   into jenkins environmen...</td>\n",
              "      <td>0</td>\n",
              "    </tr>\n",
              "    <tr>\n",
              "      <th>32973</th>\n",
              "      <td>created attachment   screenshot showing text...</td>\n",
              "      <td>this is a gtk issue being tracked at       t...</td>\n",
              "      <td>1</td>\n",
              "    </tr>\n",
              "    <tr>\n",
              "      <th>42758</th>\n",
              "      <td>add maven package to list of pre defined goa...</td>\n",
              "      <td>build identifier       right clicking the pr...</td>\n",
              "      <td>1</td>\n",
              "    </tr>\n",
              "  </tbody>\n",
              "</table>\n",
              "<p>51386 rows × 3 columns</p>\n",
              "</div>\n",
              "      <button class=\"colab-df-convert\" onclick=\"convertToInteractive('df-10f96c4f-fa56-426a-bf93-50378e700d26')\"\n",
              "              title=\"Convert this dataframe to an interactive table.\"\n",
              "              style=\"display:none;\">\n",
              "        \n",
              "  <svg xmlns=\"http://www.w3.org/2000/svg\" height=\"24px\"viewBox=\"0 0 24 24\"\n",
              "       width=\"24px\">\n",
              "    <path d=\"M0 0h24v24H0V0z\" fill=\"none\"/>\n",
              "    <path d=\"M18.56 5.44l.94 2.06.94-2.06 2.06-.94-2.06-.94-.94-2.06-.94 2.06-2.06.94zm-11 1L8.5 8.5l.94-2.06 2.06-.94-2.06-.94L8.5 2.5l-.94 2.06-2.06.94zm10 10l.94 2.06.94-2.06 2.06-.94-2.06-.94-.94-2.06-.94 2.06-2.06.94z\"/><path d=\"M17.41 7.96l-1.37-1.37c-.4-.4-.92-.59-1.43-.59-.52 0-1.04.2-1.43.59L10.3 9.45l-7.72 7.72c-.78.78-.78 2.05 0 2.83L4 21.41c.39.39.9.59 1.41.59.51 0 1.02-.2 1.41-.59l7.78-7.78 2.81-2.81c.8-.78.8-2.07 0-2.86zM5.41 20L4 18.59l7.72-7.72 1.47 1.35L5.41 20z\"/>\n",
              "  </svg>\n",
              "      </button>\n",
              "      \n",
              "  <style>\n",
              "    .colab-df-container {\n",
              "      display:flex;\n",
              "      flex-wrap:wrap;\n",
              "      gap: 12px;\n",
              "    }\n",
              "\n",
              "    .colab-df-convert {\n",
              "      background-color: #E8F0FE;\n",
              "      border: none;\n",
              "      border-radius: 50%;\n",
              "      cursor: pointer;\n",
              "      display: none;\n",
              "      fill: #1967D2;\n",
              "      height: 32px;\n",
              "      padding: 0 0 0 0;\n",
              "      width: 32px;\n",
              "    }\n",
              "\n",
              "    .colab-df-convert:hover {\n",
              "      background-color: #E2EBFA;\n",
              "      box-shadow: 0px 1px 2px rgba(60, 64, 67, 0.3), 0px 1px 3px 1px rgba(60, 64, 67, 0.15);\n",
              "      fill: #174EA6;\n",
              "    }\n",
              "\n",
              "    [theme=dark] .colab-df-convert {\n",
              "      background-color: #3B4455;\n",
              "      fill: #D2E3FC;\n",
              "    }\n",
              "\n",
              "    [theme=dark] .colab-df-convert:hover {\n",
              "      background-color: #434B5C;\n",
              "      box-shadow: 0px 1px 3px 1px rgba(0, 0, 0, 0.15);\n",
              "      filter: drop-shadow(0px 1px 2px rgba(0, 0, 0, 0.3));\n",
              "      fill: #FFFFFF;\n",
              "    }\n",
              "  </style>\n",
              "\n",
              "      <script>\n",
              "        const buttonEl =\n",
              "          document.querySelector('#df-10f96c4f-fa56-426a-bf93-50378e700d26 button.colab-df-convert');\n",
              "        buttonEl.style.display =\n",
              "          google.colab.kernel.accessAllowed ? 'block' : 'none';\n",
              "\n",
              "        async function convertToInteractive(key) {\n",
              "          const element = document.querySelector('#df-10f96c4f-fa56-426a-bf93-50378e700d26');\n",
              "          const dataTable =\n",
              "            await google.colab.kernel.invokeFunction('convertToInteractive',\n",
              "                                                     [key], {});\n",
              "          if (!dataTable) return;\n",
              "\n",
              "          const docLinkHtml = 'Like what you see? Visit the ' +\n",
              "            '<a target=\"_blank\" href=https://colab.research.google.com/notebooks/data_table.ipynb>data table notebook</a>'\n",
              "            + ' to learn more about interactive tables.';\n",
              "          element.innerHTML = '';\n",
              "          dataTable['output_type'] = 'display_data';\n",
              "          await google.colab.output.renderOutput(dataTable, element);\n",
              "          const docLink = document.createElement('div');\n",
              "          docLink.innerHTML = docLinkHtml;\n",
              "          element.appendChild(docLink);\n",
              "        }\n",
              "      </script>\n",
              "    </div>\n",
              "  </div>\n",
              "  "
            ]
          },
          "metadata": {},
          "execution_count": 90
        }
      ]
    },
    {
      "cell_type": "code",
      "source": [
        "len(train_df[train_df.is_similar.astype('bool')]) / len(train_df)"
      ],
      "metadata": {
        "colab": {
          "base_uri": "https://localhost:8080/"
        },
        "id": "yWcRdmZXuNt_",
        "outputId": "ad671bcd-fd43-48be-9cf8-3b8d70318b2a"
      },
      "execution_count": null,
      "outputs": [
        {
          "output_type": "execute_result",
          "data": {
            "text/plain": [
              "0.5"
            ]
          },
          "metadata": {},
          "execution_count": 91
        }
      ]
    },
    {
      "cell_type": "code",
      "source": [
        "print(f'Train Val Test Size: {len(train_df):,} {len(val_df):,} {len(test_df):,}')"
      ],
      "metadata": {
        "colab": {
          "base_uri": "https://localhost:8080/"
        },
        "id": "bRlsFfTExl6w",
        "outputId": "634a9f2c-b793-48e1-ac3b-568b01fb381d"
      },
      "execution_count": null,
      "outputs": [
        {
          "output_type": "stream",
          "name": "stdout",
          "text": [
            "Train Val Test Size: 51,386 6,899 8,848\n"
          ]
        }
      ]
    },
    {
      "cell_type": "markdown",
      "source": [
        "## Download & Prepare Embedding"
      ],
      "metadata": {
        "id": "QWklXbxt0AfP"
      }
    },
    {
      "cell_type": "code",
      "source": [
        "import os\n",
        "os.environ['CUDA_VISIBLE_DEVICES'] = '-1'\n",
        "\n",
        "import tensorflow as tf\n",
        "import tensorflow.keras.utils as kutils\n",
        "from keras.layers.preprocessing.text_vectorization import TextVectorization"
      ],
      "metadata": {
        "id": "6gm-gZy60BSn"
      },
      "execution_count": null,
      "outputs": []
    },
    {
      "cell_type": "markdown",
      "source": [
        "## create vocabulary index"
      ],
      "metadata": {
        "id": "0twgBVfbrJeH"
      }
    },
    {
      "cell_type": "code",
      "source": [
        "from typing import List"
      ],
      "metadata": {
        "id": "pikhDBmarXVg"
      },
      "execution_count": null,
      "outputs": []
    },
    {
      "cell_type": "code",
      "source": [
        "MAX_TOKENS = 20000\n",
        "MAX_TITLE_LENGTH = 21\n",
        "MAX_DESCRIPTION_LENGTH = 1000\n",
        "EMBEDDING_DIM = 100"
      ],
      "metadata": {
        "id": "cItkSImjrL-p"
      },
      "execution_count": null,
      "outputs": []
    },
    {
      "cell_type": "code",
      "source": [
        "def build_vocab(sentences: List[str], sequence_length: int):\n",
        "  vectorizer = TextVectorization(\n",
        "    max_tokens=MAX_TOKENS - 2,\n",
        "    output_sequence_length=sequence_length,\n",
        "  )\n",
        "  vectorizer.adapt(sentences)\n",
        "  vocab = vectorizer.get_vocabulary()\n",
        "  word_index = dict(zip(vocab, range(len(vocab))))\n",
        "\n",
        "  return vectorizer, word_index"
      ],
      "metadata": {
        "id": "GQqko955rNdW"
      },
      "execution_count": null,
      "outputs": []
    },
    {
      "cell_type": "code",
      "source": [
        "descr_vectorizer, descr_word_index = build_vocab(\n",
        "  [dup_df.description1, dup_df.description2],\n",
        "  MAX_DESCRIPTION_LENGTH,\n",
        ")\n",
        "\n",
        "print(\n",
        "  'Most frequent description words:',\n",
        "  list(itertools.islice(descr_word_index.keys(), 5)),\n",
        ")"
      ],
      "metadata": {
        "colab": {
          "base_uri": "https://localhost:8080/"
        },
        "id": "VlWPcs0ArPg-",
        "outputId": "807385ad-d7d9-40d1-db57-43671b7f3f9f"
      },
      "execution_count": null,
      "outputs": [
        {
          "output_type": "stream",
          "name": "stdout",
          "text": [
            "Most frequent description words: ['', '[UNK]', 'eclipse', 'org', 'at']\n"
          ]
        }
      ]
    },
    {
      "cell_type": "code",
      "source": [
        "len(descr_word_index)"
      ],
      "metadata": {
        "colab": {
          "base_uri": "https://localhost:8080/"
        },
        "id": "fN9dVuZymy-O",
        "outputId": "6ebd7eb9-6d5d-4d32-a98c-4d968d469879"
      },
      "execution_count": null,
      "outputs": [
        {
          "output_type": "execute_result",
          "data": {
            "text/plain": [
              "19998"
            ]
          },
          "metadata": {},
          "execution_count": 98
        }
      ]
    },
    {
      "cell_type": "markdown",
      "source": [
        "## Prepare Training Data"
      ],
      "metadata": {
        "id": "LiVmA9BquIfW"
      }
    },
    {
      "cell_type": "code",
      "source": [
        "def generate_batches(\n",
        "  split_df: pd.DataFrame,\n",
        "  batch_size=1024,\n",
        "):\n",
        "  steps_per_epoch = len(split_df) // batch_size\n",
        "  while True:\n",
        "    for i in range(steps_per_epoch):\n",
        "      offset = i * batch_size\n",
        "      till = offset + batch_size\n",
        "      feature_batches = []\n",
        "      for feature in FEATURES:\n",
        "        vectorizer = descr_vectorizer\n",
        "        feature_batch = vectorizer(\n",
        "          split_df[feature][offset: till].to_numpy().reshape((-1, 1))\n",
        "        ).numpy()\n",
        "        feature_batches.append(feature_batch)\n",
        "\n",
        "\n",
        "      target_batch = split_df.is_similar[offset: till].to_numpy()\n",
        "      yield (\n",
        "        feature_batches,\n",
        "        target_batch,\n",
        "      )"
      ],
      "metadata": {
        "id": "S0Rfq90VuJSt"
      },
      "execution_count": null,
      "outputs": []
    },
    {
      "cell_type": "markdown",
      "source": [
        "## Create Models"
      ],
      "metadata": {
        "id": "0RmhmXHOuOum"
      }
    },
    {
      "cell_type": "code",
      "source": [
        "from tensorflow.keras import layers\n",
        "from tensorflow.keras import models\n",
        "from tensorflow.keras import callbacks\n",
        "from keras.initializers.initializers_v2 import Constant"
      ],
      "metadata": {
        "id": "4cfVI21muPqw"
      },
      "execution_count": null,
      "outputs": []
    },
    {
      "cell_type": "code",
      "source": [
        "DescrEmbeddingLayer = layers.Embedding(\n",
        "  input_dim=MAX_TOKENS,\n",
        "  output_dim=EMBEDDING_DIM,\n",
        "  name='DescrEmbeddingLayer',\n",
        ")\n",
        "\n",
        "def make_descr_layer(num, kernel_size=3, pool_size=2, strides=None):\n",
        "  DescrConv1dLayer = layers.Conv1D(\n",
        "    filters=32,\n",
        "    kernel_size=kernel_size,\n",
        "    activation='relu',\n",
        "    name=f'DescrConv1dLayer{num}',\n",
        "  )\n",
        "  DescrMaxPool1dLayer = layers.MaxPool1D(\n",
        "    pool_size=pool_size,\n",
        "    strides=strides,\n",
        "    name=f'DescrMaxPool1dLayer{num}',\n",
        "  )\n",
        "  return DescrConv1dLayer, DescrMaxPool1dLayer\n",
        "\n",
        "DescrConv1dLayer1, DescrMaxPool1dLayer1 = make_descr_layer(1, pool_size=4)\n",
        "DescrConv1dLayer2, DescrMaxPool1dLayer2 = make_descr_layer(2)"
      ],
      "metadata": {
        "id": "iD1j962RuSTs"
      },
      "execution_count": null,
      "outputs": []
    },
    {
      "cell_type": "code",
      "source": [
        "def create_siamese_component(num: int):\n",
        "  class SiameseComponent:\n",
        "    def __init__(self, title: layers.Input, description: layers.Input, output: layers.Concatenate):\n",
        "      self.title = title\n",
        "      self.description = description\n",
        "      self.output = output\n",
        "\n",
        "  title_input = layers.Input(shape=(None,), dtype='int32', name=f'title{num}_input')\n",
        "\n",
        "  descr_input = layers.Input(shape=(None,), name=f'descr{num}_input')\n",
        "  descr_embedding_layer = DescrEmbeddingLayer(descr_input)\n",
        "  descr_conv1d1 = DescrConv1dLayer1(descr_embedding_layer)\n",
        "  descr_max_pool1d1 = DescrMaxPool1dLayer1(descr_conv1d1)\n",
        "  descr_conv1d2 = DescrConv1dLayer2(descr_max_pool1d1)\n",
        "  descr_max_pool1d2 = DescrMaxPool1dLayer2(descr_conv1d2)\n",
        "  # descr_conv1d3 = DescrConv1dLayer3(descr_max_pool1d2)\n",
        "  # descr_max_pool1d3 = DescrMaxPool1dLayer3(descr_conv1d3)\n",
        "  descr_flat_Layer = layers.Flatten(name=f'FlatDescr{num}')(descr_max_pool1d2)\n",
        "  \n",
        "  concat = layers.Concatenate(axis=1, name=f'Concat{num}')([descr_flat_Layer])\n",
        "  return SiameseComponent(title_input, descr_input, concat)\n",
        "\n",
        "\n",
        "component1 = create_siamese_component(1)\n",
        "component2 = create_siamese_component(2)\n",
        "\n",
        "dot_product_layer = layers.Dot(\n",
        "  axes=1,\n",
        "  name='dot_product_layer'\n",
        ")([component1.output, component2.output])\n",
        "output = layers.Dense(\n",
        "  1, activation='sigmoid', name='output',\n",
        ")(dot_product_layer)\n",
        "siamese_model = models.Model(\n",
        "  inputs=[component1.description, component2.description],\n",
        "  outputs=output,\n",
        "  name='siamese_model'\n",
        ")\n",
        "\n",
        "kutils.plot_model(siamese_model)"
      ],
      "metadata": {
        "colab": {
          "base_uri": "https://localhost:8080/",
          "height": 953
        },
        "id": "hKaKSfpwuWrU",
        "outputId": "76b23867-1e1a-40dd-ce78-d406a48a2684"
      },
      "execution_count": null,
      "outputs": [
        {
          "output_type": "execute_result",
          "data": {
            "text/plain": [
              "<IPython.core.display.Image object>"
            ],
            "image/png": "[encoded data removed]"
          },
          "metadata": {},
          "execution_count": 102
        }
      ]
    },
    {
      "cell_type": "markdown",
      "source": [
        "## Train"
      ],
      "metadata": {
        "id": "BrWZRqkJwBtt"
      }
    },
    {
      "cell_type": "code",
      "source": [
        "BATCH_SIZE = 2048\n",
        "\n",
        "siamese_model.compile(\n",
        "  loss='binary_crossentropy',\n",
        "  optimizer='adam',\n",
        "  metrics=['acc'],\n",
        ")\n",
        "callback = callbacks.ModelCheckpoint(\n",
        "    filepath=f'../../drive/MyDrive/Project 6308 + ICSME/Siamese'\n",
        "             '.epoch-{epoch:02d}-loss-{val_loss:.3f}.hdf5',\n",
        "    monitor='val_loss',\n",
        "    verbose=0,\n",
        "    save_best_only=True,\n",
        "    mode='min',\n",
        ")"
      ],
      "metadata": {
        "id": "rBJFNAONwD_X"
      },
      "execution_count": null,
      "outputs": []
    },
    {
      "cell_type": "code",
      "source": [
        "history = siamese_model.fit(\n",
        "  generate_batches(train_df, BATCH_SIZE),\n",
        "  steps_per_epoch=len(train_df) // BATCH_SIZE,\n",
        "  epochs=30,\n",
        "  validation_data=generate_batches(val_df, BATCH_SIZE),\n",
        "  validation_steps=len(val_df) // BATCH_SIZE,\n",
        "  verbose=1,\n",
        "  # callbacks= [callback]\n",
        ")"
      ],
      "metadata": {
        "colab": {
          "base_uri": "https://localhost:8080/"
        },
        "id": "D5omz3YiwJIs",
        "outputId": "6cafd332-4930-4a29-b7be-985ae5869ac0"
      },
      "execution_count": null,
      "outputs": [
        {
          "output_type": "stream",
          "name": "stdout",
          "text": [
            "Epoch 1/30\n",
            "25/25 [==============================] - 312s 12s/step - loss: 0.7212 - acc: 0.5095 - val_loss: 0.6412 - val_acc: 0.9168\n",
            "Epoch 2/30\n",
            "25/25 [==============================] - 311s 12s/step - loss: 0.6893 - acc: 0.5269 - val_loss: 0.6292 - val_acc: 0.9183\n",
            "Epoch 3/30\n",
            "25/25 [==============================] - 304s 12s/step - loss: 0.6874 - acc: 0.5307 - val_loss: 0.6215 - val_acc: 0.9225\n",
            "Epoch 4/30\n",
            "25/25 [==============================] - 313s 13s/step - loss: 0.6826 - acc: 0.5332 - val_loss: 0.6020 - val_acc: 0.9253\n",
            "Epoch 5/30\n",
            "25/25 [==============================] - 308s 12s/step - loss: 0.6662 - acc: 0.5305 - val_loss: 0.5576 - val_acc: 0.9303\n",
            "Epoch 6/30\n",
            "25/25 [==============================] - 310s 12s/step - loss: 0.5826 - acc: 0.6703 - val_loss: 0.4602 - val_acc: 0.8509\n",
            "Epoch 7/30\n",
            "25/25 [==============================] - 305s 12s/step - loss: 0.4530 - acc: 0.8374 - val_loss: 0.7207 - val_acc: 0.8711\n",
            "Epoch 8/30\n",
            "25/25 [==============================] - 313s 12s/step - loss: 0.3766 - acc: 0.9302 - val_loss: 1.3174 - val_acc: 0.8813\n",
            "Epoch 9/30\n",
            "25/25 [==============================] - 308s 12s/step - loss: 0.3400 - acc: 0.9628 - val_loss: 1.9562 - val_acc: 0.8828\n",
            "Epoch 10/30\n",
            "25/25 [==============================] - 310s 12s/step - loss: 0.3187 - acc: 0.9718 - val_loss: 2.5790 - val_acc: 0.8857\n",
            "Epoch 11/30\n",
            "25/25 [==============================] - 307s 12s/step - loss: 0.3028 - acc: 0.9767 - val_loss: 3.1127 - val_acc: 0.8882\n",
            "Epoch 12/30\n",
            "25/25 [==============================] - 318s 13s/step - loss: 0.2913 - acc: 0.9793 - val_loss: 3.5951 - val_acc: 0.8893\n",
            "Epoch 13/30\n",
            "25/25 [==============================] - 315s 13s/step - loss: 0.2817 - acc: 0.9809 - val_loss: 3.9818 - val_acc: 0.8908\n",
            "Epoch 14/30\n",
            "25/25 [==============================] - 312s 12s/step - loss: 0.2737 - acc: 0.9817 - val_loss: 4.2740 - val_acc: 0.8905\n",
            "Epoch 15/30\n",
            "25/25 [==============================] - 315s 13s/step - loss: 0.2666 - acc: 0.9827 - val_loss: 4.5803 - val_acc: 0.8906\n",
            "Epoch 16/30\n",
            "25/25 [==============================] - 308s 12s/step - loss: 0.2600 - acc: 0.9831 - val_loss: 4.8595 - val_acc: 0.8900\n",
            "Epoch 17/30\n",
            "25/25 [==============================] - 313s 13s/step - loss: 0.2539 - acc: 0.9838 - val_loss: 5.0558 - val_acc: 0.8911\n",
            "Epoch 18/30\n",
            "25/25 [==============================] - 308s 12s/step - loss: 0.2483 - acc: 0.9843 - val_loss: 5.2305 - val_acc: 0.8901\n",
            "Epoch 19/30\n",
            "25/25 [==============================] - 312s 12s/step - loss: 0.2432 - acc: 0.9845 - val_loss: 5.4548 - val_acc: 0.8898\n",
            "Epoch 20/30\n",
            "25/25 [==============================] - 307s 12s/step - loss: 0.2382 - acc: 0.9847 - val_loss: 5.6629 - val_acc: 0.8896\n",
            "Epoch 21/30\n",
            "25/25 [==============================] - 316s 13s/step - loss: 0.2332 - acc: 0.9850 - val_loss: 5.8739 - val_acc: 0.8906\n",
            "Epoch 22/30\n",
            "25/25 [==============================] - 310s 12s/step - loss: 0.2286 - acc: 0.9853 - val_loss: 5.8756 - val_acc: 0.8898\n",
            "Epoch 23/30\n",
            "25/25 [==============================] - 317s 13s/step - loss: 0.2242 - acc: 0.9855 - val_loss: 6.0016 - val_acc: 0.8896\n",
            "Epoch 24/30\n",
            "25/25 [==============================] - 310s 12s/step - loss: 0.2201 - acc: 0.9857 - val_loss: 6.1809 - val_acc: 0.8910\n",
            "Epoch 25/30\n",
            "25/25 [==============================] - 313s 13s/step - loss: 0.2160 - acc: 0.9858 - val_loss: 6.3030 - val_acc: 0.8900\n",
            "Epoch 26/30\n",
            "25/25 [==============================] - 312s 13s/step - loss: 0.2120 - acc: 0.9859 - val_loss: 6.4376 - val_acc: 0.8905\n",
            "Epoch 27/30\n",
            "25/25 [==============================] - 313s 13s/step - loss: 0.2082 - acc: 0.9861 - val_loss: 6.5314 - val_acc: 0.8898\n",
            "Epoch 28/30\n",
            "25/25 [==============================] - 308s 12s/step - loss: 0.2045 - acc: 0.9863 - val_loss: 6.6096 - val_acc: 0.8890\n",
            "Epoch 29/30\n",
            "25/25 [==============================] - 316s 13s/step - loss: 0.2009 - acc: 0.9864 - val_loss: 6.7905 - val_acc: 0.8898\n",
            "Epoch 30/30\n",
            "25/25 [==============================] - 310s 12s/step - loss: 0.1975 - acc: 0.9865 - val_loss: 6.8299 - val_acc: 0.8892\n"
          ]
        }
      ]
    },
    {
      "cell_type": "code",
      "source": [
        "siamese_model.save('something.hd5')"
      ],
      "metadata": {
        "colab": {
          "base_uri": "https://localhost:8080/"
        },
        "id": "yIcj_y_Zb5aP",
        "outputId": "0049fe81-81ac-4b40-b5ba-b3c73736887d"
      },
      "execution_count": null,
      "outputs": [
        {
          "output_type": "stream",
          "name": "stdout",
          "text": [
            "INFO:tensorflow:Assets written to: something.hd5/assets\n"
          ]
        }
      ]
    },
    {
      "cell_type": "code",
      "source": [
        "something.hd5"
      ],
      "metadata": {
        "id": "rKbO3YKvcA26"
      },
      "execution_count": null,
      "outputs": []
    },
    {
      "cell_type": "code",
      "source": [
        "ax = pd.DataFrame(history.history).plot()"
      ],
      "metadata": {
        "colab": {
          "base_uri": "https://localhost:8080/",
          "height": 265
        },
        "id": "UK6kHy_0xrN9",
        "outputId": "fa7b7cf0-45e7-4ec9-b754-b09f349dcedb"
      },
      "execution_count": null,
      "outputs": [
        {
          "output_type": "display_data",
          "data": {
            "text/plain": [
              "<Figure size 432x288 with 1 Axes>"
            ],
            "image/png": "[encoded data removed]"
          },
          "metadata": {
            "needs_background": "light"
          }
        }
      ]
    },
    {
      "cell_type": "code",
      "source": [
        "from keras.utils.vis_utils import plot_model\n",
        "from matplotlib import pyplot\n",
        "import matplotlib.pyplot as plt\n",
        "plot_model(siamese_model, to_file='model_plot.png', show_shapes=True, show_layer_names=True)\n",
        "# plot the loss\n",
        "plt.plot(history.history['loss'], label='train loss')\n",
        "plt.plot(history.history['val_loss'], label='val loss')\n",
        "plt.legend()\n",
        "plt.show()\n",
        "plt.savefig('LossVal_loss')"
      ],
      "metadata": {
        "colab": {
          "base_uri": "https://localhost:8080/",
          "height": 282
        },
        "id": "ARFey1_L1Nff",
        "outputId": "97b89cf2-76ef-4080-c435-5fe59cf947ea"
      },
      "execution_count": null,
      "outputs": [
        {
          "output_type": "display_data",
          "data": {
            "text/plain": [
              "<Figure size 432x288 with 1 Axes>"
            ],
            "image/png": "[encoded data removed]"
          },
          "metadata": {
            "needs_background": "light"
          }
        },
        {
          "output_type": "display_data",
          "data": {
            "text/plain": [
              "<Figure size 432x288 with 0 Axes>"
            ]
          },
          "metadata": {}
        }
      ]
    },
    {
      "cell_type": "code",
      "source": [
        "# plot the accuracy\n",
        "from sklearn.metrics import accuracy_score\n",
        "plt.plot(history.history['acc'], label='train acc')\n",
        "plt.plot(history.history['val_acc'], label='val acc')\n",
        "plt.legend()\n",
        "plt.show()\n",
        "plt.savefig('AccVal_acc')"
      ],
      "metadata": {
        "colab": {
          "base_uri": "https://localhost:8080/",
          "height": 282
        },
        "id": "1sRgywWh4f6X",
        "outputId": "a94a2ca7-b5cf-4b69-c2fa-0da79e6f5ab7"
      },
      "execution_count": null,
      "outputs": [
        {
          "output_type": "display_data",
          "data": {
            "text/plain": [
              "<Figure size 432x288 with 1 Axes>"
            ],
            "image/png": "[encoded data removed]"
          },
          "metadata": {
            "needs_background": "light"
          }
        },
        {
          "output_type": "display_data",
          "data": {
            "text/plain": [
              "<Figure size 432x288 with 0 Axes>"
            ]
          },
          "metadata": {}
        }
      ]
    },
    {
      "cell_type": "markdown",
      "source": [
        "## Evaluate on test data"
      ],
      "metadata": {
        "id": "uxivE_4KF-lC"
      }
    },
    {
      "cell_type": "code",
      "source": [
        "# from tensorflow.keras.models import load_model\n",
        "\n",
        "# siamese_model = load_model('../../models/siamese-openOffice.epoch-30-loss-0.457.hdf5')"
      ],
      "metadata": {
        "id": "1O6FnyjgF_EK"
      },
      "execution_count": null,
      "outputs": []
    },
    {
      "cell_type": "code",
      "source": [
        "siamese_model.evaluate(\n",
        "  generate_batches(test_df, BATCH_SIZE),\n",
        "  steps=len(test_df) // BATCH_SIZE,\n",
        ")"
      ],
      "metadata": {
        "colab": {
          "base_uri": "https://localhost:8080/"
        },
        "id": "hQ_Vlc2U1Sf_",
        "outputId": "fe23d288-067e-43bf-c208-aa6e8346d8a8"
      },
      "execution_count": null,
      "outputs": [
        {
          "output_type": "stream",
          "name": "stdout",
          "text": [
            "4/4 [==============================] - 16s 4s/step - loss: 7.9758 - acc: 0.8566\n"
          ]
        },
        {
          "output_type": "execute_result",
          "data": {
            "text/plain": [
              "[7.975811958312988, 0.8565673828125]"
            ]
          },
          "metadata": {},
          "execution_count": 109
        }
      ]
    },
    {
      "cell_type": "code",
      "source": [
        "len(test_df)"
      ],
      "metadata": {
        "colab": {
          "base_uri": "https://localhost:8080/"
        },
        "id": "M9LG-i2a2HLv",
        "outputId": "07bd8d0d-e202-43ff-80b8-d15f04348b16"
      },
      "execution_count": null,
      "outputs": [
        {
          "output_type": "execute_result",
          "data": {
            "text/plain": [
              "8848"
            ]
          },
          "metadata": {},
          "execution_count": 110
        }
      ]
    },
    {
      "cell_type": "code",
      "source": [
        "BATCH_SIZE = len(test_df)\n",
        "num_batched_instances = len(test_df) - (len(test_df) % BATCH_SIZE)\n",
        "pred_y = siamese_model.predict(\n",
        "  generate_batches(test_df, BATCH_SIZE),\n",
        "  steps=len(test_df) // BATCH_SIZE,\n",
        "  verbose=1,\n",
        ")"
      ],
      "metadata": {
        "colab": {
          "base_uri": "https://localhost:8080/"
        },
        "id": "D_S1YT7gGC1A",
        "outputId": "c0675f71-bdb5-49f0-8d5c-88f5077bbfbc"
      },
      "execution_count": null,
      "outputs": [
        {
          "output_type": "stream",
          "name": "stdout",
          "text": [
            "1/1 [==============================] - 23s 23s/step\n"
          ]
        }
      ]
    },
    {
      "cell_type": "code",
      "source": [
        "from sklearn.metrics import classification_report\n",
        "print(classification_report(\n",
        "  test_df.is_similar[:num_batched_instances],\n",
        "  pred_y > .5,\n",
        "))"
      ],
      "metadata": {
        "colab": {
          "base_uri": "https://localhost:8080/"
        },
        "id": "5esiuBvyHOaZ",
        "outputId": "4648de13-28ec-4a72-cb94-1139c787618b"
      },
      "execution_count": null,
      "outputs": [
        {
          "output_type": "stream",
          "name": "stdout",
          "text": [
            "              precision    recall  f1-score   support\n",
            "\n",
            "           0       0.93      0.91      0.92      8203\n",
            "           1       0.13      0.18      0.15       645\n",
            "\n",
            "    accuracy                           0.85      8848\n",
            "   macro avg       0.53      0.54      0.54      8848\n",
            "weighted avg       0.88      0.85      0.86      8848\n",
            "\n"
          ]
        }
      ]
    },
    {
      "cell_type": "code",
      "source": [
        "import sklearn\n",
        "from sklearn.metrics import confusion_matrix\n",
        "from sklearn.metrics import confusion_matrix,accuracy_score,classification_report,roc_auc_score\n",
        "import numpy as np; np.random.seed(0)\n",
        "import seaborn as sns; sns.set_theme()\n",
        "from sklearn.metrics import accuracy_score\n",
        "import sklearn.metrics as metrics"
      ],
      "metadata": {
        "id": "R8OK-tLz5szV"
      },
      "execution_count": null,
      "outputs": []
    },
    {
      "cell_type": "code",
      "source": [
        "from sklearn.metrics import roc_curve\n",
        "\n",
        "value_names = ['TPR', 'FPR', 'Threshold']\n",
        "roc = dict(zip(value_names, roc_curve(\n",
        "  test_df.is_similar[:num_batched_instances],\n",
        "  pred_y,\n",
        ")))\n",
        "pd.DataFrame(roc)"
      ],
      "metadata": {
        "colab": {
          "base_uri": "https://localhost:8080/",
          "height": 424
        },
        "id": "ivdeHQwIIQPp",
        "outputId": "8fc32016-180f-4584-8980-f4f8f36db1ef"
      },
      "execution_count": null,
      "outputs": [
        {
          "output_type": "execute_result",
          "data": {
            "text/plain": [
              "          TPR       FPR     Threshold\n",
              "0    0.000000  0.000000  1.698285e+00\n",
              "1    0.051810  0.120930  6.982854e-01\n",
              "2    0.052786  0.120930  6.982644e-01\n",
              "3    0.052786  0.124031  6.982504e-01\n",
              "4    0.054248  0.124031  6.981809e-01\n",
              "..        ...       ...           ...\n",
              "697  0.634646  0.694574  2.133123e-38\n",
              "698  0.635865  0.694574  1.423115e-38\n",
              "699  0.635865  0.696124  1.404519e-38\n",
              "700  0.636109  0.696124  1.238208e-38\n",
              "701  1.000000  1.000000  0.000000e+00\n",
              "\n",
              "[702 rows x 3 columns]"
            ],
            "text/html": [
              "\n",
              "  <div id=\"df-8d5dd8fd-f344-4771-a691-94382be1b7f8\">\n",
              "    <div class=\"colab-df-container\">\n",
              "      <div>\n",
              "<style scoped>\n",
              "    .dataframe tbody tr th:only-of-type {\n",
              "        vertical-align: middle;\n",
              "    }\n",
              "\n",
              "    .dataframe tbody tr th {\n",
              "        vertical-align: top;\n",
              "    }\n",
              "\n",
              "    .dataframe thead th {\n",
              "        text-align: right;\n",
              "    }\n",
              "</style>\n",
              "<table border=\"1\" class=\"dataframe\">\n",
              "  <thead>\n",
              "    <tr style=\"text-align: right;\">\n",
              "      <th></th>\n",
              "      <th>TPR</th>\n",
              "      <th>FPR</th>\n",
              "      <th>Threshold</th>\n",
              "    </tr>\n",
              "  </thead>\n",
              "  <tbody>\n",
              "    <tr>\n",
              "      <th>0</th>\n",
              "      <td>0.000000</td>\n",
              "      <td>0.000000</td>\n",
              "      <td>1.698285e+00</td>\n",
              "    </tr>\n",
              "    <tr>\n",
              "      <th>1</th>\n",
              "      <td>0.051810</td>\n",
              "      <td>0.120930</td>\n",
              "      <td>6.982854e-01</td>\n",
              "    </tr>\n",
              "    <tr>\n",
              "      <th>2</th>\n",
              "      <td>0.052786</td>\n",
              "      <td>0.120930</td>\n",
              "      <td>6.982644e-01</td>\n",
              "    </tr>\n",
              "    <tr>\n",
              "      <th>3</th>\n",
              "      <td>0.052786</td>\n",
              "      <td>0.124031</td>\n",
              "      <td>6.982504e-01</td>\n",
              "    </tr>\n",
              "    <tr>\n",
              "      <th>4</th>\n",
              "      <td>0.054248</td>\n",
              "      <td>0.124031</td>\n",
              "      <td>6.981809e-01</td>\n",
              "    </tr>\n",
              "    <tr>\n",
              "      <th>...</th>\n",
              "      <td>...</td>\n",
              "      <td>...</td>\n",
              "      <td>...</td>\n",
              "    </tr>\n",
              "    <tr>\n",
              "      <th>697</th>\n",
              "      <td>0.634646</td>\n",
              "      <td>0.694574</td>\n",
              "      <td>2.133123e-38</td>\n",
              "    </tr>\n",
              "    <tr>\n",
              "      <th>698</th>\n",
              "      <td>0.635865</td>\n",
              "      <td>0.694574</td>\n",
              "      <td>1.423115e-38</td>\n",
              "    </tr>\n",
              "    <tr>\n",
              "      <th>699</th>\n",
              "      <td>0.635865</td>\n",
              "      <td>0.696124</td>\n",
              "      <td>1.404519e-38</td>\n",
              "    </tr>\n",
              "    <tr>\n",
              "      <th>700</th>\n",
              "      <td>0.636109</td>\n",
              "      <td>0.696124</td>\n",
              "      <td>1.238208e-38</td>\n",
              "    </tr>\n",
              "    <tr>\n",
              "      <th>701</th>\n",
              "      <td>1.000000</td>\n",
              "      <td>1.000000</td>\n",
              "      <td>0.000000e+00</td>\n",
              "    </tr>\n",
              "  </tbody>\n",
              "</table>\n",
              "<p>702 rows × 3 columns</p>\n",
              "</div>\n",
              "      <button class=\"colab-df-convert\" onclick=\"convertToInteractive('df-8d5dd8fd-f344-4771-a691-94382be1b7f8')\"\n",
              "              title=\"Convert this dataframe to an interactive table.\"\n",
              "              style=\"display:none;\">\n",
              "        \n",
              "  <svg xmlns=\"http://www.w3.org/2000/svg\" height=\"24px\"viewBox=\"0 0 24 24\"\n",
              "       width=\"24px\">\n",
              "    <path d=\"M0 0h24v24H0V0z\" fill=\"none\"/>\n",
              "    <path d=\"M18.56 5.44l.94 2.06.94-2.06 2.06-.94-2.06-.94-.94-2.06-.94 2.06-2.06.94zm-11 1L8.5 8.5l.94-2.06 2.06-.94-2.06-.94L8.5 2.5l-.94 2.06-2.06.94zm10 10l.94 2.06.94-2.06 2.06-.94-2.06-.94-.94-2.06-.94 2.06-2.06.94z\"/><path d=\"M17.41 7.96l-1.37-1.37c-.4-.4-.92-.59-1.43-.59-.52 0-1.04.2-1.43.59L10.3 9.45l-7.72 7.72c-.78.78-.78 2.05 0 2.83L4 21.41c.39.39.9.59 1.41.59.51 0 1.02-.2 1.41-.59l7.78-7.78 2.81-2.81c.8-.78.8-2.07 0-2.86zM5.41 20L4 18.59l7.72-7.72 1.47 1.35L5.41 20z\"/>\n",
              "  </svg>\n",
              "      </button>\n",
              "      \n",
              "  <style>\n",
              "    .colab-df-container {\n",
              "      display:flex;\n",
              "      flex-wrap:wrap;\n",
              "      gap: 12px;\n",
              "    }\n",
              "\n",
              "    .colab-df-convert {\n",
              "      background-color: #E8F0FE;\n",
              "      border: none;\n",
              "      border-radius: 50%;\n",
              "      cursor: pointer;\n",
              "      display: none;\n",
              "      fill: #1967D2;\n",
              "      height: 32px;\n",
              "      padding: 0 0 0 0;\n",
              "      width: 32px;\n",
              "    }\n",
              "\n",
              "    .colab-df-convert:hover {\n",
              "      background-color: #E2EBFA;\n",
              "      box-shadow: 0px 1px 2px rgba(60, 64, 67, 0.3), 0px 1px 3px 1px rgba(60, 64, 67, 0.15);\n",
              "      fill: #174EA6;\n",
              "    }\n",
              "\n",
              "    [theme=dark] .colab-df-convert {\n",
              "      background-color: #3B4455;\n",
              "      fill: #D2E3FC;\n",
              "    }\n",
              "\n",
              "    [theme=dark] .colab-df-convert:hover {\n",
              "      background-color: #434B5C;\n",
              "      box-shadow: 0px 1px 3px 1px rgba(0, 0, 0, 0.15);\n",
              "      filter: drop-shadow(0px 1px 2px rgba(0, 0, 0, 0.3));\n",
              "      fill: #FFFFFF;\n",
              "    }\n",
              "  </style>\n",
              "\n",
              "      <script>\n",
              "        const buttonEl =\n",
              "          document.querySelector('#df-8d5dd8fd-f344-4771-a691-94382be1b7f8 button.colab-df-convert');\n",
              "        buttonEl.style.display =\n",
              "          google.colab.kernel.accessAllowed ? 'block' : 'none';\n",
              "\n",
              "        async function convertToInteractive(key) {\n",
              "          const element = document.querySelector('#df-8d5dd8fd-f344-4771-a691-94382be1b7f8');\n",
              "          const dataTable =\n",
              "            await google.colab.kernel.invokeFunction('convertToInteractive',\n",
              "                                                     [key], {});\n",
              "          if (!dataTable) return;\n",
              "\n",
              "          const docLinkHtml = 'Like what you see? Visit the ' +\n",
              "            '<a target=\"_blank\" href=https://colab.research.google.com/notebooks/data_table.ipynb>data table notebook</a>'\n",
              "            + ' to learn more about interactive tables.';\n",
              "          element.innerHTML = '';\n",
              "          dataTable['output_type'] = 'display_data';\n",
              "          await google.colab.output.renderOutput(dataTable, element);\n",
              "          const docLink = document.createElement('div');\n",
              "          docLink.innerHTML = docLinkHtml;\n",
              "          element.appendChild(docLink);\n",
              "        }\n",
              "      </script>\n",
              "    </div>\n",
              "  </div>\n",
              "  "
            ]
          },
          "metadata": {},
          "execution_count": 114
        }
      ]
    },
    {
      "cell_type": "code",
      "source": [
        "from sklearn.metrics import roc_auc_score\n",
        "\n",
        "auroc = roc_auc_score(\n",
        "  test_df.is_similar[:num_batched_instances],\n",
        "  pred_y,\n",
        ")\n",
        "\n",
        "print('AUROC score:', auroc)"
      ],
      "metadata": {
        "colab": {
          "base_uri": "https://localhost:8080/"
        },
        "id": "hGbIeSFWITbw",
        "outputId": "833a2397-f9de-4af3-b40c-1b0e4e0f84a0"
      },
      "execution_count": null,
      "outputs": [
        {
          "output_type": "stream",
          "name": "stdout",
          "text": [
            "AUROC score: 0.58162271885782\n"
          ]
        }
      ]
    },
    {
      "cell_type": "code",
      "source": [
        "print('For probability:')\n",
        "print(f'Mean: {pred_y.mean()}, STD: {pred_y.std()}')\n",
        "print('For categorical:')\n",
        "print(f'Mean: {(pred_y > .5).mean()}, STD: {(pred_y > .5).std()}')"
      ],
      "metadata": {
        "colab": {
          "base_uri": "https://localhost:8080/"
        },
        "id": "hKRDSyhv-RB8",
        "outputId": "b38bbc09-ec89-476b-a416-0e867f1c4a4b"
      },
      "execution_count": null,
      "outputs": [
        {
          "output_type": "stream",
          "name": "stdout",
          "text": [
            "For probability:\n",
            "Mean: 0.07710234820842743, STD: 0.20585699379444122\n",
            "For categorical:\n",
            "Mean: 0.097875226039783, STD: 0.29714586681871313\n"
          ]
        }
      ]
    },
    {
      "cell_type": "markdown",
      "source": [
        "## Evaluate on textually similar data"
      ],
      "metadata": {
        "id": "7i8FGP06ZtbN"
      }
    },
    {
      "cell_type": "code",
      "source": [
        "#importing the CSV file of the dataset from google drive into a dataframe\n",
        "sim_df=pd.read_csv('drive/MyDrive/Project 6308 + ICSME/Siamese/Eclipse_siamese_textually_similar_test_duplicates_preprocessed.csv')\n",
        "sim_df"
      ],
      "metadata": {
        "colab": {
          "base_uri": "https://localhost:8080/",
          "height": 424
        },
        "id": "ctv5i4uwZwQB",
        "outputId": "57fd6da8-9b9b-4302-e945-92ce88d828df"
      },
      "execution_count": null,
      "outputs": [
        {
          "output_type": "execute_result",
          "data": {
            "text/plain": [
              "     Unnamed: 0                                       description1  \\\n",
              "0             0    installing eclipse     via eclipse inst   ex...   \n",
              "1             1    when enabling parallel builds warnings are r...   \n",
              "2             2    if i start my eclipse on    i get   java lan...   \n",
              "3             3    hello   i installed the eclipse modeling too...   \n",
              "4             4    open a requirejs module file    select one o...   \n",
              "..          ...                                                ...   \n",
              "678         681       configuration details    product  eclipse...   \n",
              "679         682       most of the time when i use  open type  i...   \n",
              "680         683    eclipse is located under c  program files ec...   \n",
              "681         684    hello  setting background for the items in t...   \n",
              "682         685    created attachment   image of steps to repro...   \n",
              "\n",
              "                                          description2  is_similar  \n",
              "0      error present while building maven project w...           0  \n",
              "1      when i try to run my build in parallel using...           1  \n",
              "2      codefragments     internal platform   java  ...           1  \n",
              "3      hello   i installed the eclipse modeling too...           1  \n",
              "4      created attachment   error screenshot  conte...           0  \n",
              "..                                                 ...         ...  \n",
              "678       configuration details    product  eclipse...           1  \n",
              "679    created attachment   oomph startup error  wh...           0  \n",
              "680    the fix for bug   added quoting around the c...           1  \n",
              "681    using swt      if you set the background   o...           1  \n",
              "682    using the current release of eclipse      mo...           1  \n",
              "\n",
              "[683 rows x 4 columns]"
            ],
            "text/html": [
              "\n",
              "  <div id=\"df-398a6952-4922-4d88-b0ee-6669c83ef845\">\n",
              "    <div class=\"colab-df-container\">\n",
              "      <div>\n",
              "<style scoped>\n",
              "    .dataframe tbody tr th:only-of-type {\n",
              "        vertical-align: middle;\n",
              "    }\n",
              "\n",
              "    .dataframe tbody tr th {\n",
              "        vertical-align: top;\n",
              "    }\n",
              "\n",
              "    .dataframe thead th {\n",
              "        text-align: right;\n",
              "    }\n",
              "</style>\n",
              "<table border=\"1\" class=\"dataframe\">\n",
              "  <thead>\n",
              "    <tr style=\"text-align: right;\">\n",
              "      <th></th>\n",
              "      <th>Unnamed: 0</th>\n",
              "      <th>description1</th>\n",
              "      <th>description2</th>\n",
              "      <th>is_similar</th>\n",
              "    </tr>\n",
              "  </thead>\n",
              "  <tbody>\n",
              "    <tr>\n",
              "      <th>0</th>\n",
              "      <td>0</td>\n",
              "      <td>installing eclipse     via eclipse inst   ex...</td>\n",
              "      <td>error present while building maven project w...</td>\n",
              "      <td>0</td>\n",
              "    </tr>\n",
              "    <tr>\n",
              "      <th>1</th>\n",
              "      <td>1</td>\n",
              "      <td>when enabling parallel builds warnings are r...</td>\n",
              "      <td>when i try to run my build in parallel using...</td>\n",
              "      <td>1</td>\n",
              "    </tr>\n",
              "    <tr>\n",
              "      <th>2</th>\n",
              "      <td>2</td>\n",
              "      <td>if i start my eclipse on    i get   java lan...</td>\n",
              "      <td>codefragments     internal platform   java  ...</td>\n",
              "      <td>1</td>\n",
              "    </tr>\n",
              "    <tr>\n",
              "      <th>3</th>\n",
              "      <td>3</td>\n",
              "      <td>hello   i installed the eclipse modeling too...</td>\n",
              "      <td>hello   i installed the eclipse modeling too...</td>\n",
              "      <td>1</td>\n",
              "    </tr>\n",
              "    <tr>\n",
              "      <th>4</th>\n",
              "      <td>4</td>\n",
              "      <td>open a requirejs module file    select one o...</td>\n",
              "      <td>created attachment   error screenshot  conte...</td>\n",
              "      <td>0</td>\n",
              "    </tr>\n",
              "    <tr>\n",
              "      <th>...</th>\n",
              "      <td>...</td>\n",
              "      <td>...</td>\n",
              "      <td>...</td>\n",
              "      <td>...</td>\n",
              "    </tr>\n",
              "    <tr>\n",
              "      <th>678</th>\n",
              "      <td>681</td>\n",
              "      <td>configuration details    product  eclipse...</td>\n",
              "      <td>configuration details    product  eclipse...</td>\n",
              "      <td>1</td>\n",
              "    </tr>\n",
              "    <tr>\n",
              "      <th>679</th>\n",
              "      <td>682</td>\n",
              "      <td>most of the time when i use  open type  i...</td>\n",
              "      <td>created attachment   oomph startup error  wh...</td>\n",
              "      <td>0</td>\n",
              "    </tr>\n",
              "    <tr>\n",
              "      <th>680</th>\n",
              "      <td>683</td>\n",
              "      <td>eclipse is located under c  program files ec...</td>\n",
              "      <td>the fix for bug   added quoting around the c...</td>\n",
              "      <td>1</td>\n",
              "    </tr>\n",
              "    <tr>\n",
              "      <th>681</th>\n",
              "      <td>684</td>\n",
              "      <td>hello  setting background for the items in t...</td>\n",
              "      <td>using swt      if you set the background   o...</td>\n",
              "      <td>1</td>\n",
              "    </tr>\n",
              "    <tr>\n",
              "      <th>682</th>\n",
              "      <td>685</td>\n",
              "      <td>created attachment   image of steps to repro...</td>\n",
              "      <td>using the current release of eclipse      mo...</td>\n",
              "      <td>1</td>\n",
              "    </tr>\n",
              "  </tbody>\n",
              "</table>\n",
              "<p>683 rows × 4 columns</p>\n",
              "</div>\n",
              "      <button class=\"colab-df-convert\" onclick=\"convertToInteractive('df-398a6952-4922-4d88-b0ee-6669c83ef845')\"\n",
              "              title=\"Convert this dataframe to an interactive table.\"\n",
              "              style=\"display:none;\">\n",
              "        \n",
              "  <svg xmlns=\"http://www.w3.org/2000/svg\" height=\"24px\"viewBox=\"0 0 24 24\"\n",
              "       width=\"24px\">\n",
              "    <path d=\"M0 0h24v24H0V0z\" fill=\"none\"/>\n",
              "    <path d=\"M18.56 5.44l.94 2.06.94-2.06 2.06-.94-2.06-.94-.94-2.06-.94 2.06-2.06.94zm-11 1L8.5 8.5l.94-2.06 2.06-.94-2.06-.94L8.5 2.5l-.94 2.06-2.06.94zm10 10l.94 2.06.94-2.06 2.06-.94-2.06-.94-.94-2.06-.94 2.06-2.06.94z\"/><path d=\"M17.41 7.96l-1.37-1.37c-.4-.4-.92-.59-1.43-.59-.52 0-1.04.2-1.43.59L10.3 9.45l-7.72 7.72c-.78.78-.78 2.05 0 2.83L4 21.41c.39.39.9.59 1.41.59.51 0 1.02-.2 1.41-.59l7.78-7.78 2.81-2.81c.8-.78.8-2.07 0-2.86zM5.41 20L4 18.59l7.72-7.72 1.47 1.35L5.41 20z\"/>\n",
              "  </svg>\n",
              "      </button>\n",
              "      \n",
              "  <style>\n",
              "    .colab-df-container {\n",
              "      display:flex;\n",
              "      flex-wrap:wrap;\n",
              "      gap: 12px;\n",
              "    }\n",
              "\n",
              "    .colab-df-convert {\n",
              "      background-color: #E8F0FE;\n",
              "      border: none;\n",
              "      border-radius: 50%;\n",
              "      cursor: pointer;\n",
              "      display: none;\n",
              "      fill: #1967D2;\n",
              "      height: 32px;\n",
              "      padding: 0 0 0 0;\n",
              "      width: 32px;\n",
              "    }\n",
              "\n",
              "    .colab-df-convert:hover {\n",
              "      background-color: #E2EBFA;\n",
              "      box-shadow: 0px 1px 2px rgba(60, 64, 67, 0.3), 0px 1px 3px 1px rgba(60, 64, 67, 0.15);\n",
              "      fill: #174EA6;\n",
              "    }\n",
              "\n",
              "    [theme=dark] .colab-df-convert {\n",
              "      background-color: #3B4455;\n",
              "      fill: #D2E3FC;\n",
              "    }\n",
              "\n",
              "    [theme=dark] .colab-df-convert:hover {\n",
              "      background-color: #434B5C;\n",
              "      box-shadow: 0px 1px 3px 1px rgba(0, 0, 0, 0.15);\n",
              "      filter: drop-shadow(0px 1px 2px rgba(0, 0, 0, 0.3));\n",
              "      fill: #FFFFFF;\n",
              "    }\n",
              "  </style>\n",
              "\n",
              "      <script>\n",
              "        const buttonEl =\n",
              "          document.querySelector('#df-398a6952-4922-4d88-b0ee-6669c83ef845 button.colab-df-convert');\n",
              "        buttonEl.style.display =\n",
              "          google.colab.kernel.accessAllowed ? 'block' : 'none';\n",
              "\n",
              "        async function convertToInteractive(key) {\n",
              "          const element = document.querySelector('#df-398a6952-4922-4d88-b0ee-6669c83ef845');\n",
              "          const dataTable =\n",
              "            await google.colab.kernel.invokeFunction('convertToInteractive',\n",
              "                                                     [key], {});\n",
              "          if (!dataTable) return;\n",
              "\n",
              "          const docLinkHtml = 'Like what you see? Visit the ' +\n",
              "            '<a target=\"_blank\" href=https://colab.research.google.com/notebooks/data_table.ipynb>data table notebook</a>'\n",
              "            + ' to learn more about interactive tables.';\n",
              "          element.innerHTML = '';\n",
              "          dataTable['output_type'] = 'display_data';\n",
              "          await google.colab.output.renderOutput(dataTable, element);\n",
              "          const docLink = document.createElement('div');\n",
              "          docLink.innerHTML = docLinkHtml;\n",
              "          element.appendChild(docLink);\n",
              "        }\n",
              "      </script>\n",
              "    </div>\n",
              "  </div>\n",
              "  "
            ]
          },
          "metadata": {},
          "execution_count": 117
        }
      ]
    },
    {
      "cell_type": "code",
      "source": [
        "len(sim_df)"
      ],
      "metadata": {
        "colab": {
          "base_uri": "https://localhost:8080/"
        },
        "id": "uBEUgjZW9oll",
        "outputId": "4d53bcce-78dd-4a00-e390-639bb4dfffac"
      },
      "execution_count": null,
      "outputs": [
        {
          "output_type": "execute_result",
          "data": {
            "text/plain": [
              "683"
            ]
          },
          "metadata": {},
          "execution_count": 118
        }
      ]
    },
    {
      "cell_type": "code",
      "source": [
        "BATCH_SIZE = len(sim_df)\n",
        "num_batched_instances = len(sim_df) - (len(sim_df) % BATCH_SIZE)\n",
        "pred_y_sim = siamese_model.predict(\n",
        "  generate_batches(sim_df, BATCH_SIZE),\n",
        "  steps=len(sim_df) // BATCH_SIZE,\n",
        "  verbose=1,\n",
        ")"
      ],
      "metadata": {
        "colab": {
          "base_uri": "https://localhost:8080/"
        },
        "id": "weGMLu0eaM4Q",
        "outputId": "f56409df-05d1-4382-c19d-a0e2b79869b4"
      },
      "execution_count": null,
      "outputs": [
        {
          "output_type": "stream",
          "name": "stdout",
          "text": [
            "1/1 [==============================] - 1s 1s/step\n"
          ]
        }
      ]
    },
    {
      "cell_type": "code",
      "source": [
        "siamese_model.evaluate(\n",
        "  generate_batches(sim_df, BATCH_SIZE),\n",
        "  steps=len(sim_df) // BATCH_SIZE,\n",
        ")"
      ],
      "metadata": {
        "colab": {
          "base_uri": "https://localhost:8080/"
        },
        "id": "oe8168B8ztDW",
        "outputId": "43d56f11-55e0-4c80-e976-9ae9f9c10552"
      },
      "execution_count": null,
      "outputs": [
        {
          "output_type": "stream",
          "name": "stdout",
          "text": [
            "1/1 [==============================] - 1s 946ms/step - loss: 58.1121 - acc: 0.5110\n"
          ]
        },
        {
          "output_type": "execute_result",
          "data": {
            "text/plain": [
              "[58.112144470214844, 0.5109809637069702]"
            ]
          },
          "metadata": {},
          "execution_count": 120
        }
      ]
    },
    {
      "cell_type": "code",
      "source": [
        "from sklearn.metrics import classification_report\n",
        "\n",
        "print(classification_report(\n",
        "  sim_df.is_similar[:num_batched_instances],\n",
        "  pred_y_sim > .5,\n",
        "))"
      ],
      "metadata": {
        "colab": {
          "base_uri": "https://localhost:8080/"
        },
        "id": "apm5qUZtaTCO",
        "outputId": "2266bfdf-8151-4f01-f70d-08281d22e607"
      },
      "execution_count": null,
      "outputs": [
        {
          "output_type": "stream",
          "name": "stdout",
          "text": [
            "              precision    recall  f1-score   support\n",
            "\n",
            "           0       0.51      0.85      0.64       343\n",
            "           1       0.53      0.17      0.26       340\n",
            "\n",
            "    accuracy                           0.51       683\n",
            "   macro avg       0.52      0.51      0.45       683\n",
            "weighted avg       0.52      0.51      0.45       683\n",
            "\n"
          ]
        }
      ]
    },
    {
      "cell_type": "code",
      "source": [
        "from sklearn.metrics import roc_curve\n",
        "\n",
        "value_names = ['TPR', 'FPR', 'Threshold']\n",
        "roc = dict(zip(value_names, roc_curve(\n",
        "  sim_df.is_similar[:num_batched_instances],\n",
        "  pred_y_sim,\n",
        ")))\n",
        "pd.DataFrame(roc)"
      ],
      "metadata": {
        "colab": {
          "base_uri": "https://localhost:8080/",
          "height": 424
        },
        "id": "i4UOiMGvaXq_",
        "outputId": "dbc8b5b3-7ea0-438d-bac7-2d6bf20f0d1d"
      },
      "execution_count": null,
      "outputs": [
        {
          "output_type": "execute_result",
          "data": {
            "text/plain": [
              "          TPR       FPR     Threshold\n",
              "0    0.000000  0.000000  1.698285e+00\n",
              "1    0.078717  0.120588  6.982854e-01\n",
              "2    0.078717  0.126471  6.982504e-01\n",
              "3    0.084548  0.126471  6.981442e-01\n",
              "4    0.084548  0.138235  6.977777e-01\n",
              "..        ...       ...           ...\n",
              "205  0.781341  0.682353  8.150937e-38\n",
              "206  0.781341  0.688235  5.422988e-38\n",
              "207  0.784257  0.688235  4.399785e-38\n",
              "208  0.784257  0.694118  1.404519e-38\n",
              "209  1.000000  1.000000  0.000000e+00\n",
              "\n",
              "[210 rows x 3 columns]"
            ],
            "text/html": [
              "\n",
              "  <div id=\"df-1192cfd8-bda2-415f-baa8-942c387ee645\">\n",
              "    <div class=\"colab-df-container\">\n",
              "      <div>\n",
              "<style scoped>\n",
              "    .dataframe tbody tr th:only-of-type {\n",
              "        vertical-align: middle;\n",
              "    }\n",
              "\n",
              "    .dataframe tbody tr th {\n",
              "        vertical-align: top;\n",
              "    }\n",
              "\n",
              "    .dataframe thead th {\n",
              "        text-align: right;\n",
              "    }\n",
              "</style>\n",
              "<table border=\"1\" class=\"dataframe\">\n",
              "  <thead>\n",
              "    <tr style=\"text-align: right;\">\n",
              "      <th></th>\n",
              "      <th>TPR</th>\n",
              "      <th>FPR</th>\n",
              "      <th>Threshold</th>\n",
              "    </tr>\n",
              "  </thead>\n",
              "  <tbody>\n",
              "    <tr>\n",
              "      <th>0</th>\n",
              "      <td>0.000000</td>\n",
              "      <td>0.000000</td>\n",
              "      <td>1.698285e+00</td>\n",
              "    </tr>\n",
              "    <tr>\n",
              "      <th>1</th>\n",
              "      <td>0.078717</td>\n",
              "      <td>0.120588</td>\n",
              "      <td>6.982854e-01</td>\n",
              "    </tr>\n",
              "    <tr>\n",
              "      <th>2</th>\n",
              "      <td>0.078717</td>\n",
              "      <td>0.126471</td>\n",
              "      <td>6.982504e-01</td>\n",
              "    </tr>\n",
              "    <tr>\n",
              "      <th>3</th>\n",
              "      <td>0.084548</td>\n",
              "      <td>0.126471</td>\n",
              "      <td>6.981442e-01</td>\n",
              "    </tr>\n",
              "    <tr>\n",
              "      <th>4</th>\n",
              "      <td>0.084548</td>\n",
              "      <td>0.138235</td>\n",
              "      <td>6.977777e-01</td>\n",
              "    </tr>\n",
              "    <tr>\n",
              "      <th>...</th>\n",
              "      <td>...</td>\n",
              "      <td>...</td>\n",
              "      <td>...</td>\n",
              "    </tr>\n",
              "    <tr>\n",
              "      <th>205</th>\n",
              "      <td>0.781341</td>\n",
              "      <td>0.682353</td>\n",
              "      <td>8.150937e-38</td>\n",
              "    </tr>\n",
              "    <tr>\n",
              "      <th>206</th>\n",
              "      <td>0.781341</td>\n",
              "      <td>0.688235</td>\n",
              "      <td>5.422988e-38</td>\n",
              "    </tr>\n",
              "    <tr>\n",
              "      <th>207</th>\n",
              "      <td>0.784257</td>\n",
              "      <td>0.688235</td>\n",
              "      <td>4.399785e-38</td>\n",
              "    </tr>\n",
              "    <tr>\n",
              "      <th>208</th>\n",
              "      <td>0.784257</td>\n",
              "      <td>0.694118</td>\n",
              "      <td>1.404519e-38</td>\n",
              "    </tr>\n",
              "    <tr>\n",
              "      <th>209</th>\n",
              "      <td>1.000000</td>\n",
              "      <td>1.000000</td>\n",
              "      <td>0.000000e+00</td>\n",
              "    </tr>\n",
              "  </tbody>\n",
              "</table>\n",
              "<p>210 rows × 3 columns</p>\n",
              "</div>\n",
              "      <button class=\"colab-df-convert\" onclick=\"convertToInteractive('df-1192cfd8-bda2-415f-baa8-942c387ee645')\"\n",
              "              title=\"Convert this dataframe to an interactive table.\"\n",
              "              style=\"display:none;\">\n",
              "        \n",
              "  <svg xmlns=\"http://www.w3.org/2000/svg\" height=\"24px\"viewBox=\"0 0 24 24\"\n",
              "       width=\"24px\">\n",
              "    <path d=\"M0 0h24v24H0V0z\" fill=\"none\"/>\n",
              "    <path d=\"M18.56 5.44l.94 2.06.94-2.06 2.06-.94-2.06-.94-.94-2.06-.94 2.06-2.06.94zm-11 1L8.5 8.5l.94-2.06 2.06-.94-2.06-.94L8.5 2.5l-.94 2.06-2.06.94zm10 10l.94 2.06.94-2.06 2.06-.94-2.06-.94-.94-2.06-.94 2.06-2.06.94z\"/><path d=\"M17.41 7.96l-1.37-1.37c-.4-.4-.92-.59-1.43-.59-.52 0-1.04.2-1.43.59L10.3 9.45l-7.72 7.72c-.78.78-.78 2.05 0 2.83L4 21.41c.39.39.9.59 1.41.59.51 0 1.02-.2 1.41-.59l7.78-7.78 2.81-2.81c.8-.78.8-2.07 0-2.86zM5.41 20L4 18.59l7.72-7.72 1.47 1.35L5.41 20z\"/>\n",
              "  </svg>\n",
              "      </button>\n",
              "      \n",
              "  <style>\n",
              "    .colab-df-container {\n",
              "      display:flex;\n",
              "      flex-wrap:wrap;\n",
              "      gap: 12px;\n",
              "    }\n",
              "\n",
              "    .colab-df-convert {\n",
              "      background-color: #E8F0FE;\n",
              "      border: none;\n",
              "      border-radius: 50%;\n",
              "      cursor: pointer;\n",
              "      display: none;\n",
              "      fill: #1967D2;\n",
              "      height: 32px;\n",
              "      padding: 0 0 0 0;\n",
              "      width: 32px;\n",
              "    }\n",
              "\n",
              "    .colab-df-convert:hover {\n",
              "      background-color: #E2EBFA;\n",
              "      box-shadow: 0px 1px 2px rgba(60, 64, 67, 0.3), 0px 1px 3px 1px rgba(60, 64, 67, 0.15);\n",
              "      fill: #174EA6;\n",
              "    }\n",
              "\n",
              "    [theme=dark] .colab-df-convert {\n",
              "      background-color: #3B4455;\n",
              "      fill: #D2E3FC;\n",
              "    }\n",
              "\n",
              "    [theme=dark] .colab-df-convert:hover {\n",
              "      background-color: #434B5C;\n",
              "      box-shadow: 0px 1px 3px 1px rgba(0, 0, 0, 0.15);\n",
              "      filter: drop-shadow(0px 1px 2px rgba(0, 0, 0, 0.3));\n",
              "      fill: #FFFFFF;\n",
              "    }\n",
              "  </style>\n",
              "\n",
              "      <script>\n",
              "        const buttonEl =\n",
              "          document.querySelector('#df-1192cfd8-bda2-415f-baa8-942c387ee645 button.colab-df-convert');\n",
              "        buttonEl.style.display =\n",
              "          google.colab.kernel.accessAllowed ? 'block' : 'none';\n",
              "\n",
              "        async function convertToInteractive(key) {\n",
              "          const element = document.querySelector('#df-1192cfd8-bda2-415f-baa8-942c387ee645');\n",
              "          const dataTable =\n",
              "            await google.colab.kernel.invokeFunction('convertToInteractive',\n",
              "                                                     [key], {});\n",
              "          if (!dataTable) return;\n",
              "\n",
              "          const docLinkHtml = 'Like what you see? Visit the ' +\n",
              "            '<a target=\"_blank\" href=https://colab.research.google.com/notebooks/data_table.ipynb>data table notebook</a>'\n",
              "            + ' to learn more about interactive tables.';\n",
              "          element.innerHTML = '';\n",
              "          dataTable['output_type'] = 'display_data';\n",
              "          await google.colab.output.renderOutput(dataTable, element);\n",
              "          const docLink = document.createElement('div');\n",
              "          docLink.innerHTML = docLinkHtml;\n",
              "          element.appendChild(docLink);\n",
              "        }\n",
              "      </script>\n",
              "    </div>\n",
              "  </div>\n",
              "  "
            ]
          },
          "metadata": {},
          "execution_count": 122
        }
      ]
    },
    {
      "cell_type": "code",
      "source": [
        "from sklearn.metrics import roc_auc_score\n",
        "\n",
        "auroc = roc_auc_score(\n",
        "  sim_df.is_similar[:num_batched_instances],\n",
        "  pred_y_sim,\n",
        ")\n",
        "\n",
        "print('AUROC score:', auroc)\n"
      ],
      "metadata": {
        "colab": {
          "base_uri": "https://localhost:8080/"
        },
        "id": "Uv4ot3cnaZy-",
        "outputId": "3d676e62-32bc-40db-fe7c-a3d18ff6d4ee"
      },
      "execution_count": null,
      "outputs": [
        {
          "output_type": "stream",
          "name": "stdout",
          "text": [
            "AUROC score: 0.4801620648259304\n"
          ]
        }
      ]
    },
    {
      "cell_type": "code",
      "source": [
        "print('For probability:')\n",
        "print(f'Mean: {pred_y_sim.mean()}, STD: {pred_y_sim.std()}')\n",
        "print('For categorical:')\n",
        "print(f'Mean: {(pred_y_sim > .5).mean()}, STD: {(pred_y_sim > .5).std()}')"
      ],
      "metadata": {
        "colab": {
          "base_uri": "https://localhost:8080/"
        },
        "id": "M6I1HvSh-lfd",
        "outputId": "9a5124ca-162f-4bf8-accb-1eda8804c0d0"
      },
      "execution_count": null,
      "outputs": [
        {
          "output_type": "stream",
          "name": "stdout",
          "text": [
            "For probability:\n",
            "Mean: 0.1312287151813507, STD: 0.2547241151332855\n",
            "For categorical:\n",
            "Mean: 0.16105417276720352, STD: 0.3675809110950612\n"
          ]
        }
      ]
    },
    {
      "cell_type": "markdown",
      "source": [
        "## Evaluate on textually dissimilar data"
      ],
      "metadata": {
        "id": "BmRmorjEfQb8"
      }
    },
    {
      "cell_type": "code",
      "source": [
        "#importing the CSV file of the dataset from google drive into a dataframe\n",
        "dissim_df=pd.read_csv('drive/MyDrive/Project 6308 + ICSME/Siamese/Eclipse_siamese_textually_dissimilar_test_duplicates_preprocessed.csv')\n",
        "dissim_df"
      ],
      "metadata": {
        "colab": {
          "base_uri": "https://localhost:8080/",
          "height": 424
        },
        "id": "S5np3yqwfV0V",
        "outputId": "53361f51-0f5a-4083-8008-29c9f3f972f9"
      },
      "execution_count": null,
      "outputs": [
        {
          "output_type": "execute_result",
          "data": {
            "text/plain": [
              "     Unnamed: 0                                       description1  \\\n",
              "0             0    created attachment   example projects to rep...   \n",
              "1             1    following snippet gives a wrong positive in ...   \n",
              "2             2    in microsoft visual studio   there was a rem...   \n",
              "3             3    created attachment   tool bar is grey  i wan...   \n",
              "4             4    most of the cases when seeing the  validatio...   \n",
              "..          ...                                                ...   \n",
              "618         680    the links to various projects on git eclipse...   \n",
              "619         681    created attachment   screen shot  build id  ...   \n",
              "620         683    eclipse sdk does not shop cvs support anymor...   \n",
              "621         684    when edition ocl  the text is not save   ste...   \n",
              "622         685    created attachment   a screenshot showing th...   \n",
              "\n",
              "                                          description2  is_similar  \n",
              "0      created attachment   picture with tree  tree...           0  \n",
              "1      the current null analysis in ecj does not re...           1  \n",
              "2      created attachment   patch  tested with vs  ...           1  \n",
              "3      created attachment   disabled menu  all of t...           1  \n",
              "4      the cocoa version of textlayout has these li...           0  \n",
              "..                                                 ...         ...  \n",
              "618    if today i go to    and click e g  on the ve...           1  \n",
              "619    build label  version       build id        s...           1  \n",
              "620    cvs is not built and shipped with our sdk si...           1  \n",
              "621    when creating an operation    if you create ...           1  \n",
              "622    created attachment   screenshot of pop up  r...           1  \n",
              "\n",
              "[623 rows x 4 columns]"
            ],
            "text/html": [
              "\n",
              "  <div id=\"df-451e61be-a35d-4e95-ab64-5b444db8c97b\">\n",
              "    <div class=\"colab-df-container\">\n",
              "      <div>\n",
              "<style scoped>\n",
              "    .dataframe tbody tr th:only-of-type {\n",
              "        vertical-align: middle;\n",
              "    }\n",
              "\n",
              "    .dataframe tbody tr th {\n",
              "        vertical-align: top;\n",
              "    }\n",
              "\n",
              "    .dataframe thead th {\n",
              "        text-align: right;\n",
              "    }\n",
              "</style>\n",
              "<table border=\"1\" class=\"dataframe\">\n",
              "  <thead>\n",
              "    <tr style=\"text-align: right;\">\n",
              "      <th></th>\n",
              "      <th>Unnamed: 0</th>\n",
              "      <th>description1</th>\n",
              "      <th>description2</th>\n",
              "      <th>is_similar</th>\n",
              "    </tr>\n",
              "  </thead>\n",
              "  <tbody>\n",
              "    <tr>\n",
              "      <th>0</th>\n",
              "      <td>0</td>\n",
              "      <td>created attachment   example projects to rep...</td>\n",
              "      <td>created attachment   picture with tree  tree...</td>\n",
              "      <td>0</td>\n",
              "    </tr>\n",
              "    <tr>\n",
              "      <th>1</th>\n",
              "      <td>1</td>\n",
              "      <td>following snippet gives a wrong positive in ...</td>\n",
              "      <td>the current null analysis in ecj does not re...</td>\n",
              "      <td>1</td>\n",
              "    </tr>\n",
              "    <tr>\n",
              "      <th>2</th>\n",
              "      <td>2</td>\n",
              "      <td>in microsoft visual studio   there was a rem...</td>\n",
              "      <td>created attachment   patch  tested with vs  ...</td>\n",
              "      <td>1</td>\n",
              "    </tr>\n",
              "    <tr>\n",
              "      <th>3</th>\n",
              "      <td>3</td>\n",
              "      <td>created attachment   tool bar is grey  i wan...</td>\n",
              "      <td>created attachment   disabled menu  all of t...</td>\n",
              "      <td>1</td>\n",
              "    </tr>\n",
              "    <tr>\n",
              "      <th>4</th>\n",
              "      <td>4</td>\n",
              "      <td>most of the cases when seeing the  validatio...</td>\n",
              "      <td>the cocoa version of textlayout has these li...</td>\n",
              "      <td>0</td>\n",
              "    </tr>\n",
              "    <tr>\n",
              "      <th>...</th>\n",
              "      <td>...</td>\n",
              "      <td>...</td>\n",
              "      <td>...</td>\n",
              "      <td>...</td>\n",
              "    </tr>\n",
              "    <tr>\n",
              "      <th>618</th>\n",
              "      <td>680</td>\n",
              "      <td>the links to various projects on git eclipse...</td>\n",
              "      <td>if today i go to    and click e g  on the ve...</td>\n",
              "      <td>1</td>\n",
              "    </tr>\n",
              "    <tr>\n",
              "      <th>619</th>\n",
              "      <td>681</td>\n",
              "      <td>created attachment   screen shot  build id  ...</td>\n",
              "      <td>build label  version       build id        s...</td>\n",
              "      <td>1</td>\n",
              "    </tr>\n",
              "    <tr>\n",
              "      <th>620</th>\n",
              "      <td>683</td>\n",
              "      <td>eclipse sdk does not shop cvs support anymor...</td>\n",
              "      <td>cvs is not built and shipped with our sdk si...</td>\n",
              "      <td>1</td>\n",
              "    </tr>\n",
              "    <tr>\n",
              "      <th>621</th>\n",
              "      <td>684</td>\n",
              "      <td>when edition ocl  the text is not save   ste...</td>\n",
              "      <td>when creating an operation    if you create ...</td>\n",
              "      <td>1</td>\n",
              "    </tr>\n",
              "    <tr>\n",
              "      <th>622</th>\n",
              "      <td>685</td>\n",
              "      <td>created attachment   a screenshot showing th...</td>\n",
              "      <td>created attachment   screenshot of pop up  r...</td>\n",
              "      <td>1</td>\n",
              "    </tr>\n",
              "  </tbody>\n",
              "</table>\n",
              "<p>623 rows × 4 columns</p>\n",
              "</div>\n",
              "      <button class=\"colab-df-convert\" onclick=\"convertToInteractive('df-451e61be-a35d-4e95-ab64-5b444db8c97b')\"\n",
              "              title=\"Convert this dataframe to an interactive table.\"\n",
              "              style=\"display:none;\">\n",
              "        \n",
              "  <svg xmlns=\"http://www.w3.org/2000/svg\" height=\"24px\"viewBox=\"0 0 24 24\"\n",
              "       width=\"24px\">\n",
              "    <path d=\"M0 0h24v24H0V0z\" fill=\"none\"/>\n",
              "    <path d=\"M18.56 5.44l.94 2.06.94-2.06 2.06-.94-2.06-.94-.94-2.06-.94 2.06-2.06.94zm-11 1L8.5 8.5l.94-2.06 2.06-.94-2.06-.94L8.5 2.5l-.94 2.06-2.06.94zm10 10l.94 2.06.94-2.06 2.06-.94-2.06-.94-.94-2.06-.94 2.06-2.06.94z\"/><path d=\"M17.41 7.96l-1.37-1.37c-.4-.4-.92-.59-1.43-.59-.52 0-1.04.2-1.43.59L10.3 9.45l-7.72 7.72c-.78.78-.78 2.05 0 2.83L4 21.41c.39.39.9.59 1.41.59.51 0 1.02-.2 1.41-.59l7.78-7.78 2.81-2.81c.8-.78.8-2.07 0-2.86zM5.41 20L4 18.59l7.72-7.72 1.47 1.35L5.41 20z\"/>\n",
              "  </svg>\n",
              "      </button>\n",
              "      \n",
              "  <style>\n",
              "    .colab-df-container {\n",
              "      display:flex;\n",
              "      flex-wrap:wrap;\n",
              "      gap: 12px;\n",
              "    }\n",
              "\n",
              "    .colab-df-convert {\n",
              "      background-color: #E8F0FE;\n",
              "      border: none;\n",
              "      border-radius: 50%;\n",
              "      cursor: pointer;\n",
              "      display: none;\n",
              "      fill: #1967D2;\n",
              "      height: 32px;\n",
              "      padding: 0 0 0 0;\n",
              "      width: 32px;\n",
              "    }\n",
              "\n",
              "    .colab-df-convert:hover {\n",
              "      background-color: #E2EBFA;\n",
              "      box-shadow: 0px 1px 2px rgba(60, 64, 67, 0.3), 0px 1px 3px 1px rgba(60, 64, 67, 0.15);\n",
              "      fill: #174EA6;\n",
              "    }\n",
              "\n",
              "    [theme=dark] .colab-df-convert {\n",
              "      background-color: #3B4455;\n",
              "      fill: #D2E3FC;\n",
              "    }\n",
              "\n",
              "    [theme=dark] .colab-df-convert:hover {\n",
              "      background-color: #434B5C;\n",
              "      box-shadow: 0px 1px 3px 1px rgba(0, 0, 0, 0.15);\n",
              "      filter: drop-shadow(0px 1px 2px rgba(0, 0, 0, 0.3));\n",
              "      fill: #FFFFFF;\n",
              "    }\n",
              "  </style>\n",
              "\n",
              "      <script>\n",
              "        const buttonEl =\n",
              "          document.querySelector('#df-451e61be-a35d-4e95-ab64-5b444db8c97b button.colab-df-convert');\n",
              "        buttonEl.style.display =\n",
              "          google.colab.kernel.accessAllowed ? 'block' : 'none';\n",
              "\n",
              "        async function convertToInteractive(key) {\n",
              "          const element = document.querySelector('#df-451e61be-a35d-4e95-ab64-5b444db8c97b');\n",
              "          const dataTable =\n",
              "            await google.colab.kernel.invokeFunction('convertToInteractive',\n",
              "                                                     [key], {});\n",
              "          if (!dataTable) return;\n",
              "\n",
              "          const docLinkHtml = 'Like what you see? Visit the ' +\n",
              "            '<a target=\"_blank\" href=https://colab.research.google.com/notebooks/data_table.ipynb>data table notebook</a>'\n",
              "            + ' to learn more about interactive tables.';\n",
              "          element.innerHTML = '';\n",
              "          dataTable['output_type'] = 'display_data';\n",
              "          await google.colab.output.renderOutput(dataTable, element);\n",
              "          const docLink = document.createElement('div');\n",
              "          docLink.innerHTML = docLinkHtml;\n",
              "          element.appendChild(docLink);\n",
              "        }\n",
              "      </script>\n",
              "    </div>\n",
              "  </div>\n",
              "  "
            ]
          },
          "metadata": {},
          "execution_count": 125
        }
      ]
    },
    {
      "cell_type": "code",
      "source": [
        "BATCH_SIZE = len(dissim_df)\n",
        "num_batched_instances = len(dissim_df) - (len(dissim_df) % BATCH_SIZE)\n",
        "pred_y_dis = siamese_model.predict(\n",
        "  generate_batches(dissim_df, BATCH_SIZE),\n",
        "  steps=len(dissim_df) // BATCH_SIZE,\n",
        "  verbose=1,\n",
        ")"
      ],
      "metadata": {
        "id": "i1-3kMw_fh-9",
        "colab": {
          "base_uri": "https://localhost:8080/"
        },
        "outputId": "9d75fe03-6637-4f69-953c-25b6754a944e"
      },
      "execution_count": null,
      "outputs": [
        {
          "output_type": "stream",
          "name": "stdout",
          "text": [
            "1/1 [==============================] - 1s 901ms/step\n"
          ]
        }
      ]
    },
    {
      "cell_type": "code",
      "source": [
        "siamese_model.evaluate(\n",
        "  generate_batches(dissim_df, BATCH_SIZE),\n",
        "  steps=len(dissim_df) // BATCH_SIZE,\n",
        ")"
      ],
      "metadata": {
        "colab": {
          "base_uri": "https://localhost:8080/"
        },
        "id": "w4_X1A4gzwD2",
        "outputId": "2a8af8df-0cf7-410d-c891-e2f4a14fb7c6"
      },
      "execution_count": null,
      "outputs": [
        {
          "output_type": "stream",
          "name": "stdout",
          "text": [
            "1/1 [==============================] - 1s 869ms/step - loss: 55.8403 - acc: 0.5088\n"
          ]
        },
        {
          "output_type": "execute_result",
          "data": {
            "text/plain": [
              "[55.84025573730469, 0.5088282227516174]"
            ]
          },
          "metadata": {},
          "execution_count": 127
        }
      ]
    },
    {
      "cell_type": "code",
      "source": [
        "from sklearn.metrics import classification_report\n",
        "\n",
        "print(classification_report(\n",
        "  dissim_df.is_similar[:num_batched_instances],\n",
        "  pred_y_dis > .5,\n",
        "))"
      ],
      "metadata": {
        "id": "Xqhsl_Byfm6N",
        "colab": {
          "base_uri": "https://localhost:8080/"
        },
        "outputId": "cd8fd442-532a-47ee-94d1-c04f5a675a70"
      },
      "execution_count": null,
      "outputs": [
        {
          "output_type": "stream",
          "name": "stdout",
          "text": [
            "              precision    recall  f1-score   support\n",
            "\n",
            "           0       0.50      0.84      0.63       308\n",
            "           1       0.54      0.18      0.27       315\n",
            "\n",
            "    accuracy                           0.51       623\n",
            "   macro avg       0.52      0.51      0.45       623\n",
            "weighted avg       0.52      0.51      0.45       623\n",
            "\n"
          ]
        }
      ]
    },
    {
      "cell_type": "code",
      "source": [
        "from sklearn.metrics import roc_curve\n",
        "\n",
        "value_names = ['TPR', 'FPR', 'Threshold']\n",
        "roc = dict(zip(value_names, roc_curve(\n",
        "  dissim_df.is_similar[:num_batched_instances],\n",
        "  pred_y_dis,\n",
        ")))\n",
        "pd.DataFrame(roc)"
      ],
      "metadata": {
        "id": "UC2L7lDofqqU",
        "colab": {
          "base_uri": "https://localhost:8080/",
          "height": 424
        },
        "outputId": "97bafad7-f008-4f31-b08b-46c1e7bd61a7"
      },
      "execution_count": null,
      "outputs": [
        {
          "output_type": "execute_result",
          "data": {
            "text/plain": [
              "          TPR       FPR     Threshold\n",
              "0    0.000000  0.000000  1.698285e+00\n",
              "1    0.074675  0.120635  6.982854e-01\n",
              "2    0.081169  0.120635  6.982290e-01\n",
              "3    0.081169  0.136508  6.980640e-01\n",
              "4    0.084416  0.136508  6.980332e-01\n",
              "..        ...       ...           ...\n",
              "201  0.831169  0.679365  3.231589e-37\n",
              "202  0.831169  0.685714  2.133458e-37\n",
              "203  0.837662  0.685714  1.003807e-37\n",
              "204  0.837662  0.688889  8.044797e-38\n",
              "205  1.000000  1.000000  0.000000e+00\n",
              "\n",
              "[206 rows x 3 columns]"
            ],
            "text/html": [
              "\n",
              "  <div id=\"df-f3d1994c-64d5-430b-90fe-3025261853d7\">\n",
              "    <div class=\"colab-df-container\">\n",
              "      <div>\n",
              "<style scoped>\n",
              "    .dataframe tbody tr th:only-of-type {\n",
              "        vertical-align: middle;\n",
              "    }\n",
              "\n",
              "    .dataframe tbody tr th {\n",
              "        vertical-align: top;\n",
              "    }\n",
              "\n",
              "    .dataframe thead th {\n",
              "        text-align: right;\n",
              "    }\n",
              "</style>\n",
              "<table border=\"1\" class=\"dataframe\">\n",
              "  <thead>\n",
              "    <tr style=\"text-align: right;\">\n",
              "      <th></th>\n",
              "      <th>TPR</th>\n",
              "      <th>FPR</th>\n",
              "      <th>Threshold</th>\n",
              "    </tr>\n",
              "  </thead>\n",
              "  <tbody>\n",
              "    <tr>\n",
              "      <th>0</th>\n",
              "      <td>0.000000</td>\n",
              "      <td>0.000000</td>\n",
              "      <td>1.698285e+00</td>\n",
              "    </tr>\n",
              "    <tr>\n",
              "      <th>1</th>\n",
              "      <td>0.074675</td>\n",
              "      <td>0.120635</td>\n",
              "      <td>6.982854e-01</td>\n",
              "    </tr>\n",
              "    <tr>\n",
              "      <th>2</th>\n",
              "      <td>0.081169</td>\n",
              "      <td>0.120635</td>\n",
              "      <td>6.982290e-01</td>\n",
              "    </tr>\n",
              "    <tr>\n",
              "      <th>3</th>\n",
              "      <td>0.081169</td>\n",
              "      <td>0.136508</td>\n",
              "      <td>6.980640e-01</td>\n",
              "    </tr>\n",
              "    <tr>\n",
              "      <th>4</th>\n",
              "      <td>0.084416</td>\n",
              "      <td>0.136508</td>\n",
              "      <td>6.980332e-01</td>\n",
              "    </tr>\n",
              "    <tr>\n",
              "      <th>...</th>\n",
              "      <td>...</td>\n",
              "      <td>...</td>\n",
              "      <td>...</td>\n",
              "    </tr>\n",
              "    <tr>\n",
              "      <th>201</th>\n",
              "      <td>0.831169</td>\n",
              "      <td>0.679365</td>\n",
              "      <td>3.231589e-37</td>\n",
              "    </tr>\n",
              "    <tr>\n",
              "      <th>202</th>\n",
              "      <td>0.831169</td>\n",
              "      <td>0.685714</td>\n",
              "      <td>2.133458e-37</td>\n",
              "    </tr>\n",
              "    <tr>\n",
              "      <th>203</th>\n",
              "      <td>0.837662</td>\n",
              "      <td>0.685714</td>\n",
              "      <td>1.003807e-37</td>\n",
              "    </tr>\n",
              "    <tr>\n",
              "      <th>204</th>\n",
              "      <td>0.837662</td>\n",
              "      <td>0.688889</td>\n",
              "      <td>8.044797e-38</td>\n",
              "    </tr>\n",
              "    <tr>\n",
              "      <th>205</th>\n",
              "      <td>1.000000</td>\n",
              "      <td>1.000000</td>\n",
              "      <td>0.000000e+00</td>\n",
              "    </tr>\n",
              "  </tbody>\n",
              "</table>\n",
              "<p>206 rows × 3 columns</p>\n",
              "</div>\n",
              "      <button class=\"colab-df-convert\" onclick=\"convertToInteractive('df-f3d1994c-64d5-430b-90fe-3025261853d7')\"\n",
              "              title=\"Convert this dataframe to an interactive table.\"\n",
              "              style=\"display:none;\">\n",
              "        \n",
              "  <svg xmlns=\"http://www.w3.org/2000/svg\" height=\"24px\"viewBox=\"0 0 24 24\"\n",
              "       width=\"24px\">\n",
              "    <path d=\"M0 0h24v24H0V0z\" fill=\"none\"/>\n",
              "    <path d=\"M18.56 5.44l.94 2.06.94-2.06 2.06-.94-2.06-.94-.94-2.06-.94 2.06-2.06.94zm-11 1L8.5 8.5l.94-2.06 2.06-.94-2.06-.94L8.5 2.5l-.94 2.06-2.06.94zm10 10l.94 2.06.94-2.06 2.06-.94-2.06-.94-.94-2.06-.94 2.06-2.06.94z\"/><path d=\"M17.41 7.96l-1.37-1.37c-.4-.4-.92-.59-1.43-.59-.52 0-1.04.2-1.43.59L10.3 9.45l-7.72 7.72c-.78.78-.78 2.05 0 2.83L4 21.41c.39.39.9.59 1.41.59.51 0 1.02-.2 1.41-.59l7.78-7.78 2.81-2.81c.8-.78.8-2.07 0-2.86zM5.41 20L4 18.59l7.72-7.72 1.47 1.35L5.41 20z\"/>\n",
              "  </svg>\n",
              "      </button>\n",
              "      \n",
              "  <style>\n",
              "    .colab-df-container {\n",
              "      display:flex;\n",
              "      flex-wrap:wrap;\n",
              "      gap: 12px;\n",
              "    }\n",
              "\n",
              "    .colab-df-convert {\n",
              "      background-color: #E8F0FE;\n",
              "      border: none;\n",
              "      border-radius: 50%;\n",
              "      cursor: pointer;\n",
              "      display: none;\n",
              "      fill: #1967D2;\n",
              "      height: 32px;\n",
              "      padding: 0 0 0 0;\n",
              "      width: 32px;\n",
              "    }\n",
              "\n",
              "    .colab-df-convert:hover {\n",
              "      background-color: #E2EBFA;\n",
              "      box-shadow: 0px 1px 2px rgba(60, 64, 67, 0.3), 0px 1px 3px 1px rgba(60, 64, 67, 0.15);\n",
              "      fill: #174EA6;\n",
              "    }\n",
              "\n",
              "    [theme=dark] .colab-df-convert {\n",
              "      background-color: #3B4455;\n",
              "      fill: #D2E3FC;\n",
              "    }\n",
              "\n",
              "    [theme=dark] .colab-df-convert:hover {\n",
              "      background-color: #434B5C;\n",
              "      box-shadow: 0px 1px 3px 1px rgba(0, 0, 0, 0.15);\n",
              "      filter: drop-shadow(0px 1px 2px rgba(0, 0, 0, 0.3));\n",
              "      fill: #FFFFFF;\n",
              "    }\n",
              "  </style>\n",
              "\n",
              "      <script>\n",
              "        const buttonEl =\n",
              "          document.querySelector('#df-f3d1994c-64d5-430b-90fe-3025261853d7 button.colab-df-convert');\n",
              "        buttonEl.style.display =\n",
              "          google.colab.kernel.accessAllowed ? 'block' : 'none';\n",
              "\n",
              "        async function convertToInteractive(key) {\n",
              "          const element = document.querySelector('#df-f3d1994c-64d5-430b-90fe-3025261853d7');\n",
              "          const dataTable =\n",
              "            await google.colab.kernel.invokeFunction('convertToInteractive',\n",
              "                                                     [key], {});\n",
              "          if (!dataTable) return;\n",
              "\n",
              "          const docLinkHtml = 'Like what you see? Visit the ' +\n",
              "            '<a target=\"_blank\" href=https://colab.research.google.com/notebooks/data_table.ipynb>data table notebook</a>'\n",
              "            + ' to learn more about interactive tables.';\n",
              "          element.innerHTML = '';\n",
              "          dataTable['output_type'] = 'display_data';\n",
              "          await google.colab.output.renderOutput(dataTable, element);\n",
              "          const docLink = document.createElement('div');\n",
              "          docLink.innerHTML = docLinkHtml;\n",
              "          element.appendChild(docLink);\n",
              "        }\n",
              "      </script>\n",
              "    </div>\n",
              "  </div>\n",
              "  "
            ]
          },
          "metadata": {},
          "execution_count": 129
        }
      ]
    },
    {
      "cell_type": "code",
      "source": [
        "from sklearn.metrics import roc_auc_score\n",
        "\n",
        "auroc = roc_auc_score(\n",
        "  dissim_df.is_similar[:num_batched_instances],\n",
        "  pred_y_dis,\n",
        ")\n",
        "\n",
        "print('AUROC score:', auroc)\n"
      ],
      "metadata": {
        "id": "keUtQxHbfv2M",
        "colab": {
          "base_uri": "https://localhost:8080/"
        },
        "outputId": "eeb718a9-dee6-4ee8-dd29-601ebc32e6c9"
      },
      "execution_count": null,
      "outputs": [
        {
          "output_type": "stream",
          "name": "stdout",
          "text": [
            "AUROC score: 0.4673881673881674\n"
          ]
        }
      ]
    },
    {
      "cell_type": "code",
      "source": [
        "print('For probability:')\n",
        "print(f'Mean: {pred_y_dis.mean()}, STD: {pred_y_dis.std()}')\n",
        "print('For categorical:')\n",
        "print(f'Mean: {(pred_y_dis > .5).mean()}, STD: {(pred_y_dis > .5).std()}')"
      ],
      "metadata": {
        "id": "xhSh7qzv0aT2",
        "colab": {
          "base_uri": "https://localhost:8080/"
        },
        "outputId": "fe74fa5a-9b44-4a0e-f950-2d00281d156d"
      },
      "execution_count": null,
      "outputs": [
        {
          "output_type": "stream",
          "name": "stdout",
          "text": [
            "For probability:\n",
            "Mean: 0.13743802905082703, STD: 0.25885456800460815\n",
            "For categorical:\n",
            "Mean: 0.16853932584269662, STD: 0.37434452244848726\n"
          ]
        }
      ]
    },
    {
      "cell_type": "code",
      "source": [
        ""
      ],
      "metadata": {
        "id": "qmrGl7Vc0DFv"
      },
      "execution_count": null,
      "outputs": []
    }
  ]
}