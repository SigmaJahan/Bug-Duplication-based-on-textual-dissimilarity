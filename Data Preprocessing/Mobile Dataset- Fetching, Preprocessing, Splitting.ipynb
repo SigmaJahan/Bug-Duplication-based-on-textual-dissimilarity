{
 "cells": [
  {
   "cell_type": "markdown",
   "id": "138286f0-d523-41d7-a1c8-b37a4ace7fc7",
   "metadata": {},
   "source": [
    "## Importing all the mobile datasets"
   ]
  },
  {
   "cell_type": "code",
   "execution_count": null,
   "id": "270b753b-a5eb-4c30-b876-5f7d8f000b05",
   "metadata": {},
   "outputs": [],
   "source": [
    "import pandas as pd\n",
    "import requests\n",
    "import json\n",
    "import urllib.request\n",
    "import time\n",
    "from bs4 import BeautifulSoup"
   ]
  },
  {
   "cell_type": "code",
   "execution_count": null,
   "id": "c2566a44-850b-4d62-8389-2c77915c182c",
   "metadata": {},
   "outputs": [],
   "source": [
    "data = pd.read_csv(\"Mobile_data.csv\")\n",
    "data.tail()"
   ]
  },
  {
   "cell_type": "code",
   "execution_count": null,
   "id": "6d30e475-55d3-4069-b921-034d9d5ecc33",
   "metadata": {},
   "outputs": [],
   "source": [
    "result = data.copy()\n",
    "result"
   ]
  },
  {
   "cell_type": "code",
   "execution_count": null,
   "id": "7ea9eea2-2e04-4f02-93d5-d832179ac64c",
   "metadata": {},
   "outputs": [],
   "source": [
    "bug_ids = list(result['Bug ID'])\n",
    "bug_ids[:10]"
   ]
  },
  {
   "cell_type": "code",
   "execution_count": null,
   "id": "1d772b80-7c5e-41db-b952-393e16558e4c",
   "metadata": {},
   "outputs": [],
   "source": [
    "len(bug_ids)"
   ]
  },
  {
   "cell_type": "code",
   "execution_count": null,
   "id": "cac6f76e-e324-4cae-bc8c-72a997439662",
   "metadata": {},
   "outputs": [],
   "source": [
    "from datetime import datetime"
   ]
  },
  {
   "cell_type": "code",
   "execution_count": null,
   "id": "f9310156-ef50-4bac-b056-917902280619",
   "metadata": {},
   "outputs": [],
   "source": [
    "#fetching the first comment where the description exists using rest API\n",
    "resp = requests.get('https://bugzilla.mozilla.org/rest/bug/1631754/comment')\n",
    "resp.json\n",
    "list(filter(lambda comment: comment['count'] == 0, resp.json()['bugs']['1631754']['comments']))[0]['text']"
   ]
  },
  {
   "cell_type": "code",
   "execution_count": null,
   "id": "c9ed7516-f871-45d4-ba55-c443cf399990",
   "metadata": {},
   "outputs": [],
   "source": [
    "#Getting description as well as duplicate ids for all the bug ids\n",
    "resp = None\n",
    "failed_count = 0\n",
    "duplicates = []\n",
    "comments = {}\n",
    "tick = datetime.now()\n",
    "total = len(bug_ids)\n",
    "bug_not_fetched = []\n",
    "index_not_fetched = []\n",
    "\n",
    "for idx, val in enumerate(bug_ids):\n",
    "    bug_url = 'https://bugzilla.mozilla.org/rest/bug/'+str(val)+'/comment'\n",
    "    resp = requests.get(bug_url)\n",
    "    try:\n",
    "        desc = list(filter(lambda comment: comment['count'] == 0, resp.json()['bugs'][str(val)]['comments']))[0]['text']\n",
    "        comments[val] = desc\n",
    "        tock = datetime.now()\n",
    "        delta = tock - tick\n",
    "        with urllib.request.urlopen(\"https://bugzilla.mozilla.org/rest/bug/\"+str(val)) as url:\n",
    "            bug_data = json.loads(url.read().decode())\n",
    "        duplicates.append(bug_data['bugs'][0]['dupe_of'])\n",
    "        print(f'\\r{idx}, Elapsed: {delta}, Remaining: {delta/idx * total}', end='')\n",
    "    except Exception as e:\n",
    "        failed_count += 1\n",
    "        bug_not_fetched.append(val)\n",
    "        index_not_fetched.append(idx)"
   ]
  },
  {
   "cell_type": "code",
   "execution_count": null,
   "id": "13a7abed-d3e7-4d59-99ec-07ee5a71d8f4",
   "metadata": {},
   "outputs": [],
   "source": [
    "failed_count"
   ]
  },
  {
   "cell_type": "code",
   "execution_count": null,
   "id": "b788c024-6107-44ee-9b06-4c173908c179",
   "metadata": {},
   "outputs": [],
   "source": [
    "len(duplicates)"
   ]
  },
  {
   "cell_type": "code",
   "execution_count": null,
   "id": "25ecabe8-e6b2-41b8-adfa-5b420957bb51",
   "metadata": {},
   "outputs": [],
   "source": [
    "bug_desc = pd.DataFrame(comments.items(), columns=['Bug Id', 'Description'])\n",
    "bug_desc['Duplicate_Bug_Ids'] = duplicates\n",
    "bug_desc"
   ]
  },
  {
   "cell_type": "code",
   "execution_count": null,
   "id": "a50834ff-1f72-41a1-9da1-91f675681cfc",
   "metadata": {},
   "outputs": [],
   "source": [
    "final_data = pd.merge(result,bug_desc,left_on='Bug ID',right_on= \"Bug Id\")\n",
    "final_data"
   ]
  },
  {
   "cell_type": "code",
   "execution_count": null,
   "id": "311585ab-77e5-483b-bbe9-9148a19dd0bb",
   "metadata": {},
   "outputs": [],
   "source": [
    "final_data = final_data.drop(columns=['Assignee', 'Duplicates', 'Number of Duplicates'])\n",
    "final_data"
   ]
  },
  {
   "cell_type": "code",
   "execution_count": null,
   "id": "49a0d72d-3a54-436e-8d25-fcf216ddbfe3",
   "metadata": {},
   "outputs": [],
   "source": [
    "final_data.to_csv('mobile_dataset.csv') #dataset with description"
   ]
  },
  {
   "cell_type": "code",
   "execution_count": null,
   "id": "c7eb1ff3-1255-404a-9276-91140f177314",
   "metadata": {},
   "outputs": [],
   "source": [
    "final_data1= final_data.copy()\n",
    "final_data1"
   ]
  },
  {
   "cell_type": "code",
   "execution_count": null,
   "id": "7858e573-a7cf-4a0f-8a8f-4601b7930c01",
   "metadata": {},
   "outputs": [],
   "source": [
    "duplicate_id = list(final_data.Duplicate_Bug_Ids) #storing duplicate ids in duplicate_id\n",
    "duplicate_id[:50]"
   ]
  },
  {
   "cell_type": "code",
   "execution_count": null,
   "id": "4715bd26-e505-4c15-bb47-e739f6a672f8",
   "metadata": {},
   "outputs": [],
   "source": [
    "dup_list = [x for x in duplicate_id if pd.isnull(x) == False and x != 'nan']\n",
    "dup_list[:10]"
   ]
  },
  {
   "cell_type": "code",
   "execution_count": null,
   "id": "09d2b705-4b66-4d57-be81-b102c241c9df",
   "metadata": {},
   "outputs": [],
   "source": [
    "len(dup_list)"
   ]
  },
  {
   "cell_type": "code",
   "execution_count": null,
   "id": "9e17f3b8-5767-4203-9b00-cfb9b61549f8",
   "metadata": {},
   "outputs": [],
   "source": [
    "final_data2= final_data.copy()\n",
    "final_data2"
   ]
  },
  {
   "cell_type": "code",
   "execution_count": null,
   "id": "fb49b94c-7e6f-4378-99da-2fbf4ab38793",
   "metadata": {},
   "outputs": [],
   "source": [
    "#calculating how many duplicate ids are present as the bug ids in the whole dataset in last five years\n",
    "count_id = 0\n",
    "dup_id_in_bug_id = []\n",
    "for i,v in enumerate(dup_list):\n",
    "    if (v in bug_ids):\n",
    "        count_id +=1\n",
    "        dup_id_in_bug_id.append(v)"
   ]
  },
  {
   "cell_type": "code",
   "execution_count": null,
   "id": "00d38533-1271-4fef-b844-644648657d85",
   "metadata": {},
   "outputs": [],
   "source": [
    "len(dup_id_in_bug_id) #length of duplicate id which is present in bug ids"
   ]
  },
  {
   "cell_type": "code",
   "execution_count": null,
   "id": "9ac86b14-b8be-4f97-9169-34d92930ea2f",
   "metadata": {},
   "outputs": [],
   "source": [
    "dup_id_not_in_bug_id  = [x for x in dup_list if x not in dup_id_in_bug_id ] #length of duplicate id which is not present in bug ids\n",
    "len(dup_id_not_in_bug_id)"
   ]
  },
  {
   "cell_type": "code",
   "execution_count": null,
   "id": "c631aaab-da49-485b-934d-d1248ef2dfec",
   "metadata": {},
   "outputs": [],
   "source": [
    "df = pd.read_csv(\"mobile_dataset.csv\") #copying the dataset with description into another dataframe\n",
    "df.head()"
   ]
  },
  {
   "cell_type": "code",
   "execution_count": null,
   "id": "17b00ea0-70c1-412c-8ed3-ac77629461ea",
   "metadata": {},
   "outputs": [],
   "source": [
    "df = df.drop(columns = [\"Unnamed: 0\"])\n",
    "df"
   ]
  },
  {
   "cell_type": "code",
   "execution_count": null,
   "id": "dc9cdc28-a6d7-4a08-967f-04f787739f0e",
   "metadata": {},
   "outputs": [],
   "source": [
    "df.Description"
   ]
  },
  {
   "cell_type": "code",
   "execution_count": null,
   "id": "8bfe6fbb-2a35-4d31-be08-97e8f37afde7",
   "metadata": {},
   "outputs": [],
   "source": [
    "df.info()"
   ]
  },
  {
   "cell_type": "markdown",
   "id": "198550e2-70d4-48b8-a8d0-d2bf635b890b",
   "metadata": {},
   "source": [
    "### Preproccessing the entire dataset"
   ]
  },
  {
   "cell_type": "code",
   "execution_count": null,
   "id": "931d6144-b406-4644-949e-cbec8b90d14c",
   "metadata": {},
   "outputs": [],
   "source": [
    "import re\n",
    "# as per recommendation from @freylis, compile once only\n",
    "CLEANR = re.compile('<.*?>|&([a-z0-9]+|#[0-9]{1,6}|#x[0-9a-f]{1,6});') \n",
    "\n",
    "def cleanhtml(raw_html):\n",
    "    cleantext = re.sub(CLEANR, '', raw_html)\n",
    "    return cleantext\n",
    "# Discarding the characters beyond 500 characters in the description - to be done after preprocessing  \n",
    "for index, row in df.iterrows():\n",
    "    des =  row.Description\n",
    "#     print(des)\n",
    "#     break\n",
    "    des = des.replace(\"\\n\",\" \")\n",
    "    des = cleanhtml(des)\n",
    "    if(len(des)>=500):\n",
    "        row.Description = des[:500]\n",
    "        \n",
    "#Text Cleaning round 1 (removing punctutions)\n",
    "import re\n",
    "import string\n",
    "\n",
    "def clean_text_round1(text):\n",
    "    '''Make text lowercase, remove text in square brackets, remove punctuation and remove words containing numbers.'''\n",
    "#     print(text)\n",
    "    text = re.sub('\\w*\\d\\w*', ' ', text)\n",
    "    text = re.sub('\\w*\\f\\w*', ' ', text)\n",
    "    text = re.sub('\\(.*?\\)', ' ', text)\n",
    "    text = re.sub('\\[.*]\\)', ' ', text)\n",
    "    text = re.sub(r'https?://[A-Za-z0-9./]+',' ',text)\n",
    "    text = text.lower()\n",
    "    text = re.sub('[%s]' % re.escape(string.punctuation), ' ', text)\n",
    "    return text\n",
    "\n",
    "round1 = lambda x: clean_text_round1(x)\n",
    "\n",
    "df = df.dropna(axis=0, subset=['Description'])\n",
    "df['Description'] = df['Description'].apply(clean_text_round1)\n",
    "\n",
    "# Apply a second round of cleaning (removing punctuations)\n",
    "def clean_text_round2(text):\n",
    "    '''Get rid of some additional punctuation and non-sensical text that was missed the first time around.'''\n",
    "    text = re.sub('[‘’“”…]', ' ', text)\n",
    "    text = re.sub('\\n', ' ', text)\n",
    "    text = re.sub('\\t', ' ', text)\n",
    "    return text\n",
    "\n",
    "round2 = lambda x: clean_text_round2(x)\n",
    "\n",
    "df['Description'] = df['Description'].apply(clean_text_round2)"
   ]
  },
  {
   "cell_type": "code",
   "execution_count": null,
   "id": "2eaa9b6b-7d84-4919-975d-aaa1ae24b32c",
   "metadata": {},
   "outputs": [],
   "source": [
    "from nltk.stem import WordNetLemmatizer\n",
    "lemmatizer=WordNetLemmatizer()\n",
    "for index, row in df.iterrows():\n",
    "    row.Description = lemmatizer.lemmatize(row.Description)"
   ]
  },
  {
   "cell_type": "markdown",
   "id": "1964a66b-d612-4aaf-9954-06de744fa7b1",
   "metadata": {},
   "source": [
    "## Saving the entire preproccessed dataset"
   ]
  },
  {
   "cell_type": "code",
   "execution_count": null,
   "id": "07c9e46c-6d47-4fb9-b203-fcc344115d64",
   "metadata": {},
   "outputs": [],
   "source": [
    "df.to_csv(\"mobile_preproccessed_whole_dataset.csv\")"
   ]
  },
  {
   "cell_type": "markdown",
   "id": "30ffe2f1-47e4-4d97-af36-8712b9b87505",
   "metadata": {},
   "source": [
    "### Only the duplicate dataset"
   ]
  },
  {
   "cell_type": "code",
   "execution_count": null,
   "id": "8633369a-6a3b-4c3a-8ad7-0f667b593792",
   "metadata": {},
   "outputs": [],
   "source": [
    "duplicate_dataset_mobile = df[df['Duplicate_Bug_Ids'] > 0]\n",
    "duplicate_dataset_mobile"
   ]
  },
  {
   "cell_type": "code",
   "execution_count": null,
   "id": "1b8a9b23-f9a2-4717-a783-18991b80e933",
   "metadata": {},
   "outputs": [],
   "source": [
    "duplicate_id = list(duplicate_dataset_mobile.Duplicate_Bug_Ids)\n",
    "duplicate_id[:10]"
   ]
  },
  {
   "cell_type": "code",
   "execution_count": null,
   "id": "600efc1e-40ea-408f-99fb-4ea6d57395d4",
   "metadata": {},
   "outputs": [],
   "source": [
    "dup_list = [int(a) for a in duplicate_id]\n",
    "dup_list[:10]"
   ]
  },
  {
   "cell_type": "code",
   "execution_count": null,
   "id": "ec07ea8e-1b86-4af8-9170-020d216de86c",
   "metadata": {},
   "outputs": [],
   "source": [
    "bug_ids = list(df[\"Bug ID\"])\n",
    "bug_ids[:10]"
   ]
  },
  {
   "cell_type": "code",
   "execution_count": null,
   "id": "80f00ce0-a652-4445-aefb-7eebc4a1b947",
   "metadata": {},
   "outputs": [],
   "source": [
    "count_id = 0\n",
    "dup_id_in_bug_id = []\n",
    "for i,v in enumerate(dup_list):\n",
    "    if (v in bug_ids):\n",
    "        count_id +=1\n",
    "        dup_id_in_bug_id.append(v)"
   ]
  },
  {
   "cell_type": "code",
   "execution_count": null,
   "id": "5020b420-8803-4cee-a30e-f7eb12680b64",
   "metadata": {},
   "outputs": [],
   "source": [
    "len(dup_id_in_bug_id)"
   ]
  },
  {
   "cell_type": "code",
   "execution_count": null,
   "id": "cb53d777-2515-4008-b985-26147fe78474",
   "metadata": {},
   "outputs": [],
   "source": [
    "dup_id_not_in_bug_id  = [x for x in dup_list if x not in dup_id_in_bug_id ]"
   ]
  },
  {
   "cell_type": "code",
   "execution_count": null,
   "id": "74bad39e-0fe8-4297-bb1d-0f657d8f3c9f",
   "metadata": {},
   "outputs": [],
   "source": [
    "len(dup_id_not_in_bug_id)"
   ]
  },
  {
   "cell_type": "code",
   "execution_count": null,
   "id": "3b143df5-86fd-4a84-baf5-8b014e259ab3",
   "metadata": {},
   "outputs": [],
   "source": [
    "dup_id_not_in_bug_id = set(dup_id_not_in_bug_id)"
   ]
  },
  {
   "cell_type": "markdown",
   "id": "408b628c-cf89-4176-8bcc-9e9240c0c635",
   "metadata": {},
   "source": [
    "### Fetching the description for the duplicate ids that do not have the description"
   ]
  },
  {
   "cell_type": "code",
   "execution_count": null,
   "id": "8f70765a-1be8-456d-bb86-1ae165cbc949",
   "metadata": {},
   "outputs": [],
   "source": [
    "#Fetching description\n",
    "resp = None\n",
    "failed_count_dup = 0\n",
    "duplicates_dup = []\n",
    "comments_dup = {}\n",
    "tick = datetime.now()\n",
    "total = len(dup_id_not_in_bug_id)\n",
    "for idx, val in enumerate(dup_id_not_in_bug_id):\n",
    "    bug_url = 'https://bugzilla.mozilla.org/rest/bug/'+str(val)+'/comment'\n",
    "    resp = requests.get(bug_url)\n",
    "    try:\n",
    "        desc_dup = list(filter(lambda comments_dup: comments_dup['count'] == 0, resp.json()['bugs'][str(val)]['comments']))[0]['text']\n",
    "        comments_dup[val] = desc_dup\n",
    "        tock = datetime.now()\n",
    "        delta = tock - tick\n",
    "        with urllib.request.urlopen(\"https://bugzilla.mozilla.org/rest/bug/\"+str(val)) as url:\n",
    "            bug_data = json.loads(url.read().decode())\n",
    "        duplicates_dup.append(bug_data['bugs'][0]['dupe_of'])\n",
    "        print(f'\\r{idx}, Elapsed: {delta}, Remaining: {delta/idx * total}', end='')\n",
    "    except Exception as e:\n",
    "        failed_count_dup += 1"
   ]
  },
  {
   "cell_type": "code",
   "execution_count": null,
   "id": "a3b52f35-dce6-45d7-84a7-cc3d9b6c9100",
   "metadata": {},
   "outputs": [],
   "source": [
    "failed_count_dup"
   ]
  },
  {
   "cell_type": "code",
   "execution_count": null,
   "id": "8a59a575-75a6-4796-a722-c90253384f35",
   "metadata": {},
   "outputs": [],
   "source": [
    "dup_desc = pd.DataFrame(comments_dup.items(), columns=['Dup Id', 'Description'])\n",
    "dup_desc['Dup_Bug_Ids'] = duplicates_dup\n",
    "dup_desc"
   ]
  },
  {
   "cell_type": "code",
   "execution_count": null,
   "id": "8c49ad3f-1d5e-4dff-804d-f18e8fe9b1b7",
   "metadata": {},
   "outputs": [],
   "source": [
    "resp = None\n",
    "failed_count_dup = 0\n",
    "duplicates_dup = []\n",
    "\n",
    "comments_dup = {}\n",
    "summary_dup = {}\n",
    "creation_dup = {}\n",
    "resolution_dup = {}\n",
    "status_dup = {}\n",
    "product_dup = {}\n",
    "component_dup = {}\n",
    "\n",
    "tick = datetime.now()\n",
    "total = len(dup_id_not_in_bug_id)"
   ]
  },
  {
   "cell_type": "markdown",
   "id": "eb3e124d-77f7-4da4-b0e4-014a39800ad3",
   "metadata": {},
   "source": [
    "### Fetching the other features of the duplicate dataset"
   ]
  },
  {
   "cell_type": "code",
   "execution_count": null,
   "id": "26fc0895-939a-4708-a281-4a186d2b0f7d",
   "metadata": {},
   "outputs": [],
   "source": [
    "#Fetching all other features\n",
    "for idx, val in enumerate(dup_id_not_in_bug_id):\n",
    "    \n",
    "    bug_url = 'https://bugzilla.mozilla.org/rest/bug/'+str(val)\n",
    "    resp = requests.get(bug_url)\n",
    "    \n",
    "    try:\n",
    "        summ_dup = resp.json()['bugs'][0]['summary']\n",
    "        summary_dup[val] = summ_dup\n",
    "        create_dup =  resp.json()['bugs'][0]['creation_time']\n",
    "        creation_dup[val] = create_dup\n",
    "        \n",
    "        resolve_dup = resp.json()['bugs'][0]['resolution']\n",
    "        resolution_dup[val] = resolve_dup\n",
    "        \n",
    "        stat_dup = resp.json()['bugs'][0]['status']\n",
    "        status_dup[val] = stat_dup\n",
    "        \n",
    "        prod_dup = resp.json()['bugs'][0]['product']\n",
    "        product_dup[val] = prod_dup\n",
    "        \n",
    "        comp_dup = resp.json()['bugs'][0]['component']\n",
    "        component_dup[val] = comp_dup\n",
    "        \n",
    "        tock = datetime.now()\n",
    "        delta = tock - tick\n",
    "        with urllib.request.urlopen(\"https://bugzilla.mozilla.org/rest/bug/\"+str(val)) as url:\n",
    "            bug_data = json.loads(url.read().decode())\n",
    "        duplicates_dup.append(bug_data['bugs'][0]['dupe_of'])\n",
    "        print(f'\\r{idx}, Elapsed: {delta}, Remaining: {delta/idx * total}', end='')\n",
    "    except Exception as e:\n",
    "        failed_count_dup += 1"
   ]
  },
  {
   "cell_type": "code",
   "execution_count": null,
   "id": "ae024d2b-822e-469a-8e9b-1c73863ddc6a",
   "metadata": {},
   "outputs": [],
   "source": [
    "for idx, val in enumerate(dup_id_not_in_bug_id):\n",
    "    \n",
    "    bug_url = 'https://bugzilla.mozilla.org/rest/bug/'+str(val)+'/comment'\n",
    "    resp = requests.get(bug_url)\n",
    "    \n",
    "    try:\n",
    "        desc_dup = list(filter(lambda comments_dup: comments_dup['count'] == 0, resp.json()['bugs'][str(val)]['comments']))[0]['text']\n",
    "        comments_dup[val] = desc_dup\n",
    "        tock = datetime.now()\n",
    "        delta = tock - tick\n",
    "        print(f'\\r{idx}, Elapsed: {delta}, Remaining: {delta/idx * total}', end='')\n",
    "    except Exception as e:\n",
    "        failed_count_dup += 1"
   ]
  },
  {
   "cell_type": "code",
   "execution_count": null,
   "id": "86add8ea-5345-45ae-b08f-9dfb633c70a5",
   "metadata": {},
   "outputs": [],
   "source": [
    "dup_desc = pd.DataFrame(comments_dup.items(), columns=['Dup Id', 'Description'])\n",
    "dup_desc['Dup_Bug_Ids'] = duplicates_dup[:-1]\n",
    "dup_desc"
   ]
  },
  {
   "cell_type": "code",
   "execution_count": null,
   "id": "d0ee7558-7200-4ab7-b346-e36ca59fe4b7",
   "metadata": {},
   "outputs": [],
   "source": [
    "dup_summary = pd.DataFrame(summary_dup.items(), columns=['Dup Id', 'Summary'])\n",
    "# dup_summary['Dup_Bug_Ids'] = duplicates_dup\n",
    "dup_summary"
   ]
  },
  {
   "cell_type": "code",
   "execution_count": null,
   "id": "6f8fc4e3-67c0-4bf7-9b7c-67a7d0dd4224",
   "metadata": {},
   "outputs": [],
   "source": [
    "dup_createdtime = pd.DataFrame(creation_dup.items(), columns=['Dup Id', 'Created_time'])\n",
    "# dup_createdtime['Dup_Bug_Ids'] = duplicates_dup\n",
    "dup_createdtime"
   ]
  },
  {
   "cell_type": "code",
   "execution_count": null,
   "id": "fe88267c-a26a-4ebc-86ac-d897777a7dbe",
   "metadata": {},
   "outputs": [],
   "source": [
    "dup_resolution = pd.DataFrame(resolution_dup.items(), columns=['Dup Id', 'Resolution'])\n",
    "# dup_resolution['Dup_Bug_Ids'] = duplicates_dup\n",
    "dup_resolution"
   ]
  },
  {
   "cell_type": "code",
   "execution_count": null,
   "id": "4e16ca50-3d02-41df-85f4-09cf2df2b804",
   "metadata": {},
   "outputs": [],
   "source": [
    "dup_status = pd.DataFrame(status_dup.items(), columns=['Dup Id', 'Status'])\n",
    "# dup_status['Dup_Bug_Ids'] = duplicates_dup\n",
    "dup_status"
   ]
  },
  {
   "cell_type": "code",
   "execution_count": null,
   "id": "f47e2806-b232-4688-b193-105faff9b65b",
   "metadata": {},
   "outputs": [],
   "source": [
    "dup_product = pd.DataFrame(product_dup.items(), columns=['Dup Id', 'Product'])\n",
    "# dup_product['Dup_Bug_Ids'] = duplicates_dup\n",
    "dup_product"
   ]
  },
  {
   "cell_type": "code",
   "execution_count": null,
   "id": "b82660a2-4799-4ea1-a3a0-e864a1d25308",
   "metadata": {},
   "outputs": [],
   "source": [
    "dup_component = pd.DataFrame(component_dup.items(), columns=['Dup Id', 'Component'])\n",
    "# dup_component['Dup_Bug_Ids'] = duplicates_dup\n",
    "dup_component"
   ]
  },
  {
   "cell_type": "code",
   "execution_count": null,
   "id": "6f9203df-bc0b-4cb5-99d7-c7a74939d4c4",
   "metadata": {},
   "outputs": [],
   "source": [
    "data_merged = pd.merge(dup_desc,dup_summary,left_on=\"Dup Id\",right_on= \"Dup Id\")\n",
    "data_merged"
   ]
  },
  {
   "cell_type": "code",
   "execution_count": null,
   "id": "ab6b97b7-8f5b-4109-9db7-bb79baf41232",
   "metadata": {},
   "outputs": [],
   "source": [
    "data_merged = pd.merge(data_merged,dup_createdtime,left_on=\"Dup Id\",right_on= \"Dup Id\")\n",
    "data_merged"
   ]
  },
  {
   "cell_type": "code",
   "execution_count": null,
   "id": "dab5ffc3-b26d-4f67-9fcc-dc3e346fd268",
   "metadata": {},
   "outputs": [],
   "source": [
    "data_merged = pd.merge(data_merged,dup_resolution,left_on=\"Dup Id\",right_on= \"Dup Id\")\n",
    "data_merged"
   ]
  },
  {
   "cell_type": "code",
   "execution_count": null,
   "id": "b633a6f6-a982-4dcd-96d7-4e8293f24c95",
   "metadata": {},
   "outputs": [],
   "source": [
    "data_merged = pd.merge(data_merged,dup_status,left_on=\"Dup Id\",right_on= \"Dup Id\")\n",
    "data_merged"
   ]
  },
  {
   "cell_type": "code",
   "execution_count": null,
   "id": "3a21bd72-3313-4e78-8b64-f86bce14aa3b",
   "metadata": {},
   "outputs": [],
   "source": [
    "data_merged = pd.merge(data_merged,dup_product,left_on=\"Dup Id\",right_on= \"Dup Id\")\n",
    "data_merged"
   ]
  },
  {
   "cell_type": "code",
   "execution_count": null,
   "id": "de623dae-beb0-456a-be41-fcc5c44e9137",
   "metadata": {},
   "outputs": [],
   "source": [
    "data_merged = pd.merge(data_merged,dup_component,left_on=\"Dup Id\",right_on= \"Dup Id\")\n",
    "data_merged"
   ]
  },
  {
   "cell_type": "markdown",
   "id": "5cc74e48-2bf5-4e95-ad3e-f5fa9f01ffd7",
   "metadata": {},
   "source": [
    "### The final duplicate dataset with all the fields"
   ]
  },
  {
   "cell_type": "code",
   "execution_count": null,
   "id": "f94100b4-aff7-4031-8bc1-1b4516ce480a",
   "metadata": {},
   "outputs": [],
   "source": [
    "old_duplicate_data_mobile= data_merged[['Dup Id','Product','Component','Status','Resolution','Summary','Created_time','Description','Dup_Bug_Ids']]\n",
    "old_duplicate_data_mobile"
   ]
  },
  {
   "cell_type": "code",
   "execution_count": null,
   "id": "b7b362cf-9fd3-4a4a-917e-ee7ba71312ad",
   "metadata": {},
   "outputs": [],
   "source": [
    "not_nan_list = [x for x in old_duplicate_data_mobile.Dup_Bug_Ids if pd.isnull(x) == False and x != 'nan']\n",
    "len(not_nan_list)"
   ]
  },
  {
   "cell_type": "markdown",
   "id": "58c801ab-6798-4ee3-b929-255d34d01d0d",
   "metadata": {},
   "source": [
    "### Keeping only the data that have a duplicate i.e the duplicate id is not null"
   ]
  },
  {
   "cell_type": "code",
   "execution_count": null,
   "id": "5006f3ae-c31e-48cc-b8f4-f1469913a1d5",
   "metadata": {},
   "outputs": [],
   "source": [
    "old_duplicate_data_mobile.drop(old_duplicate_data_mobile.index[old_duplicate_data_mobile['Dup_Bug_Ids'] >= 0], inplace=True)\n",
    "old_duplicate_data_mobile                                                                                           "
   ]
  },
  {
   "cell_type": "code",
   "execution_count": null,
   "id": "51845571-2ad6-4211-95b3-44c290f70da0",
   "metadata": {},
   "outputs": [],
   "source": [
    "not_nan_list1 = [x for x in old_duplicate_data_mobile.Dup_Bug_Ids if pd.isnull(x) == False and x != 'nan']\n",
    "len(not_nan_list1)"
   ]
  },
  {
   "cell_type": "code",
   "execution_count": null,
   "id": "625c18a9-dee9-46be-beb5-58ec31577849",
   "metadata": {},
   "outputs": [],
   "source": [
    "old_duplicate_data_mobile =  old_duplicate_data_mobile.rename(columns={\"Dup Id\": \"Bug_Id\", \"Chnaged\": \"Changed\",\"Dup_Bug_Ids\":\"Duplicate_Bug_Ids\"})\n",
    "old_duplicate_data_mobile"
   ]
  },
  {
   "cell_type": "code",
   "execution_count": null,
   "id": "84766973-57ee-403e-be10-55ab398d8d57",
   "metadata": {},
   "outputs": [],
   "source": [
    "duplicate_dataset_mobile =  duplicate_dataset_mobile.rename(columns={\"Bug ID\": \"Bug_Id\"})\n",
    "duplicate_dataset_mobile"
   ]
  },
  {
   "cell_type": "code",
   "execution_count": null,
   "id": "44de97d1-272f-4e7c-a62b-28307b42b25c",
   "metadata": {},
   "outputs": [],
   "source": [
    "duplicate_dataset_mobile.reset_index(drop=True, inplace=True)\n",
    "duplicate_dataset_mobile"
   ]
  },
  {
   "cell_type": "markdown",
   "id": "458dab51-91fe-4448-9023-063f15d94df2",
   "metadata": {},
   "source": [
    "### Preprocessing the duplicate dataset"
   ]
  },
  {
   "cell_type": "code",
   "execution_count": null,
   "id": "eda8e84c-0d48-4e32-aea2-d706a320768c",
   "metadata": {},
   "outputs": [],
   "source": [
    "import re\n",
    "# as per recommendation from @freylis, compile once only\n",
    "CLEANR = re.compile('<.*?>|&([a-z0-9]+|#[0-9]{1,6}|#x[0-9a-f]{1,6});') \n",
    "\n",
    "def cleanhtml(raw_html):\n",
    "    cleantext = re.sub(CLEANR, '', raw_html)\n",
    "    return cleantext\n",
    "\n",
    "for index, row in old_duplicate_data_mobile.iterrows():\n",
    "    des =  row.Description\n",
    "    des = des.replace(\"\\n\",\" \")\n",
    "    des = cleanhtml(des)\n",
    "    if(len(des)>=500):\n",
    "        row.Description = des[:500]\n",
    "        \n",
    "#Text Cleaning round 1 (removing punctutions)\n",
    "import re\n",
    "import string\n",
    "\n",
    "def clean_text_round1(text):\n",
    "    '''Make text lowercase, remove text in square brackets, remove punctuation and remove words containing numbers.'''\n",
    "#     print(text)\n",
    "    text = re.sub('\\w*\\d\\w*', ' ', text)\n",
    "    text = re.sub('\\w*\\f\\w*', ' ', text)\n",
    "    text = re.sub('\\(.*?\\)', ' ', text)\n",
    "    text = re.sub('\\[.*]\\)', ' ', text)\n",
    "    text = re.sub(r'https?://[A-Za-z0-9./]+',' ',text)\n",
    "    text = text.lower()\n",
    "    text = re.sub('[%s]' % re.escape(string.punctuation), ' ', text)\n",
    "    return text\n",
    "\n",
    "round1 = lambda x: clean_text_round1(x)\n",
    "\n",
    "old_duplicate_data_mobile = old_duplicate_data_mobile.dropna(axis=0, subset=['Description'])\n",
    "old_duplicate_data_mobile['Description'] = old_duplicate_data_mobile['Description'].apply(clean_text_round1)\n",
    "\n",
    "# Apply a second round of cleaning (removing punctuations)\n",
    "def clean_text_round2(text):\n",
    "    '''Get rid of some additional punctuation and non-sensical text that was missed the first time around.'''\n",
    "    text = re.sub('[‘’“”…]', ' ', text)\n",
    "    text = re.sub('\\n', ' ', text)\n",
    "    text = re.sub('\\t', ' ', text)\n",
    "    return text\n",
    "\n",
    "round2 = lambda x: clean_text_round2(x)\n",
    "\n",
    "old_duplicate_data_mobile['Description'] = old_duplicate_data_mobile['Description'].apply(clean_text_round2)"
   ]
  },
  {
   "cell_type": "code",
   "execution_count": null,
   "id": "e81ba2e5-0389-4269-853a-6fff59890a11",
   "metadata": {},
   "outputs": [],
   "source": [
    "old_duplicate_data_mobile"
   ]
  },
  {
   "cell_type": "code",
   "execution_count": null,
   "id": "9285e608-6581-4c1e-8142-cc7cc54e68b9",
   "metadata": {},
   "outputs": [],
   "source": [
    "old_duplicate_data_mobile = old_duplicate_data_mobile.rename(columns={\"Created_time\": \"Changed\"})"
   ]
  },
  {
   "cell_type": "markdown",
   "id": "4f7f18b8-89d3-4596-8b95-ca2fb6fd7f04",
   "metadata": {},
   "source": [
    "### The final preproccessed duplicate dataset"
   ]
  },
  {
   "cell_type": "code",
   "execution_count": null,
   "id": "94994134-3a7d-4f9f-bad3-3b4d506e2204",
   "metadata": {},
   "outputs": [],
   "source": [
    "final_duplicate_data_merged = pd.concat([old_duplicate_data_mobile, duplicate_dataset_mobile], ignore_index=True)\n",
    "final_duplicate_data_merged"
   ]
  },
  {
   "cell_type": "code",
   "execution_count": null,
   "id": "ff6348f5-d4c2-4700-9b4b-e5c91d1fd9a1",
   "metadata": {},
   "outputs": [],
   "source": [
    "final_duplicate_data_merged.to_csv(\"mobile_duplicate_total.csv\")"
   ]
  },
  {
   "cell_type": "markdown",
   "id": "75943d56-578a-46c4-b81e-b51728df4677",
   "metadata": {},
   "source": [
    "### Reading the whole preproccessed dataset"
   ]
  },
  {
   "cell_type": "code",
   "execution_count": null,
   "id": "295e037c-ac67-4059-addb-eb852cf7ca21",
   "metadata": {},
   "outputs": [],
   "source": [
    "fd_copy2 = df.copy()\n",
    "fd_copy2"
   ]
  },
  {
   "cell_type": "markdown",
   "id": "5f2e1957-80d7-4de0-ae86-a8df3c03addd",
   "metadata": {},
   "source": [
    "## Splitting the dataset into training and testing set"
   ]
  },
  {
   "cell_type": "code",
   "execution_count": null,
   "id": "34b759d3-b311-4e8e-bb60-35b9bcf96bfc",
   "metadata": {},
   "outputs": [],
   "source": [
    "import random\n",
    "import sklearn\n",
    "from sklearn.model_selection import train_test_split"
   ]
  },
  {
   "cell_type": "code",
   "execution_count": null,
   "id": "8d1a5ed6-8f28-4cd0-8611-08e4f3c8e365",
   "metadata": {},
   "outputs": [],
   "source": [
    "training_dataset ,test_dataset= sklearn.model_selection.train_test_split(fd_copy2, train_size=0.8, test_size=0.2)"
   ]
  },
  {
   "cell_type": "code",
   "execution_count": null,
   "id": "f00a840f-42c8-4c58-89ee-a88e7520367b",
   "metadata": {},
   "outputs": [],
   "source": [
    "nan_value = float(\"NaN\")\n",
    "test_dataset.replace(\"\", nan_value, inplace=True)\n",
    "test_dataset.dropna(subset = [\"Description\"], inplace=True)"
   ]
  },
  {
   "cell_type": "code",
   "execution_count": null,
   "id": "b5be16c9-6847-45d6-915c-cec7f337aef4",
   "metadata": {},
   "outputs": [],
   "source": [
    "cond = (test_dataset['Description'] == 'NaN')\n",
    "cond.unique()"
   ]
  },
  {
   "cell_type": "code",
   "execution_count": null,
   "id": "e9216438-d057-4a7d-aeaf-ec20d503bd87",
   "metadata": {},
   "outputs": [],
   "source": [
    "test_dataset.to_csv(\"mobile_testing_dataset.csv\",index = None)"
   ]
  },
  {
   "cell_type": "code",
   "execution_count": null,
   "id": "21bfd8c5-878e-4971-98b0-f4c252bcceba",
   "metadata": {},
   "outputs": [],
   "source": [
    "training_dataset"
   ]
  },
  {
   "cell_type": "code",
   "execution_count": null,
   "id": "6531532d-6ef6-400b-adf7-3cc25b2b0fdd",
   "metadata": {},
   "outputs": [],
   "source": [
    "training_dataset.to_csv(\"mobile_training_dataset.csv\",index = None)"
   ]
  },
  {
   "cell_type": "markdown",
   "id": "d67c67b0-1e0d-4600-8a15-495dd4cf068a",
   "metadata": {},
   "source": [
    "#### Merging the newly fetched duplicate data with the whole dataset"
   ]
  },
  {
   "cell_type": "code",
   "execution_count": null,
   "id": "0f326e76-5f98-43fe-a11a-565bb0c57738",
   "metadata": {},
   "outputs": [],
   "source": [
    "total_d = pd.concat([old_duplicate_data_mobile, df], ignore_index=True)\n",
    "total_d"
   ]
  },
  {
   "cell_type": "markdown",
   "id": "9724626d-56e7-4fc6-a266-ec275c3b40ac",
   "metadata": {},
   "source": [
    "## Running TF-IDF on the duplicate dataset for splitting into textually similar and dissimilar "
   ]
  },
  {
   "cell_type": "code",
   "execution_count": null,
   "id": "c96cda2c-15ac-4526-9d0d-f6472be69e2f",
   "metadata": {},
   "outputs": [],
   "source": [
    "fd_dup= final_duplicate_data_merged.copy()\n",
    "fd_dup"
   ]
  },
  {
   "cell_type": "code",
   "execution_count": null,
   "id": "13efc9ff-a6dd-43bc-9f16-6ea2d05cf89c",
   "metadata": {},
   "outputs": [],
   "source": [
    "ted = fd_dup['Description']\n",
    "from sklearn.feature_extraction.text import TfidfVectorizer\n",
    "\n",
    "# Create TfidfVectorizer object\n",
    "vectorizer = TfidfVectorizer()\n",
    "\n",
    "# Generate matrix of word vectors\n",
    "tfidf_matrix = vectorizer.fit_transform(ted)\n",
    "\n",
    "# Print the shape of tfidf_matrix\n",
    "print(tfidf_matrix.shape)"
   ]
  },
  {
   "cell_type": "markdown",
   "id": "8ff932ff-ecda-4103-8f34-c45af9b4b76f",
   "metadata": {},
   "source": [
    "### Computing the cosine similarity of the duplicate dataset"
   ]
  },
  {
   "cell_type": "code",
   "execution_count": null,
   "id": "c4526b93-6338-4b34-a713-ea5681d3a401",
   "metadata": {},
   "outputs": [],
   "source": [
    "from sklearn.metrics.pairwise import cosine_similarity\n",
    "\n",
    "# Initialize an instance of tf-idf Vectorizer\n",
    "tfidf_vectorizer = TfidfVectorizer()\n",
    "\n",
    "# Generate the tf-idf vectors for the corpus\n",
    "tfidf_matrix = tfidf_vectorizer.fit_transform(ted)\n",
    "\n",
    "# compute and print the cosine similarity matrix\n",
    "cosine_sim = cosine_similarity(tfidf_matrix, tfidf_matrix)\n",
    "print(cosine_sim)"
   ]
  },
  {
   "cell_type": "code",
   "execution_count": null,
   "id": "64b8b0dd-edb2-48dd-8e22-65fc26749093",
   "metadata": {},
   "outputs": [],
   "source": [
    "print(len(cosine_sim))\n",
    "print(cosine_sim.shape)"
   ]
  },
  {
   "cell_type": "code",
   "execution_count": null,
   "id": "cab78303-6815-4a4f-85dd-07b9a3a04143",
   "metadata": {},
   "outputs": [],
   "source": [
    "import numpy as np"
   ]
  },
  {
   "cell_type": "code",
   "execution_count": null,
   "id": "b7622efb-a298-43b9-b7f5-87c26d97e93e",
   "metadata": {},
   "outputs": [],
   "source": [
    "avg =np.average(cosine_sim, axis=1)\n",
    "cosine_sim[1]"
   ]
  },
  {
   "cell_type": "code",
   "execution_count": null,
   "id": "7a9881f7-aead-4bf9-a060-3c47a0ef2e01",
   "metadata": {},
   "outputs": [],
   "source": [
    "avg_df = pd.DataFrame(avg, columns = ['Avg_Sim_Score'])\n",
    "\n",
    "print(avg_df)\n",
    "print(type(avg_df))"
   ]
  },
  {
   "cell_type": "code",
   "execution_count": null,
   "id": "4fb49607-038f-4123-ad5a-c0fc54a908f8",
   "metadata": {},
   "outputs": [],
   "source": [
    "len(avg_df)"
   ]
  },
  {
   "cell_type": "code",
   "execution_count": null,
   "id": "ebf82724-8a30-4b41-a76d-cda68563cd42",
   "metadata": {},
   "outputs": [],
   "source": [
    "avg_for_sorting = pd.DataFrame(avg_df)"
   ]
  },
  {
   "cell_type": "code",
   "execution_count": null,
   "id": "6a7932e8-7c07-410a-a2f9-c4c1c592eecd",
   "metadata": {},
   "outputs": [],
   "source": [
    "sorted= avg_for_sorting.sort_values(by='Avg_Sim_Score', ascending=False)"
   ]
  },
  {
   "cell_type": "code",
   "execution_count": null,
   "id": "bec5ffb6-35e8-407a-8e9e-241532738af9",
   "metadata": {},
   "outputs": [],
   "source": [
    "from scipy.stats import skew\n",
    "#testing skewness of distribution\n",
    "print(skew(avg))\n",
    "print(skew(avg, bias=False))"
   ]
  },
  {
   "cell_type": "code",
   "execution_count": null,
   "id": "b402da70-d20f-4829-af06-b0ae55eb6a15",
   "metadata": {},
   "outputs": [],
   "source": [
    "print(statistics.median(avg))"
   ]
  },
  {
   "cell_type": "code",
   "execution_count": null,
   "id": "41d0b85a-de93-40fa-b152-70e82dd3c9ed",
   "metadata": {},
   "outputs": [],
   "source": [
    "import statistics\n",
    "# Calculate mean values\n",
    "print(statistics.mean(avg))"
   ]
  },
  {
   "cell_type": "code",
   "execution_count": null,
   "id": "233bb861-5b82-4754-8a37-66bd07b2706a",
   "metadata": {},
   "outputs": [],
   "source": [
    "max_value = avg.max()\n",
    "print(max_value)\n",
    "min_value = avg.min()\n",
    "print(min_value)"
   ]
  },
  {
   "cell_type": "code",
   "execution_count": null,
   "id": "98e4c0d8-394d-4c04-81ad-6307bcccefde",
   "metadata": {},
   "outputs": [],
   "source": [
    "avg_df.values"
   ]
  },
  {
   "cell_type": "code",
   "execution_count": null,
   "id": "84c6cf32-cc16-4c1b-8405-164fd46c45a0",
   "metadata": {},
   "outputs": [],
   "source": [
    "fd_dup1= final_duplicate_data_merged.copy()\n",
    "fd_dup1"
   ]
  },
  {
   "cell_type": "code",
   "execution_count": null,
   "id": "cafc7bc5-0244-481f-9358-972bc775f949",
   "metadata": {},
   "outputs": [],
   "source": [
    "fd_dup1.insert(loc=7,\n",
    "          column='Average_Cos_Similarity_Score',\n",
    "          value=avg_df.values)"
   ]
  },
  {
   "cell_type": "code",
   "execution_count": null,
   "id": "d66b9fdf-19ac-4715-accc-326dad24b6ad",
   "metadata": {},
   "outputs": [],
   "source": [
    "fd_dup1"
   ]
  },
  {
   "cell_type": "markdown",
   "id": "8611e548-8631-4a5d-bc01-3bf36c43035e",
   "metadata": {},
   "source": [
    "### Textually similar data"
   ]
  },
  {
   "cell_type": "code",
   "execution_count": null,
   "id": "dad682ca-1bd0-4ddb-b234-0265ee1bd415",
   "metadata": {},
   "outputs": [],
   "source": [
    "score_similar = fd_dup1[fd_dup1['Average_Cos_Similarity_Score'] < 0.05700488919422861]"
   ]
  },
  {
   "cell_type": "code",
   "execution_count": null,
   "id": "472e5678-75d5-4b1e-b31d-68dcd8f10204",
   "metadata": {},
   "outputs": [],
   "source": [
    "score_similar"
   ]
  },
  {
   "cell_type": "code",
   "execution_count": null,
   "id": "f2c2b35f-ceec-4b4f-bdbb-f186d977989d",
   "metadata": {},
   "outputs": [],
   "source": [
    "score_similar.to_csv(\"mobile_textually_similar_duplicates.csv\")"
   ]
  },
  {
   "cell_type": "markdown",
   "id": "65a19107-070a-4486-b34a-84326d251990",
   "metadata": {},
   "source": [
    "### Textually Dissimilar data"
   ]
  },
  {
   "cell_type": "code",
   "execution_count": null,
   "id": "9688714f-cd51-448f-b9b1-c50783c0b66a",
   "metadata": {},
   "outputs": [],
   "source": [
    "score_dissimilar = fd_dup1[fd_dup1['Average_Cos_Similarity_Score'] >= 0.05700488919422861]"
   ]
  },
  {
   "cell_type": "code",
   "execution_count": null,
   "id": "5946e540-fdb2-4282-86e7-1c0338cb304a",
   "metadata": {},
   "outputs": [],
   "source": [
    "score_dissimilar"
   ]
  },
  {
   "cell_type": "code",
   "execution_count": null,
   "id": "6be6b5ba-5fbf-42df-bb40-78858fa419be",
   "metadata": {},
   "outputs": [],
   "source": [
    "score_dissimilar.to_csv(\"mobile_textually_dissimilar_duplicates.csv\")"
   ]
  }
 ],
 "metadata": {
  "kernelspec": {
   "display_name": "Python 3",
   "language": "python",
   "name": "python3"
  },
  "language_info": {
   "codemirror_mode": {
    "name": "ipython",
    "version": 3
   },
   "file_extension": ".py",
   "mimetype": "text/x-python",
   "name": "python",
   "nbconvert_exporter": "python",
   "pygments_lexer": "ipython3",
   "version": "3.7.11"
  }
 },
 "nbformat": 4,
 "nbformat_minor": 5
}
