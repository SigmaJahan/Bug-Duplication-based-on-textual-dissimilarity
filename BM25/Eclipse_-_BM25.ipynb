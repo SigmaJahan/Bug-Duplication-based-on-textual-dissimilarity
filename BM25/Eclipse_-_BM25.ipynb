{
 "cells": [
  {
   "cell_type": "code",
   "execution_count": 1,
   "id": "07dfacbc",
   "metadata": {
    "id": "d154ccb2-36b6-4a8f-9ac1-30874bedb739"
   },
   "outputs": [],
   "source": [
    "import pandas as pd\n",
    "import requests\n",
    "import json\n",
    "import urllib.request\n",
    "import time\n",
    "from bs4 import BeautifulSoup\n",
    "import re\n",
    "import numpy as np"
   ]
  },
  {
   "cell_type": "code",
   "execution_count": 2,
   "id": "44e63681",
   "metadata": {
    "id": "c48433fb-1407-4c5f-aba5-361673dd0a8a"
   },
   "outputs": [],
   "source": [
    "from rank_bm25 import BM25Okapi\n",
    "from nltk.tokenize import word_tokenize"
   ]
  },
  {
   "cell_type": "code",
   "execution_count": 3,
   "id": "c241d148",
   "metadata": {
    "id": "9c11819f-b0bd-47d5-a527-28909638b503"
   },
   "outputs": [],
   "source": [
    "data = pd.read_csv(\"../Eclipse/final_eclipse_data_15thmarch.csv\")"
   ]
  },
  {
   "cell_type": "code",
   "execution_count": 4,
   "id": "977f7a58",
   "metadata": {
    "id": "45ce8917-bb61-4944-880a-1888e3a463d7"
   },
   "outputs": [],
   "source": [
    "sentences = data['Description']"
   ]
  },
  {
   "cell_type": "code",
   "execution_count": 5,
   "id": "91f1753e",
   "metadata": {
    "id": "a9248266-9549-4e72-9b19-982918a3ef05",
    "outputId": "33a270c0-b0d6-47c9-b1d1-fd0d162f9231"
   },
   "outputs": [
    {
     "data": {
      "text/html": [
       "<div>\n",
       "<style scoped>\n",
       "    .dataframe tbody tr th:only-of-type {\n",
       "        vertical-align: middle;\n",
       "    }\n",
       "\n",
       "    .dataframe tbody tr th {\n",
       "        vertical-align: top;\n",
       "    }\n",
       "\n",
       "    .dataframe thead th {\n",
       "        text-align: right;\n",
       "    }\n",
       "</style>\n",
       "<table border=\"1\" class=\"dataframe\">\n",
       "  <thead>\n",
       "    <tr style=\"text-align: right;\">\n",
       "      <th></th>\n",
       "      <th>Bug_ID</th>\n",
       "      <th>Product</th>\n",
       "      <th>Component</th>\n",
       "      <th>Status</th>\n",
       "      <th>Resolution</th>\n",
       "      <th>Summary</th>\n",
       "      <th>Changed</th>\n",
       "      <th>Description</th>\n",
       "      <th>Duplicate_Bug_Ids</th>\n",
       "    </tr>\n",
       "  </thead>\n",
       "  <tbody>\n",
       "    <tr>\n",
       "      <th>0</th>\n",
       "      <td>518088.0</td>\n",
       "      <td>Web Tools</td>\n",
       "      <td>Web Standard Tools</td>\n",
       "      <td>RESOLVED</td>\n",
       "      <td>INVALID</td>\n",
       "      <td>search widget is not working</td>\n",
       "      <td>2017-06-10 14:42:10</td>\n",
       "      <td>search widget is not working</td>\n",
       "      <td>NaN</td>\n",
       "    </tr>\n",
       "    <tr>\n",
       "      <th>1</th>\n",
       "      <td>546444.0</td>\n",
       "      <td>z_Archived</td>\n",
       "      <td>PDT</td>\n",
       "      <td>CLOSED</td>\n",
       "      <td>NOT_ECLIPSE</td>\n",
       "      <td>Bug</td>\n",
       "      <td>2020-05-14 11:25:40</td>\n",
       "      <td>created attachment   eclipse   hello world</td>\n",
       "      <td>NaN</td>\n",
       "    </tr>\n",
       "    <tr>\n",
       "      <th>2</th>\n",
       "      <td>533893.0</td>\n",
       "      <td>Platform</td>\n",
       "      <td>Website</td>\n",
       "      <td>RESOLVED</td>\n",
       "      <td>INVALID</td>\n",
       "      <td>AntCompareCVSDebugDocIDEIncubatorPMCRelengReso...</td>\n",
       "      <td>2018-04-22 12:23:23</td>\n",
       "      <td>created attachment   error in website  antcomp...</td>\n",
       "      <td>NaN</td>\n",
       "    </tr>\n",
       "    <tr>\n",
       "      <th>3</th>\n",
       "      <td>519449.0</td>\n",
       "      <td>PDE</td>\n",
       "      <td>UI</td>\n",
       "      <td>VERIFIED</td>\n",
       "      <td>FIXED</td>\n",
       "      <td>Problem with KEY_NAME</td>\n",
       "      <td>2017-08-03 03:21:28</td>\n",
       "      <td>in  product pluginsection recommendedbundles m...</td>\n",
       "      <td>NaN</td>\n",
       "    </tr>\n",
       "    <tr>\n",
       "      <th>4</th>\n",
       "      <td>519450.0</td>\n",
       "      <td>JDT</td>\n",
       "      <td>UI</td>\n",
       "      <td>RESOLVED</td>\n",
       "      <td>FIXED</td>\n",
       "      <td>Problem with KEY_NAME</td>\n",
       "      <td>2017-07-13 09:43:02</td>\n",
       "      <td>in  renametyperefactoring another type the tem...</td>\n",
       "      <td>NaN</td>\n",
       "    </tr>\n",
       "    <tr>\n",
       "      <th>...</th>\n",
       "      <td>...</td>\n",
       "      <td>...</td>\n",
       "      <td>...</td>\n",
       "      <td>...</td>\n",
       "      <td>...</td>\n",
       "      <td>...</td>\n",
       "      <td>...</td>\n",
       "      <td>...</td>\n",
       "      <td>...</td>\n",
       "    </tr>\n",
       "    <tr>\n",
       "      <th>49239</th>\n",
       "      <td>543844.0</td>\n",
       "      <td>Equinox</td>\n",
       "      <td>Framework</td>\n",
       "      <td>RESOLVED</td>\n",
       "      <td>FIXED</td>\n",
       "      <td>FrameworkExtensionInstaller in dev mode is una...</td>\n",
       "      <td>2019-01-25T16:49:13Z</td>\n",
       "      <td>if       string   devpaths   configuration get...</td>\n",
       "      <td>NaN</td>\n",
       "    </tr>\n",
       "    <tr>\n",
       "      <th>49240</th>\n",
       "      <td>541635.0</td>\n",
       "      <td>Platform</td>\n",
       "      <td>SWT</td>\n",
       "      <td>VERIFIED</td>\n",
       "      <td>FIXED</td>\n",
       "      <td>[Wayland] Random behaviour when moving editor ...</td>\n",
       "      <td>2018-11-28T12:52:44Z</td>\n",
       "      <td>hello   first  thank you for your last fixes a...</td>\n",
       "      <td>NaN</td>\n",
       "    </tr>\n",
       "    <tr>\n",
       "      <th>49241</th>\n",
       "      <td>555559.0</td>\n",
       "      <td>Capella</td>\n",
       "      <td>UI</td>\n",
       "      <td>RESOLVED</td>\n",
       "      <td>FIXED</td>\n",
       "      <td>Double-clicking on an Element should not fold/...</td>\n",
       "      <td>2017-08-25T13:34:38Z</td>\n",
       "      <td>double clicking on an element should not fold ...</td>\n",
       "      <td>NaN</td>\n",
       "    </tr>\n",
       "    <tr>\n",
       "      <th>49242</th>\n",
       "      <td>518157.0</td>\n",
       "      <td>JDT</td>\n",
       "      <td>Core</td>\n",
       "      <td>VERIFIED</td>\n",
       "      <td>FIXED</td>\n",
       "      <td>A Class&lt;? extends RawType&gt; = Impl.class where ...</td>\n",
       "      <td>2017-06-13T00:58:14Z</td>\n",
       "      <td>overview  this is a new bug in oxygen  neo...</td>\n",
       "      <td>NaN</td>\n",
       "    </tr>\n",
       "    <tr>\n",
       "      <th>49243</th>\n",
       "      <td>565863.0</td>\n",
       "      <td>Community</td>\n",
       "      <td>CI-Jenkins</td>\n",
       "      <td>CLOSED</td>\n",
       "      <td>FIXED</td>\n",
       "      <td>Review memory usage for jobs in jakartaee-tck CI</td>\n",
       "      <td>2020-08-06T13:55:30Z</td>\n",
       "      <td>hi   we are facing an issue in jakartaee tck p...</td>\n",
       "      <td>NaN</td>\n",
       "    </tr>\n",
       "  </tbody>\n",
       "</table>\n",
       "<p>49244 rows × 9 columns</p>\n",
       "</div>"
      ],
      "text/plain": [
       "         Bug_ID     Product           Component    Status   Resolution  \\\n",
       "0      518088.0   Web Tools  Web Standard Tools  RESOLVED      INVALID   \n",
       "1      546444.0  z_Archived                 PDT    CLOSED  NOT_ECLIPSE   \n",
       "2      533893.0    Platform             Website  RESOLVED      INVALID   \n",
       "3      519449.0         PDE                  UI  VERIFIED        FIXED   \n",
       "4      519450.0         JDT                  UI  RESOLVED        FIXED   \n",
       "...         ...         ...                 ...       ...          ...   \n",
       "49239  543844.0     Equinox           Framework  RESOLVED        FIXED   \n",
       "49240  541635.0    Platform                 SWT  VERIFIED        FIXED   \n",
       "49241  555559.0     Capella                  UI  RESOLVED        FIXED   \n",
       "49242  518157.0         JDT                Core  VERIFIED        FIXED   \n",
       "49243  565863.0   Community          CI-Jenkins    CLOSED        FIXED   \n",
       "\n",
       "                                                 Summary  \\\n",
       "0                           search widget is not working   \n",
       "1                                                    Bug   \n",
       "2      AntCompareCVSDebugDocIDEIncubatorPMCRelengReso...   \n",
       "3                                  Problem with KEY_NAME   \n",
       "4                                  Problem with KEY_NAME   \n",
       "...                                                  ...   \n",
       "49239  FrameworkExtensionInstaller in dev mode is una...   \n",
       "49240  [Wayland] Random behaviour when moving editor ...   \n",
       "49241  Double-clicking on an Element should not fold/...   \n",
       "49242  A Class<? extends RawType> = Impl.class where ...   \n",
       "49243   Review memory usage for jobs in jakartaee-tck CI   \n",
       "\n",
       "                    Changed  \\\n",
       "0       2017-06-10 14:42:10   \n",
       "1       2020-05-14 11:25:40   \n",
       "2       2018-04-22 12:23:23   \n",
       "3       2017-08-03 03:21:28   \n",
       "4       2017-07-13 09:43:02   \n",
       "...                     ...   \n",
       "49239  2019-01-25T16:49:13Z   \n",
       "49240  2018-11-28T12:52:44Z   \n",
       "49241  2017-08-25T13:34:38Z   \n",
       "49242  2017-06-13T00:58:14Z   \n",
       "49243  2020-08-06T13:55:30Z   \n",
       "\n",
       "                                             Description  Duplicate_Bug_Ids  \n",
       "0                           search widget is not working                NaN  \n",
       "1            created attachment   eclipse   hello world                 NaN  \n",
       "2      created attachment   error in website  antcomp...                NaN  \n",
       "3      in  product pluginsection recommendedbundles m...                NaN  \n",
       "4      in  renametyperefactoring another type the tem...                NaN  \n",
       "...                                                  ...                ...  \n",
       "49239  if       string   devpaths   configuration get...                NaN  \n",
       "49240  hello   first  thank you for your last fixes a...                NaN  \n",
       "49241  double clicking on an element should not fold ...                NaN  \n",
       "49242      overview  this is a new bug in oxygen  neo...                NaN  \n",
       "49243  hi   we are facing an issue in jakartaee tck p...                NaN  \n",
       "\n",
       "[49244 rows x 9 columns]"
      ]
     },
     "execution_count": 5,
     "metadata": {},
     "output_type": "execute_result"
    }
   ],
   "source": [
    "data"
   ]
  },
  {
   "cell_type": "code",
   "execution_count": 6,
   "id": "eb2c2623",
   "metadata": {
    "id": "90f7a418-5a17-47da-a622-ace114f4e66b"
   },
   "outputs": [],
   "source": [
    "tokens = []\n",
    "#sentences=\"helloo dear, sdlm skdj \"\n",
    "for s in sentences:\n",
    "    cleanedTex=re.sub(r'[^\\w\\s]','',str(s)).lower()\n",
    "    words = (word_tokenize(cleanedTex))\n",
    "    tokens .append(words)"
   ]
  },
  {
   "cell_type": "code",
   "execution_count": 7,
   "id": "b2667d45",
   "metadata": {
    "id": "383425d1-f4da-4ad2-b3da-4c42f48e3351"
   },
   "outputs": [],
   "source": [
    "bm25 = BM25Okapi(tokens)"
   ]
  },
  {
   "cell_type": "code",
   "execution_count": 8,
   "id": "f080aff3",
   "metadata": {
    "id": "1940f2ea-5861-4041-ac3e-c8c2cd7cb392"
   },
   "outputs": [],
   "source": [
    "data = data.rename(columns = {\"Bug_ID\":\"Bug_Id\"})"
   ]
  },
  {
   "cell_type": "code",
   "execution_count": 9,
   "id": "86f1faaa",
   "metadata": {
    "id": "316a9a43-445a-4d86-a441-3be37376afc3"
   },
   "outputs": [],
   "source": [
    "nan_value = float(\"NaN\")\n",
    "data.replace(\"\", nan_value, inplace=True)\n",
    "data.dropna(subset = [\"Description\"], inplace=True)\n",
    "cond = (data['Description'] == 'NaN')\n",
    "cond.unique()\n",
    "data = data.reset_index(drop=True)"
   ]
  },
  {
   "cell_type": "code",
   "execution_count": 10,
   "id": "d1858bca",
   "metadata": {
    "id": "0781d1f9-6db3-48dc-b9d2-13b00070b479",
    "outputId": "bf6eed77-e5c2-4ebc-fdfc-70e063afa12c"
   },
   "outputs": [
    {
     "data": {
      "text/plain": [
       "0                             search widget is not working\n",
       "1              created attachment   eclipse   hello world \n",
       "2        created attachment   error in website  antcomp...\n",
       "3        in  product pluginsection recommendedbundles m...\n",
       "4        in  renametyperefactoring another type the tem...\n",
       "                               ...                        \n",
       "49239    if       string   devpaths   configuration get...\n",
       "49240    hello   first  thank you for your last fixes a...\n",
       "49241    double clicking on an element should not fold ...\n",
       "49242        overview  this is a new bug in oxygen  neo...\n",
       "49243    hi   we are facing an issue in jakartaee tck p...\n",
       "Name: Description, Length: 49244, dtype: object"
      ]
     },
     "execution_count": 10,
     "metadata": {},
     "output_type": "execute_result"
    }
   ],
   "source": [
    "data['Description']"
   ]
  },
  {
   "cell_type": "code",
   "execution_count": 13,
   "id": "80dfbfe1",
   "metadata": {
    "id": "f8ffa266-6f94-465e-83ec-d03bbd90802c"
   },
   "outputs": [],
   "source": [
    "data['Description']=data['Description'].values.astype('object')"
   ]
  },
  {
   "cell_type": "markdown",
   "id": "369c09bc",
   "metadata": {
    "id": "dc3e7090-6fac-4a69-a583-ec2d862cdfa4"
   },
   "source": [
    "### On complete data"
   ]
  },
  {
   "cell_type": "code",
   "execution_count": 14,
   "id": "92766405",
   "metadata": {
    "id": "7ba45490-6d9f-4509-b6c3-802f19465d30"
   },
   "outputs": [],
   "source": [
    "count=0\n",
    "dup_indices_with_bug_id = {}\n",
    "similarity_scores_before = []\n",
    "similarity_scores = {}\n",
    "issues = data.Bug_Id\n",
    "\n",
    "for i, row in data.iterrows():\n",
    "    \n",
    "    issue_id = row.Bug_Id\n",
    "    dup_id = row.Duplicate_Bug_Ids\n",
    "    \n",
    "    if dup_id not in issues.values:\n",
    "        count+=1\n",
    "#         print(f'{i}. Duplicate ID {dup_id} not found in issue IDs')\n",
    "        continue\n",
    "\n",
    "    similarity_row = bm25.get_scores(tokens[i])\n",
    "    argsort_similarity = np.argsort(similarity_row)[::-1][1:]\n",
    "    similarity_scores_before = (np.sort(similarity_row)[::-1][1:])\n",
    "#     similarity_scores[issue_id] = np.min(similarity_scores_before[np.nonzero(similarity_scores_before)])\n",
    "    dup_bug_index = list(issues[issues == dup_id].index)[0]\n",
    "    dup_ranking = np.argmax(argsort_similarity == np.int64(dup_bug_index))\n",
    "    \n",
    "    dup_indices_with_bug_id[issue_id] = dup_ranking\n",
    "# print(count)"
   ]
  },
  {
   "cell_type": "code",
   "execution_count": 15,
   "id": "2aa7a9a3",
   "metadata": {
    "id": "82e7cd84-42ab-4866-b4f5-5fa856188d40",
    "outputId": "24c0b232-3357-4fde-c18f-f36ac20534c1"
   },
   "outputs": [
    {
     "name": "stdout",
     "output_type": "stream",
     "text": [
      "count at 1 324\n",
      "count at 5 924\n",
      "count at 10 1102\n",
      "count at 20 1259\n",
      "count at 25 1313\n",
      "count at 30 1351\n",
      "count at 50 1449\n",
      "count at 75 1543\n",
      "count at 100 1608\n",
      "recall_rate_at_1 0.10106051154086089\n",
      "recall_rate_at_5 0.28820960698689957\n",
      "recall_rate_at_10 0.3437305053025577\n",
      "recall_rate_at_20 0.3927011852776045\n",
      "recall_rate_at_25 0.409544603867748\n",
      "recall_rate_at_30 0.42139737991266374\n",
      "recall_rate_at_50 0.4519650655021834\n",
      "recall_rate_at_75 0.48128509045539614\n",
      "recall_rate_at_10 0.5015595757953837\n"
     ]
    }
   ],
   "source": [
    "count_at_1=0\n",
    "count_at_5=0\n",
    "count_at_10=0\n",
    "count_at_20=0\n",
    "count_at_25=0\n",
    "count_at_30=0\n",
    "count_at_50=0\n",
    "count_at_75=0\n",
    "count_at_100=0\n",
    "\n",
    "for key, value in enumerate(dup_indices_with_bug_id.values()):\n",
    "    if(value < 1):\n",
    "        count_at_1+=1\n",
    "    if(value < 5):\n",
    "        count_at_5+=1\n",
    "    if(value < 10):\n",
    "        count_at_10+=1\n",
    "    if(value < 20):\n",
    "        count_at_20+=1\n",
    "    if(value < 25):\n",
    "        count_at_25+=1\n",
    "    if(value < 30):\n",
    "        count_at_30+=1\n",
    "    if(value < 50):\n",
    "        count_at_50+=1\n",
    "    if(value < 75):\n",
    "        count_at_75+=1\n",
    "    if(value < 100):\n",
    "        count_at_100+=1\n",
    "        \n",
    "print(\"count at 1\",count_at_1)        \n",
    "print(\"count at 5\",count_at_5)\n",
    "print(\"count at 10\",count_at_10)\n",
    "print(\"count at 20\",count_at_20)\n",
    "print(\"count at 25\",count_at_25)\n",
    "print(\"count at 30\",count_at_30)\n",
    "print(\"count at 50\",count_at_50)\n",
    "print(\"count at 75\",count_at_75)\n",
    "print(\"count at 100\",count_at_100)\n",
    "\n",
    "N = len(dup_indices_with_bug_id)\n",
    "\n",
    "recall_rate_at_1 = count_at_1/N\n",
    "print(\"recall_rate_at_1\",recall_rate_at_1)\n",
    "\n",
    "recall_rate_at_5 = count_at_5/N\n",
    "print(\"recall_rate_at_5\",recall_rate_at_5)\n",
    "\n",
    "recall_rate_at_10 = count_at_10/N\n",
    "print(\"recall_rate_at_10\",recall_rate_at_10)\n",
    "\n",
    "recall_rate_at_20 = count_at_20/N\n",
    "print(\"recall_rate_at_20\",recall_rate_at_20)\n",
    "\n",
    "recall_rate_at_25 = count_at_25/N\n",
    "print(\"recall_rate_at_25\",recall_rate_at_25)\n",
    "\n",
    "recall_rate_at_30 = count_at_30/N\n",
    "print(\"recall_rate_at_30\",recall_rate_at_30)\n",
    "\n",
    "recall_rate_at_50 = count_at_50/N\n",
    "print(\"recall_rate_at_50\",recall_rate_at_50)\n",
    "\n",
    "recall_rate_at_75 = count_at_75/N\n",
    "print(\"recall_rate_at_75\",recall_rate_at_75)\n",
    "\n",
    "recall_rate_at_100 = count_at_100/N\n",
    "print(\"recall_rate_at_10\",recall_rate_at_100)"
   ]
  },
  {
   "cell_type": "markdown",
   "id": "703cd1ca",
   "metadata": {
    "id": "af5866c8-cd44-4963-9d0e-642621fc39d3"
   },
   "source": [
    "## Textually Similar"
   ]
  },
  {
   "cell_type": "code",
   "execution_count": 16,
   "id": "f4bd517d",
   "metadata": {
    "id": "47f220d5-72ec-4899-a6fd-3a6e7b472fee"
   },
   "outputs": [],
   "source": [
    "textually_similar_data = pd.read_csv(\"../Eclipse/eclipse_textually_similar_duplicates.csv\")"
   ]
  },
  {
   "cell_type": "code",
   "execution_count": 17,
   "id": "ae3a620b",
   "metadata": {},
   "outputs": [
    {
     "name": "stdout",
     "output_type": "stream",
     "text": [
      "<class 'pandas.core.frame.DataFrame'>\n",
      "RangeIndex: 1621 entries, 0 to 1620\n",
      "Data columns (total 9 columns):\n",
      " #   Column             Non-Null Count  Dtype  \n",
      "---  ------             --------------  -----  \n",
      " 0   Bug_ID             1621 non-null   float64\n",
      " 1   Product            1621 non-null   object \n",
      " 2   Component          1621 non-null   object \n",
      " 3   Status             1621 non-null   object \n",
      " 4   Resolution         1621 non-null   object \n",
      " 5   Summary            1621 non-null   object \n",
      " 6   Changed            1621 non-null   object \n",
      " 7   Description        1621 non-null   object \n",
      " 8   Duplicate_Bug_Ids  1621 non-null   float64\n",
      "dtypes: float64(2), object(7)\n",
      "memory usage: 114.1+ KB\n"
     ]
    }
   ],
   "source": [
    "textually_similar_data.info()"
   ]
  },
  {
   "cell_type": "code",
   "execution_count": 18,
   "id": "535b2088",
   "metadata": {},
   "outputs": [],
   "source": [
    "sentence_sim = textually_similar_data.Description\n",
    "\n",
    "tokens_sim = []\n",
    "for s in sentence_sim:\n",
    "    cleanedTex=re.sub(r'[^\\w\\s]','',str(s)).lower()\n",
    "    words = (word_tokenize(cleanedTex))\n",
    "    tokens_sim.append(words)"
   ]
  },
  {
   "cell_type": "code",
   "execution_count": 19,
   "id": "7c42c115",
   "metadata": {
    "id": "1482be85-53c6-475f-984a-76f589cb1260"
   },
   "outputs": [],
   "source": [
    "count=0\n",
    "dup_indices_with_bug_id_similar = {}\n",
    "similarity_scores_before = []\n",
    "similarity_scores = {}\n",
    "issues = data.Bug_Id\n",
    "\n",
    "for i, row in textually_similar_data.iterrows():\n",
    "    \n",
    "    issue_id = row.Bug_ID\n",
    "    dup_id = row.Duplicate_Bug_Ids\n",
    "    \n",
    "    if dup_id not in issues.values:\n",
    "        count+=1\n",
    "#         print(f'{i}. Duplicate ID {dup_id} not found in issue IDs')\n",
    "        continue\n",
    "#     if i==4427:\n",
    "#         break\n",
    "    similarity_row = bm25.get_scores(tokens_sim[i])\n",
    "    argsort_similarity = np.argsort(similarity_row)[::-1][1:]\n",
    "    similarity_scores_before = (np.sort(similarity_row)[::-1][1:])\n",
    "#     similarity_scores[issue_id] = np.min(similarity_scores_before[np.nonzero(similarity_scores_before)])\n",
    "    dup_bug_index = list(issues[issues == dup_id].index)[0]\n",
    "    dup_ranking = np.argmax(argsort_similarity == np.int64(dup_bug_index))\n",
    "    \n",
    "    dup_indices_with_bug_id_similar[issue_id] = dup_ranking\n",
    "# print(count)"
   ]
  },
  {
   "cell_type": "code",
   "execution_count": 20,
   "id": "21be3b56-87f8-444d-9444-a226f0d8a4f0",
   "metadata": {},
   "outputs": [
    {
     "name": "stdout",
     "output_type": "stream",
     "text": [
      "count at 1 160\n",
      "count at 5 442\n",
      "count at 10 530\n",
      "count at 20 625\n",
      "count at 25 662\n",
      "count at 30 687\n",
      "count at 50 743\n",
      "count at 75 791\n",
      "count at 100 824\n",
      "recall_rate_at_1 0.1005656819610308\n",
      "recall_rate_at_5 0.27781269641734757\n",
      "recall_rate_at_10 0.3331238214959145\n",
      "recall_rate_at_20 0.3928346951602766\n",
      "recall_rate_at_25 0.41609050911376494\n",
      "recall_rate_at_30 0.431803896920176\n",
      "recall_rate_at_50 0.46700188560653677\n",
      "recall_rate_at_75 0.497171590194846\n",
      "recall_rate_at_10 0.5179132620993087\n"
     ]
    }
   ],
   "source": [
    "count_at_1=0\n",
    "count_at_5=0\n",
    "count_at_10=0\n",
    "count_at_20=0\n",
    "count_at_25=0\n",
    "count_at_30=0\n",
    "count_at_50=0\n",
    "count_at_75=0\n",
    "count_at_100=0\n",
    "\n",
    "for key, value in enumerate(dup_indices_with_bug_id_similar.values()):\n",
    "    if(value < 1):\n",
    "        count_at_1+=1\n",
    "    if(value < 5):\n",
    "        count_at_5+=1\n",
    "    if(value < 10):\n",
    "        count_at_10+=1\n",
    "    if(value < 20):\n",
    "        count_at_20+=1\n",
    "    if(value < 25):\n",
    "        count_at_25+=1\n",
    "    if(value < 30):\n",
    "        count_at_30+=1\n",
    "    if(value < 50):\n",
    "        count_at_50+=1\n",
    "    if(value < 75):\n",
    "        count_at_75+=1\n",
    "    if(value < 100):\n",
    "        count_at_100+=1\n",
    "        \n",
    "print(\"count at 1\",count_at_1)        \n",
    "print(\"count at 5\",count_at_5)\n",
    "print(\"count at 10\",count_at_10)\n",
    "print(\"count at 20\",count_at_20)\n",
    "print(\"count at 25\",count_at_25)\n",
    "print(\"count at 30\",count_at_30)\n",
    "print(\"count at 50\",count_at_50)\n",
    "print(\"count at 75\",count_at_75)\n",
    "print(\"count at 100\",count_at_100)\n",
    "\n",
    "N = len(dup_indices_with_bug_id_similar)\n",
    "\n",
    "recall_rate_at_1 = count_at_1/N\n",
    "print(\"recall_rate_at_1\",recall_rate_at_1)\n",
    "\n",
    "recall_rate_at_5 = count_at_5/N\n",
    "print(\"recall_rate_at_5\",recall_rate_at_5)\n",
    "\n",
    "recall_rate_at_10 = count_at_10/N\n",
    "print(\"recall_rate_at_10\",recall_rate_at_10)\n",
    "\n",
    "recall_rate_at_20 = count_at_20/N\n",
    "print(\"recall_rate_at_20\",recall_rate_at_20)\n",
    "\n",
    "recall_rate_at_25 = count_at_25/N\n",
    "print(\"recall_rate_at_25\",recall_rate_at_25)\n",
    "\n",
    "recall_rate_at_30 = count_at_30/N\n",
    "print(\"recall_rate_at_30\",recall_rate_at_30)\n",
    "\n",
    "recall_rate_at_50 = count_at_50/N\n",
    "print(\"recall_rate_at_50\",recall_rate_at_50)\n",
    "\n",
    "recall_rate_at_75 = count_at_75/N\n",
    "print(\"recall_rate_at_75\",recall_rate_at_75)\n",
    "\n",
    "recall_rate_at_100 = count_at_100/N\n",
    "print(\"recall_rate_at_10\",recall_rate_at_100)"
   ]
  },
  {
   "cell_type": "markdown",
   "id": "53064642",
   "metadata": {},
   "source": [
    "# Textually Dissimilar"
   ]
  },
  {
   "cell_type": "code",
   "execution_count": 32,
   "id": "0af51cdc",
   "metadata": {
    "id": "2bdc754d-9649-4fe4-bfcc-8371517454c0"
   },
   "outputs": [],
   "source": [
    "textually_dissimilar_data = pd.read_csv(\"../Eclipse/eclipse_textually_dissimilar_duplicates.csv\")"
   ]
  },
  {
   "cell_type": "code",
   "execution_count": 38,
   "id": "dbc81909",
   "metadata": {},
   "outputs": [
    {
     "name": "stdout",
     "output_type": "stream",
     "text": [
      "<class 'pandas.core.frame.DataFrame'>\n",
      "RangeIndex: 1622 entries, 0 to 1621\n",
      "Data columns (total 9 columns):\n",
      " #   Column             Non-Null Count  Dtype  \n",
      "---  ------             --------------  -----  \n",
      " 0   Bug_ID             1622 non-null   float64\n",
      " 1   Product            1622 non-null   object \n",
      " 2   Component          1622 non-null   object \n",
      " 3   Status             1622 non-null   object \n",
      " 4   Resolution         1622 non-null   object \n",
      " 5   Summary            1622 non-null   object \n",
      " 6   Changed            1622 non-null   object \n",
      " 7   Description        1622 non-null   object \n",
      " 8   Duplicate_Bug_Ids  1622 non-null   float64\n",
      "dtypes: float64(2), object(7)\n",
      "memory usage: 114.2+ KB\n"
     ]
    }
   ],
   "source": [
    "textually_dissimilar_data.info()"
   ]
  },
  {
   "cell_type": "code",
   "execution_count": 39,
   "id": "4cc67f36",
   "metadata": {},
   "outputs": [],
   "source": [
    "sentence_dissim = textually_dissimilar_data.Description\n",
    "\n",
    "tokens_dissim = []\n",
    "for s in sentence_dissim:\n",
    "    cleanedTex=re.sub(r'[^\\w\\s]','',str(s)).lower()\n",
    "    words = (word_tokenize(cleanedTex))\n",
    "    tokens_dissim.append(words)"
   ]
  },
  {
   "cell_type": "code",
   "execution_count": 40,
   "id": "1f82c237",
   "metadata": {
    "id": "a3f4142d-1b5c-4689-8853-49b016a9da3f"
   },
   "outputs": [],
   "source": [
    "count=0\n",
    "dup_indices_with_bug_id_dissimilar = {}\n",
    "similarity_scores_before = []\n",
    "similarity_scores = {}\n",
    "\n",
    "issues = data.Bug_Id\n",
    "\n",
    "for i, row in textually_dissimilar_data.iterrows():\n",
    "    \n",
    "    issue_id = row.Bug_ID\n",
    "    dup_id = row.Duplicate_Bug_Ids\n",
    "    \n",
    "    if dup_id not in issues.values:\n",
    "        count+=1\n",
    "#         print(f'{i}. Duplicate ID {dup_id} not found in issue IDs')\n",
    "        continue\n",
    "    if i== 2292:\n",
    "        break\n",
    "    similarity_row = bm25.get_scores(tokens_dissim[i])\n",
    "    argsort_similarity = np.argsort(similarity_row)[::-1][1:]\n",
    "    similarity_scores_before = (np.sort(similarity_row)[::-1][1:])\n",
    "#     similarity_scores[issue_id] = np.min(similarity_scores_before[np.nonzero(similarity_scores_before)])\n",
    "    dup_bug_index = list(issues[issues == dup_id].index)[0]\n",
    "    dup_ranking = np.argmax(argsort_similarity == np.int64(dup_bug_index))\n",
    "    \n",
    "    dup_indices_with_bug_id_dissimilar[issue_id] = dup_ranking\n",
    "# print(count)"
   ]
  },
  {
   "cell_type": "code",
   "execution_count": 41,
   "id": "f853bf2d-cb12-4dbe-beef-4005c5cabdb4",
   "metadata": {},
   "outputs": [
    {
     "name": "stdout",
     "output_type": "stream",
     "text": [
      "count at 1 164\n",
      "count at 5 482\n",
      "count at 10 572\n",
      "count at 20 634\n",
      "count at 25 651\n",
      "count at 30 664\n",
      "count at 50 706\n",
      "count at 75 752\n",
      "count at 100 784\n",
      "recall_rate_at_1 0.10154798761609907\n",
      "recall_rate_at_5 0.29845201238390096\n",
      "recall_rate_at_10 0.3541795665634675\n",
      "recall_rate_at_20 0.3925696594427245\n",
      "recall_rate_at_25 0.40309597523219814\n",
      "recall_rate_at_30 0.41114551083591333\n",
      "recall_rate_at_50 0.4371517027863777\n",
      "recall_rate_at_75 0.46563467492260063\n",
      "recall_rate_at_10 0.4854489164086687\n"
     ]
    }
   ],
   "source": [
    "count_at_1=0\n",
    "count_at_5=0\n",
    "count_at_10=0\n",
    "count_at_20=0\n",
    "count_at_25=0\n",
    "count_at_30=0\n",
    "count_at_50=0\n",
    "count_at_75=0\n",
    "count_at_100=0\n",
    "\n",
    "for key, value in enumerate(dup_indices_with_bug_id_dissimilar.values()):\n",
    "    if(value < 1):\n",
    "        count_at_1+=1\n",
    "    if(value < 5):\n",
    "        count_at_5+=1\n",
    "    if(value < 10):\n",
    "        count_at_10+=1\n",
    "    if(value < 20):\n",
    "        count_at_20+=1\n",
    "    if(value < 25):\n",
    "        count_at_25+=1\n",
    "    if(value < 30):\n",
    "        count_at_30+=1\n",
    "    if(value < 50):\n",
    "        count_at_50+=1\n",
    "    if(value < 75):\n",
    "        count_at_75+=1\n",
    "    if(value < 100):\n",
    "        count_at_100+=1\n",
    "        \n",
    "print(\"count at 1\",count_at_1)        \n",
    "print(\"count at 5\",count_at_5)\n",
    "print(\"count at 10\",count_at_10)\n",
    "print(\"count at 20\",count_at_20)\n",
    "print(\"count at 25\",count_at_25)\n",
    "print(\"count at 30\",count_at_30)\n",
    "print(\"count at 50\",count_at_50)\n",
    "print(\"count at 75\",count_at_75)\n",
    "print(\"count at 100\",count_at_100)\n",
    "\n",
    "N = len(dup_indices_with_bug_id_dissimilar)\n",
    "\n",
    "recall_rate_at_1 = count_at_1/N\n",
    "print(\"recall_rate_at_1\",recall_rate_at_1)\n",
    "\n",
    "recall_rate_at_5 = count_at_5/N\n",
    "print(\"recall_rate_at_5\",recall_rate_at_5)\n",
    "\n",
    "recall_rate_at_10 = count_at_10/N\n",
    "print(\"recall_rate_at_10\",recall_rate_at_10)\n",
    "\n",
    "recall_rate_at_20 = count_at_20/N\n",
    "print(\"recall_rate_at_20\",recall_rate_at_20)\n",
    "\n",
    "recall_rate_at_25 = count_at_25/N\n",
    "print(\"recall_rate_at_25\",recall_rate_at_25)\n",
    "\n",
    "recall_rate_at_30 = count_at_30/N\n",
    "print(\"recall_rate_at_30\",recall_rate_at_30)\n",
    "\n",
    "recall_rate_at_50 = count_at_50/N\n",
    "print(\"recall_rate_at_50\",recall_rate_at_50)\n",
    "\n",
    "recall_rate_at_75 = count_at_75/N\n",
    "print(\"recall_rate_at_75\",recall_rate_at_75)\n",
    "\n",
    "recall_rate_at_100 = count_at_100/N\n",
    "print(\"recall_rate_at_10\",recall_rate_at_100)"
   ]
  },
  {
   "cell_type": "code",
   "execution_count": null,
   "id": "3d1bf1f2-7b22-4b8a-bef8-9970177e2bd6",
   "metadata": {},
   "outputs": [],
   "source": []
  }
 ],
 "metadata": {
  "colab": {
   "name": "Eclipse_Dataset - BM25_15thmarch.ipynb",
   "provenance": []
  },
  "kernelspec": {
   "display_name": "Python 3",
   "language": "python",
   "name": "python3"
  },
  "language_info": {
   "codemirror_mode": {
    "name": "ipython",
    "version": 3
   },
   "file_extension": ".py",
   "mimetype": "text/x-python",
   "name": "python",
   "nbconvert_exporter": "python",
   "pygments_lexer": "ipython3",
   "version": "3.7.11"
  }
 },
 "nbformat": 4,
 "nbformat_minor": 5
}
